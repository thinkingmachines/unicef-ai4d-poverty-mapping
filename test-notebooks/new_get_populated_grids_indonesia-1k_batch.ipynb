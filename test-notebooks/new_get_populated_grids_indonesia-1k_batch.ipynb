{
 "cells": [
  {
   "cell_type": "markdown",
   "id": "7f77a208-5160-4178-a1e9-acde30651ae6",
   "metadata": {},
   "source": [
    "---\n",
    "title: Indonesia Model Rollout Part 1 (Compute Per-country Populated Grids) \n",
    "format:\n",
    "  html:\n",
    "    code-fold: false\n",
    "---"
   ]
  },
  {
   "cell_type": "markdown",
   "id": "7530a5c3-aa35-49fc-8b97-1cfa2e43166a",
   "metadata": {
    "tags": []
   },
   "source": [
    "### Import packages"
   ]
  },
  {
   "cell_type": "code",
   "execution_count": 1,
   "id": "1f6da4ad-e271-4ee8-bcdc-203c761b60fe",
   "metadata": {},
   "outputs": [],
   "source": [
    "%matplotlib inline\n",
    "%reload_ext autoreload\n",
    "%autoreload 2"
   ]
  },
  {
   "cell_type": "code",
   "execution_count": 2,
   "id": "1c889424-e01d-4e6a-8f55-60e62bafd9ef",
   "metadata": {},
   "outputs": [],
   "source": [
    "from relativewealth.rollout_grids import get_region_filtered_bingtile_grids \n",
    "import geopandas as gpd\n"
   ]
  },
  {
   "cell_type": "markdown",
   "id": "e2f1201b-abf3-4b71-8be8-562bea9c3f74",
   "metadata": {
    "tags": []
   },
   "source": [
    "### Set global parameters\n"
   ]
  },
  {
   "cell_type": "code",
   "execution_count": 3,
   "id": "c8675c94-a2e4-4c8f-abf6-070a9d83ce0d",
   "metadata": {},
   "outputs": [],
   "source": [
    "REGION = 'indonesia'\n",
    "ADMIN_LVL = 'ADM2'"
   ]
  },
  {
   "cell_type": "markdown",
   "id": "da05d8b5-9c40-435e-93b6-31ed00be7565",
   "metadata": {
    "tags": []
   },
   "source": [
    "### Generate/Cache/Get per country grids"
   ]
  },
  {
   "cell_type": "code",
   "execution_count": 4,
   "id": "d84e359e-3763-4ea5-a7b7-ef7374fe96f8",
   "metadata": {},
   "outputs": [],
   "source": [
    "# get_region_filtered_bingtile_grids?"
   ]
  },
  {
   "cell_type": "code",
   "execution_count": 5,
   "id": "49737d5a-65ad-49d3-8e3e-f4e8d26aafa0",
   "metadata": {},
   "outputs": [
    {
     "name": "stdout",
     "output_type": "stream",
     "text": [
      "CPU times: user 1 µs, sys: 1 µs, total: 2 µs\n",
      "Wall time: 4.53 µs\n"
     ]
    }
   ],
   "source": [
    "%%time\n",
    "# admin_grids_gdf = get_region_filtered_bingtile_grids(REGION, admin_lvl=ADMIN_LVL, filter_population=False )"
   ]
  },
  {
   "cell_type": "code",
   "execution_count": 6,
   "id": "f0bf1d27-8cf0-4214-8720-3aa195ba3aa3",
   "metadata": {},
   "outputs": [
    {
     "name": "stdout",
     "output_type": "stream",
     "text": [
      "CPU times: user 2 µs, sys: 1 µs, total: 3 µs\n",
      "Wall time: 6.91 µs\n"
     ]
    }
   ],
   "source": [
    "%%time\n",
    "# admin_grids_gdf = get_region_filtered_bingtile_grids(REGION, admin_lvl=ADMIN_LVL,  )"
   ]
  },
  {
   "cell_type": "code",
   "execution_count": null,
   "id": "42b49b9e-4cc0-4f39-945f-51272910218b",
   "metadata": {},
   "outputs": [
    {
     "name": "stderr",
     "output_type": "stream",
     "text": [
      "2023-03-01 16:26:35.221 | INFO     | relativewealth.rollout_grids:get_region_filtered_bingtile_grids:114 - No cached grids file found. Generating grids file :/home/butchtm/.cache/geowrangler/quadkey_grids/indonesia_14_ADM2_populated_admin_grids.geojson\n",
      "2023-03-01 16:26:35.225 | INFO     | relativewealth.rollout_grids:get_region_filtered_bingtile_grids:120 - Loading existing grids file /home/butchtm/.cache/geowrangler/quadkey_grids/indonesia_14_ADM2_admin_grids.geojson and skip gridding\n",
      "2023-03-01 16:27:05.481 | INFO     | relativewealth.rollout_grids:get_region_filtered_bingtile_grids:123 - Loaded 340122 grids for region indonesia and admin level ADM2 at quadkey level 14\n",
      "2023-03-01 16:27:05.508 | INFO     | relativewealth.rollout_grids:get_region_filtered_bingtile_grids:142 - Getting indonesia population data for filtering grids\n",
      "2023-03-01 16:27:07.352 | INFO     | relativewealth.rollout_grids:get_region_filtered_bingtile_grids:144 - Computing population zonal stats per grid\n",
      "2023-03-01 16:27:07.354 | INFO     | relativewealth.rollout_grids:compute_raster_stats:44 - Batching call to create raster_zonal stats for 340122 grids for file size 87714317324\n",
      "2023-03-01 16:27:08.611 | INFO     | relativewealth.rollout_grids:compute_raster_stats:51 - Created 340 for 340 splits of 1000\n",
      "2023-03-01 16:27:08.613 | INFO     | relativewealth.rollout_grids:compute_raster_stats:55 - Creating raster zonal stats for batch 0 with index (0/1000)\n",
      "2023-03-01 16:29:31.059 | INFO     | relativewealth.rollout_grids:compute_raster_stats:55 - Creating raster zonal stats for batch 1 with index (0/1000)\n",
      "2023-03-01 16:31:33.138 | INFO     | relativewealth.rollout_grids:compute_raster_stats:55 - Creating raster zonal stats for batch 2 with index (0/1000)\n",
      "2023-03-01 16:33:00.772 | INFO     | relativewealth.rollout_grids:compute_raster_stats:55 - Creating raster zonal stats for batch 3 with index (0/1000)\n",
      "2023-03-01 16:34:28.609 | INFO     | relativewealth.rollout_grids:compute_raster_stats:55 - Creating raster zonal stats for batch 4 with index (0/1000)\n",
      "2023-03-01 16:36:02.363 | INFO     | relativewealth.rollout_grids:compute_raster_stats:55 - Creating raster zonal stats for batch 5 with index (0/1000)\n",
      "2023-03-01 16:37:40.868 | INFO     | relativewealth.rollout_grids:compute_raster_stats:55 - Creating raster zonal stats for batch 6 with index (0/1000)\n",
      "2023-03-01 16:39:24.930 | INFO     | relativewealth.rollout_grids:compute_raster_stats:55 - Creating raster zonal stats for batch 7 with index (0/1000)\n",
      "2023-03-01 16:41:18.819 | INFO     | relativewealth.rollout_grids:compute_raster_stats:55 - Creating raster zonal stats for batch 8 with index (0/1000)\n",
      "2023-03-01 16:42:49.264 | INFO     | relativewealth.rollout_grids:compute_raster_stats:55 - Creating raster zonal stats for batch 9 with index (0/1000)\n",
      "2023-03-01 16:44:17.256 | INFO     | relativewealth.rollout_grids:compute_raster_stats:55 - Creating raster zonal stats for batch 10 with index (0/1000)\n",
      "2023-03-01 16:46:46.890 | INFO     | relativewealth.rollout_grids:compute_raster_stats:55 - Creating raster zonal stats for batch 11 with index (0/1000)\n",
      "2023-03-01 16:49:52.316 | INFO     | relativewealth.rollout_grids:compute_raster_stats:55 - Creating raster zonal stats for batch 12 with index (0/1000)\n"
     ]
    }
   ],
   "source": [
    "%%time\n",
    "admin_grids_gdf = get_region_filtered_bingtile_grids(REGION, admin_lvl=ADMIN_LVL, max_batch_size=1_000 )"
   ]
  },
  {
   "cell_type": "code",
   "execution_count": null,
   "id": "53073d8b-ac61-4617-8d0d-f59526104009",
   "metadata": {},
   "outputs": [],
   "source": [
    "len(admin_grids_gdf)"
   ]
  },
  {
   "cell_type": "markdown",
   "id": "39bd9da3-8a30-4cc5-af15-cd7de0634c9e",
   "metadata": {
    "tags": []
   },
   "source": [
    "### Explore per country populated grids"
   ]
  },
  {
   "cell_type": "code",
   "execution_count": null,
   "id": "6100a0d7-7e0e-4f8f-b39c-9700487f617a",
   "metadata": {},
   "outputs": [],
   "source": [
    "# admin_grids_gdf.explore()\n",
    "# admin_grids_gdf.plot()\n"
   ]
  },
  {
   "cell_type": "code",
   "execution_count": null,
   "id": "dc7df486-8dd9-404f-965b-1d402044b1d7",
   "metadata": {},
   "outputs": [],
   "source": [
    "# admin_grids_gdf.columns"
   ]
  },
  {
   "cell_type": "code",
   "execution_count": null,
   "id": "f627fff2-3c0f-4e0a-9cb5-88fc251aa4e4",
   "metadata": {},
   "outputs": [],
   "source": [
    "admin_grids_gdf.head()"
   ]
  },
  {
   "cell_type": "code",
   "execution_count": null,
   "id": "22998327-6afa-46af-bebb-37fdc058fff5",
   "metadata": {},
   "outputs": [],
   "source": [
    "admin_grids_gdf.info()"
   ]
  },
  {
   "cell_type": "code",
   "execution_count": null,
   "id": "a1064aae-3317-424d-aa9f-f03dda831f9f",
   "metadata": {},
   "outputs": [],
   "source": []
  }
 ],
 "metadata": {
  "kernelspec": {
   "display_name": "Python 3 (ipykernel)",
   "language": "python",
   "name": "python3"
  },
  "language_info": {
   "codemirror_mode": {
    "name": "ipython",
    "version": 3
   },
   "file_extension": ".py",
   "mimetype": "text/x-python",
   "name": "python",
   "nbconvert_exporter": "python",
   "pygments_lexer": "ipython3",
   "version": "3.9.16"
  }
 },
 "nbformat": 4,
 "nbformat_minor": 5
}

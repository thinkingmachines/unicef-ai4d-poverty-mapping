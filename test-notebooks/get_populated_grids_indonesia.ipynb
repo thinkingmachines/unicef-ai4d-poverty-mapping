{
 "cells": [
  {
   "cell_type": "raw",
   "id": "7f77a208-5160-4178-a1e9-acde30651ae6",
   "metadata": {},
   "source": [
    "---\n",
    "title: Timor Leste Model Rollout Part 1 (Compute Per-country Populated Grids) \n",
    "format:\n",
    "  html:\n",
    "    code-fold: false\n",
    "---"
   ]
  },
  {
   "cell_type": "markdown",
   "id": "7530a5c3-aa35-49fc-8b97-1cfa2e43166a",
   "metadata": {
    "tags": []
   },
   "source": [
    "### Import packages"
   ]
  },
  {
   "cell_type": "code",
   "execution_count": 1,
   "id": "1f6da4ad-e271-4ee8-bcdc-203c761b60fe",
   "metadata": {},
   "outputs": [],
   "source": [
    "%matplotlib inline\n",
    "%reload_ext autoreload\n",
    "%autoreload 2"
   ]
  },
  {
   "cell_type": "code",
   "execution_count": 2,
   "id": "1c889424-e01d-4e6a-8f55-60e62bafd9ef",
   "metadata": {},
   "outputs": [],
   "source": [
    "import sys\n",
    "sys.path.append(\"../\")\n",
    "from povertymapping.rollout_grids import get_region_filtered_bingtile_grid\n",
    "from geowrangler.raster_zonal_stats import create_raster_zonal_stats\n",
    "import geopandas as gpd\n",
    "import pandas as pd\n",
    "import numpy as np\n",
    "from tqdm import tqdm\n",
    "import rasterio as rio\n",
    "from rasterstats import zonal_stats"
   ]
  },
  {
   "cell_type": "markdown",
   "id": "e2f1201b-abf3-4b71-8be8-562bea9c3f74",
   "metadata": {
    "tags": []
   },
   "source": [
    "### Set global parameters\n"
   ]
  },
  {
   "cell_type": "code",
   "execution_count": 3,
   "id": "c8675c94-a2e4-4c8f-abf6-070a9d83ce0d",
   "metadata": {},
   "outputs": [],
   "source": [
    "REGION = 'indonesia'\n",
    "ADMIN_LVL = 'ADM2'"
   ]
  },
  {
   "cell_type": "markdown",
   "id": "da05d8b5-9c40-435e-93b6-31ed00be7565",
   "metadata": {
    "tags": []
   },
   "source": [
    "### Generate/Cache/Get per country grids"
   ]
  },
  {
   "cell_type": "code",
   "execution_count": 4,
   "id": "d84e359e-3763-4ea5-a7b7-ef7374fe96f8",
   "metadata": {},
   "outputs": [
    {
     "data": {
      "text/plain": [
       "\u001b[0;31mSignature:\u001b[0m\n",
       "\u001b[0mget_region_filtered_bingtile_grids\u001b[0m\u001b[0;34m(\u001b[0m\u001b[0;34m\u001b[0m\n",
       "\u001b[0;34m\u001b[0m    \u001b[0mregion\u001b[0m\u001b[0;34m:\u001b[0m \u001b[0mstr\u001b[0m\u001b[0;34m,\u001b[0m\u001b[0;34m\u001b[0m\n",
       "\u001b[0;34m\u001b[0m    \u001b[0madmin_lvl\u001b[0m\u001b[0;34m=\u001b[0m\u001b[0;34m'ADM2'\u001b[0m\u001b[0;34m,\u001b[0m\u001b[0;34m\u001b[0m\n",
       "\u001b[0;34m\u001b[0m    \u001b[0mquadkey_lvl\u001b[0m\u001b[0;34m=\u001b[0m\u001b[0;36m14\u001b[0m\u001b[0;34m,\u001b[0m\u001b[0;34m\u001b[0m\n",
       "\u001b[0;34m\u001b[0m    \u001b[0muse_cache\u001b[0m\u001b[0;34m=\u001b[0m\u001b[0;32mTrue\u001b[0m\u001b[0;34m,\u001b[0m\u001b[0;34m\u001b[0m\n",
       "\u001b[0;34m\u001b[0m    \u001b[0mcache_dir\u001b[0m\u001b[0;34m=\u001b[0m\u001b[0;34m'~/.cache/geowrangler'\u001b[0m\u001b[0;34m,\u001b[0m\u001b[0;34m\u001b[0m\n",
       "\u001b[0;34m\u001b[0m    \u001b[0mfilter_population\u001b[0m\u001b[0;34m=\u001b[0m\u001b[0;32mTrue\u001b[0m\u001b[0;34m,\u001b[0m\u001b[0;34m\u001b[0m\n",
       "\u001b[0;34m\u001b[0m    \u001b[0massign_grid_admin_area\u001b[0m\u001b[0;34m=\u001b[0m\u001b[0;32mTrue\u001b[0m\u001b[0;34m,\u001b[0m\u001b[0;34m\u001b[0m\n",
       "\u001b[0;34m\u001b[0m    \u001b[0mmetric_crs\u001b[0m\u001b[0;34m=\u001b[0m\u001b[0;34m'epsg:3857'\u001b[0m\u001b[0;34m,\u001b[0m\u001b[0;34m\u001b[0m\n",
       "\u001b[0;34m\u001b[0m    \u001b[0mextra_args\u001b[0m\u001b[0;34m=\u001b[0m\u001b[0;34m{\u001b[0m\u001b[0;34m'nodata'\u001b[0m\u001b[0;34m:\u001b[0m \u001b[0mnan\u001b[0m\u001b[0;34m}\u001b[0m\u001b[0;34m,\u001b[0m\u001b[0;34m\u001b[0m\n",
       "\u001b[0;34m\u001b[0m\u001b[0;34m)\u001b[0m \u001b[0;34m->\u001b[0m \u001b[0mgeopandas\u001b[0m\u001b[0;34m.\u001b[0m\u001b[0mgeodataframe\u001b[0m\u001b[0;34m.\u001b[0m\u001b[0mGeoDataFrame\u001b[0m\u001b[0;34m\u001b[0m\u001b[0;34m\u001b[0m\u001b[0m\n",
       "\u001b[0;31mDocstring:\u001b[0m\n",
       "Get a geodataframe consisting of bing tile grids for a region/country at a quadkey level.\n",
       "By default, the grids are filtered by population\n",
       "Arguments:\n",
       "   region: (required) the country/region for which grids will be created\n",
       "   admin_lvl: (default: ADM2) the administrative level boundaries used for assigning the grids\n",
       "   quadkey_lvl: (default: 14) the bingtile grid size zoom level\n",
       "   use_cache: (default: True) whether to use a cached version or overwrite existing file\n",
       "   cache_dir: (default: '~/.cache/geowrangler') directory where grids geojson will be created\n",
       "   filter_population: (default: True) - whether to filter out grids with zero population counts\n",
       "   assign_grid_admin_area: (default: True) whether to merge the admin level area data to the grids data\n",
       "   metric_crs: (default: 'epsg:3857') - CRS to use for assigning for admin areas\n",
       "   extra_args: (default: dict(nodata=np.nan)) - extra arguments passed to raster zonal stats computing\n",
       "\u001b[0;31mFile:\u001b[0m      ~/project_repos/unicef-ai4d-relative-wealth/povertymapping/rollout_grids.py\n",
       "\u001b[0;31mType:\u001b[0m      function\n"
      ]
     },
     "metadata": {},
     "output_type": "display_data"
    }
   ],
   "source": [
    "get_region_filtered_bingtile_grids?"
   ]
  },
  {
   "cell_type": "code",
   "execution_count": 5,
   "id": "f0bf1d27-8cf0-4214-8720-3aa195ba3aa3",
   "metadata": {},
   "outputs": [
    {
     "name": "stderr",
     "output_type": "stream",
     "text": [
      "2023-03-06 15:30:03.342 | INFO     | povertymapping.rollout_grids:get_region_filtered_bingtile_grids:56 - Loading cached grids file /home/jc_tm/.cache/geowrangler/quadkey_grids/indonesia_14_admin_grids.geojson\n"
     ]
    },
    {
     "name": "stdout",
     "output_type": "stream",
     "text": [
      "CPU times: user 20.2 s, sys: 450 ms, total: 20.7 s\n",
      "Wall time: 20.7 s\n"
     ]
    }
   ],
   "source": [
    "%%time\n",
    "admin_grids_gdf = get_region_filtered_bingtile_grids(\n",
    "    REGION, \n",
    "    admin_lvl=ADMIN_LVL, \n",
    "    filter_population=False\n",
    ")"
   ]
  },
  {
   "cell_type": "markdown",
   "id": "39bd9da3-8a30-4cc5-af15-cd7de0634c9e",
   "metadata": {
    "tags": []
   },
   "source": [
    "### Explore per country populated grids"
   ]
  },
  {
   "cell_type": "code",
   "execution_count": 6,
   "id": "6100a0d7-7e0e-4f8f-b39c-9700487f617a",
   "metadata": {},
   "outputs": [],
   "source": [
    "# admin_grids_gdf.explore()\n",
    "# admin_grids_gdf.plot()\n"
   ]
  },
  {
   "cell_type": "code",
   "execution_count": 7,
   "id": "dc7df486-8dd9-404f-965b-1d402044b1d7",
   "metadata": {},
   "outputs": [
    {
     "data": {
      "text/plain": [
       "Index(['quadkey', 'shapeName', 'shapeISO', 'shapeID', 'shapeGroup',\n",
       "       'shapeType', 'geometry'],\n",
       "      dtype='object')"
      ]
     },
     "execution_count": 7,
     "metadata": {},
     "output_type": "execute_result"
    }
   ],
   "source": [
    "admin_grids_gdf.columns"
   ]
  },
  {
   "cell_type": "code",
   "execution_count": 8,
   "id": "f627fff2-3c0f-4e0a-9cb5-88fc251aa4e4",
   "metadata": {},
   "outputs": [
    {
     "data": {
      "text/html": [
       "<div>\n",
       "<style scoped>\n",
       "    .dataframe tbody tr th:only-of-type {\n",
       "        vertical-align: middle;\n",
       "    }\n",
       "\n",
       "    .dataframe tbody tr th {\n",
       "        vertical-align: top;\n",
       "    }\n",
       "\n",
       "    .dataframe thead th {\n",
       "        text-align: right;\n",
       "    }\n",
       "</style>\n",
       "<table border=\"1\" class=\"dataframe\">\n",
       "  <thead>\n",
       "    <tr style=\"text-align: right;\">\n",
       "      <th></th>\n",
       "      <th>quadkey</th>\n",
       "      <th>shapeName</th>\n",
       "      <th>shapeISO</th>\n",
       "      <th>shapeID</th>\n",
       "      <th>shapeGroup</th>\n",
       "      <th>shapeType</th>\n",
       "      <th>geometry</th>\n",
       "    </tr>\n",
       "  </thead>\n",
       "  <tbody>\n",
       "    <tr>\n",
       "      <th>0</th>\n",
       "      <td>31000101131223</td>\n",
       "      <td>Nias Selatan</td>\n",
       "      <td>None</td>\n",
       "      <td>IDN-ADM2-3_0_0-B371</td>\n",
       "      <td>IDN</td>\n",
       "      <td>ADM2</td>\n",
       "      <td>POLYGON ((98.28369 -0.52734, 98.28369 -0.50536...</td>\n",
       "    </tr>\n",
       "    <tr>\n",
       "      <th>1</th>\n",
       "      <td>31000101133001</td>\n",
       "      <td>Nias Selatan</td>\n",
       "      <td>None</td>\n",
       "      <td>IDN-ADM2-3_0_0-B371</td>\n",
       "      <td>IDN</td>\n",
       "      <td>ADM2</td>\n",
       "      <td>POLYGON ((98.28369 -0.54931, 98.28369 -0.52734...</td>\n",
       "    </tr>\n",
       "    <tr>\n",
       "      <th>2</th>\n",
       "      <td>31000101131232</td>\n",
       "      <td>Nias Selatan</td>\n",
       "      <td>None</td>\n",
       "      <td>IDN-ADM2-3_0_0-B371</td>\n",
       "      <td>IDN</td>\n",
       "      <td>ADM2</td>\n",
       "      <td>POLYGON ((98.30566 -0.52734, 98.30566 -0.50536...</td>\n",
       "    </tr>\n",
       "    <tr>\n",
       "      <th>3</th>\n",
       "      <td>31000101133010</td>\n",
       "      <td>Nias Selatan</td>\n",
       "      <td>None</td>\n",
       "      <td>IDN-ADM2-3_0_0-B371</td>\n",
       "      <td>IDN</td>\n",
       "      <td>ADM2</td>\n",
       "      <td>POLYGON ((98.30566 -0.54931, 98.30566 -0.52734...</td>\n",
       "    </tr>\n",
       "    <tr>\n",
       "      <th>4</th>\n",
       "      <td>31000101131231</td>\n",
       "      <td>Nias Selatan</td>\n",
       "      <td>None</td>\n",
       "      <td>IDN-ADM2-3_0_0-B371</td>\n",
       "      <td>IDN</td>\n",
       "      <td>ADM2</td>\n",
       "      <td>POLYGON ((98.32764 -0.50536, 98.32764 -0.48339...</td>\n",
       "    </tr>\n",
       "  </tbody>\n",
       "</table>\n",
       "</div>"
      ],
      "text/plain": [
       "          quadkey     shapeName shapeISO              shapeID shapeGroup  \\\n",
       "0  31000101131223  Nias Selatan     None  IDN-ADM2-3_0_0-B371        IDN   \n",
       "1  31000101133001  Nias Selatan     None  IDN-ADM2-3_0_0-B371        IDN   \n",
       "2  31000101131232  Nias Selatan     None  IDN-ADM2-3_0_0-B371        IDN   \n",
       "3  31000101133010  Nias Selatan     None  IDN-ADM2-3_0_0-B371        IDN   \n",
       "4  31000101131231  Nias Selatan     None  IDN-ADM2-3_0_0-B371        IDN   \n",
       "\n",
       "  shapeType                                           geometry  \n",
       "0      ADM2  POLYGON ((98.28369 -0.52734, 98.28369 -0.50536...  \n",
       "1      ADM2  POLYGON ((98.28369 -0.54931, 98.28369 -0.52734...  \n",
       "2      ADM2  POLYGON ((98.30566 -0.52734, 98.30566 -0.50536...  \n",
       "3      ADM2  POLYGON ((98.30566 -0.54931, 98.30566 -0.52734...  \n",
       "4      ADM2  POLYGON ((98.32764 -0.50536, 98.32764 -0.48339...  "
      ]
     },
     "execution_count": 8,
     "metadata": {},
     "output_type": "execute_result"
    }
   ],
   "source": [
    "admin_grids_gdf.head()"
   ]
  },
  {
   "cell_type": "code",
   "execution_count": 9,
   "id": "22998327-6afa-46af-bebb-37fdc058fff5",
   "metadata": {},
   "outputs": [
    {
     "name": "stdout",
     "output_type": "stream",
     "text": [
      "<class 'geopandas.geodataframe.GeoDataFrame'>\n",
      "RangeIndex: 340122 entries, 0 to 340121\n",
      "Data columns (total 7 columns):\n",
      " #   Column      Non-Null Count   Dtype   \n",
      "---  ------      --------------   -----   \n",
      " 0   quadkey     340122 non-null  object  \n",
      " 1   shapeName   340122 non-null  object  \n",
      " 2   shapeISO    340122 non-null  object  \n",
      " 3   shapeID     340122 non-null  object  \n",
      " 4   shapeGroup  340122 non-null  object  \n",
      " 5   shapeType   340122 non-null  object  \n",
      " 6   geometry    340122 non-null  geometry\n",
      "dtypes: geometry(1), object(6)\n",
      "memory usage: 18.2+ MB\n"
     ]
    }
   ],
   "source": [
    "admin_grids_gdf.info()"
   ]
  },
  {
   "cell_type": "markdown",
   "id": "a1064aae-3317-424d-aa9f-f03dda831f9f",
   "metadata": {},
   "source": [
    "## Test Optimizations for Indonesia Filtering"
   ]
  },
  {
   "cell_type": "code",
   "execution_count": 10,
   "id": "71778a7e",
   "metadata": {},
   "outputs": [
    {
     "data": {
      "text/html": [
       "<div>\n",
       "<style scoped>\n",
       "    .dataframe tbody tr th:only-of-type {\n",
       "        vertical-align: middle;\n",
       "    }\n",
       "\n",
       "    .dataframe tbody tr th {\n",
       "        vertical-align: top;\n",
       "    }\n",
       "\n",
       "    .dataframe thead th {\n",
       "        text-align: right;\n",
       "    }\n",
       "</style>\n",
       "<table border=\"1\" class=\"dataframe\">\n",
       "  <thead>\n",
       "    <tr style=\"text-align: right;\">\n",
       "      <th></th>\n",
       "      <th>quadkey</th>\n",
       "      <th>shapeName</th>\n",
       "      <th>shapeISO</th>\n",
       "      <th>shapeID</th>\n",
       "      <th>shapeGroup</th>\n",
       "      <th>shapeType</th>\n",
       "      <th>geometry</th>\n",
       "    </tr>\n",
       "  </thead>\n",
       "  <tbody>\n",
       "    <tr>\n",
       "      <th>0</th>\n",
       "      <td>31000101131223</td>\n",
       "      <td>Nias Selatan</td>\n",
       "      <td>None</td>\n",
       "      <td>IDN-ADM2-3_0_0-B371</td>\n",
       "      <td>IDN</td>\n",
       "      <td>ADM2</td>\n",
       "      <td>POLYGON ((98.28369 -0.52734, 98.28369 -0.50536...</td>\n",
       "    </tr>\n",
       "    <tr>\n",
       "      <th>1</th>\n",
       "      <td>31000101133001</td>\n",
       "      <td>Nias Selatan</td>\n",
       "      <td>None</td>\n",
       "      <td>IDN-ADM2-3_0_0-B371</td>\n",
       "      <td>IDN</td>\n",
       "      <td>ADM2</td>\n",
       "      <td>POLYGON ((98.28369 -0.54931, 98.28369 -0.52734...</td>\n",
       "    </tr>\n",
       "    <tr>\n",
       "      <th>2</th>\n",
       "      <td>31000101131232</td>\n",
       "      <td>Nias Selatan</td>\n",
       "      <td>None</td>\n",
       "      <td>IDN-ADM2-3_0_0-B371</td>\n",
       "      <td>IDN</td>\n",
       "      <td>ADM2</td>\n",
       "      <td>POLYGON ((98.30566 -0.52734, 98.30566 -0.50536...</td>\n",
       "    </tr>\n",
       "    <tr>\n",
       "      <th>3</th>\n",
       "      <td>31000101133010</td>\n",
       "      <td>Nias Selatan</td>\n",
       "      <td>None</td>\n",
       "      <td>IDN-ADM2-3_0_0-B371</td>\n",
       "      <td>IDN</td>\n",
       "      <td>ADM2</td>\n",
       "      <td>POLYGON ((98.30566 -0.54931, 98.30566 -0.52734...</td>\n",
       "    </tr>\n",
       "    <tr>\n",
       "      <th>4</th>\n",
       "      <td>31000101131231</td>\n",
       "      <td>Nias Selatan</td>\n",
       "      <td>None</td>\n",
       "      <td>IDN-ADM2-3_0_0-B371</td>\n",
       "      <td>IDN</td>\n",
       "      <td>ADM2</td>\n",
       "      <td>POLYGON ((98.32764 -0.50536, 98.32764 -0.48339...</td>\n",
       "    </tr>\n",
       "  </tbody>\n",
       "</table>\n",
       "</div>"
      ],
      "text/plain": [
       "          quadkey     shapeName shapeISO              shapeID shapeGroup  \\\n",
       "0  31000101131223  Nias Selatan     None  IDN-ADM2-3_0_0-B371        IDN   \n",
       "1  31000101133001  Nias Selatan     None  IDN-ADM2-3_0_0-B371        IDN   \n",
       "2  31000101131232  Nias Selatan     None  IDN-ADM2-3_0_0-B371        IDN   \n",
       "3  31000101133010  Nias Selatan     None  IDN-ADM2-3_0_0-B371        IDN   \n",
       "4  31000101131231  Nias Selatan     None  IDN-ADM2-3_0_0-B371        IDN   \n",
       "\n",
       "  shapeType                                           geometry  \n",
       "0      ADM2  POLYGON ((98.28369 -0.52734, 98.28369 -0.50536...  \n",
       "1      ADM2  POLYGON ((98.28369 -0.54931, 98.28369 -0.52734...  \n",
       "2      ADM2  POLYGON ((98.30566 -0.52734, 98.30566 -0.50536...  \n",
       "3      ADM2  POLYGON ((98.30566 -0.54931, 98.30566 -0.52734...  \n",
       "4      ADM2  POLYGON ((98.32764 -0.50536, 98.32764 -0.48339...  "
      ]
     },
     "execution_count": 10,
     "metadata": {},
     "output_type": "execute_result"
    }
   ],
   "source": [
    "admin_grids_gdf.head()"
   ]
  },
  {
   "cell_type": "code",
   "execution_count": 11,
   "id": "ce5913b0",
   "metadata": {},
   "outputs": [
    {
     "data": {
      "text/plain": [
       "Path('/home/jc_tm/.cache/geowrangler/hdx/idn_general_2020.tif')"
      ]
     },
     "execution_count": 11,
     "metadata": {},
     "output_type": "execute_result"
    }
   ],
   "source": [
    "from povertymapping.hdx import get_hdx_file, get_unzipped_hdxfile, get_hrsl_dataset\n",
    "hdx_pop_file = get_hdx_file(REGION)\n",
    "hdx_pop_file"
   ]
  },
  {
   "cell_type": "code",
   "execution_count": 12,
   "id": "c0dbaf2b",
   "metadata": {},
   "outputs": [
    {
     "data": {
      "text/plain": [
       "87.714317324"
      ]
     },
     "execution_count": 12,
     "metadata": {},
     "output_type": "execute_result"
    }
   ],
   "source": [
    "(hdx_pop_file.stat().st_size) / 1e9"
   ]
  },
  {
   "cell_type": "code",
   "execution_count": 13,
   "id": "e4be1633",
   "metadata": {},
   "outputs": [
    {
     "name": "stdout",
     "output_type": "stream",
     "text": [
      "{'driver': 'GTiff', 'dtype': 'float64', 'nodata': nan, 'width': 169200, 'height': 64800, 'count': 1, 'crs': CRS.from_epsg(4326), 'transform': Affine(0.0002777777777780012, 0.0, 94.99986111133225,\n",
      "       0.0, -0.0002777777777780012, 7.000138888837142), 'blockysize': 1, 'tiled': False, 'interleave': 'band'}\n",
      "EPSG:4326\n"
     ]
    }
   ],
   "source": [
    "with rio.open(hdx_pop_file) as dst:\n",
    "    print(dst.profile)\n",
    "    print(dst.crs)"
   ]
  },
  {
   "cell_type": "code",
   "execution_count": 14,
   "id": "d3e2bd92",
   "metadata": {},
   "outputs": [
    {
     "data": {
      "text/plain": [
       "<Geographic 2D CRS: EPSG:4326>\n",
       "Name: WGS 84\n",
       "Axis Info [ellipsoidal]:\n",
       "- Lat[north]: Geodetic latitude (degree)\n",
       "- Lon[east]: Geodetic longitude (degree)\n",
       "Area of Use:\n",
       "- name: World.\n",
       "- bounds: (-180.0, -90.0, 180.0, 90.0)\n",
       "Datum: World Geodetic System 1984 ensemble\n",
       "- Ellipsoid: WGS 84\n",
       "- Prime Meridian: Greenwich"
      ]
     },
     "execution_count": 14,
     "metadata": {},
     "output_type": "execute_result"
    }
   ],
   "source": [
    "admin_grids_gdf.crs"
   ]
  },
  {
   "cell_type": "code",
   "execution_count": 15,
   "id": "30745f7a",
   "metadata": {},
   "outputs": [
    {
     "data": {
      "text/plain": [
       "True"
      ]
     },
     "execution_count": 15,
     "metadata": {},
     "output_type": "execute_result"
    }
   ],
   "source": [
    "hdx_pop_file.is_file()"
   ]
  },
  {
   "cell_type": "markdown",
   "id": "8421263d",
   "metadata": {},
   "source": [
    "## Filter out Danau grids\n",
    "For Indonesia, we filter out the grids found to be in the admin bound `Danau` (English translation: lake) as it actually corresponds to grids over landlocked lakes. Running rasterstats on these grids causes it to crash as it loads a very big raster. We also assume that these areas are unpopulated as they cover bodies of water. "
   ]
  },
  {
   "cell_type": "code",
   "execution_count": 16,
   "id": "58a7137e",
   "metadata": {},
   "outputs": [
    {
     "data": {
      "text/html": [
       "<div style=\"width:100%;\"><div style=\"position:relative;width:100%;height:0;padding-bottom:60%;\"><span style=\"color:#565656\">Make this Notebook Trusted to load map: File -> Trust Notebook</span><iframe srcdoc=\"&lt;!DOCTYPE html&gt;\n",
       "&lt;html&gt;\n",
       "&lt;head&gt;\n",
       "    \n",
       "    &lt;meta http-equiv=&quot;content-type&quot; content=&quot;text/html; charset=UTF-8&quot; /&gt;\n",
       "    \n",
       "        &lt;script&gt;\n",
       "            L_NO_TOUCH = false;\n",
       "            L_DISABLE_3D = false;\n",
       "        &lt;/script&gt;\n",
       "    \n",
       "    &lt;style&gt;html, body {width: 100%;height: 100%;margin: 0;padding: 0;}&lt;/style&gt;\n",
       "    &lt;style&gt;#map {position:absolute;top:0;bottom:0;right:0;left:0;}&lt;/style&gt;\n",
       "    &lt;script src=&quot;https://cdn.jsdelivr.net/npm/leaflet@1.9.3/dist/leaflet.js&quot;&gt;&lt;/script&gt;\n",
       "    &lt;script src=&quot;https://code.jquery.com/jquery-1.12.4.min.js&quot;&gt;&lt;/script&gt;\n",
       "    &lt;script src=&quot;https://cdn.jsdelivr.net/npm/bootstrap@5.2.2/dist/js/bootstrap.bundle.min.js&quot;&gt;&lt;/script&gt;\n",
       "    &lt;script src=&quot;https://cdnjs.cloudflare.com/ajax/libs/Leaflet.awesome-markers/2.0.2/leaflet.awesome-markers.js&quot;&gt;&lt;/script&gt;\n",
       "    &lt;link rel=&quot;stylesheet&quot; href=&quot;https://cdn.jsdelivr.net/npm/leaflet@1.9.3/dist/leaflet.css&quot;/&gt;\n",
       "    &lt;link rel=&quot;stylesheet&quot; href=&quot;https://cdn.jsdelivr.net/npm/bootstrap@5.2.2/dist/css/bootstrap.min.css&quot;/&gt;\n",
       "    &lt;link rel=&quot;stylesheet&quot; href=&quot;https://netdna.bootstrapcdn.com/bootstrap/3.0.0/css/bootstrap.min.css&quot;/&gt;\n",
       "    &lt;link rel=&quot;stylesheet&quot; href=&quot;https://cdn.jsdelivr.net/npm/@fortawesome/fontawesome-free@6.2.0/css/all.min.css&quot;/&gt;\n",
       "    &lt;link rel=&quot;stylesheet&quot; href=&quot;https://cdnjs.cloudflare.com/ajax/libs/Leaflet.awesome-markers/2.0.2/leaflet.awesome-markers.css&quot;/&gt;\n",
       "    &lt;link rel=&quot;stylesheet&quot; href=&quot;https://cdn.jsdelivr.net/gh/python-visualization/folium/folium/templates/leaflet.awesome.rotate.min.css&quot;/&gt;\n",
       "    \n",
       "            &lt;meta name=&quot;viewport&quot; content=&quot;width=device-width,\n",
       "                initial-scale=1.0, maximum-scale=1.0, user-scalable=no&quot; /&gt;\n",
       "            &lt;style&gt;\n",
       "                #map_c3b1eda0b5805e5dc3fe32f1ab68c09f {\n",
       "                    position: relative;\n",
       "                    width: 100.0%;\n",
       "                    height: 100.0%;\n",
       "                    left: 0.0%;\n",
       "                    top: 0.0%;\n",
       "                }\n",
       "                .leaflet-container { font-size: 1rem; }\n",
       "            &lt;/style&gt;\n",
       "        \n",
       "    \n",
       "                    &lt;style&gt;\n",
       "                        .foliumtooltip {\n",
       "                            \n",
       "                        }\n",
       "                       .foliumtooltip table{\n",
       "                            margin: auto;\n",
       "                        }\n",
       "                        .foliumtooltip tr{\n",
       "                            text-align: left;\n",
       "                        }\n",
       "                        .foliumtooltip th{\n",
       "                            padding: 2px; padding-right: 8px;\n",
       "                        }\n",
       "                    &lt;/style&gt;\n",
       "            \n",
       "&lt;/head&gt;\n",
       "&lt;body&gt;\n",
       "    \n",
       "    \n",
       "            &lt;div class=&quot;folium-map&quot; id=&quot;map_c3b1eda0b5805e5dc3fe32f1ab68c09f&quot; &gt;&lt;/div&gt;\n",
       "        \n",
       "&lt;/body&gt;\n",
       "&lt;script&gt;\n",
       "    \n",
       "    \n",
       "            var map_c3b1eda0b5805e5dc3fe32f1ab68c09f = L.map(\n",
       "                &quot;map_c3b1eda0b5805e5dc3fe32f1ab68c09f&quot;,\n",
       "                {\n",
       "                    center: [-1.8317076412286442, 112.70874023437501],\n",
       "                    crs: L.CRS.EPSG3857,\n",
       "                    zoom: 10,\n",
       "                    zoomControl: true,\n",
       "                    preferCanvas: false,\n",
       "                }\n",
       "            );\n",
       "            L.control.scale().addTo(map_c3b1eda0b5805e5dc3fe32f1ab68c09f);\n",
       "\n",
       "            \n",
       "\n",
       "        \n",
       "    \n",
       "            var tile_layer_a7fdb95019aaf80cbf175bbab29e4ff4 = L.tileLayer(\n",
       "                &quot;https://{s}.tile.openstreetmap.org/{z}/{x}/{y}.png&quot;,\n",
       "                {&quot;attribution&quot;: &quot;Data by \\u0026copy; \\u003ca target=\\&quot;_blank\\&quot; href=\\&quot;http://openstreetmap.org\\&quot;\\u003eOpenStreetMap\\u003c/a\\u003e, under \\u003ca target=\\&quot;_blank\\&quot; href=\\&quot;http://www.openstreetmap.org/copyright\\&quot;\\u003eODbL\\u003c/a\\u003e.&quot;, &quot;detectRetina&quot;: false, &quot;maxNativeZoom&quot;: 18, &quot;maxZoom&quot;: 18, &quot;minZoom&quot;: 0, &quot;noWrap&quot;: false, &quot;opacity&quot;: 1, &quot;subdomains&quot;: &quot;abc&quot;, &quot;tms&quot;: false}\n",
       "            ).addTo(map_c3b1eda0b5805e5dc3fe32f1ab68c09f);\n",
       "        \n",
       "    \n",
       "            map_c3b1eda0b5805e5dc3fe32f1ab68c09f.fitBounds(\n",
       "                [[-4.9377242743025, 100.48095703125001], [1.274308991845212, 124.93652343750001]],\n",
       "                {}\n",
       "            );\n",
       "        \n",
       "    \n",
       "        function geo_json_f90bdd11c5266eb231e6b622c73f7ba7_styler(feature) {\n",
       "            switch(feature.id) {\n",
       "                default:\n",
       "                    return {&quot;fillOpacity&quot;: 0.5, &quot;weight&quot;: 2};\n",
       "            }\n",
       "        }\n",
       "        function geo_json_f90bdd11c5266eb231e6b622c73f7ba7_highlighter(feature) {\n",
       "            switch(feature.id) {\n",
       "                default:\n",
       "                    return {&quot;fillOpacity&quot;: 0.75};\n",
       "            }\n",
       "        }\n",
       "        function geo_json_f90bdd11c5266eb231e6b622c73f7ba7_pointToLayer(feature, latlng) {\n",
       "            var opts = {&quot;bubblingMouseEvents&quot;: true, &quot;color&quot;: &quot;#3388ff&quot;, &quot;dashArray&quot;: null, &quot;dashOffset&quot;: null, &quot;fill&quot;: true, &quot;fillColor&quot;: &quot;#3388ff&quot;, &quot;fillOpacity&quot;: 0.2, &quot;fillRule&quot;: &quot;evenodd&quot;, &quot;lineCap&quot;: &quot;round&quot;, &quot;lineJoin&quot;: &quot;round&quot;, &quot;opacity&quot;: 1.0, &quot;radius&quot;: 2, &quot;stroke&quot;: true, &quot;weight&quot;: 3};\n",
       "            \n",
       "            let style = geo_json_f90bdd11c5266eb231e6b622c73f7ba7_styler(feature)\n",
       "            Object.assign(opts, style)\n",
       "            \n",
       "            return new L.CircleMarker(latlng, opts)\n",
       "        }\n",
       "\n",
       "        function geo_json_f90bdd11c5266eb231e6b622c73f7ba7_onEachFeature(feature, layer) {\n",
       "            layer.on({\n",
       "                mouseout: function(e) {\n",
       "                    if(typeof e.target.setStyle === &quot;function&quot;){\n",
       "                        geo_json_f90bdd11c5266eb231e6b622c73f7ba7.resetStyle(e.target);\n",
       "                    }\n",
       "                },\n",
       "                mouseover: function(e) {\n",
       "                    if(typeof e.target.setStyle === &quot;function&quot;){\n",
       "                        const highlightStyle = geo_json_f90bdd11c5266eb231e6b622c73f7ba7_highlighter(e.target.feature)\n",
       "                        e.target.setStyle(highlightStyle);\n",
       "                    }\n",
       "                },\n",
       "            });\n",
       "        };\n",
       "        var geo_json_f90bdd11c5266eb231e6b622c73f7ba7 = L.geoJson(null, {\n",
       "                onEachFeature: geo_json_f90bdd11c5266eb231e6b622c73f7ba7_onEachFeature,\n",
       "            \n",
       "                style: geo_json_f90bdd11c5266eb231e6b622c73f7ba7_styler,\n",
       "                pointToLayer: geo_json_f90bdd11c5266eb231e6b622c73f7ba7_pointToLayer\n",
       "        });\n",
       "\n",
       "        function geo_json_f90bdd11c5266eb231e6b622c73f7ba7_add (data) {\n",
       "            geo_json_f90bdd11c5266eb231e6b622c73f7ba7\n",
       "                .addData(data)\n",
       "                .addTo(map_c3b1eda0b5805e5dc3fe32f1ab68c09f);\n",
       "        }\n",
       "            geo_json_f90bdd11c5266eb231e6b622c73f7ba7_add({&quot;bbox&quot;: [100.48095703125001, -4.9377242743025, 124.93652343750001, 1.274308991845212], &quot;features&quot;: [{&quot;bbox&quot;: [100.48095703125001, -0.571279596632527, 100.5029296875, -0.549307991112522], &quot;geometry&quot;: {&quot;coordinates&quot;: [[[100.48095703125001, -0.571279596632527], [100.48095703125001, -0.549307991112522], [100.5029296875, -0.549307991112522], [100.5029296875, -0.571279596632527], [100.48095703125001, -0.571279596632527]]], &quot;type&quot;: &quot;Polygon&quot;}, &quot;id&quot;: &quot;31008&quot;, &quot;properties&quot;: {&quot;quadkey&quot;: &quot;31000111033103&quot;, &quot;shapeGroup&quot;: &quot;IDN&quot;, &quot;shapeID&quot;: &quot;IDN-ADM2-3_0_0-B91&quot;, &quot;shapeISO&quot;: &quot;None&quot;, &quot;shapeName&quot;: &quot;Danau&quot;, &quot;shapeType&quot;: &quot;ADM2&quot;}, &quot;type&quot;: &quot;Feature&quot;}, {&quot;bbox&quot;: [100.48095703125001, -0.593251118140869, 100.5029296875, -0.571279596632527], &quot;geometry&quot;: {&quot;coordinates&quot;: [[[100.48095703125001, -0.593251118140869], [100.48095703125001, -0.571279596632527], [100.5029296875, -0.571279596632527], [100.5029296875, -0.593251118140869], [100.48095703125001, -0.593251118140869]]], &quot;type&quot;: &quot;Polygon&quot;}, &quot;id&quot;: &quot;31009&quot;, &quot;properties&quot;: {&quot;quadkey&quot;: &quot;31000111033121&quot;, &quot;shapeGroup&quot;: &quot;IDN&quot;, &quot;shapeID&quot;: &quot;IDN-ADM2-3_0_0-B91&quot;, &quot;shapeISO&quot;: &quot;None&quot;, &quot;shapeName&quot;: &quot;Danau&quot;, &quot;shapeType&quot;: &quot;ADM2&quot;}, &quot;type&quot;: &quot;Feature&quot;}, {&quot;bbox&quot;: [100.5029296875, -0.61522255240686, 100.52490234375001, -0.593251118140869], &quot;geometry&quot;: {&quot;coordinates&quot;: [[[100.5029296875, -0.61522255240686], [100.5029296875, -0.593251118140869], [100.52490234375001, -0.593251118140869], [100.52490234375001, -0.61522255240686], [100.5029296875, -0.61522255240686]]], &quot;type&quot;: &quot;Polygon&quot;}, &quot;id&quot;: &quot;31023&quot;, &quot;properties&quot;: {&quot;quadkey&quot;: &quot;31000111033132&quot;, &quot;shapeGroup&quot;: &quot;IDN&quot;, &quot;shapeID&quot;: &quot;IDN-ADM2-3_0_0-B91&quot;, &quot;shapeISO&quot;: &quot;None&quot;, &quot;shapeName&quot;: &quot;Danau&quot;, &quot;shapeType&quot;: &quot;ADM2&quot;}, &quot;type&quot;: &quot;Feature&quot;}, {&quot;bbox&quot;: [100.52490234375001, -0.571279596632527, 100.546875, -0.549307991112522], &quot;geometry&quot;: {&quot;coordinates&quot;: [[[100.52490234375001, -0.571279596632527], [100.52490234375001, -0.549307991112522], [100.546875, -0.549307991112522], [100.546875, -0.571279596632527], [100.52490234375001, -0.571279596632527]]], &quot;type&quot;: &quot;Polygon&quot;}, &quot;id&quot;: &quot;31037&quot;, &quot;properties&quot;: {&quot;quadkey&quot;: &quot;31000111033113&quot;, &quot;shapeGroup&quot;: &quot;IDN&quot;, &quot;shapeID&quot;: &quot;IDN-ADM2-3_0_0-B91&quot;, &quot;shapeISO&quot;: &quot;None&quot;, &quot;shapeName&quot;: &quot;Danau&quot;, &quot;shapeType&quot;: &quot;ADM2&quot;}, &quot;type&quot;: &quot;Feature&quot;}, {&quot;bbox&quot;: [100.546875, -0.593251118140869, 100.56884765625001, -0.571279596632527], &quot;geometry&quot;: {&quot;coordinates&quot;: [[[100.546875, -0.593251118140869], [100.546875, -0.571279596632527], [100.56884765625001, -0.571279596632527], [100.56884765625001, -0.593251118140869], [100.546875, -0.593251118140869]]], &quot;type&quot;: &quot;Polygon&quot;}, &quot;id&quot;: &quot;31051&quot;, &quot;properties&quot;: {&quot;quadkey&quot;: &quot;31000111122020&quot;, &quot;shapeGroup&quot;: &quot;IDN&quot;, &quot;shapeID&quot;: &quot;IDN-ADM2-3_0_0-B91&quot;, &quot;shapeISO&quot;: &quot;None&quot;, &quot;shapeName&quot;: &quot;Danau&quot;, &quot;shapeType&quot;: &quot;ADM2&quot;}, &quot;type&quot;: &quot;Feature&quot;}, {&quot;bbox&quot;: [100.546875, -0.61522255240686, 100.56884765625001, -0.593251118140869], &quot;geometry&quot;: {&quot;coordinates&quot;: [[[100.546875, -0.61522255240686], [100.546875, -0.593251118140869], [100.56884765625001, -0.593251118140869], [100.56884765625001, -0.61522255240686], [100.546875, -0.61522255240686]]], &quot;type&quot;: &quot;Polygon&quot;}, &quot;id&quot;: &quot;31052&quot;, &quot;properties&quot;: {&quot;quadkey&quot;: &quot;31000111122022&quot;, &quot;shapeGroup&quot;: &quot;IDN&quot;, &quot;shapeID&quot;: &quot;IDN-ADM2-3_0_0-B91&quot;, &quot;shapeISO&quot;: &quot;None&quot;, &quot;shapeName&quot;: &quot;Danau&quot;, &quot;shapeType&quot;: &quot;ADM2&quot;}, &quot;type&quot;: &quot;Feature&quot;}, {&quot;bbox&quot;: [100.52490234375001, -0.659165146289471, 100.546875, -0.637193896199879], &quot;geometry&quot;: {&quot;coordinates&quot;: [[[100.52490234375001, -0.659165146289471], [100.52490234375001, -0.637193896199879], [100.546875, -0.637193896199879], [100.546875, -0.659165146289471], [100.52490234375001, -0.659165146289471]]], &quot;type&quot;: &quot;Polygon&quot;}, &quot;id&quot;: &quot;32989&quot;, &quot;properties&quot;: {&quot;quadkey&quot;: &quot;31000111033313&quot;, &quot;shapeGroup&quot;: &quot;IDN&quot;, &quot;shapeID&quot;: &quot;IDN-ADM2-3_0_0-B91&quot;, &quot;shapeISO&quot;: &quot;None&quot;, &quot;shapeName&quot;: &quot;Danau&quot;, &quot;shapeType&quot;: &quot;ADM2&quot;}, &quot;type&quot;: &quot;Feature&quot;}, {&quot;bbox&quot;: [100.546875, -0.681136299445117, 100.56884765625001, -0.659165146289471], &quot;geometry&quot;: {&quot;coordinates&quot;: [[[100.546875, -0.681136299445117], [100.546875, -0.659165146289471], [100.56884765625001, -0.659165146289471], [100.56884765625001, -0.681136299445117], [100.546875, -0.681136299445117]]], &quot;type&quot;: &quot;Polygon&quot;}, &quot;id&quot;: &quot;32996&quot;, &quot;properties&quot;: {&quot;quadkey&quot;: &quot;31000111122220&quot;, &quot;shapeGroup&quot;: &quot;IDN&quot;, &quot;shapeID&quot;: &quot;IDN-ADM2-3_0_0-B91&quot;, &quot;shapeISO&quot;: &quot;None&quot;, &quot;shapeName&quot;: &quot;Danau&quot;, &quot;shapeType&quot;: &quot;ADM2&quot;}, &quot;type&quot;: &quot;Feature&quot;}, {&quot;bbox&quot;: [100.56884765625001, -0.659165146289471, 100.5908203125, -0.637193896199879], &quot;geometry&quot;: {&quot;coordinates&quot;: [[[100.56884765625001, -0.659165146289471], [100.56884765625001, -0.637193896199879], [100.5908203125, -0.637193896199879], [100.5908203125, -0.659165146289471], [100.56884765625001, -0.659165146289471]]], &quot;type&quot;: &quot;Polygon&quot;}, &quot;id&quot;: &quot;33007&quot;, &quot;properties&quot;: {&quot;quadkey&quot;: &quot;31000111122203&quot;, &quot;shapeGroup&quot;: &quot;IDN&quot;, &quot;shapeID&quot;: &quot;IDN-ADM2-3_0_0-B91&quot;, &quot;shapeISO&quot;: &quot;None&quot;, &quot;shapeName&quot;: &quot;Danau&quot;, &quot;shapeType&quot;: &quot;ADM2&quot;}, &quot;type&quot;: &quot;Feature&quot;}, {&quot;bbox&quot;: [100.56884765625001, -0.681136299445117, 100.5908203125, -0.659165146289471], &quot;geometry&quot;: {&quot;coordinates&quot;: [[[100.56884765625001, -0.681136299445117], [100.56884765625001, -0.659165146289471], [100.5908203125, -0.659165146289471], [100.5908203125, -0.681136299445117], [100.56884765625001, -0.681136299445117]]], &quot;type&quot;: &quot;Polygon&quot;}, &quot;id&quot;: &quot;33008&quot;, &quot;properties&quot;: {&quot;quadkey&quot;: &quot;31000111122221&quot;, &quot;shapeGroup&quot;: &quot;IDN&quot;, &quot;shapeID&quot;: &quot;IDN-ADM2-3_0_0-B91&quot;, &quot;shapeISO&quot;: &quot;None&quot;, &quot;shapeName&quot;: &quot;Danau&quot;, &quot;shapeType&quot;: &quot;ADM2&quot;}, &quot;type&quot;: &quot;Feature&quot;}, {&quot;bbox&quot;: [100.56884765625001, -0.703107352436501, 100.5908203125, -0.681136299445117], &quot;geometry&quot;: {&quot;coordinates&quot;: [[[100.56884765625001, -0.703107352436501], [100.56884765625001, -0.681136299445117], [100.5908203125, -0.681136299445117], [100.5908203125, -0.703107352436501], [100.56884765625001, -0.703107352436501]]], &quot;type&quot;: &quot;Polygon&quot;}, &quot;id&quot;: &quot;33009&quot;, &quot;properties&quot;: {&quot;quadkey&quot;: &quot;31000111122223&quot;, &quot;shapeGroup&quot;: &quot;IDN&quot;, &quot;shapeID&quot;: &quot;IDN-ADM2-3_0_0-B91&quot;, &quot;shapeISO&quot;: &quot;None&quot;, &quot;shapeName&quot;: &quot;Danau&quot;, &quot;shapeType&quot;: &quot;ADM2&quot;}, &quot;type&quot;: &quot;Feature&quot;}, {&quot;bbox&quot;: [100.5029296875, -0.571279596632527, 100.52490234375001, -0.549307991112522], &quot;geometry&quot;: {&quot;coordinates&quot;: [[[100.5029296875, -0.571279596632527], [100.5029296875, -0.549307991112522], [100.52490234375001, -0.549307991112522], [100.52490234375001, -0.571279596632527], [100.5029296875, -0.571279596632527]]], &quot;type&quot;: &quot;Polygon&quot;}, &quot;id&quot;: &quot;33558&quot;, &quot;properties&quot;: {&quot;quadkey&quot;: &quot;31000111033112&quot;, &quot;shapeGroup&quot;: &quot;IDN&quot;, &quot;shapeID&quot;: &quot;IDN-ADM2-3_0_0-B91&quot;, &quot;shapeISO&quot;: &quot;None&quot;, &quot;shapeName&quot;: &quot;Danau&quot;, &quot;shapeType&quot;: &quot;ADM2&quot;}, &quot;type&quot;: &quot;Feature&quot;}, {&quot;bbox&quot;: [100.5029296875, -0.593251118140869, 100.52490234375001, -0.571279596632527], &quot;geometry&quot;: {&quot;coordinates&quot;: [[[100.5029296875, -0.593251118140869], [100.5029296875, -0.571279596632527], [100.52490234375001, -0.571279596632527], [100.52490234375001, -0.593251118140869], [100.5029296875, -0.593251118140869]]], &quot;type&quot;: &quot;Polygon&quot;}, &quot;id&quot;: &quot;33559&quot;, &quot;properties&quot;: {&quot;quadkey&quot;: &quot;31000111033130&quot;, &quot;shapeGroup&quot;: &quot;IDN&quot;, &quot;shapeID&quot;: &quot;IDN-ADM2-3_0_0-B91&quot;, &quot;shapeISO&quot;: &quot;None&quot;, &quot;shapeName&quot;: &quot;Danau&quot;, &quot;shapeType&quot;: &quot;ADM2&quot;}, &quot;type&quot;: &quot;Feature&quot;}, {&quot;bbox&quot;: [100.52490234375001, -0.593251118140869, 100.546875, -0.571279596632527], &quot;geometry&quot;: {&quot;coordinates&quot;: [[[100.52490234375001, -0.593251118140869], [100.52490234375001, -0.571279596632527], [100.546875, -0.571279596632527], [100.546875, -0.593251118140869], [100.52490234375001, -0.593251118140869]]], &quot;type&quot;: &quot;Polygon&quot;}, &quot;id&quot;: &quot;33560&quot;, &quot;properties&quot;: {&quot;quadkey&quot;: &quot;31000111033131&quot;, &quot;shapeGroup&quot;: &quot;IDN&quot;, &quot;shapeID&quot;: &quot;IDN-ADM2-3_0_0-B91&quot;, &quot;shapeISO&quot;: &quot;None&quot;, &quot;shapeName&quot;: &quot;Danau&quot;, &quot;shapeType&quot;: &quot;ADM2&quot;}, &quot;type&quot;: &quot;Feature&quot;}, {&quot;bbox&quot;: [100.52490234375001, -0.61522255240686, 100.546875, -0.593251118140869], &quot;geometry&quot;: {&quot;coordinates&quot;: [[[100.52490234375001, -0.61522255240686], [100.52490234375001, -0.593251118140869], [100.546875, -0.593251118140869], [100.546875, -0.61522255240686], [100.52490234375001, -0.61522255240686]]], &quot;type&quot;: &quot;Polygon&quot;}, &quot;id&quot;: &quot;33561&quot;, &quot;properties&quot;: {&quot;quadkey&quot;: &quot;31000111033133&quot;, &quot;shapeGroup&quot;: &quot;IDN&quot;, &quot;shapeID&quot;: &quot;IDN-ADM2-3_0_0-B91&quot;, &quot;shapeISO&quot;: &quot;None&quot;, &quot;shapeName&quot;: &quot;Danau&quot;, &quot;shapeType&quot;: &quot;ADM2&quot;}, &quot;type&quot;: &quot;Feature&quot;}, {&quot;bbox&quot;: [100.52490234375001, -0.637193896199879, 100.546875, -0.61522255240686], &quot;geometry&quot;: {&quot;coordinates&quot;: [[[100.52490234375001, -0.637193896199879], [100.52490234375001, -0.61522255240686], [100.546875, -0.61522255240686], [100.546875, -0.637193896199879], [100.52490234375001, -0.637193896199879]]], &quot;type&quot;: &quot;Polygon&quot;}, &quot;id&quot;: &quot;33562&quot;, &quot;properties&quot;: {&quot;quadkey&quot;: &quot;31000111033311&quot;, &quot;shapeGroup&quot;: &quot;IDN&quot;, &quot;shapeID&quot;: &quot;IDN-ADM2-3_0_0-B91&quot;, &quot;shapeISO&quot;: &quot;None&quot;, &quot;shapeName&quot;: &quot;Danau&quot;, &quot;shapeType&quot;: &quot;ADM2&quot;}, &quot;type&quot;: &quot;Feature&quot;}, {&quot;bbox&quot;: [100.546875, -0.637193896199879, 100.56884765625001, -0.61522255240686], &quot;geometry&quot;: {&quot;coordinates&quot;: [[[100.546875, -0.637193896199879], [100.546875, -0.61522255240686], [100.56884765625001, -0.61522255240686], [100.56884765625001, -0.637193896199879], [100.546875, -0.637193896199879]]], &quot;type&quot;: &quot;Polygon&quot;}, &quot;id&quot;: &quot;33563&quot;, &quot;properties&quot;: {&quot;quadkey&quot;: &quot;31000111122200&quot;, &quot;shapeGroup&quot;: &quot;IDN&quot;, &quot;shapeID&quot;: &quot;IDN-ADM2-3_0_0-B91&quot;, &quot;shapeISO&quot;: &quot;None&quot;, &quot;shapeName&quot;: &quot;Danau&quot;, &quot;shapeType&quot;: &quot;ADM2&quot;}, &quot;type&quot;: &quot;Feature&quot;}, {&quot;bbox&quot;: [100.546875, -0.659165146289471, 100.56884765625001, -0.637193896199879], &quot;geometry&quot;: {&quot;coordinates&quot;: [[[100.546875, -0.659165146289471], [100.546875, -0.637193896199879], [100.56884765625001, -0.637193896199879], [100.56884765625001, -0.659165146289471], [100.546875, -0.659165146289471]]], &quot;type&quot;: &quot;Polygon&quot;}, &quot;id&quot;: &quot;33564&quot;, &quot;properties&quot;: {&quot;quadkey&quot;: &quot;31000111122202&quot;, &quot;shapeGroup&quot;: &quot;IDN&quot;, &quot;shapeID&quot;: &quot;IDN-ADM2-3_0_0-B91&quot;, &quot;shapeISO&quot;: &quot;None&quot;, &quot;shapeName&quot;: &quot;Danau&quot;, &quot;shapeType&quot;: &quot;ADM2&quot;}, &quot;type&quot;: &quot;Feature&quot;}, {&quot;bbox&quot;: [103.86474609375, -4.893940608902133, 103.88671875000001, -4.872047700241915], &quot;geometry&quot;: {&quot;coordinates&quot;: [[[103.86474609375, -4.893940608902133], [103.86474609375, -4.872047700241915], [103.88671875000001, -4.872047700241915], [103.88671875000001, -4.893940608902133], [103.86474609375, -4.893940608902133]]], &quot;type&quot;: &quot;Polygon&quot;}, &quot;id&quot;: &quot;33568&quot;, &quot;properties&quot;: {&quot;quadkey&quot;: &quot;31001023132331&quot;, &quot;shapeGroup&quot;: &quot;IDN&quot;, &quot;shapeID&quot;: &quot;IDN-ADM2-3_0_0-B91&quot;, &quot;shapeISO&quot;: &quot;None&quot;, &quot;shapeName&quot;: &quot;Danau&quot;, &quot;shapeType&quot;: &quot;ADM2&quot;}, &quot;type&quot;: &quot;Feature&quot;}, {&quot;bbox&quot;: [103.86474609375, -4.915832801313165, 103.88671875000001, -4.893940608902133], &quot;geometry&quot;: {&quot;coordinates&quot;: [[[103.86474609375, -4.915832801313165], [103.86474609375, -4.893940608902133], [103.88671875000001, -4.893940608902133], [103.88671875000001, -4.915832801313165], [103.86474609375, -4.915832801313165]]], &quot;type&quot;: &quot;Polygon&quot;}, &quot;id&quot;: &quot;33569&quot;, &quot;properties&quot;: {&quot;quadkey&quot;: &quot;31001023132333&quot;, &quot;shapeGroup&quot;: &quot;IDN&quot;, &quot;shapeID&quot;: &quot;IDN-ADM2-3_0_0-B91&quot;, &quot;shapeISO&quot;: &quot;None&quot;, &quot;shapeName&quot;: &quot;Danau&quot;, &quot;shapeType&quot;: &quot;ADM2&quot;}, &quot;type&quot;: &quot;Feature&quot;}, {&quot;bbox&quot;: [103.88671875000001, -4.872047700241915, 103.90869140624999, -4.850154078505645], &quot;geometry&quot;: {&quot;coordinates&quot;: [[[103.88671875000001, -4.872047700241915], [103.88671875000001, -4.850154078505645], [103.90869140624999, -4.850154078505645], [103.90869140624999, -4.872047700241915], [103.88671875000001, -4.872047700241915]]], &quot;type&quot;: &quot;Polygon&quot;}, &quot;id&quot;: &quot;33572&quot;, &quot;properties&quot;: {&quot;quadkey&quot;: &quot;31001023133202&quot;, &quot;shapeGroup&quot;: &quot;IDN&quot;, &quot;shapeID&quot;: &quot;IDN-ADM2-3_0_0-B91&quot;, &quot;shapeISO&quot;: &quot;None&quot;, &quot;shapeName&quot;: &quot;Danau&quot;, &quot;shapeType&quot;: &quot;ADM2&quot;}, &quot;type&quot;: &quot;Feature&quot;}, {&quot;bbox&quot;: [103.88671875000001, -4.893940608902133, 103.90869140624999, -4.872047700241915], &quot;geometry&quot;: {&quot;coordinates&quot;: [[[103.88671875000001, -4.893940608902133], [103.88671875000001, -4.872047700241915], [103.90869140624999, -4.872047700241915], [103.90869140624999, -4.893940608902133], [103.88671875000001, -4.893940608902133]]], &quot;type&quot;: &quot;Polygon&quot;}, &quot;id&quot;: &quot;33573&quot;, &quot;properties&quot;: {&quot;quadkey&quot;: &quot;31001023133220&quot;, &quot;shapeGroup&quot;: &quot;IDN&quot;, &quot;shapeID&quot;: &quot;IDN-ADM2-3_0_0-B91&quot;, &quot;shapeISO&quot;: &quot;None&quot;, &quot;shapeName&quot;: &quot;Danau&quot;, &quot;shapeType&quot;: &quot;ADM2&quot;}, &quot;type&quot;: &quot;Feature&quot;}, {&quot;bbox&quot;: [103.88671875000001, -4.915832801313165, 103.90869140624999, -4.893940608902133], &quot;geometry&quot;: {&quot;coordinates&quot;: [[[103.88671875000001, -4.915832801313165], [103.88671875000001, -4.893940608902133], [103.90869140624999, -4.893940608902133], [103.90869140624999, -4.915832801313165], [103.88671875000001, -4.915832801313165]]], &quot;type&quot;: &quot;Polygon&quot;}, &quot;id&quot;: &quot;33574&quot;, &quot;properties&quot;: {&quot;quadkey&quot;: &quot;31001023133222&quot;, &quot;shapeGroup&quot;: &quot;IDN&quot;, &quot;shapeID&quot;: &quot;IDN-ADM2-3_0_0-B91&quot;, &quot;shapeISO&quot;: &quot;None&quot;, &quot;shapeName&quot;: &quot;Danau&quot;, &quot;shapeType&quot;: &quot;ADM2&quot;}, &quot;type&quot;: &quot;Feature&quot;}, {&quot;bbox&quot;: [103.88671875000001, -4.9377242743025, 103.90869140624999, -4.915832801313165], &quot;geometry&quot;: {&quot;coordinates&quot;: [[[103.88671875000001, -4.9377242743025], [103.88671875000001, -4.915832801313165], [103.90869140624999, -4.915832801313165], [103.90869140624999, -4.9377242743025], [103.88671875000001, -4.9377242743025]]], &quot;type&quot;: &quot;Polygon&quot;}, &quot;id&quot;: &quot;33575&quot;, &quot;properties&quot;: {&quot;quadkey&quot;: &quot;31001023311000&quot;, &quot;shapeGroup&quot;: &quot;IDN&quot;, &quot;shapeID&quot;: &quot;IDN-ADM2-3_0_0-B91&quot;, &quot;shapeISO&quot;: &quot;None&quot;, &quot;shapeName&quot;: &quot;Danau&quot;, &quot;shapeType&quot;: &quot;ADM2&quot;}, &quot;type&quot;: &quot;Feature&quot;}, {&quot;bbox&quot;: [103.90869140624999, -4.828259746866976, 103.9306640625, -4.806364708499979], &quot;geometry&quot;: {&quot;coordinates&quot;: [[[103.90869140624999, -4.828259746866976], [103.90869140624999, -4.806364708499979], [103.9306640625, -4.806364708499979], [103.9306640625, -4.828259746866976], [103.90869140624999, -4.828259746866976]]], &quot;type&quot;: &quot;Polygon&quot;}, &quot;id&quot;: &quot;33577&quot;, &quot;properties&quot;: {&quot;quadkey&quot;: &quot;31001023133023&quot;, &quot;shapeGroup&quot;: &quot;IDN&quot;, &quot;shapeID&quot;: &quot;IDN-ADM2-3_0_0-B91&quot;, &quot;shapeISO&quot;: &quot;None&quot;, &quot;shapeName&quot;: &quot;Danau&quot;, &quot;shapeType&quot;: &quot;ADM2&quot;}, &quot;type&quot;: &quot;Feature&quot;}, {&quot;bbox&quot;: [103.90869140624999, -4.850154078505645, 103.9306640625, -4.828259746866976], &quot;geometry&quot;: {&quot;coordinates&quot;: [[[103.90869140624999, -4.850154078505645], [103.90869140624999, -4.828259746866976], [103.9306640625, -4.828259746866976], [103.9306640625, -4.850154078505645], [103.90869140624999, -4.850154078505645]]], &quot;type&quot;: &quot;Polygon&quot;}, &quot;id&quot;: &quot;33578&quot;, &quot;properties&quot;: {&quot;quadkey&quot;: &quot;31001023133201&quot;, &quot;shapeGroup&quot;: &quot;IDN&quot;, &quot;shapeID&quot;: &quot;IDN-ADM2-3_0_0-B91&quot;, &quot;shapeISO&quot;: &quot;None&quot;, &quot;shapeName&quot;: &quot;Danau&quot;, &quot;shapeType&quot;: &quot;ADM2&quot;}, &quot;type&quot;: &quot;Feature&quot;}, {&quot;bbox&quot;: [103.90869140624999, -4.872047700241915, 103.9306640625, -4.850154078505645], &quot;geometry&quot;: {&quot;coordinates&quot;: [[[103.90869140624999, -4.872047700241915], [103.90869140624999, -4.850154078505645], [103.9306640625, -4.850154078505645], [103.9306640625, -4.872047700241915], [103.90869140624999, -4.872047700241915]]], &quot;type&quot;: &quot;Polygon&quot;}, &quot;id&quot;: &quot;33579&quot;, &quot;properties&quot;: {&quot;quadkey&quot;: &quot;31001023133203&quot;, &quot;shapeGroup&quot;: &quot;IDN&quot;, &quot;shapeID&quot;: &quot;IDN-ADM2-3_0_0-B91&quot;, &quot;shapeISO&quot;: &quot;None&quot;, &quot;shapeName&quot;: &quot;Danau&quot;, &quot;shapeType&quot;: &quot;ADM2&quot;}, &quot;type&quot;: &quot;Feature&quot;}, {&quot;bbox&quot;: [103.90869140624999, -4.893940608902133, 103.9306640625, -4.872047700241915], &quot;geometry&quot;: {&quot;coordinates&quot;: [[[103.90869140624999, -4.893940608902133], [103.90869140624999, -4.872047700241915], [103.9306640625, -4.872047700241915], [103.9306640625, -4.893940608902133], [103.90869140624999, -4.893940608902133]]], &quot;type&quot;: &quot;Polygon&quot;}, &quot;id&quot;: &quot;33580&quot;, &quot;properties&quot;: {&quot;quadkey&quot;: &quot;31001023133221&quot;, &quot;shapeGroup&quot;: &quot;IDN&quot;, &quot;shapeID&quot;: &quot;IDN-ADM2-3_0_0-B91&quot;, &quot;shapeISO&quot;: &quot;None&quot;, &quot;shapeName&quot;: &quot;Danau&quot;, &quot;shapeType&quot;: &quot;ADM2&quot;}, &quot;type&quot;: &quot;Feature&quot;}, {&quot;bbox&quot;: [103.90869140624999, -4.915832801313165, 103.9306640625, -4.893940608902133], &quot;geometry&quot;: {&quot;coordinates&quot;: [[[103.90869140624999, -4.915832801313165], [103.90869140624999, -4.893940608902133], [103.9306640625, -4.893940608902133], [103.9306640625, -4.915832801313165], [103.90869140624999, -4.915832801313165]]], &quot;type&quot;: &quot;Polygon&quot;}, &quot;id&quot;: &quot;33581&quot;, &quot;properties&quot;: {&quot;quadkey&quot;: &quot;31001023133223&quot;, &quot;shapeGroup&quot;: &quot;IDN&quot;, &quot;shapeID&quot;: &quot;IDN-ADM2-3_0_0-B91&quot;, &quot;shapeISO&quot;: &quot;None&quot;, &quot;shapeName&quot;: &quot;Danau&quot;, &quot;shapeType&quot;: &quot;ADM2&quot;}, &quot;type&quot;: &quot;Feature&quot;}, {&quot;bbox&quot;: [103.9306640625, -4.828259746866976, 103.95263671874999, -4.806364708499979], &quot;geometry&quot;: {&quot;coordinates&quot;: [[[103.9306640625, -4.828259746866976], [103.9306640625, -4.806364708499979], [103.95263671874999, -4.806364708499979], [103.95263671874999, -4.828259746866976], [103.9306640625, -4.828259746866976]]], &quot;type&quot;: &quot;Polygon&quot;}, &quot;id&quot;: &quot;33585&quot;, &quot;properties&quot;: {&quot;quadkey&quot;: &quot;31001023133032&quot;, &quot;shapeGroup&quot;: &quot;IDN&quot;, &quot;shapeID&quot;: &quot;IDN-ADM2-3_0_0-B91&quot;, &quot;shapeISO&quot;: &quot;None&quot;, &quot;shapeName&quot;: &quot;Danau&quot;, &quot;shapeType&quot;: &quot;ADM2&quot;}, &quot;type&quot;: &quot;Feature&quot;}, {&quot;bbox&quot;: [103.9306640625, -4.850154078505645, 103.95263671874999, -4.828259746866976], &quot;geometry&quot;: {&quot;coordinates&quot;: [[[103.9306640625, -4.850154078505645], [103.9306640625, -4.828259746866976], [103.95263671874999, -4.828259746866976], [103.95263671874999, -4.850154078505645], [103.9306640625, -4.850154078505645]]], &quot;type&quot;: &quot;Polygon&quot;}, &quot;id&quot;: &quot;33586&quot;, &quot;properties&quot;: {&quot;quadkey&quot;: &quot;31001023133210&quot;, &quot;shapeGroup&quot;: &quot;IDN&quot;, &quot;shapeID&quot;: &quot;IDN-ADM2-3_0_0-B91&quot;, &quot;shapeISO&quot;: &quot;None&quot;, &quot;shapeName&quot;: &quot;Danau&quot;, &quot;shapeType&quot;: &quot;ADM2&quot;}, &quot;type&quot;: &quot;Feature&quot;}, {&quot;bbox&quot;: [103.9306640625, -4.872047700241915, 103.95263671874999, -4.850154078505645], &quot;geometry&quot;: {&quot;coordinates&quot;: [[[103.9306640625, -4.872047700241915], [103.9306640625, -4.850154078505645], [103.95263671874999, -4.850154078505645], [103.95263671874999, -4.872047700241915], [103.9306640625, -4.872047700241915]]], &quot;type&quot;: &quot;Polygon&quot;}, &quot;id&quot;: &quot;33587&quot;, &quot;properties&quot;: {&quot;quadkey&quot;: &quot;31001023133212&quot;, &quot;shapeGroup&quot;: &quot;IDN&quot;, &quot;shapeID&quot;: &quot;IDN-ADM2-3_0_0-B91&quot;, &quot;shapeISO&quot;: &quot;None&quot;, &quot;shapeName&quot;: &quot;Danau&quot;, &quot;shapeType&quot;: &quot;ADM2&quot;}, &quot;type&quot;: &quot;Feature&quot;}, {&quot;bbox&quot;: [103.9306640625, -4.893940608902133, 103.95263671874999, -4.872047700241915], &quot;geometry&quot;: {&quot;coordinates&quot;: [[[103.9306640625, -4.893940608902133], [103.9306640625, -4.872047700241915], [103.95263671874999, -4.872047700241915], [103.95263671874999, -4.893940608902133], [103.9306640625, -4.893940608902133]]], &quot;type&quot;: &quot;Polygon&quot;}, &quot;id&quot;: &quot;33588&quot;, &quot;properties&quot;: {&quot;quadkey&quot;: &quot;31001023133230&quot;, &quot;shapeGroup&quot;: &quot;IDN&quot;, &quot;shapeID&quot;: &quot;IDN-ADM2-3_0_0-B91&quot;, &quot;shapeISO&quot;: &quot;None&quot;, &quot;shapeName&quot;: &quot;Danau&quot;, &quot;shapeType&quot;: &quot;ADM2&quot;}, &quot;type&quot;: &quot;Feature&quot;}, {&quot;bbox&quot;: [103.95263671874999, -4.850154078505645, 103.974609375, -4.828259746866976], &quot;geometry&quot;: {&quot;coordinates&quot;: [[[103.95263671874999, -4.850154078505645], [103.95263671874999, -4.828259746866976], [103.974609375, -4.828259746866976], [103.974609375, -4.850154078505645], [103.95263671874999, -4.850154078505645]]], &quot;type&quot;: &quot;Polygon&quot;}, &quot;id&quot;: &quot;33591&quot;, &quot;properties&quot;: {&quot;quadkey&quot;: &quot;31001023133211&quot;, &quot;shapeGroup&quot;: &quot;IDN&quot;, &quot;shapeID&quot;: &quot;IDN-ADM2-3_0_0-B91&quot;, &quot;shapeISO&quot;: &quot;None&quot;, &quot;shapeName&quot;: &quot;Danau&quot;, &quot;shapeType&quot;: &quot;ADM2&quot;}, &quot;type&quot;: &quot;Feature&quot;}, {&quot;bbox&quot;: [103.95263671874999, -4.872047700241915, 103.974609375, -4.850154078505645], &quot;geometry&quot;: {&quot;coordinates&quot;: [[[103.95263671874999, -4.872047700241915], [103.95263671874999, -4.850154078505645], [103.974609375, -4.850154078505645], [103.974609375, -4.872047700241915], [103.95263671874999, -4.872047700241915]]], &quot;type&quot;: &quot;Polygon&quot;}, &quot;id&quot;: &quot;33592&quot;, &quot;properties&quot;: {&quot;quadkey&quot;: &quot;31001023133213&quot;, &quot;shapeGroup&quot;: &quot;IDN&quot;, &quot;shapeID&quot;: &quot;IDN-ADM2-3_0_0-B91&quot;, &quot;shapeISO&quot;: &quot;None&quot;, &quot;shapeName&quot;: &quot;Danau&quot;, &quot;shapeType&quot;: &quot;ADM2&quot;}, &quot;type&quot;: &quot;Feature&quot;}, {&quot;bbox&quot;: [103.974609375, -4.850154078505645, 103.99658203124999, -4.828259746866976], &quot;geometry&quot;: {&quot;coordinates&quot;: [[[103.974609375, -4.850154078505645], [103.974609375, -4.828259746866976], [103.99658203124999, -4.828259746866976], [103.99658203124999, -4.850154078505645], [103.974609375, -4.850154078505645]]], &quot;type&quot;: &quot;Polygon&quot;}, &quot;id&quot;: &quot;33595&quot;, &quot;properties&quot;: {&quot;quadkey&quot;: &quot;31001023133300&quot;, &quot;shapeGroup&quot;: &quot;IDN&quot;, &quot;shapeID&quot;: &quot;IDN-ADM2-3_0_0-B91&quot;, &quot;shapeISO&quot;: &quot;None&quot;, &quot;shapeName&quot;: &quot;Danau&quot;, &quot;shapeType&quot;: &quot;ADM2&quot;}, &quot;type&quot;: &quot;Feature&quot;}, {&quot;bbox&quot;: [103.974609375, -4.872047700241915, 103.99658203124999, -4.850154078505645], &quot;geometry&quot;: {&quot;coordinates&quot;: [[[103.974609375, -4.872047700241915], [103.974609375, -4.850154078505645], [103.99658203124999, -4.850154078505645], [103.99658203124999, -4.872047700241915], [103.974609375, -4.872047700241915]]], &quot;type&quot;: &quot;Polygon&quot;}, &quot;id&quot;: &quot;33596&quot;, &quot;properties&quot;: {&quot;quadkey&quot;: &quot;31001023133302&quot;, &quot;shapeGroup&quot;: &quot;IDN&quot;, &quot;shapeID&quot;: &quot;IDN-ADM2-3_0_0-B91&quot;, &quot;shapeISO&quot;: &quot;None&quot;, &quot;shapeName&quot;: &quot;Danau&quot;, &quot;shapeType&quot;: &quot;ADM2&quot;}, &quot;type&quot;: &quot;Feature&quot;}, {&quot;bbox&quot;: [103.99658203124999, -4.872047700241915, 104.0185546875, -4.850154078505645], &quot;geometry&quot;: {&quot;coordinates&quot;: [[[103.99658203124999, -4.872047700241915], [103.99658203124999, -4.850154078505645], [104.0185546875, -4.850154078505645], [104.0185546875, -4.872047700241915], [103.99658203124999, -4.872047700241915]]], &quot;type&quot;: &quot;Polygon&quot;}, &quot;id&quot;: &quot;33599&quot;, &quot;properties&quot;: {&quot;quadkey&quot;: &quot;31001023133303&quot;, &quot;shapeGroup&quot;: &quot;IDN&quot;, &quot;shapeID&quot;: &quot;IDN-ADM2-3_0_0-B91&quot;, &quot;shapeISO&quot;: &quot;None&quot;, &quot;shapeName&quot;: &quot;Danau&quot;, &quot;shapeType&quot;: &quot;ADM2&quot;}, &quot;type&quot;: &quot;Feature&quot;}, {&quot;bbox&quot;: [124.453125, 0.747049145005195, 124.47509765625003, 0.76901987812212], &quot;geometry&quot;: {&quot;coordinates&quot;: [[[124.453125, 0.747049145005195], [124.453125, 0.76901987812212], [124.47509765625003, 0.76901987812212], [124.47509765625003, 0.747049145005195], [124.453125, 0.747049145005195]]], &quot;type&quot;: &quot;Polygon&quot;}, &quot;id&quot;: &quot;241317&quot;, &quot;properties&quot;: {&quot;quadkey&quot;: &quot;13233222122202&quot;, &quot;shapeGroup&quot;: &quot;IDN&quot;, &quot;shapeID&quot;: &quot;IDN-ADM2-3_0_0-B91&quot;, &quot;shapeISO&quot;: &quot;None&quot;, &quot;shapeName&quot;: &quot;Danau&quot;, &quot;shapeType&quot;: &quot;ADM2&quot;}, &quot;type&quot;: &quot;Feature&quot;}, {&quot;bbox&quot;: [124.87060546874999, 1.208406497271841, 124.89257812499999, 1.230374177432606], &quot;geometry&quot;: {&quot;coordinates&quot;: [[[124.87060546874999, 1.208406497271841], [124.87060546874999, 1.230374177432606], [124.89257812499999, 1.230374177432606], [124.89257812499999, 1.208406497271841], [124.87060546874999, 1.208406497271841]]], &quot;type&quot;: &quot;Polygon&quot;}, &quot;id&quot;: &quot;242302&quot;, &quot;properties&quot;: {&quot;quadkey&quot;: &quot;13233222112011&quot;, &quot;shapeGroup&quot;: &quot;IDN&quot;, &quot;shapeID&quot;: &quot;IDN-ADM2-3_0_0-B91&quot;, &quot;shapeISO&quot;: &quot;None&quot;, &quot;shapeName&quot;: &quot;Danau&quot;, &quot;shapeType&quot;: &quot;ADM2&quot;}, &quot;type&quot;: &quot;Feature&quot;}, {&quot;bbox&quot;: [124.87060546874999, 1.186438639445206, 124.89257812499999, 1.208406497271841], &quot;geometry&quot;: {&quot;coordinates&quot;: [[[124.87060546874999, 1.186438639445206], [124.87060546874999, 1.208406497271841], [124.89257812499999, 1.208406497271841], [124.89257812499999, 1.186438639445206], [124.87060546874999, 1.186438639445206]]], &quot;type&quot;: &quot;Polygon&quot;}, &quot;id&quot;: &quot;242303&quot;, &quot;properties&quot;: {&quot;quadkey&quot;: &quot;13233222112013&quot;, &quot;shapeGroup&quot;: &quot;IDN&quot;, &quot;shapeID&quot;: &quot;IDN-ADM2-3_0_0-B91&quot;, &quot;shapeISO&quot;: &quot;None&quot;, &quot;shapeName&quot;: &quot;Danau&quot;, &quot;shapeType&quot;: &quot;ADM2&quot;}, &quot;type&quot;: &quot;Feature&quot;}, {&quot;bbox&quot;: [124.89257812499999, 1.25234167669964, 124.91455078125001, 1.274308991845212], &quot;geometry&quot;: {&quot;coordinates&quot;: [[[124.89257812499999, 1.25234167669964], [124.89257812499999, 1.274308991845212], [124.91455078125001, 1.274308991845212], [124.91455078125001, 1.25234167669964], [124.89257812499999, 1.25234167669964]]], &quot;type&quot;: &quot;Polygon&quot;}, &quot;id&quot;: &quot;242306&quot;, &quot;properties&quot;: {&quot;quadkey&quot;: &quot;13233222110320&quot;, &quot;shapeGroup&quot;: &quot;IDN&quot;, &quot;shapeID&quot;: &quot;IDN-ADM2-3_0_0-B91&quot;, &quot;shapeISO&quot;: &quot;None&quot;, &quot;shapeName&quot;: &quot;Danau&quot;, &quot;shapeType&quot;: &quot;ADM2&quot;}, &quot;type&quot;: &quot;Feature&quot;}, {&quot;bbox&quot;: [124.89257812499999, 1.230374177432606, 124.91455078125001, 1.25234167669964], &quot;geometry&quot;: {&quot;coordinates&quot;: [[[124.89257812499999, 1.230374177432606], [124.89257812499999, 1.25234167669964], [124.91455078125001, 1.25234167669964], [124.91455078125001, 1.230374177432606], [124.89257812499999, 1.230374177432606]]], &quot;type&quot;: &quot;Polygon&quot;}, &quot;id&quot;: &quot;242307&quot;, &quot;properties&quot;: {&quot;quadkey&quot;: &quot;13233222110322&quot;, &quot;shapeGroup&quot;: &quot;IDN&quot;, &quot;shapeID&quot;: &quot;IDN-ADM2-3_0_0-B91&quot;, &quot;shapeISO&quot;: &quot;None&quot;, &quot;shapeName&quot;: &quot;Danau&quot;, &quot;shapeType&quot;: &quot;ADM2&quot;}, &quot;type&quot;: &quot;Feature&quot;}, {&quot;bbox&quot;: [124.89257812499999, 1.208406497271841, 124.91455078125001, 1.230374177432606], &quot;geometry&quot;: {&quot;coordinates&quot;: [[[124.89257812499999, 1.208406497271841], [124.89257812499999, 1.230374177432606], [124.91455078125001, 1.230374177432606], [124.91455078125001, 1.208406497271841], [124.89257812499999, 1.208406497271841]]], &quot;type&quot;: &quot;Polygon&quot;}, &quot;id&quot;: &quot;242308&quot;, &quot;properties&quot;: {&quot;quadkey&quot;: &quot;13233222112100&quot;, &quot;shapeGroup&quot;: &quot;IDN&quot;, &quot;shapeID&quot;: &quot;IDN-ADM2-3_0_0-B91&quot;, &quot;shapeISO&quot;: &quot;None&quot;, &quot;shapeName&quot;: &quot;Danau&quot;, &quot;shapeType&quot;: &quot;ADM2&quot;}, &quot;type&quot;: &quot;Feature&quot;}, {&quot;bbox&quot;: [124.89257812499999, 1.186438639445206, 124.91455078125001, 1.208406497271841], &quot;geometry&quot;: {&quot;coordinates&quot;: [[[124.89257812499999, 1.186438639445206], [124.89257812499999, 1.208406497271841], [124.91455078125001, 1.208406497271841], [124.91455078125001, 1.186438639445206], [124.89257812499999, 1.186438639445206]]], &quot;type&quot;: &quot;Polygon&quot;}, &quot;id&quot;: &quot;242309&quot;, &quot;properties&quot;: {&quot;quadkey&quot;: &quot;13233222112102&quot;, &quot;shapeGroup&quot;: &quot;IDN&quot;, &quot;shapeID&quot;: &quot;IDN-ADM2-3_0_0-B91&quot;, &quot;shapeISO&quot;: &quot;None&quot;, &quot;shapeName&quot;: &quot;Danau&quot;, &quot;shapeType&quot;: &quot;ADM2&quot;}, &quot;type&quot;: &quot;Feature&quot;}, {&quot;bbox&quot;: [124.91455078125001, 1.25234167669964, 124.93652343750001, 1.274308991845212], &quot;geometry&quot;: {&quot;coordinates&quot;: [[[124.91455078125001, 1.25234167669964], [124.91455078125001, 1.274308991845212], [124.93652343750001, 1.274308991845212], [124.93652343750001, 1.25234167669964], [124.91455078125001, 1.25234167669964]]], &quot;type&quot;: &quot;Polygon&quot;}, &quot;id&quot;: &quot;242312&quot;, &quot;properties&quot;: {&quot;quadkey&quot;: &quot;13233222110321&quot;, &quot;shapeGroup&quot;: &quot;IDN&quot;, &quot;shapeID&quot;: &quot;IDN-ADM2-3_0_0-B91&quot;, &quot;shapeISO&quot;: &quot;None&quot;, &quot;shapeName&quot;: &quot;Danau&quot;, &quot;shapeType&quot;: &quot;ADM2&quot;}, &quot;type&quot;: &quot;Feature&quot;}, {&quot;bbox&quot;: [124.91455078125001, 1.230374177432606, 124.93652343750001, 1.25234167669964], &quot;geometry&quot;: {&quot;coordinates&quot;: [[[124.91455078125001, 1.230374177432606], [124.91455078125001, 1.25234167669964], [124.93652343750001, 1.25234167669964], [124.93652343750001, 1.230374177432606], [124.91455078125001, 1.230374177432606]]], &quot;type&quot;: &quot;Polygon&quot;}, &quot;id&quot;: &quot;242313&quot;, &quot;properties&quot;: {&quot;quadkey&quot;: &quot;13233222110323&quot;, &quot;shapeGroup&quot;: &quot;IDN&quot;, &quot;shapeID&quot;: &quot;IDN-ADM2-3_0_0-B91&quot;, &quot;shapeISO&quot;: &quot;None&quot;, &quot;shapeName&quot;: &quot;Danau&quot;, &quot;shapeType&quot;: &quot;ADM2&quot;}, &quot;type&quot;: &quot;Feature&quot;}], &quot;type&quot;: &quot;FeatureCollection&quot;});\n",
       "\n",
       "        \n",
       "    \n",
       "    geo_json_f90bdd11c5266eb231e6b622c73f7ba7.bindTooltip(\n",
       "    function(layer){\n",
       "    let div = L.DomUtil.create(&#x27;div&#x27;);\n",
       "    \n",
       "    let handleObject = feature=&gt;typeof(feature)==&#x27;object&#x27; ? JSON.stringify(feature) : feature;\n",
       "    let fields = [&quot;quadkey&quot;, &quot;shapeName&quot;, &quot;shapeISO&quot;, &quot;shapeID&quot;, &quot;shapeGroup&quot;, &quot;shapeType&quot;];\n",
       "    let aliases = [&quot;quadkey&quot;, &quot;shapeName&quot;, &quot;shapeISO&quot;, &quot;shapeID&quot;, &quot;shapeGroup&quot;, &quot;shapeType&quot;];\n",
       "    let table = &#x27;&lt;table&gt;&#x27; +\n",
       "        String(\n",
       "        fields.map(\n",
       "        (v,i)=&gt;\n",
       "        `&lt;tr&gt;\n",
       "            &lt;th&gt;${aliases[i]}&lt;/th&gt;\n",
       "            \n",
       "            &lt;td&gt;${handleObject(layer.feature.properties[v])}&lt;/td&gt;\n",
       "        &lt;/tr&gt;`).join(&#x27;&#x27;))\n",
       "    +&#x27;&lt;/table&gt;&#x27;;\n",
       "    div.innerHTML=table;\n",
       "    \n",
       "    return div\n",
       "    }\n",
       "    ,{&quot;className&quot;: &quot;foliumtooltip&quot;, &quot;sticky&quot;: true});\n",
       "                     \n",
       "&lt;/script&gt;\n",
       "&lt;/html&gt;\" style=\"position:absolute;width:100%;height:100%;left:0;top:0;border:none !important;\" allowfullscreen webkitallowfullscreen mozallowfullscreen></iframe></div></div>"
      ],
      "text/plain": [
       "<folium.folium.Map at 0x7ff576f26ac0>"
      ]
     },
     "execution_count": 16,
     "metadata": {},
     "output_type": "execute_result"
    }
   ],
   "source": [
    "danau_gdf = admin_grids_gdf[admin_grids_gdf['shapeName'] == 'Danau']\n",
    "danau_gdf.explore()"
   ]
  },
  {
   "cell_type": "code",
   "execution_count": 17,
   "id": "c9cb3e9e",
   "metadata": {},
   "outputs": [],
   "source": [
    "admin_grids_gdf_filtered = admin_grids_gdf[admin_grids_gdf['shapeName'] != 'Danau']"
   ]
  },
  {
   "cell_type": "code",
   "execution_count": 18,
   "id": "2f3be585",
   "metadata": {},
   "outputs": [
    {
     "data": {
      "text/html": [
       "<div>\n",
       "<style scoped>\n",
       "    .dataframe tbody tr th:only-of-type {\n",
       "        vertical-align: middle;\n",
       "    }\n",
       "\n",
       "    .dataframe tbody tr th {\n",
       "        vertical-align: top;\n",
       "    }\n",
       "\n",
       "    .dataframe thead th {\n",
       "        text-align: right;\n",
       "    }\n",
       "</style>\n",
       "<table border=\"1\" class=\"dataframe\">\n",
       "  <thead>\n",
       "    <tr style=\"text-align: right;\">\n",
       "      <th></th>\n",
       "      <th>quadkey</th>\n",
       "      <th>shapeName</th>\n",
       "      <th>shapeISO</th>\n",
       "      <th>shapeID</th>\n",
       "      <th>shapeGroup</th>\n",
       "      <th>shapeType</th>\n",
       "      <th>geometry</th>\n",
       "    </tr>\n",
       "  </thead>\n",
       "  <tbody>\n",
       "    <tr>\n",
       "      <th>0</th>\n",
       "      <td>31000101131223</td>\n",
       "      <td>Nias Selatan</td>\n",
       "      <td>None</td>\n",
       "      <td>IDN-ADM2-3_0_0-B371</td>\n",
       "      <td>IDN</td>\n",
       "      <td>ADM2</td>\n",
       "      <td>POLYGON ((98.28369 -0.52734, 98.28369 -0.50536...</td>\n",
       "    </tr>\n",
       "    <tr>\n",
       "      <th>1</th>\n",
       "      <td>31000101133001</td>\n",
       "      <td>Nias Selatan</td>\n",
       "      <td>None</td>\n",
       "      <td>IDN-ADM2-3_0_0-B371</td>\n",
       "      <td>IDN</td>\n",
       "      <td>ADM2</td>\n",
       "      <td>POLYGON ((98.28369 -0.54931, 98.28369 -0.52734...</td>\n",
       "    </tr>\n",
       "    <tr>\n",
       "      <th>2</th>\n",
       "      <td>31000101131232</td>\n",
       "      <td>Nias Selatan</td>\n",
       "      <td>None</td>\n",
       "      <td>IDN-ADM2-3_0_0-B371</td>\n",
       "      <td>IDN</td>\n",
       "      <td>ADM2</td>\n",
       "      <td>POLYGON ((98.30566 -0.52734, 98.30566 -0.50536...</td>\n",
       "    </tr>\n",
       "    <tr>\n",
       "      <th>3</th>\n",
       "      <td>31000101133010</td>\n",
       "      <td>Nias Selatan</td>\n",
       "      <td>None</td>\n",
       "      <td>IDN-ADM2-3_0_0-B371</td>\n",
       "      <td>IDN</td>\n",
       "      <td>ADM2</td>\n",
       "      <td>POLYGON ((98.30566 -0.54931, 98.30566 -0.52734...</td>\n",
       "    </tr>\n",
       "    <tr>\n",
       "      <th>4</th>\n",
       "      <td>31000101131231</td>\n",
       "      <td>Nias Selatan</td>\n",
       "      <td>None</td>\n",
       "      <td>IDN-ADM2-3_0_0-B371</td>\n",
       "      <td>IDN</td>\n",
       "      <td>ADM2</td>\n",
       "      <td>POLYGON ((98.32764 -0.50536, 98.32764 -0.48339...</td>\n",
       "    </tr>\n",
       "  </tbody>\n",
       "</table>\n",
       "</div>"
      ],
      "text/plain": [
       "          quadkey     shapeName shapeISO              shapeID shapeGroup  \\\n",
       "0  31000101131223  Nias Selatan     None  IDN-ADM2-3_0_0-B371        IDN   \n",
       "1  31000101133001  Nias Selatan     None  IDN-ADM2-3_0_0-B371        IDN   \n",
       "2  31000101131232  Nias Selatan     None  IDN-ADM2-3_0_0-B371        IDN   \n",
       "3  31000101133010  Nias Selatan     None  IDN-ADM2-3_0_0-B371        IDN   \n",
       "4  31000101131231  Nias Selatan     None  IDN-ADM2-3_0_0-B371        IDN   \n",
       "\n",
       "  shapeType                                           geometry  \n",
       "0      ADM2  POLYGON ((98.28369 -0.52734, 98.28369 -0.50536...  \n",
       "1      ADM2  POLYGON ((98.28369 -0.54931, 98.28369 -0.52734...  \n",
       "2      ADM2  POLYGON ((98.30566 -0.52734, 98.30566 -0.50536...  \n",
       "3      ADM2  POLYGON ((98.30566 -0.54931, 98.30566 -0.52734...  \n",
       "4      ADM2  POLYGON ((98.32764 -0.50536, 98.32764 -0.48339...  "
      ]
     },
     "execution_count": 18,
     "metadata": {},
     "output_type": "execute_result"
    }
   ],
   "source": [
    "admin_grids_gdf_filtered.head()"
   ]
  },
  {
   "cell_type": "code",
   "execution_count": 19,
   "id": "49d34a22",
   "metadata": {},
   "outputs": [
    {
     "name": "stdout",
     "output_type": "stream",
     "text": [
      "<class 'geopandas.geodataframe.GeoDataFrame'>\n",
      "Int64Index: 340075 entries, 0 to 340121\n",
      "Data columns (total 7 columns):\n",
      " #   Column      Non-Null Count   Dtype   \n",
      "---  ------      --------------   -----   \n",
      " 0   quadkey     340075 non-null  object  \n",
      " 1   shapeName   340075 non-null  object  \n",
      " 2   shapeISO    340075 non-null  object  \n",
      " 3   shapeID     340075 non-null  object  \n",
      " 4   shapeGroup  340075 non-null  object  \n",
      " 5   shapeType   340075 non-null  object  \n",
      " 6   geometry    340075 non-null  geometry\n",
      "dtypes: geometry(1), object(6)\n",
      "memory usage: 20.8+ MB\n"
     ]
    }
   ],
   "source": [
    "admin_grids_gdf_filtered.info()"
   ]
  },
  {
   "cell_type": "markdown",
   "id": "2540c5a1",
   "metadata": {},
   "source": [
    "## Process each grid based on `shapeName`"
   ]
  },
  {
   "cell_type": "code",
   "execution_count": 20,
   "id": "19daa950",
   "metadata": {},
   "outputs": [
    {
     "data": {
      "text/plain": [
       "518"
      ]
     },
     "execution_count": 20,
     "metadata": {},
     "output_type": "execute_result"
    }
   ],
   "source": [
    "area_list = admin_grids_gdf_filtered['shapeID'].unique()\n",
    "len(area_list)"
   ]
  },
  {
   "cell_type": "code",
   "execution_count": 21,
   "id": "1ee812c3",
   "metadata": {},
   "outputs": [],
   "source": [
    "# area_pop_count_df_list = []\n",
    "# with rio.open(hdx_pop_file) as dst:\n",
    "#     for area in tqdm(area_list):\n",
    "#         area_grids_gdf = (\n",
    "#             admin_grids_gdf[admin_grids_gdf[\"shapeID\"] == area]\n",
    "#             .reset_index(drop=True)\n",
    "#             .copy()\n",
    "#         )\n",
    "\n",
    "#         # Get geometries and bounds for the specified area\n",
    "#         area_bounds = area_grids_gdf.total_bounds\n",
    "#         left, bottom, right, top = area_bounds\n",
    "\n",
    "#         # Get the data (np.array, affine transform) for the\n",
    "#         # window specified by the area bounds\n",
    "#         window = rio.windows.from_bounds(left, bottom, right, top, dst.transform)\n",
    "#         window_transform = dst.window_transform(window)\n",
    "#         area_population = dst.read(1, window=window)\n",
    "#         area_population = np.float32(area_population)\n",
    "\n",
    "#         # Sum up the population counts for each grid in area_grids_gdf\n",
    "#         # and store as a column 'pop_count'\n",
    "#         area_grids_gdf[\"pop_count\"] = pd.DataFrame(\n",
    "#             zonal_stats(\n",
    "#                 vectors=area_grids_gdf,\n",
    "#                 raster=area_population,\n",
    "#                 affine=window_transform,\n",
    "#                 stats=\"sum\",\n",
    "#                 all_touched=True,\n",
    "#                 nodata=np.nan,\n",
    "#             )\n",
    "#         )[\"sum\"].fillna(0, inplace=True)\n",
    "\n",
    "#         # Get dataframe containing quadkey and pop_count\n",
    "#         area_pop_count_df = area_grids_gdf[[\"quadkey\", \"pop_count\"]]\n",
    "#         area_pop_count_df_list.append(area_pop_count_df)\n",
    "\n",
    "# pop_count = pd.concat(area_pop_count_df_list)\n"
   ]
  },
  {
   "cell_type": "code",
   "execution_count": 22,
   "id": "f2024ebb-7f05-4883-ac12-7eb22bd05bdb",
   "metadata": {},
   "outputs": [
    {
     "data": {
      "text/plain": [
       "2"
      ]
     },
     "execution_count": 22,
     "metadata": {},
     "output_type": "execute_result"
    }
   ],
   "source": [
    "1+1"
   ]
  },
  {
   "cell_type": "code",
   "execution_count": 23,
   "id": "017886b6",
   "metadata": {},
   "outputs": [
    {
     "name": "stderr",
     "output_type": "stream",
     "text": [
      "  9%|▉         | 47/518 [03:39<12:21,  1.58s/it]  "
     ]
    }
   ],
   "source": [
    "CHUNK_SIZE = 1000\n",
    "area_pop_count_df_list = []\n",
    "with rio.open(hdx_pop_file) as dst:\n",
    "    for area in tqdm(area_list):\n",
    "        area_grids_gdf = (\n",
    "            admin_grids_gdf[admin_grids_gdf[\"shapeID\"] == area]\n",
    "            .reset_index(drop=True)\n",
    "            .copy()\n",
    "        )\n",
    "\n",
    "        # Loop through area in chunks\n",
    "        for chunk_num in range(len(area_grids_gdf) // CHUNK_SIZE + 1):\n",
    "            \n",
    "            start_index = chunk_num*CHUNK_SIZE\n",
    "            end_index = min(chunk_num*CHUNK_SIZE + CHUNK_SIZE, len(area_grids_gdf))\n",
    "            chunk_area_grids_gdf = area_grids_gdf[start_index:end_index].copy()\n",
    "            \n",
    "            # Get geometries and bounds for the specified chunk\n",
    "            chunk_bounds = area_grids_gdf.total_bounds\n",
    "            left, bottom, right, top = chunk_bounds\n",
    "\n",
    "            # Get the data (np.array, affine transform) for the\n",
    "            # window specified by the chunk bounds\n",
    "            window = rio.windows.from_bounds(left, bottom, right, top, dst.transform)\n",
    "            window_transform = dst.window_transform(window)\n",
    "            chunk_population = dst.read(1, window=window)\n",
    "            chunk_population = np.float32(chunk_population)\n",
    "\n",
    "            # Sum up the population counts for each grid in area_grids_gdf\n",
    "            # and store as a column 'pop_count'\n",
    "            chunk_area_grids_gdf[\"pop_count\"] = pd.DataFrame(\n",
    "                zonal_stats(\n",
    "                    vectors=chunk_area_grids_gdf,\n",
    "                    raster=chunk_population,\n",
    "                    affine=window_transform,\n",
    "                    stats=\"sum\",\n",
    "                    all_touched=True,\n",
    "                    nodata=np.nan,\n",
    "                )\n",
    "            )[\"sum\"]\n",
    "\n",
    "            chunk_area_pop_count_df = chunk_area_grids_gdf[[\"quadkey\", \"pop_count\"]]\n",
    "            area_pop_count_df_list.append(chunk_area_pop_count_df)\n",
    "\n",
    "# Combine populuation count dataframes\n",
    "pop_count = pd.concat(area_pop_count_df_list)\n"
   ]
  },
  {
   "cell_type": "code",
   "execution_count": null,
   "id": "010ce8f4",
   "metadata": {},
   "outputs": [],
   "source": [
    "pop_count = pd.concat(area_pop_count_df_list)\n",
    "pop_count"
   ]
  },
  {
   "cell_type": "code",
   "execution_count": null,
   "id": "e1f5841f",
   "metadata": {},
   "outputs": [],
   "source": [
    "len(area_grids_gdf)"
   ]
  }
 ],
 "metadata": {
  "kernelspec": {
   "display_name": "Python 3 (ipykernel)",
   "language": "python",
   "name": "python3"
  },
  "language_info": {
   "codemirror_mode": {
    "name": "ipython",
    "version": 3
   },
   "file_extension": ".py",
   "mimetype": "text/x-python",
   "name": "python",
   "nbconvert_exporter": "python",
   "pygments_lexer": "ipython3",
   "version": "3.9.16"
  }
 },
 "nbformat": 4,
 "nbformat_minor": 5
}

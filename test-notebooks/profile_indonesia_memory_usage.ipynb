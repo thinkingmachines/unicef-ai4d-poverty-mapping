{
 "cells": [
  {
   "cell_type": "markdown",
   "id": "7f77a208-5160-4178-a1e9-acde30651ae6",
   "metadata": {},
   "source": [
    "---\n",
    "title: Indonesia Model Rollout Part 1 (Compute Per-country Populated Grids) \n",
    "format:\n",
    "  html:\n",
    "    code-fold: false\n",
    "---"
   ]
  },
  {
   "cell_type": "markdown",
   "id": "7530a5c3-aa35-49fc-8b97-1cfa2e43166a",
   "metadata": {
    "tags": []
   },
   "source": [
    "### Import packages"
   ]
  },
  {
   "cell_type": "code",
   "execution_count": 1,
   "id": "1f6da4ad-e271-4ee8-bcdc-203c761b60fe",
   "metadata": {},
   "outputs": [],
   "source": [
    "%matplotlib inline\n",
    "%reload_ext autoreload\n",
    "%autoreload 2"
   ]
  },
  {
   "cell_type": "code",
   "execution_count": 2,
   "id": "6e7871c6-5d2b-4034-999a-cb09c4a0b010",
   "metadata": {},
   "outputs": [],
   "source": [
    "%load_ext filprofiler\n"
   ]
  },
  {
   "cell_type": "code",
   "execution_count": 3,
   "id": "1c889424-e01d-4e6a-8f55-60e62bafd9ef",
   "metadata": {},
   "outputs": [],
   "source": [
    "from relativewealth.rollout_grids import * \n",
    "import geopandas as gpd\n",
    "import numpy as np"
   ]
  },
  {
   "cell_type": "markdown",
   "id": "e2f1201b-abf3-4b71-8be8-562bea9c3f74",
   "metadata": {
    "tags": []
   },
   "source": [
    "### Set global parameters\n"
   ]
  },
  {
   "cell_type": "code",
   "execution_count": 4,
   "id": "c8675c94-a2e4-4c8f-abf6-070a9d83ce0d",
   "metadata": {},
   "outputs": [],
   "source": [
    "REGION = 'indonesia'\n",
    "ADMIN_LVL = 'ADM2'"
   ]
  },
  {
   "cell_type": "markdown",
   "id": "da05d8b5-9c40-435e-93b6-31ed00be7565",
   "metadata": {
    "tags": []
   },
   "source": [
    "### Generate/Cache/Get per country grids"
   ]
  },
  {
   "cell_type": "code",
   "execution_count": 5,
   "id": "d84e359e-3763-4ea5-a7b7-ef7374fe96f8",
   "metadata": {},
   "outputs": [],
   "source": [
    "# get_region_filtered_bingtile_grids?"
   ]
  },
  {
   "cell_type": "code",
   "execution_count": 6,
   "id": "49737d5a-65ad-49d3-8e3e-f4e8d26aafa0",
   "metadata": {},
   "outputs": [
    {
     "name": "stderr",
     "output_type": "stream",
     "text": [
      "2023-03-01 13:03:00.779 | INFO     | relativewealth.rollout_grids:get_region_filtered_bingtile_grids:109 - Loading cached grids file /home/butchtm/.cache/geowrangler/quadkey_grids/indonesia_14_ADM2_admin_grids.geojson\n"
     ]
    },
    {
     "name": "stdout",
     "output_type": "stream",
     "text": [
      "CPU times: user 24.2 s, sys: 474 ms, total: 24.7 s\n",
      "Wall time: 24.6 s\n"
     ]
    }
   ],
   "source": [
    "%%time\n",
    "admin_grids_gdf = get_region_filtered_bingtile_grids(REGION, admin_lvl=ADMIN_LVL, filter_population=False )"
   ]
  },
  {
   "cell_type": "code",
   "execution_count": 7,
   "id": "60c06552-583d-4e08-a385-76482ddabb9d",
   "metadata": {},
   "outputs": [],
   "source": [
    "hdx_pop_file = get_hdx_file(REGION)"
   ]
  },
  {
   "cell_type": "code",
   "execution_count": 8,
   "id": "14ae7f6b-2a94-4942-b732-5ba8e8e7eb57",
   "metadata": {},
   "outputs": [],
   "source": [
    "max_batch_size=5_000\n",
    "n_workers=None"
   ]
  },
  {
   "cell_type": "code",
   "execution_count": 9,
   "id": "55e05f06-da62-4b96-adf3-44dd163f8a2a",
   "metadata": {},
   "outputs": [],
   "source": [
    "aggregation=dict(\n",
    "    column='population',\n",
    "    output='pop_count',\n",
    "    func='sum')\n",
    "extra_args=dict(nodata=np.nan)\n",
    "    "
   ]
  },
  {
   "cell_type": "code",
   "execution_count": 10,
   "id": "8c3f7b07-f718-43ef-8570-4e26637579d0",
   "metadata": {},
   "outputs": [
    {
     "name": "stderr",
     "output_type": "stream",
     "text": [
      "=fil-profile= WARNING: Fil does not (yet) support tracking memory in subprocesses.\n",
      "2023-03-01 13:03:34.865 | INFO     | relativewealth.rollout_grids:compute_raster_stats:44 - Batching call to create raster_zonal stats for 15000 grids for file size 87714317324\n",
      "2023-03-01 13:03:34.966 | INFO     | relativewealth.rollout_grids:compute_raster_stats:51 - Created 3 for 3 splits of 5000\n",
      "2023-03-01 13:03:34.968 | INFO     | relativewealth.rollout_grids:compute_raster_stats:55 - Creating raster zonal stats for batch 0 with index (0/4999)\n",
      "2023-03-01 13:10:15.006 | INFO     | relativewealth.rollout_grids:compute_raster_stats:55 - Creating raster zonal stats for batch 1 with index (0/4999)\n",
      "2023-03-01 13:17:47.584 | INFO     | relativewealth.rollout_grids:compute_raster_stats:55 - Creating raster zonal stats for batch 2 with index (0/4999)\n",
      "2023-03-01 13:23:36.012 | INFO     | relativewealth.rollout_grids:compute_raster_stats:63 - Completed raster zonal stats for 3 batches\n",
      "2023-03-01 13:23:36.109 | INFO     | relativewealth.rollout_grids:compute_raster_stats:65 - Concatenated raster zonal stats for 3 batches\n",
      "=fil-profile= Preparing to write to fil-result/tmpc22geqqd\n",
      "=fil-profile= Wrote flamegraph to \"fil-result/tmpc22geqqd/peak-memory.svg\"\n",
      "=fil-profile= Wrote flamegraph to \"fil-result/tmpc22geqqd/peak-memory-reversed.svg\"\n"
     ]
    },
    {
     "data": {
      "text/html": [
       "\n",
       "        <iframe\n",
       "            width=\"100%\"\n",
       "            height=\"600\"\n",
       "            src=\"fil-result/tmpc22geqqd/peak-memory.svg\"\n",
       "            frameborder=\"0\"\n",
       "            allowfullscreen\n",
       "            \n",
       "        ></iframe>\n",
       "        "
      ],
      "text/plain": [
       "<IPython.lib.display.IFrame at 0x5555827ad680>"
      ]
     },
     "metadata": {},
     "output_type": "display_data"
    }
   ],
   "source": [
    "%%filprofile\n",
    "admin_grids_result = compute_raster_stats(admin_grids_gdf.iloc[:15_000], hdx_pop_file,\n",
    "                                         aggregation=aggregation,\n",
    "                                         extra_args=extra_args,\n",
    "                                         max_batch_size=max_batch_size,\n",
    "                                         n_workers=n_workers)\n"
   ]
  },
  {
   "cell_type": "code",
   "execution_count": null,
   "id": "f0bf1d27-8cf0-4214-8720-3aa195ba3aa3",
   "metadata": {},
   "outputs": [],
   "source": [
    "%%time\n",
    "# admin_grids_gdf = get_region_filtered_bingtile_grids(REGION, admin_lvl=ADMIN_LVL,  )"
   ]
  },
  {
   "cell_type": "code",
   "execution_count": null,
   "id": "42b49b9e-4cc0-4f39-945f-51272910218b",
   "metadata": {},
   "outputs": [],
   "source": [
    "%%time\n",
    "# admin_grids_gdf = get_region_filtered_bingtile_grids(REGION, admin_lvl=ADMIN_LVL, max_batch_size=5_000 )"
   ]
  },
  {
   "cell_type": "code",
   "execution_count": null,
   "id": "53073d8b-ac61-4617-8d0d-f59526104009",
   "metadata": {},
   "outputs": [],
   "source": [
    "len(admin_grids_gdf)"
   ]
  },
  {
   "cell_type": "markdown",
   "id": "39bd9da3-8a30-4cc5-af15-cd7de0634c9e",
   "metadata": {
    "tags": []
   },
   "source": [
    "### Explore per country populated grids"
   ]
  },
  {
   "cell_type": "code",
   "execution_count": null,
   "id": "6100a0d7-7e0e-4f8f-b39c-9700487f617a",
   "metadata": {},
   "outputs": [],
   "source": [
    "# admin_grids_gdf.explore()\n",
    "# admin_grids_gdf.plot()\n"
   ]
  },
  {
   "cell_type": "code",
   "execution_count": null,
   "id": "dc7df486-8dd9-404f-965b-1d402044b1d7",
   "metadata": {},
   "outputs": [],
   "source": [
    "# admin_grids_gdf.columns"
   ]
  },
  {
   "cell_type": "code",
   "execution_count": null,
   "id": "f627fff2-3c0f-4e0a-9cb5-88fc251aa4e4",
   "metadata": {},
   "outputs": [],
   "source": [
    "admin_grids_gdf.head()"
   ]
  },
  {
   "cell_type": "code",
   "execution_count": null,
   "id": "22998327-6afa-46af-bebb-37fdc058fff5",
   "metadata": {},
   "outputs": [],
   "source": [
    "admin_grids_gdf.info()"
   ]
  },
  {
   "cell_type": "code",
   "execution_count": null,
   "id": "a1064aae-3317-424d-aa9f-f03dda831f9f",
   "metadata": {},
   "outputs": [],
   "source": []
  }
 ],
 "metadata": {
  "kernelspec": {
   "display_name": "Python 3 with Fil",
   "language": "python",
   "name": "filprofile"
  },
  "language_info": {
   "codemirror_mode": {
    "name": "ipython",
    "version": 3
   },
   "file_extension": ".py",
   "mimetype": "text/x-python",
   "name": "python",
   "nbconvert_exporter": "python",
   "pygments_lexer": "ipython3",
   "version": "3.9.16"
  }
 },
 "nbformat": 4,
 "nbformat_minor": 5
}

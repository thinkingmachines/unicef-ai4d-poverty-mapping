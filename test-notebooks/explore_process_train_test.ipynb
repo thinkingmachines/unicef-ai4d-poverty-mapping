{
 "cells": [
  {
   "cell_type": "raw",
   "id": "86b17401-c0cb-4a8e-ba0c-44a6aab4a38c",
   "metadata": {},
   "source": [
    "---\n",
    "title: Explore Process TrainTest on Test Data \n",
    "format:\n",
    "  html:\n",
    "    code-fold: false\n",
    "---"
   ]
  },
  {
   "cell_type": "markdown",
   "id": "993b7544-dbb2-4762-9270-825ebdca0a62",
   "metadata": {
    "tags": []
   },
   "source": [
    "> exploration of the sample train test data in `test_data/inputs/inputs/tl/prepare_train_test_tl` \n"
   ]
  },
  {
   "cell_type": "code",
   "execution_count": 1,
   "id": "c2b67124-951b-4675-bb47-76ef61578a89",
   "metadata": {
    "tags": []
   },
   "outputs": [],
   "source": [
    "%reload_ext autoreload\n",
    "%autoreload 2"
   ]
  },
  {
   "cell_type": "code",
   "execution_count": 2,
   "id": "c3f9a246-e3d7-4f25-8f01-012bafd64a1f",
   "metadata": {},
   "outputs": [
    {
     "name": "stderr",
     "output_type": "stream",
     "text": [
      "/home/jc_tm/project_repos/unicef-ai4d-poverty-mapping/env/lib/python3.9/site-packages/geopandas/_compat.py:111: UserWarning: The Shapely GEOS version (3.10.3-CAPI-1.16.1) is incompatible with the GEOS version PyGEOS was compiled with (3.10.1-CAPI-1.16.0). Conversions between both will be slow.\n",
      "  warnings.warn(\n"
     ]
    }
   ],
   "source": [
    "import pandas as pd\n",
    "import geopandas as gpd\n",
    "import shutil\n",
    "from pathlib import Path\n",
    "import os"
   ]
  },
  {
   "cell_type": "code",
   "execution_count": 3,
   "id": "98331472-4d60-4468-b8c9-767ffcb228b4",
   "metadata": {},
   "outputs": [],
   "source": [
    "import povertymapping.process_train_test as ptrain"
   ]
  },
  {
   "cell_type": "code",
   "execution_count": 4,
   "id": "7fcd2936-832a-49d8-b678-8356801c4135",
   "metadata": {},
   "outputs": [],
   "source": [
    "import sys"
   ]
  },
  {
   "cell_type": "markdown",
   "id": "0dc2365e-5197-4914-9d6d-a31c2e7316de",
   "metadata": {
    "tags": []
   },
   "source": [
    "### Configuration \n",
    "> setup a  configuration object (which can be dictionary or any dict-like object)"
   ]
  },
  {
   "cell_type": "markdown",
   "id": "881505c7-55c8-4b82-945d-c074d783cce4",
   "metadata": {},
   "source": [
    "The dhs configuration assumes a file structure like the following:\n",
    "\n",
    "* These output files will be created\n",
    "\n",
    "```\n",
    "+ \n",
    "+save_path +\n",
    "           + data_final.pkl  # the preprocessed dataset for model training \n",
    "           + <dhs_geo_zip_folder>_labels.pkl  # the preprocessed labels for model training\n",
    "           + <dhs_geo_zip_folder>_features.pkl  # the preprocessed labels for model training\n",
    "```"
   ]
  },
  {
   "cell_type": "markdown",
   "id": "3661fdcc-481e-4765-90f3-c80ad21ff279",
   "metadata": {},
   "source": [
    "* The input files are required:\n",
    "\n",
    "```\n",
    "+save_path +\n",
    "           + <dhs_geo_zip_folder>_cluster_coords.csv # the geotagged cluster data \n",
    "           + <dhs_geo_zip_folder>_cluster_coords_osm_agg.csv # the aggregated osm data\n",
    "           + <ntl_path>  # the aggregated night lights data.\n",
    "               \n",
    "```"
   ]
  },
  {
   "cell_type": "code",
   "execution_count": 5,
   "id": "2e6b8328-40c5-4454-aa7d-79e27446d5e0",
   "metadata": {},
   "outputs": [],
   "source": [
    "config = dict(\n",
    "        save_path=\"../test_data/test_outputs/tl\", # output directory\n",
    "        dhs_geo_zip_folder=\"TLGE71FL\", # folder holding DHS shape files\n",
    "        use_ntl=True,\n",
    "        use_filt_clt=False,\n",
    "        multiprocess=False,\n",
    "        ntl_path = \"TLGE71FL_cluster_coords_gee_agg.csv\",\n",
    "        sample=False,\n",
    "        no_samples=60,\n",
    "        random_sample=False,\n",
    "        random_seed=42,\n",
    "        crs=\"4683\",\n",
    "        clust_rad=2000\n",
    "\n",
    "    )\n",
    "\n",
    "# you can also create a yaml file or json file\n",
    "# and load it in."
   ]
  },
  {
   "cell_type": "markdown",
   "id": "5eaba4d5-5f28-49ae-8fa0-fe6fc4babfcc",
   "metadata": {},
   "source": [
    "Run the `process_ookla_data`, passing your config object"
   ]
  },
  {
   "cell_type": "code",
   "execution_count": 6,
   "id": "13a81482-d738-494b-9a1b-6725373b7493",
   "metadata": {},
   "outputs": [],
   "source": [
    "# uncomment and run the following to clear out the preprocessed files \n",
    "# !rm -rf {config['save_path']}\n",
    "# !mkdir -p {config['save_path']}"
   ]
  },
  {
   "cell_type": "code",
   "execution_count": 7,
   "id": "32bfa77f-59c2-4ddd-8eff-f78e9cb7a329",
   "metadata": {},
   "outputs": [],
   "source": [
    "save_path = config['save_path']"
   ]
  },
  {
   "cell_type": "code",
   "execution_count": 8,
   "id": "402dbebb-6ab7-4d52-9853-c390252aeea0",
   "metadata": {},
   "outputs": [],
   "source": [
    "# shutil.rmtree(save_path, ignore_errors=True)\n",
    "# #\n",
    "# os.makedirs(Path(save_path))\n",
    "# # copy dhs preproc data from output of tl process_dhs_data - TLGE71FL_cluster_coords.csv to save path\n",
    "# shutil.copy(\"../data/outputs/dhs_tl/TLGE71FL_cluster_coords.csv\",(Path(save_path)/\"TLGE71FL_cluster_coords.csv\").as_posix())\n",
    "# shutil.copy(\"../data/outputs/osm_tl/TLGE71FL_cluster_coords_osm_agg.csv\",(Path(save_path)/\"TLGE71FL_cluster_coords_osm_agg.csv\").as_posix())\n",
    "# shutil.copy(\"../data/outputs/ntl_tl/TLGE71FL_cluster_coords_gee_agg.csv\",(Path(save_path)/\"TLGE71FL_cluster_coords_gee_agg.csv\").as_posix())\n",
    "# shutil.copy(\"../test_data/inputs/tl/prepare_train_tl/data_labels.csv\",(Path(save_path)/\"data_labels.csv\").as_posix())\n"
   ]
  },
  {
   "cell_type": "code",
   "execution_count": 9,
   "id": "de60847e-d52f-438e-8ef9-9b5013516f2f",
   "metadata": {
    "tags": []
   },
   "outputs": [],
   "source": [
    "# !cp ../data/outputs/dhs_tl/{ookla_config['dhs_geo_zip_folder']}_cluster_coords.csv {ookla_config['save_path']}/."
   ]
  },
  {
   "cell_type": "code",
   "execution_count": 10,
   "id": "2b0e3f5f-f368-4377-88e8-712a6986a2dc",
   "metadata": {},
   "outputs": [
    {
     "name": "stdout",
     "output_type": "stream",
     "text": [
      "CPU times: user 2 µs, sys: 1 µs, total: 3 µs\n",
      "Wall time: 7.39 µs\n"
     ]
    }
   ],
   "source": [
    "%%time\n",
    "# ptrain.process_train_test(config)"
   ]
  },
  {
   "cell_type": "markdown",
   "id": "30db0c2e-7f9a-4c51-a521-5f170d9e8cdd",
   "metadata": {},
   "source": [
    "Check that the preprocessed files have been created"
   ]
  },
  {
   "cell_type": "code",
   "execution_count": 11,
   "id": "e210f464-7532-4c12-91ae-f13f6f4c78ee",
   "metadata": {},
   "outputs": [],
   "source": [
    "from pathlib import Path"
   ]
  },
  {
   "cell_type": "code",
   "execution_count": 12,
   "id": "292b0cf9-eb7b-4db0-87c5-81671cba390d",
   "metadata": {},
   "outputs": [],
   "source": [
    "final_df = pd.read_pickle(Path(config['save_path'])/'data_final.pkl')"
   ]
  },
  {
   "cell_type": "code",
   "execution_count": 13,
   "id": "904a7e47-127e-4cea-98dc-6d5937580be3",
   "metadata": {},
   "outputs": [
    {
     "data": {
      "text/plain": [
       "455"
      ]
     },
     "execution_count": 13,
     "metadata": {},
     "output_type": "execute_result"
    }
   ],
   "source": [
    "len(final_df)"
   ]
  },
  {
   "cell_type": "code",
   "execution_count": 14,
   "id": "ca45a167-24fd-4494-be52-5642e39076c3",
   "metadata": {},
   "outputs": [
    {
     "data": {
      "text/html": [
       "<div>\n",
       "<style scoped>\n",
       "    .dataframe tbody tr th:only-of-type {\n",
       "        vertical-align: middle;\n",
       "    }\n",
       "\n",
       "    .dataframe tbody tr th {\n",
       "        vertical-align: top;\n",
       "    }\n",
       "\n",
       "    .dataframe thead th {\n",
       "        text-align: right;\n",
       "    }\n",
       "</style>\n",
       "<table border=\"1\" class=\"dataframe\">\n",
       "  <thead>\n",
       "    <tr style=\"text-align: right;\">\n",
       "      <th></th>\n",
       "      <th>DHSID</th>\n",
       "      <th>Wealth Index</th>\n",
       "      <th>sur_refl_b01_min</th>\n",
       "      <th>avg_rad_kurtosis</th>\n",
       "      <th>sur_refl_b02_var</th>\n",
       "      <th>Unnamed: 0</th>\n",
       "      <th>avg_rad_min</th>\n",
       "      <th>sur_refl_b02_mean</th>\n",
       "      <th>sur_refl_b01_mean</th>\n",
       "      <th>sur_refl_b01_var</th>\n",
       "      <th>...</th>\n",
       "      <th>camp_site_count</th>\n",
       "      <th>city_count</th>\n",
       "      <th>convenience_count</th>\n",
       "      <th>supermarket_count</th>\n",
       "      <th>car_repair_count</th>\n",
       "      <th>department_store_count</th>\n",
       "      <th>computer_count</th>\n",
       "      <th>playground_count</th>\n",
       "      <th>monument_count</th>\n",
       "      <th>avg_d_mbps</th>\n",
       "    </tr>\n",
       "  </thead>\n",
       "  <tbody>\n",
       "    <tr>\n",
       "      <th>0</th>\n",
       "      <td>TL201600000001</td>\n",
       "      <td>32166.600000</td>\n",
       "      <td>320</td>\n",
       "      <td>1.920641</td>\n",
       "      <td>1.447538e+06</td>\n",
       "      <td>0</td>\n",
       "      <td>0.000000</td>\n",
       "      <td>3488.282958</td>\n",
       "      <td>1675.051447</td>\n",
       "      <td>2.825906e+06</td>\n",
       "      <td>...</td>\n",
       "      <td>0</td>\n",
       "      <td>0</td>\n",
       "      <td>0</td>\n",
       "      <td>0</td>\n",
       "      <td>0</td>\n",
       "      <td>0</td>\n",
       "      <td>0</td>\n",
       "      <td>0</td>\n",
       "      <td>0</td>\n",
       "      <td>0.0</td>\n",
       "    </tr>\n",
       "    <tr>\n",
       "      <th>1</th>\n",
       "      <td>TL201600000002</td>\n",
       "      <td>-34063.923077</td>\n",
       "      <td>280</td>\n",
       "      <td>1.982492</td>\n",
       "      <td>1.821108e+06</td>\n",
       "      <td>1</td>\n",
       "      <td>-0.062518</td>\n",
       "      <td>3373.077170</td>\n",
       "      <td>1765.601286</td>\n",
       "      <td>3.146018e+06</td>\n",
       "      <td>...</td>\n",
       "      <td>0</td>\n",
       "      <td>0</td>\n",
       "      <td>0</td>\n",
       "      <td>0</td>\n",
       "      <td>0</td>\n",
       "      <td>0</td>\n",
       "      <td>0</td>\n",
       "      <td>0</td>\n",
       "      <td>0</td>\n",
       "      <td>0.0</td>\n",
       "    </tr>\n",
       "    <tr>\n",
       "      <th>2</th>\n",
       "      <td>TL201600000003</td>\n",
       "      <td>39230.590909</td>\n",
       "      <td>316</td>\n",
       "      <td>0.757446</td>\n",
       "      <td>1.588555e+06</td>\n",
       "      <td>2</td>\n",
       "      <td>0.000000</td>\n",
       "      <td>3297.003215</td>\n",
       "      <td>1680.636656</td>\n",
       "      <td>2.779579e+06</td>\n",
       "      <td>...</td>\n",
       "      <td>0</td>\n",
       "      <td>0</td>\n",
       "      <td>0</td>\n",
       "      <td>0</td>\n",
       "      <td>0</td>\n",
       "      <td>0</td>\n",
       "      <td>0</td>\n",
       "      <td>0</td>\n",
       "      <td>0</td>\n",
       "      <td>0.0</td>\n",
       "    </tr>\n",
       "    <tr>\n",
       "      <th>3</th>\n",
       "      <td>TL201600000004</td>\n",
       "      <td>-82140.227273</td>\n",
       "      <td>209</td>\n",
       "      <td>0.531066</td>\n",
       "      <td>2.128854e+06</td>\n",
       "      <td>3</td>\n",
       "      <td>-0.089588</td>\n",
       "      <td>3774.241158</td>\n",
       "      <td>2036.620579</td>\n",
       "      <td>4.333556e+06</td>\n",
       "      <td>...</td>\n",
       "      <td>0</td>\n",
       "      <td>0</td>\n",
       "      <td>0</td>\n",
       "      <td>0</td>\n",
       "      <td>0</td>\n",
       "      <td>0</td>\n",
       "      <td>0</td>\n",
       "      <td>0</td>\n",
       "      <td>0</td>\n",
       "      <td>0.0</td>\n",
       "    </tr>\n",
       "    <tr>\n",
       "      <th>4</th>\n",
       "      <td>TL201600000005</td>\n",
       "      <td>-56203.423077</td>\n",
       "      <td>220</td>\n",
       "      <td>-1.021963</td>\n",
       "      <td>1.713456e+06</td>\n",
       "      <td>4</td>\n",
       "      <td>-0.019353</td>\n",
       "      <td>3708.511254</td>\n",
       "      <td>1824.990354</td>\n",
       "      <td>3.674980e+06</td>\n",
       "      <td>...</td>\n",
       "      <td>0</td>\n",
       "      <td>0</td>\n",
       "      <td>0</td>\n",
       "      <td>0</td>\n",
       "      <td>0</td>\n",
       "      <td>0</td>\n",
       "      <td>0</td>\n",
       "      <td>0</td>\n",
       "      <td>0</td>\n",
       "      <td>0.0</td>\n",
       "    </tr>\n",
       "  </tbody>\n",
       "</table>\n",
       "<p>5 rows × 60 columns</p>\n",
       "</div>"
      ],
      "text/plain": [
       "            DHSID  Wealth Index  sur_refl_b01_min  avg_rad_kurtosis  \\\n",
       "0  TL201600000001  32166.600000               320          1.920641   \n",
       "1  TL201600000002 -34063.923077               280          1.982492   \n",
       "2  TL201600000003  39230.590909               316          0.757446   \n",
       "3  TL201600000004 -82140.227273               209          0.531066   \n",
       "4  TL201600000005 -56203.423077               220         -1.021963   \n",
       "\n",
       "   sur_refl_b02_var  Unnamed: 0  avg_rad_min  sur_refl_b02_mean  \\\n",
       "0      1.447538e+06           0     0.000000        3488.282958   \n",
       "1      1.821108e+06           1    -0.062518        3373.077170   \n",
       "2      1.588555e+06           2     0.000000        3297.003215   \n",
       "3      2.128854e+06           3    -0.089588        3774.241158   \n",
       "4      1.713456e+06           4    -0.019353        3708.511254   \n",
       "\n",
       "   sur_refl_b01_mean  sur_refl_b01_var  ...  camp_site_count  city_count  \\\n",
       "0        1675.051447      2.825906e+06  ...                0           0   \n",
       "1        1765.601286      3.146018e+06  ...                0           0   \n",
       "2        1680.636656      2.779579e+06  ...                0           0   \n",
       "3        2036.620579      4.333556e+06  ...                0           0   \n",
       "4        1824.990354      3.674980e+06  ...                0           0   \n",
       "\n",
       "   convenience_count  supermarket_count  car_repair_count  \\\n",
       "0                  0                  0                 0   \n",
       "1                  0                  0                 0   \n",
       "2                  0                  0                 0   \n",
       "3                  0                  0                 0   \n",
       "4                  0                  0                 0   \n",
       "\n",
       "   department_store_count  computer_count  playground_count  monument_count  \\\n",
       "0                       0               0                 0               0   \n",
       "1                       0               0                 0               0   \n",
       "2                       0               0                 0               0   \n",
       "3                       0               0                 0               0   \n",
       "4                       0               0                 0               0   \n",
       "\n",
       "   avg_d_mbps  \n",
       "0         0.0  \n",
       "1         0.0  \n",
       "2         0.0  \n",
       "3         0.0  \n",
       "4         0.0  \n",
       "\n",
       "[5 rows x 60 columns]"
      ]
     },
     "execution_count": 14,
     "metadata": {},
     "output_type": "execute_result"
    }
   ],
   "source": [
    "final_df.head()"
   ]
  },
  {
   "cell_type": "code",
   "execution_count": 15,
   "id": "2f459d8c-89f7-4eeb-975f-064c9d5d7a7e",
   "metadata": {},
   "outputs": [],
   "source": [
    "data_labels_df = pd.read_csv(Path(save_path)/'data_labels.csv')"
   ]
  },
  {
   "cell_type": "code",
   "execution_count": 17,
   "id": "7eec0405-9acd-4318-ab45-7ccb3ea92143",
   "metadata": {},
   "outputs": [
    {
     "data": {
      "text/plain": [
       "Index(['Unnamed: 0', 'DHSCLUST', 'Wealth Index', 'DHSID', 'avg_d_mbps',\n",
       "       'avg_rad_min', 'avg_rad_max', 'avg_rad_mean', 'avg_rad_median',\n",
       "       'avg_rad_kurtosis', 'avg_rad_var', 'sur_refl_b01_min',\n",
       "       'sur_refl_b01_max', 'sur_refl_b01_mean', 'sur_refl_b01_median',\n",
       "       'sur_refl_b01_kurtosis', 'sur_refl_b01_var', 'sur_refl_b02_min',\n",
       "       'sur_refl_b02_max', 'sur_refl_b02_mean', 'sur_refl_b02_median',\n",
       "       'sur_refl_b02_kurtosis', 'sur_refl_b02_var', 'ST_B6_min', 'ST_B6_max',\n",
       "       'ST_B6_mean', 'ST_B6_median', 'ST_B6_kurtosis', 'ST_B6_var',\n",
       "       'ST_ATRAN_min', 'ST_ATRAN_max', 'ST_ATRAN_mean', 'ST_ATRAN_median',\n",
       "       'ST_ATRAN_kurtosis', 'ST_ATRAN_var', 'ST_QA_min', 'ST_QA_max',\n",
       "       'ST_QA_mean', 'ST_QA_median', 'ST_QA_kurtosis', 'ST_QA_var',\n",
       "       'longitude', 'latitude', 'building_ct', 'no_roads', 'no_primary_roads',\n",
       "       'no_trunk_roads', 'marketplace_count', 'charging_station_count',\n",
       "       'post_box_count', 'post_office_count', 'pharmacy_count',\n",
       "       'hospital_count', 'dentist_count', 'restaurant_count',\n",
       "       'food_court_count', 'cafe_count', 'fast_food_count', 'police_count',\n",
       "       'townhall_count', 'fire_station_count', 'social_facility_count',\n",
       "       'courthouse_count', 'fuel_count', 'bus_station_count', 'bank_count',\n",
       "       'atm_count', 'library_count', 'helipad_count', 'aerodrome_count',\n",
       "       'subway_entrance_count', 'hotel_count', 'camp_site_count', 'city_count',\n",
       "       'convenience_count', 'supermarket_count', 'car_repair_count',\n",
       "       'department_store_count', 'computer_count', 'playground_count',\n",
       "       'monument_count'],\n",
       "      dtype='object')"
      ]
     },
     "execution_count": 17,
     "metadata": {},
     "output_type": "execute_result"
    }
   ],
   "source": [
    "data_labels_df.columns"
   ]
  },
  {
   "cell_type": "code",
   "execution_count": null,
   "id": "e6180054-7806-4f59-96bf-b31d485dee48",
   "metadata": {},
   "outputs": [],
   "source": []
  }
 ],
 "metadata": {
  "kernelspec": {
   "display_name": "Python 3",
   "language": "python",
   "name": "python3"
  },
  "language_info": {
   "codemirror_mode": {
    "name": "ipython",
    "version": 3
   },
   "file_extension": ".py",
   "mimetype": "text/x-python",
   "name": "python",
   "nbconvert_exporter": "python",
   "pygments_lexer": "ipython3",
   "version": "3.9.13"
  },
  "vscode": {
   "interpreter": {
    "hash": "a9c652687746b7e37dd5eba4a53c758a3d21cd9cb60962b6bb30d0de25d1ae14"
   }
  }
 },
 "nbformat": 4,
 "nbformat_minor": 5
}

{
 "cells": [
  {
   "cell_type": "markdown",
   "id": "7f77a208-5160-4178-a1e9-acde30651ae6",
   "metadata": {},
   "source": [
    "---\n",
    "title: Timor Leste Model Rollout Part 1 (Compute Per-country Populated Grids) \n",
    "format:\n",
    "  html:\n",
    "    code-fold: false\n",
    "---"
   ]
  },
  {
   "cell_type": "markdown",
   "id": "7530a5c3-aa35-49fc-8b97-1cfa2e43166a",
   "metadata": {
    "tags": []
   },
   "source": [
    "### Import packages"
   ]
  },
  {
   "cell_type": "code",
   "execution_count": 1,
   "id": "1f6da4ad-e271-4ee8-bcdc-203c761b60fe",
   "metadata": {},
   "outputs": [],
   "source": [
    "%matplotlib inline\n",
    "%reload_ext autoreload\n",
    "%autoreload 2"
   ]
  },
  {
   "cell_type": "code",
   "execution_count": 3,
   "id": "1c889424-e01d-4e6a-8f55-60e62bafd9ef",
   "metadata": {},
   "outputs": [],
   "source": [
    "import sys\n",
    "sys.path.append(\"../../\")\n",
    "from relativewealth.rollout_grids import get_region_filtered_bingtile_grids \n",
    "import geopandas as gpd\n"
   ]
  },
  {
   "cell_type": "markdown",
   "id": "e2f1201b-abf3-4b71-8be8-562bea9c3f74",
   "metadata": {
    "tags": []
   },
   "source": [
    "### Set global parameters\n"
   ]
  },
  {
   "cell_type": "code",
   "execution_count": 4,
   "id": "c8675c94-a2e4-4c8f-abf6-070a9d83ce0d",
   "metadata": {},
   "outputs": [],
   "source": [
    "REGION = 'timor-leste'\n",
    "ADMIN_LVL = 'ADM2'"
   ]
  },
  {
   "cell_type": "markdown",
   "id": "da05d8b5-9c40-435e-93b6-31ed00be7565",
   "metadata": {
    "tags": []
   },
   "source": [
    "### Generate/Cache/Get per country grids"
   ]
  },
  {
   "cell_type": "code",
   "execution_count": 5,
   "id": "d84e359e-3763-4ea5-a7b7-ef7374fe96f8",
   "metadata": {},
   "outputs": [
    {
     "data": {
      "text/plain": [
       "\u001b[0;31mSignature:\u001b[0m\n",
       "\u001b[0mget_region_filtered_bingtile_grids\u001b[0m\u001b[0;34m(\u001b[0m\u001b[0;34m\u001b[0m\n",
       "\u001b[0;34m\u001b[0m    \u001b[0mregion\u001b[0m\u001b[0;34m:\u001b[0m \u001b[0mstr\u001b[0m\u001b[0;34m,\u001b[0m\u001b[0;34m\u001b[0m\n",
       "\u001b[0;34m\u001b[0m    \u001b[0madmin_lvl\u001b[0m\u001b[0;34m=\u001b[0m\u001b[0;34m'ADM2'\u001b[0m\u001b[0;34m,\u001b[0m\u001b[0;34m\u001b[0m\n",
       "\u001b[0;34m\u001b[0m    \u001b[0mquadkey_lvl\u001b[0m\u001b[0;34m=\u001b[0m\u001b[0;36m14\u001b[0m\u001b[0;34m,\u001b[0m\u001b[0;34m\u001b[0m\n",
       "\u001b[0;34m\u001b[0m    \u001b[0muse_cache\u001b[0m\u001b[0;34m=\u001b[0m\u001b[0;32mTrue\u001b[0m\u001b[0;34m,\u001b[0m\u001b[0;34m\u001b[0m\n",
       "\u001b[0;34m\u001b[0m    \u001b[0mcache_dir\u001b[0m\u001b[0;34m=\u001b[0m\u001b[0;34m'~/.cache/geowrangler'\u001b[0m\u001b[0;34m,\u001b[0m\u001b[0;34m\u001b[0m\n",
       "\u001b[0;34m\u001b[0m    \u001b[0mfilter_population\u001b[0m\u001b[0;34m=\u001b[0m\u001b[0;32mTrue\u001b[0m\u001b[0;34m,\u001b[0m\u001b[0;34m\u001b[0m\n",
       "\u001b[0;34m\u001b[0m    \u001b[0massign_grid_admin_area\u001b[0m\u001b[0;34m=\u001b[0m\u001b[0;32mTrue\u001b[0m\u001b[0;34m,\u001b[0m\u001b[0;34m\u001b[0m\n",
       "\u001b[0;34m\u001b[0m    \u001b[0mmetric_crs\u001b[0m\u001b[0;34m=\u001b[0m\u001b[0;34m'epsg:3857'\u001b[0m\u001b[0;34m,\u001b[0m\u001b[0;34m\u001b[0m\n",
       "\u001b[0;34m\u001b[0m    \u001b[0mextra_args\u001b[0m\u001b[0;34m=\u001b[0m\u001b[0;34m{\u001b[0m\u001b[0;34m'nodata'\u001b[0m\u001b[0;34m:\u001b[0m \u001b[0mnan\u001b[0m\u001b[0;34m}\u001b[0m\u001b[0;34m,\u001b[0m\u001b[0;34m\u001b[0m\n",
       "\u001b[0;34m\u001b[0m\u001b[0;34m)\u001b[0m \u001b[0;34m->\u001b[0m \u001b[0mgeopandas\u001b[0m\u001b[0;34m.\u001b[0m\u001b[0mgeodataframe\u001b[0m\u001b[0;34m.\u001b[0m\u001b[0mGeoDataFrame\u001b[0m\u001b[0;34m\u001b[0m\u001b[0;34m\u001b[0m\u001b[0m\n",
       "\u001b[0;31mDocstring:\u001b[0m\n",
       "Get a geodataframe consisting of bing tile grids for a region/country at a quadkey level.\n",
       "By default, the grids are filtered by population\n",
       "Arguments:\n",
       "   region: (required) the country/region for which grids will be created\n",
       "   admin_lvl: (default: ADM2) the administrative level boundaries used for assigning the grids\n",
       "   quadkey_lvl: (default: 14) the bingtile grid size zoom level \n",
       "   use_cache: (default: True) whether to use a cached version or overwrite existing file\n",
       "   cache_dir: (default: '~/.cache/geowrangler') directory where grids geojson will be created\n",
       "   filter_population: (default: True) - whether to filter out grids with zero population counts\n",
       "   assign_grid_admin_area: (default: True) whether to merge the admin level area data to the grids data\n",
       "   metric_crs: (default: 'epsg:3857') - CRS to use for assigning for admin areas\n",
       "   extra_args: (default: dict(nodata=np.nan)) - extra arguments passed to raster zonal stats computing\n",
       "   \n",
       "\u001b[0;31mFile:\u001b[0m      ~/work/povmap/fresh-povmap/relativewealth/rollout_grids.py\n",
       "\u001b[0;31mType:\u001b[0m      function\n"
      ]
     },
     "metadata": {},
     "output_type": "display_data"
    }
   ],
   "source": [
    "get_region_filtered_bingtile_grids?"
   ]
  },
  {
   "cell_type": "code",
   "execution_count": 6,
   "id": "f0bf1d27-8cf0-4214-8720-3aa195ba3aa3",
   "metadata": {},
   "outputs": [
    {
     "name": "stderr",
     "output_type": "stream",
     "text": [
      "2023-02-23 15:45:53.162 | INFO     | relativewealth.rollout_grids:get_region_filtered_bingtile_grids:60 - Regenerating grids file /home/butchtm/.cache/geowrangler/quadkey_grids/timor-leste_14_populated_admin_grids.geojson\n",
      "2023-02-23 15:45:53.164 | DEBUG    | relativewealth.rollout_grids:get_region_filtered_bingtile_grids:62 - Loading boundaries for region timor-leste and admin level ADM2\n",
      "2023-02-23 15:45:54.286 | INFO     | relativewealth.rollout_grids:get_region_filtered_bingtile_grids:66 - Generating grids for region timor-leste and admin level ADM2 at quadkey level 14\n"
     ]
    },
    {
     "data": {
      "text/html": [
       "\n",
       "<style>\n",
       "    /* Turns off some styling */\n",
       "    progress {\n",
       "        /* gets rid of default border in Firefox and Opera. */\n",
       "        border: none;\n",
       "        /* Needs to be in here for Safari polyfill so background images work as expected. */\n",
       "        background-size: auto;\n",
       "    }\n",
       "    progress:not([value]), progress:not([value])::-webkit-progress-bar {\n",
       "        background: repeating-linear-gradient(45deg, #7e7e7e, #7e7e7e 10px, #5c5c5c 10px, #5c5c5c 20px);\n",
       "    }\n",
       "    .progress-bar-interrupted, .progress-bar-interrupted::-webkit-progress-bar {\n",
       "        background: #F44336;\n",
       "    }\n",
       "</style>\n"
      ],
      "text/plain": [
       "<IPython.core.display.HTML object>"
      ]
     },
     "metadata": {},
     "output_type": "display_data"
    },
    {
     "data": {
      "text/html": [],
      "text/plain": [
       "<IPython.core.display.HTML object>"
      ]
     },
     "metadata": {},
     "output_type": "display_data"
    },
    {
     "name": "stderr",
     "output_type": "stream",
     "text": [
      "2023-02-23 15:45:56.210 | INFO     | relativewealth.rollout_grids:get_region_filtered_bingtile_grids:70 - Generated 2811 grids for region timor-leste and admin level ADM2 at quadkey level 14\n",
      "2023-02-23 15:45:56.212 | INFO     | relativewealth.rollout_grids:get_region_filtered_bingtile_grids:74 - Assigning grids to admin areas using metric crs epsg:3857\n",
      "2023-02-23 15:45:57.087 | INFO     | relativewealth.rollout_grids:get_region_filtered_bingtile_grids:78 - Getting timor-leste population data for filtering grids\n",
      "2023-02-23 15:45:58.600 | INFO     | relativewealth.rollout_grids:get_region_filtered_bingtile_grids:80 - Computing population zonal stats per grid\n",
      "2023-02-23 15:46:18.871 | INFO     | relativewealth.rollout_grids:get_region_filtered_bingtile_grids:87 - Filtering unpopulated grids based on population data\n",
      "2023-02-23 15:46:18.877 | INFO     | relativewealth.rollout_grids:get_region_filtered_bingtile_grids:90 - Filtered admin grid count: 2024\n",
      "/home/butchtm/work/povmap/fresh-povmap/env/lib/python3.9/site-packages/geopandas/io/file.py:362: FutureWarning: pandas.Int64Index is deprecated and will be removed from pandas in a future version. Use pandas.Index with the appropriate dtype instead.\n",
      "  pd.Int64Index,\n"
     ]
    }
   ],
   "source": [
    "admin_grids_gdf = get_region_filtered_bingtile_grids(REGION, admin_lvl=ADMIN_LVL, use_cache)"
   ]
  },
  {
   "cell_type": "markdown",
   "id": "39bd9da3-8a30-4cc5-af15-cd7de0634c9e",
   "metadata": {
    "tags": []
   },
   "source": [
    "### Explore per country populated grids"
   ]
  },
  {
   "cell_type": "code",
   "execution_count": 7,
   "id": "6100a0d7-7e0e-4f8f-b39c-9700487f617a",
   "metadata": {},
   "outputs": [
    {
     "data": {
      "text/plain": [
       "<AxesSubplot: >"
      ]
     },
     "execution_count": 7,
     "metadata": {},
     "output_type": "execute_result"
    },
    {
     "data": {
      "image/png": "[encoded data removed]",
      "text/plain": [
       "<Figure size 640x480 with 1 Axes>"
      ]
     },
     "metadata": {},
     "output_type": "display_data"
    }
   ],
   "source": [
    "# admin_grids_gdf.explore()\n",
    "admin_grids_gdf.plot()\n"
   ]
  },
  {
   "cell_type": "code",
   "execution_count": 8,
   "id": "dc7df486-8dd9-404f-965b-1d402044b1d7",
   "metadata": {},
   "outputs": [
    {
     "data": {
      "text/plain": [
       "Index(['geometry', 'quadkey', 'shapeName', 'shapeISO', 'shapeID', 'shapeGroup',\n",
       "       'shapeType', 'pop_count'],\n",
       "      dtype='object')"
      ]
     },
     "execution_count": 8,
     "metadata": {},
     "output_type": "execute_result"
    }
   ],
   "source": [
    "admin_grids_gdf.columns"
   ]
  },
  {
   "cell_type": "code",
   "execution_count": 9,
   "id": "f627fff2-3c0f-4e0a-9cb5-88fc251aa4e4",
   "metadata": {},
   "outputs": [
    {
     "data": {
      "text/html": [
       "<div>\n",
       "<style scoped>\n",
       "    .dataframe tbody tr th:only-of-type {\n",
       "        vertical-align: middle;\n",
       "    }\n",
       "\n",
       "    .dataframe tbody tr th {\n",
       "        vertical-align: top;\n",
       "    }\n",
       "\n",
       "    .dataframe thead th {\n",
       "        text-align: right;\n",
       "    }\n",
       "</style>\n",
       "<table border=\"1\" class=\"dataframe\">\n",
       "  <thead>\n",
       "    <tr style=\"text-align: right;\">\n",
       "      <th></th>\n",
       "      <th>geometry</th>\n",
       "      <th>quadkey</th>\n",
       "      <th>shapeName</th>\n",
       "      <th>shapeISO</th>\n",
       "      <th>shapeID</th>\n",
       "      <th>shapeGroup</th>\n",
       "      <th>shapeType</th>\n",
       "      <th>pop_count</th>\n",
       "    </tr>\n",
       "  </thead>\n",
       "  <tbody>\n",
       "    <tr>\n",
       "      <th>0</th>\n",
       "      <td>POLYGON ((124.03564 -9.34067, 124.03564 -9.318...</td>\n",
       "      <td>31011220203121</td>\n",
       "      <td>Nitibe</td>\n",
       "      <td>None</td>\n",
       "      <td>TLS-ADM2-3_0_0-B58</td>\n",
       "      <td>TLS</td>\n",
       "      <td>ADM2</td>\n",
       "      <td>102.251936</td>\n",
       "    </tr>\n",
       "    <tr>\n",
       "      <th>1</th>\n",
       "      <td>POLYGON ((124.03564 -9.36235, 124.03564 -9.340...</td>\n",
       "      <td>31011220203123</td>\n",
       "      <td>Nitibe</td>\n",
       "      <td>None</td>\n",
       "      <td>TLS-ADM2-3_0_0-B58</td>\n",
       "      <td>TLS</td>\n",
       "      <td>ADM2</td>\n",
       "      <td>992.492772</td>\n",
       "    </tr>\n",
       "    <tr>\n",
       "      <th>2</th>\n",
       "      <td>POLYGON ((124.05762 -9.34067, 124.05762 -9.318...</td>\n",
       "      <td>31011220203130</td>\n",
       "      <td>Nitibe</td>\n",
       "      <td>None</td>\n",
       "      <td>TLS-ADM2-3_0_0-B58</td>\n",
       "      <td>TLS</td>\n",
       "      <td>ADM2</td>\n",
       "      <td>118.897600</td>\n",
       "    </tr>\n",
       "    <tr>\n",
       "      <th>3</th>\n",
       "      <td>POLYGON ((124.05762 -9.36235, 124.05762 -9.340...</td>\n",
       "      <td>31011220203132</td>\n",
       "      <td>Nitibe</td>\n",
       "      <td>None</td>\n",
       "      <td>TLS-ADM2-3_0_0-B58</td>\n",
       "      <td>TLS</td>\n",
       "      <td>ADM2</td>\n",
       "      <td>513.637632</td>\n",
       "    </tr>\n",
       "    <tr>\n",
       "      <th>4</th>\n",
       "      <td>POLYGON ((124.05762 -9.38403, 124.05762 -9.362...</td>\n",
       "      <td>31011220203310</td>\n",
       "      <td>Nitibe</td>\n",
       "      <td>None</td>\n",
       "      <td>TLS-ADM2-3_0_0-B58</td>\n",
       "      <td>TLS</td>\n",
       "      <td>ADM2</td>\n",
       "      <td>319.140940</td>\n",
       "    </tr>\n",
       "  </tbody>\n",
       "</table>\n",
       "</div>"
      ],
      "text/plain": [
       "                                            geometry         quadkey  \\\n",
       "0  POLYGON ((124.03564 -9.34067, 124.03564 -9.318...  31011220203121   \n",
       "1  POLYGON ((124.03564 -9.36235, 124.03564 -9.340...  31011220203123   \n",
       "2  POLYGON ((124.05762 -9.34067, 124.05762 -9.318...  31011220203130   \n",
       "3  POLYGON ((124.05762 -9.36235, 124.05762 -9.340...  31011220203132   \n",
       "4  POLYGON ((124.05762 -9.38403, 124.05762 -9.362...  31011220203310   \n",
       "\n",
       "  shapeName shapeISO             shapeID shapeGroup shapeType   pop_count  \n",
       "0    Nitibe     None  TLS-ADM2-3_0_0-B58        TLS      ADM2  102.251936  \n",
       "1    Nitibe     None  TLS-ADM2-3_0_0-B58        TLS      ADM2  992.492772  \n",
       "2    Nitibe     None  TLS-ADM2-3_0_0-B58        TLS      ADM2  118.897600  \n",
       "3    Nitibe     None  TLS-ADM2-3_0_0-B58        TLS      ADM2  513.637632  \n",
       "4    Nitibe     None  TLS-ADM2-3_0_0-B58        TLS      ADM2  319.140940  "
      ]
     },
     "execution_count": 9,
     "metadata": {},
     "output_type": "execute_result"
    }
   ],
   "source": [
    "admin_grids_gdf.head()"
   ]
  },
  {
   "cell_type": "code",
   "execution_count": 10,
   "id": "22998327-6afa-46af-bebb-37fdc058fff5",
   "metadata": {},
   "outputs": [
    {
     "name": "stdout",
     "output_type": "stream",
     "text": [
      "<class 'geopandas.geodataframe.GeoDataFrame'>\n",
      "Int64Index: 2024 entries, 0 to 2810\n",
      "Data columns (total 8 columns):\n",
      " #   Column      Non-Null Count  Dtype   \n",
      "---  ------      --------------  -----   \n",
      " 0   geometry    2024 non-null   geometry\n",
      " 1   quadkey     2024 non-null   object  \n",
      " 2   shapeName   2024 non-null   object  \n",
      " 3   shapeISO    2024 non-null   object  \n",
      " 4   shapeID     2024 non-null   object  \n",
      " 5   shapeGroup  2024 non-null   object  \n",
      " 6   shapeType   2024 non-null   object  \n",
      " 7   pop_count   2024 non-null   float64 \n",
      "dtypes: float64(1), geometry(1), object(6)\n",
      "memory usage: 142.3+ KB\n"
     ]
    }
   ],
   "source": [
    "admin_grids_gdf.info()"
   ]
  },
  {
   "cell_type": "code",
   "execution_count": null,
   "id": "a1064aae-3317-424d-aa9f-f03dda831f9f",
   "metadata": {},
   "outputs": [],
   "source": []
  }
 ],
 "metadata": {
  "kernelspec": {
   "display_name": "Python 3 (ipykernel)",
   "language": "python",
   "name": "python3"
  },
  "language_info": {
   "codemirror_mode": {
    "name": "ipython",
    "version": 3
   },
   "file_extension": ".py",
   "mimetype": "text/x-python",
   "name": "python",
   "nbconvert_exporter": "python",
   "pygments_lexer": "ipython3",
   "version": "3.9.16"
  }
 },
 "nbformat": 4,
 "nbformat_minor": 5
}

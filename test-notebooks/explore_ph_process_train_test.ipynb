{
 "cells": [
  {
   "cell_type": "raw",
   "id": "86b17401-c0cb-4a8e-ba0c-44a6aab4a38c",
   "metadata": {},
   "source": [
    "---\n",
    "title: Explore Process TrainTest Philippines\n",
    "format:\n",
    "  html:\n",
    "    code-fold: false\n",
    "---"
   ]
  },
  {
   "cell_type": "markdown",
   "id": "993b7544-dbb2-4762-9270-825ebdca0a62",
   "metadata": {
    "tags": []
   },
   "source": [
    "> exploration of the philippine traintest data in `data/outputs/training_ph` \n"
   ]
  },
  {
   "cell_type": "code",
   "execution_count": 1,
   "id": "c2b67124-951b-4675-bb47-76ef61578a89",
   "metadata": {
    "tags": []
   },
   "outputs": [],
   "source": [
    "%reload_ext autoreload\n",
    "%autoreload 2"
   ]
  },
  {
   "cell_type": "code",
   "execution_count": 2,
   "id": "c3f9a246-e3d7-4f25-8f01-012bafd64a1f",
   "metadata": {},
   "outputs": [
    {
     "name": "stderr",
     "output_type": "stream",
     "text": [
      "/home/jc_tm/project_repos/unicef-ai4d-poverty-mapping/env/lib/python3.9/site-packages/geopandas/_compat.py:111: UserWarning: The Shapely GEOS version (3.10.3-CAPI-1.16.1) is incompatible with the GEOS version PyGEOS was compiled with (3.10.1-CAPI-1.16.0). Conversions between both will be slow.\n",
      "  warnings.warn(\n"
     ]
    }
   ],
   "source": [
    "import pandas as pd\n",
    "import geopandas as gpd\n",
    "import shutil\n",
    "from pathlib import Path\n",
    "import os"
   ]
  },
  {
   "cell_type": "code",
   "execution_count": 3,
   "id": "98331472-4d60-4468-b8c9-767ffcb228b4",
   "metadata": {},
   "outputs": [],
   "source": [
    "import povertymapping.process_train_test as ptrain"
   ]
  },
  {
   "cell_type": "code",
   "execution_count": 4,
   "id": "7fcd2936-832a-49d8-b678-8356801c4135",
   "metadata": {},
   "outputs": [],
   "source": [
    "import sys"
   ]
  },
  {
   "cell_type": "code",
   "execution_count": 5,
   "id": "2e6b8328-40c5-4454-aa7d-79e27446d5e0",
   "metadata": {},
   "outputs": [],
   "source": [
    "config = dict(\n",
    "        save_path=\"../data/outputs/traintest_ph\", # output directory\n",
    "        dhs_geo_zip_folder=\"PHGE71FL\", # folder holding DHS shape files\n",
    "        use_ntl=True,\n",
    "        use_filt_clt=False,\n",
    "        multiprocess=False,\n",
    "        ntl_path = \"ph_2017_viirs_avg_rad_zonal_stats.csv\",\n",
    "        sample=False,\n",
    "        no_samples=60,\n",
    "        random_sample=False,\n",
    "        random_seed=42,\n",
    "        crs=\"4683\",\n",
    "        clust_rad=2000\n",
    "\n",
    "    )\n",
    "\n",
    "# you can also create a yaml file or json file\n",
    "# and load it in."
   ]
  },
  {
   "cell_type": "markdown",
   "id": "5eaba4d5-5f28-49ae-8fa0-fe6fc4babfcc",
   "metadata": {},
   "source": [
    "Run the `process_train_test`, passing your config object"
   ]
  },
  {
   "cell_type": "code",
   "execution_count": 6,
   "id": "13a81482-d738-494b-9a1b-6725373b7493",
   "metadata": {},
   "outputs": [],
   "source": [
    "# uncomment and run the following to clear out the preprocessed files \n",
    "!rm -rf {config['save_path']}\n",
    "!mkdir -p {config['save_path']}"
   ]
  },
  {
   "cell_type": "code",
   "execution_count": 7,
   "id": "32bfa77f-59c2-4ddd-8eff-f78e9cb7a329",
   "metadata": {},
   "outputs": [],
   "source": [
    "save_path = config['save_path']"
   ]
  },
  {
   "cell_type": "code",
   "execution_count": 10,
   "id": "402dbebb-6ab7-4d52-9853-c390252aeea0",
   "metadata": {},
   "outputs": [
    {
     "data": {
      "text/plain": [
       "'../data/outputs/traintest_ph/data_labels.csv'"
      ]
     },
     "execution_count": 10,
     "metadata": {},
     "output_type": "execute_result"
    }
   ],
   "source": [
    "shutil.rmtree(save_path, ignore_errors=True)\n",
    "#\n",
    "os.makedirs(Path(save_path))\n",
    "# copy dhs preproc data from output of tl process_dhs_data - TLGE71FL_cluster_coords.csv to save path\n",
    "shutil.copy(\"../data/outputs/dhs_ph/PHGE71FL_cluster_coords.csv\",(Path(save_path)/\"PHGE71FL_cluster_coords.csv\").as_posix())\n",
    "shutil.copy(\"../data/outputs/osm_ph/PHGE71FL_cluster_coords_osm_agg.csv\",(Path(save_path)/\"PHGE71FL_cluster_coords_osm_agg.csv\").as_posix())\n",
    "shutil.copy(\"../data/outputs/viirs_ph/ph_2017_viirs_avg_rad_zonal_stats.csv\",(Path(save_path)/\"ph_2017_viirs_avg_rad_zonal_stats.csv\").as_posix())\n",
    "shutil.copy(\"../data/outputs/training_ph/data_labels.csv\",(Path(save_path)/\"data_labels.csv\").as_posix())\n"
   ]
  },
  {
   "cell_type": "code",
   "execution_count": 21,
   "id": "de60847e-d52f-438e-8ef9-9b5013516f2f",
   "metadata": {
    "tags": []
   },
   "outputs": [],
   "source": [
    "# !cp ../data/outputs/dhs_tl/{ookla_config['dhs_geo_zip_folder']}_cluster_coords.csv {ookla_config['save_path']}/."
   ]
  },
  {
   "cell_type": "code",
   "execution_count": 23,
   "id": "2b0e3f5f-f368-4377-88e8-712a6986a2dc",
   "metadata": {},
   "outputs": [
    {
     "data": {
      "text/html": [
       "<div>\n",
       "<style scoped>\n",
       "    .dataframe tbody tr th:only-of-type {\n",
       "        vertical-align: middle;\n",
       "    }\n",
       "\n",
       "    .dataframe tbody tr th {\n",
       "        vertical-align: top;\n",
       "    }\n",
       "\n",
       "    .dataframe thead th {\n",
       "        text-align: right;\n",
       "    }\n",
       "</style>\n",
       "<table border=\"1\" class=\"dataframe\">\n",
       "  <thead>\n",
       "    <tr style=\"text-align: right;\">\n",
       "      <th></th>\n",
       "      <th>Unnamed: 0</th>\n",
       "      <th>DHSID</th>\n",
       "      <th>longitude</th>\n",
       "      <th>latitude</th>\n",
       "      <th>avg_rad_min</th>\n",
       "      <th>avg_rad_max</th>\n",
       "      <th>avg_rad_mean</th>\n",
       "      <th>avg_rad_std</th>\n",
       "      <th>avg_rad_median</th>\n",
       "    </tr>\n",
       "  </thead>\n",
       "  <tbody>\n",
       "    <tr>\n",
       "      <th>0</th>\n",
       "      <td>0</td>\n",
       "      <td>PH201700000386</td>\n",
       "      <td>120.564542</td>\n",
       "      <td>18.271892</td>\n",
       "      <td>0.196119</td>\n",
       "      <td>1.391538</td>\n",
       "      <td>0.410263</td>\n",
       "      <td>0.260675</td>\n",
       "      <td>0.279534</td>\n",
       "    </tr>\n",
       "    <tr>\n",
       "      <th>1</th>\n",
       "      <td>1</td>\n",
       "      <td>PH201700000387</td>\n",
       "      <td>120.568506</td>\n",
       "      <td>18.202195</td>\n",
       "      <td>0.389053</td>\n",
       "      <td>7.300686</td>\n",
       "      <td>2.008298</td>\n",
       "      <td>1.305749</td>\n",
       "      <td>1.690995</td>\n",
       "    </tr>\n",
       "    <tr>\n",
       "      <th>2</th>\n",
       "      <td>2</td>\n",
       "      <td>PH201700000388</td>\n",
       "      <td>120.691113</td>\n",
       "      <td>18.073914</td>\n",
       "      <td>0.246468</td>\n",
       "      <td>0.511665</td>\n",
       "      <td>0.347220</td>\n",
       "      <td>0.056467</td>\n",
       "      <td>0.338678</td>\n",
       "    </tr>\n",
       "    <tr>\n",
       "      <th>3</th>\n",
       "      <td>3</td>\n",
       "      <td>PH201700000389</td>\n",
       "      <td>120.510203</td>\n",
       "      <td>18.061017</td>\n",
       "      <td>0.268062</td>\n",
       "      <td>6.462383</td>\n",
       "      <td>0.901461</td>\n",
       "      <td>1.259600</td>\n",
       "      <td>0.446334</td>\n",
       "    </tr>\n",
       "    <tr>\n",
       "      <th>4</th>\n",
       "      <td>4</td>\n",
       "      <td>PH201700000390</td>\n",
       "      <td>120.663074</td>\n",
       "      <td>18.155694</td>\n",
       "      <td>0.319517</td>\n",
       "      <td>2.658939</td>\n",
       "      <td>0.610296</td>\n",
       "      <td>0.413121</td>\n",
       "      <td>0.499302</td>\n",
       "    </tr>\n",
       "    <tr>\n",
       "      <th>...</th>\n",
       "      <td>...</td>\n",
       "      <td>...</td>\n",
       "      <td>...</td>\n",
       "      <td>...</td>\n",
       "      <td>...</td>\n",
       "      <td>...</td>\n",
       "      <td>...</td>\n",
       "      <td>...</td>\n",
       "      <td>...</td>\n",
       "    </tr>\n",
       "    <tr>\n",
       "      <th>1209</th>\n",
       "      <td>1245</td>\n",
       "      <td>PH201700000722</td>\n",
       "      <td>122.014801</td>\n",
       "      <td>12.480412</td>\n",
       "      <td>NaN</td>\n",
       "      <td>NaN</td>\n",
       "      <td>NaN</td>\n",
       "      <td>NaN</td>\n",
       "      <td>NaN</td>\n",
       "    </tr>\n",
       "    <tr>\n",
       "      <th>1210</th>\n",
       "      <td>1246</td>\n",
       "      <td>PH201700000723</td>\n",
       "      <td>121.948492</td>\n",
       "      <td>12.332112</td>\n",
       "      <td>NaN</td>\n",
       "      <td>NaN</td>\n",
       "      <td>NaN</td>\n",
       "      <td>NaN</td>\n",
       "      <td>NaN</td>\n",
       "    </tr>\n",
       "    <tr>\n",
       "      <th>1211</th>\n",
       "      <td>1247</td>\n",
       "      <td>PH201700000724</td>\n",
       "      <td>122.082036</td>\n",
       "      <td>12.825163</td>\n",
       "      <td>NaN</td>\n",
       "      <td>NaN</td>\n",
       "      <td>NaN</td>\n",
       "      <td>NaN</td>\n",
       "      <td>NaN</td>\n",
       "    </tr>\n",
       "    <tr>\n",
       "      <th>1212</th>\n",
       "      <td>1248</td>\n",
       "      <td>PH201700000725</td>\n",
       "      <td>122.308962</td>\n",
       "      <td>12.506513</td>\n",
       "      <td>NaN</td>\n",
       "      <td>NaN</td>\n",
       "      <td>NaN</td>\n",
       "      <td>NaN</td>\n",
       "      <td>NaN</td>\n",
       "    </tr>\n",
       "    <tr>\n",
       "      <th>1213</th>\n",
       "      <td>1249</td>\n",
       "      <td>PH201700000726</td>\n",
       "      <td>122.641823</td>\n",
       "      <td>12.359617</td>\n",
       "      <td>NaN</td>\n",
       "      <td>NaN</td>\n",
       "      <td>NaN</td>\n",
       "      <td>NaN</td>\n",
       "      <td>NaN</td>\n",
       "    </tr>\n",
       "  </tbody>\n",
       "</table>\n",
       "<p>1214 rows × 9 columns</p>\n",
       "</div>"
      ],
      "text/plain": [
       "      Unnamed: 0           DHSID   longitude   latitude  avg_rad_min  \\\n",
       "0              0  PH201700000386  120.564542  18.271892     0.196119   \n",
       "1              1  PH201700000387  120.568506  18.202195     0.389053   \n",
       "2              2  PH201700000388  120.691113  18.073914     0.246468   \n",
       "3              3  PH201700000389  120.510203  18.061017     0.268062   \n",
       "4              4  PH201700000390  120.663074  18.155694     0.319517   \n",
       "...          ...             ...         ...        ...          ...   \n",
       "1209        1245  PH201700000722  122.014801  12.480412          NaN   \n",
       "1210        1246  PH201700000723  121.948492  12.332112          NaN   \n",
       "1211        1247  PH201700000724  122.082036  12.825163          NaN   \n",
       "1212        1248  PH201700000725  122.308962  12.506513          NaN   \n",
       "1213        1249  PH201700000726  122.641823  12.359617          NaN   \n",
       "\n",
       "      avg_rad_max  avg_rad_mean  avg_rad_std  avg_rad_median  \n",
       "0        1.391538      0.410263     0.260675        0.279534  \n",
       "1        7.300686      2.008298     1.305749        1.690995  \n",
       "2        0.511665      0.347220     0.056467        0.338678  \n",
       "3        6.462383      0.901461     1.259600        0.446334  \n",
       "4        2.658939      0.610296     0.413121        0.499302  \n",
       "...           ...           ...          ...             ...  \n",
       "1209          NaN           NaN          NaN             NaN  \n",
       "1210          NaN           NaN          NaN             NaN  \n",
       "1211          NaN           NaN          NaN             NaN  \n",
       "1212          NaN           NaN          NaN             NaN  \n",
       "1213          NaN           NaN          NaN             NaN  \n",
       "\n",
       "[1214 rows x 9 columns]"
      ]
     },
     "metadata": {},
     "output_type": "display_data"
    },
    {
     "name": "stdout",
     "output_type": "stream",
     "text": [
      "Saving pickled files...\n",
      "CPU times: user 63.1 ms, sys: 706 µs, total: 63.8 ms\n",
      "Wall time: 60.4 ms\n"
     ]
    },
    {
     "name": "stderr",
     "output_type": "stream",
     "text": [
      "/home/jc_tm/project_repos/unicef-ai4d-poverty-mapping/povertymapping/process_train_test.py:137: SettingWithCopyWarning: \n",
      "A value is trying to be set on a copy of a slice from a DataFrame.\n",
      "Try using .loc[row_indexer,col_indexer] = value instead\n",
      "\n",
      "See the caveats in the documentation: https://pandas.pydata.org/pandas-docs/stable/user_guide/indexing.html#returning-a-view-versus-a-copy\n",
      "  # apparently there are nans in other columns\n"
     ]
    }
   ],
   "source": [
    "%%time\n",
    "ptrain.process_train_test(config)"
   ]
  },
  {
   "cell_type": "markdown",
   "id": "30db0c2e-7f9a-4c51-a521-5f170d9e8cdd",
   "metadata": {},
   "source": [
    "Check that the preprocessed files have been created"
   ]
  },
  {
   "cell_type": "code",
   "execution_count": 12,
   "id": "e210f464-7532-4c12-91ae-f13f6f4c78ee",
   "metadata": {},
   "outputs": [],
   "source": [
    "from pathlib import Path"
   ]
  },
  {
   "cell_type": "code",
   "execution_count": 13,
   "id": "25c8346f-3910-42cf-8c41-d823887d8b7c",
   "metadata": {},
   "outputs": [],
   "source": [
    "data_labels_df = pd.read_csv(Path(save_path)/'data_labels.csv')"
   ]
  },
  {
   "cell_type": "code",
   "execution_count": 24,
   "id": "292b0cf9-eb7b-4db0-87c5-81671cba390d",
   "metadata": {},
   "outputs": [],
   "source": [
    "final_df = pd.read_pickle(Path(config['save_path'])/'data_final.pkl')"
   ]
  },
  {
   "cell_type": "code",
   "execution_count": 25,
   "id": "904a7e47-127e-4cea-98dc-6d5937580be3",
   "metadata": {},
   "outputs": [
    {
     "data": {
      "text/plain": [
       "1249"
      ]
     },
     "execution_count": 25,
     "metadata": {},
     "output_type": "execute_result"
    }
   ],
   "source": [
    "len(final_df)"
   ]
  },
  {
   "cell_type": "code",
   "execution_count": 26,
   "id": "ca45a167-24fd-4494-be52-5642e39076c3",
   "metadata": {},
   "outputs": [
    {
     "data": {
      "text/html": [
       "<div>\n",
       "<style scoped>\n",
       "    .dataframe tbody tr th:only-of-type {\n",
       "        vertical-align: middle;\n",
       "    }\n",
       "\n",
       "    .dataframe tbody tr th {\n",
       "        vertical-align: top;\n",
       "    }\n",
       "\n",
       "    .dataframe thead th {\n",
       "        text-align: right;\n",
       "    }\n",
       "</style>\n",
       "<table border=\"1\" class=\"dataframe\">\n",
       "  <thead>\n",
       "    <tr style=\"text-align: right;\">\n",
       "      <th></th>\n",
       "      <th>DHSID</th>\n",
       "      <th>Wealth Index</th>\n",
       "      <th>avg_rad_min</th>\n",
       "      <th>avg_rad_max</th>\n",
       "      <th>avg_rad_mean</th>\n",
       "      <th>avg_rad_std</th>\n",
       "      <th>avg_rad_median</th>\n",
       "      <th>building_ct</th>\n",
       "      <th>no_roads</th>\n",
       "      <th>no_primary_roads</th>\n",
       "      <th>...</th>\n",
       "      <th>camp_site_count</th>\n",
       "      <th>city_count</th>\n",
       "      <th>convenience_count</th>\n",
       "      <th>supermarket_count</th>\n",
       "      <th>car_repair_count</th>\n",
       "      <th>department_store_count</th>\n",
       "      <th>computer_count</th>\n",
       "      <th>playground_count</th>\n",
       "      <th>monument_count</th>\n",
       "      <th>avg_d_mbps</th>\n",
       "    </tr>\n",
       "  </thead>\n",
       "  <tbody>\n",
       "    <tr>\n",
       "      <th>0</th>\n",
       "      <td>PH201700000001</td>\n",
       "      <td>-31881.608696</td>\n",
       "      <td>0.169375</td>\n",
       "      <td>0.293844</td>\n",
       "      <td>0.213051</td>\n",
       "      <td>0.025027</td>\n",
       "      <td>0.209663</td>\n",
       "      <td>20</td>\n",
       "      <td>23</td>\n",
       "      <td>2</td>\n",
       "      <td>...</td>\n",
       "      <td>0</td>\n",
       "      <td>0</td>\n",
       "      <td>0</td>\n",
       "      <td>0</td>\n",
       "      <td>0</td>\n",
       "      <td>0</td>\n",
       "      <td>0</td>\n",
       "      <td>0</td>\n",
       "      <td>0</td>\n",
       "      <td>0.765000</td>\n",
       "    </tr>\n",
       "    <tr>\n",
       "      <th>1</th>\n",
       "      <td>PH201700000002</td>\n",
       "      <td>-2855.375000</td>\n",
       "      <td>0.166495</td>\n",
       "      <td>0.272440</td>\n",
       "      <td>0.223746</td>\n",
       "      <td>0.020972</td>\n",
       "      <td>0.223852</td>\n",
       "      <td>250</td>\n",
       "      <td>105</td>\n",
       "      <td>8</td>\n",
       "      <td>...</td>\n",
       "      <td>0</td>\n",
       "      <td>0</td>\n",
       "      <td>0</td>\n",
       "      <td>0</td>\n",
       "      <td>0</td>\n",
       "      <td>0</td>\n",
       "      <td>0</td>\n",
       "      <td>0</td>\n",
       "      <td>0</td>\n",
       "      <td>9.036353</td>\n",
       "    </tr>\n",
       "    <tr>\n",
       "      <th>2</th>\n",
       "      <td>PH201700000003</td>\n",
       "      <td>-57647.047619</td>\n",
       "      <td>0.182623</td>\n",
       "      <td>0.272931</td>\n",
       "      <td>0.227518</td>\n",
       "      <td>0.021158</td>\n",
       "      <td>0.224042</td>\n",
       "      <td>1244</td>\n",
       "      <td>14</td>\n",
       "      <td>1</td>\n",
       "      <td>...</td>\n",
       "      <td>0</td>\n",
       "      <td>0</td>\n",
       "      <td>0</td>\n",
       "      <td>0</td>\n",
       "      <td>0</td>\n",
       "      <td>0</td>\n",
       "      <td>0</td>\n",
       "      <td>0</td>\n",
       "      <td>0</td>\n",
       "      <td>4.830000</td>\n",
       "    </tr>\n",
       "    <tr>\n",
       "      <th>3</th>\n",
       "      <td>PH201700000004</td>\n",
       "      <td>-54952.666667</td>\n",
       "      <td>0.151548</td>\n",
       "      <td>0.322617</td>\n",
       "      <td>0.224124</td>\n",
       "      <td>0.036142</td>\n",
       "      <td>0.226190</td>\n",
       "      <td>25</td>\n",
       "      <td>12</td>\n",
       "      <td>0</td>\n",
       "      <td>...</td>\n",
       "      <td>0</td>\n",
       "      <td>0</td>\n",
       "      <td>0</td>\n",
       "      <td>0</td>\n",
       "      <td>0</td>\n",
       "      <td>0</td>\n",
       "      <td>0</td>\n",
       "      <td>0</td>\n",
       "      <td>0</td>\n",
       "      <td>0.000000</td>\n",
       "    </tr>\n",
       "    <tr>\n",
       "      <th>4</th>\n",
       "      <td>PH201700000005</td>\n",
       "      <td>-77819.160000</td>\n",
       "      <td>0.000000</td>\n",
       "      <td>0.000000</td>\n",
       "      <td>0.000000</td>\n",
       "      <td>0.000000</td>\n",
       "      <td>0.000000</td>\n",
       "      <td>0</td>\n",
       "      <td>0</td>\n",
       "      <td>0</td>\n",
       "      <td>...</td>\n",
       "      <td>0</td>\n",
       "      <td>0</td>\n",
       "      <td>0</td>\n",
       "      <td>0</td>\n",
       "      <td>0</td>\n",
       "      <td>0</td>\n",
       "      <td>0</td>\n",
       "      <td>0</td>\n",
       "      <td>0</td>\n",
       "      <td>0.000000</td>\n",
       "    </tr>\n",
       "  </tbody>\n",
       "</table>\n",
       "<p>5 rows × 46 columns</p>\n",
       "</div>"
      ],
      "text/plain": [
       "            DHSID  Wealth Index  avg_rad_min  avg_rad_max  avg_rad_mean  \\\n",
       "0  PH201700000001 -31881.608696     0.169375     0.293844      0.213051   \n",
       "1  PH201700000002  -2855.375000     0.166495     0.272440      0.223746   \n",
       "2  PH201700000003 -57647.047619     0.182623     0.272931      0.227518   \n",
       "3  PH201700000004 -54952.666667     0.151548     0.322617      0.224124   \n",
       "4  PH201700000005 -77819.160000     0.000000     0.000000      0.000000   \n",
       "\n",
       "   avg_rad_std  avg_rad_median  building_ct  no_roads  no_primary_roads  ...  \\\n",
       "0     0.025027        0.209663           20        23                 2  ...   \n",
       "1     0.020972        0.223852          250       105                 8  ...   \n",
       "2     0.021158        0.224042         1244        14                 1  ...   \n",
       "3     0.036142        0.226190           25        12                 0  ...   \n",
       "4     0.000000        0.000000            0         0                 0  ...   \n",
       "\n",
       "   camp_site_count  city_count  convenience_count  supermarket_count  \\\n",
       "0                0           0                  0                  0   \n",
       "1                0           0                  0                  0   \n",
       "2                0           0                  0                  0   \n",
       "3                0           0                  0                  0   \n",
       "4                0           0                  0                  0   \n",
       "\n",
       "   car_repair_count  department_store_count  computer_count  playground_count  \\\n",
       "0                 0                       0               0                 0   \n",
       "1                 0                       0               0                 0   \n",
       "2                 0                       0               0                 0   \n",
       "3                 0                       0               0                 0   \n",
       "4                 0                       0               0                 0   \n",
       "\n",
       "   monument_count  avg_d_mbps  \n",
       "0               0    0.765000  \n",
       "1               0    9.036353  \n",
       "2               0    4.830000  \n",
       "3               0    0.000000  \n",
       "4               0    0.000000  \n",
       "\n",
       "[5 rows x 46 columns]"
      ]
     },
     "execution_count": 26,
     "metadata": {},
     "output_type": "execute_result"
    }
   ],
   "source": [
    "final_df.head()"
   ]
  },
  {
   "cell_type": "code",
   "execution_count": 27,
   "id": "5ae65ef5",
   "metadata": {},
   "outputs": [
    {
     "name": "stdout",
     "output_type": "stream",
     "text": [
      "<class 'pandas.core.frame.DataFrame'>\n",
      "Int64Index: 1249 entries, 0 to 1248\n",
      "Data columns (total 46 columns):\n",
      " #   Column                  Non-Null Count  Dtype  \n",
      "---  ------                  --------------  -----  \n",
      " 0   DHSID                   1249 non-null   object \n",
      " 1   Wealth Index            1249 non-null   float64\n",
      " 2   avg_rad_min             1249 non-null   float64\n",
      " 3   avg_rad_max             1249 non-null   float64\n",
      " 4   avg_rad_mean            1249 non-null   float64\n",
      " 5   avg_rad_std             1249 non-null   float64\n",
      " 6   avg_rad_median          1249 non-null   float64\n",
      " 7   building_ct             1249 non-null   int64  \n",
      " 8   no_roads                1249 non-null   int64  \n",
      " 9   no_primary_roads        1249 non-null   int64  \n",
      " 10  no_trunk_roads          1249 non-null   int64  \n",
      " 11  marketplace_count       1249 non-null   int64  \n",
      " 12  charging_station_count  1249 non-null   int64  \n",
      " 13  post_box_count          1249 non-null   int64  \n",
      " 14  post_office_count       1249 non-null   int64  \n",
      " 15  pharmacy_count          1249 non-null   int64  \n",
      " 16  hospital_count          1249 non-null   int64  \n",
      " 17  dentist_count           1249 non-null   int64  \n",
      " 18  restaurant_count        1249 non-null   int64  \n",
      " 19  food_court_count        1249 non-null   int64  \n",
      " 20  cafe_count              1249 non-null   int64  \n",
      " 21  fast_food_count         1249 non-null   int64  \n",
      " 22  police_count            1249 non-null   int64  \n",
      " 23  townhall_count          1249 non-null   int64  \n",
      " 24  fire_station_count      1249 non-null   int64  \n",
      " 25  social_facility_count   1249 non-null   int64  \n",
      " 26  courthouse_count        1249 non-null   int64  \n",
      " 27  fuel_count              1249 non-null   int64  \n",
      " 28  bus_station_count       1249 non-null   int64  \n",
      " 29  bank_count              1249 non-null   int64  \n",
      " 30  atm_count               1249 non-null   int64  \n",
      " 31  library_count           1249 non-null   int64  \n",
      " 32  helipad_count           1249 non-null   int64  \n",
      " 33  aerodrome_count         1249 non-null   int64  \n",
      " 34  subway_entrance_count   1249 non-null   int64  \n",
      " 35  hotel_count             1249 non-null   int64  \n",
      " 36  camp_site_count         1249 non-null   int64  \n",
      " 37  city_count              1249 non-null   int64  \n",
      " 38  convenience_count       1249 non-null   int64  \n",
      " 39  supermarket_count       1249 non-null   int64  \n",
      " 40  car_repair_count        1249 non-null   int64  \n",
      " 41  department_store_count  1249 non-null   int64  \n",
      " 42  computer_count          1249 non-null   int64  \n",
      " 43  playground_count        1249 non-null   int64  \n",
      " 44  monument_count          1249 non-null   int64  \n",
      " 45  avg_d_mbps              1249 non-null   float64\n",
      "dtypes: float64(7), int64(38), object(1)\n",
      "memory usage: 458.6+ KB\n"
     ]
    }
   ],
   "source": [
    "final_df.info()"
   ]
  },
  {
   "cell_type": "code",
   "execution_count": 29,
   "id": "5675ab98-1dab-4ae4-94ae-686dff0dbb0e",
   "metadata": {},
   "outputs": [
    {
     "name": "stdout",
     "output_type": "stream",
     "text": [
      "Copying file://../data/outputs/traintest_ph/PHGE71FL_labels.pkl [Content-Type=application/octet-stream]...\n",
      "Copying file://../data/outputs/traintest_ph/data_final.pkl [Content-Type=application/octet-stream]...\n",
      "Copying file://../data/outputs/traintest_ph/PHGE71FL_cluster_coords.csv [Content-Type=text/csv]...\n",
      "Copying file://../data/outputs/traintest_ph/data_labels.csv [Content-Type=text/csv]...\n",
      "| [4 files][  1.1 MiB/  1.1 MiB]                                                \n",
      "==> NOTE: You are performing a sequence of gsutil operations that may\n",
      "run significantly faster if you instead use gsutil -m cp ... Please\n",
      "see the -m section under \"gsutil help options\" for further information\n",
      "about when gsutil -m can be advantageous.\n",
      "\n",
      "Copying file://../data/outputs/traintest_ph/ph_2017_viirs_avg_rad_zonal_stats.csv [Content-Type=text/csv]...\n",
      "Copying file://../data/outputs/traintest_ph/PHGE71FL_features.pkl [Content-Type=application/octet-stream]...\n",
      "Copying file://../data/outputs/traintest_ph/PHGE71FL_cluster_coords_osm_agg.csv [Content-Type=text/csv]...\n",
      "- [7 files][  1.9 MiB/  1.9 MiB]                                                \n",
      "Operation completed over 7 objects/1.9 MiB.                                      \n"
     ]
    }
   ],
   "source": [
    "# ! gsutil cp -r {save_path} gs://poverty-mapping/outputs"
   ]
  }
 ],
 "metadata": {
  "kernelspec": {
   "display_name": "Python 3",
   "language": "python",
   "name": "python3"
  },
  "language_info": {
   "codemirror_mode": {
    "name": "ipython",
    "version": 3
   },
   "file_extension": ".py",
   "mimetype": "text/x-python",
   "name": "python",
   "nbconvert_exporter": "python",
   "pygments_lexer": "ipython3",
   "version": "3.9.13"
  },
  "vscode": {
   "interpreter": {
    "hash": "a9c652687746b7e37dd5eba4a53c758a3d21cd9cb60962b6bb30d0de25d1ae14"
   }
  }
 },
 "nbformat": 4,
 "nbformat_minor": 5
}

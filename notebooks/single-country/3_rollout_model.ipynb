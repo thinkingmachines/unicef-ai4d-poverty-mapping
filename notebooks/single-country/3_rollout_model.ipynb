{
 "cells": [
  {
   "cell_type": "raw",
   "metadata": {},
   "source": [
    "---\n",
    "title: Predict on rollout grids\n",
    "format:\n",
    "  html:\n",
    "    code-fold: false\n",
    "---"
   ]
  },
  {
   "cell_type": "code",
   "execution_count": 1,
   "metadata": {},
   "outputs": [],
   "source": [
    "%matplotlib inline\n",
    "%reload_ext autoreload\n",
    "%autoreload 2"
   ]
  },
  {
   "cell_type": "code",
   "execution_count": 2,
   "metadata": {},
   "outputs": [],
   "source": [
    "import os\n",
    "import sys\n",
    "\n",
    "sys.path.append(\"../../../\")\n",
    "\n",
    "import getpass\n",
    "import pickle\n",
    "from pathlib import Path\n",
    "\n",
    "import contextily as cx\n",
    "import geopandas as gpd\n",
    "import matplotlib.pyplot as plt\n",
    "import numpy as np\n",
    "import pandas as pd\n",
    "import gdown\n",
    "from relativewealth import nightlights, settings\n",
    "from relativewealth.dhs import generate_dhs_cluster_level_data\n",
    "from relativewealth.feature_engineering import (\n",
    "    categorize_wealth_index,\n",
    "    generate_features,\n",
    ")\n",
    "from relativewealth.iso3 import get_region_name\n",
    "from relativewealth.rollout_grids import get_region_filtered_bingtile_grids"
   ]
  },
  {
   "attachments": {},
   "cell_type": "markdown",
   "metadata": {},
   "source": [
    "# Model Prediction on Rollout Grids\n",
    "\n",
    "This notebook runs the final model to create relative wealth estimations over populated areas within the given country. The model predictions will have a spatial resolution of 2.4km.\n",
    "\n",
    "The model generates the `predicted relative wealth` variable, which informs us estimates the wealth of a specific area. A value of 0 signifies that the area's wealth is similar to the national average. In contrast, a positive or negative value suggests above or below-average national wealth, respectively.\n",
    "\n",
    "The predicted relative wealth value is later binned into 5 wealth categories A-E by dividing the distribution into quintiles (every 20th percentile)."
   ]
  },
  {
   "attachments": {},
   "cell_type": "markdown",
   "metadata": {},
   "source": [
    "## Set up Data Access\n",
    "The following cell will prompt you to enter your EOG username and password. See [this page](https://eogdata.mines.edu/products/register/) to learn how to set-up your EOG account."
   ]
  },
  {
   "cell_type": "code",
   "execution_count": 3,
   "metadata": {},
   "outputs": [
    {
     "name": "stderr",
     "output_type": "stream",
     "text": [
      "2023-06-13 18:13:34.247 | INFO     | relativewealth.nightlights:get_eog_access_token:42 - Saving access_token to /home/butchtm/.eog_creds/eog_access_token.txt\n",
      "2023-06-13 18:13:34.251 | INFO     | relativewealth.nightlights:get_eog_access_token:50 - Adding access token to environment var EOG_ACCESS_TOKEN\n"
     ]
    }
   ],
   "source": [
    "#papermill_description=\"Log-in using EOG credentials\"\n",
    "username = os.environ.get(\"EOG_USER\", None)\n",
    "username = username if username is not None else input(\"Username?\")\n",
    "password = os.environ.get(\"EOG_PASSWORD\", None)\n",
    "password = password if password is not None else getpass.getpass(\"Password?\")\n",
    "\n",
    "# set save_token to True so that access token gets stored in ~/.eog_creds/eog_access_token\n",
    "access_token = nightlights.get_eog_access_token(username, password, save_token=True)"
   ]
  },
  {
   "attachments": {},
   "cell_type": "markdown",
   "metadata": {},
   "source": [
    "## Set country-specific parameters"
   ]
  },
  {
   "cell_type": "code",
   "execution_count": 4,
   "metadata": {
    "tags": [
     "parameters"
    ]
   },
   "outputs": [],
   "source": [
    "COUNTRY_CODE = \"tl\"\n",
    "COUNTRY_OSM = \"east-timor\"\n",
    "OOKLA_YEAR = 2019\n",
    "NIGHTLIGHTS_YEAR = 2016\n",
    "MODEL_WEIGHTS_URL = None\n",
    "ROLLOUT_DATE = None"
   ]
  },
  {
   "cell_type": "code",
   "execution_count": null,
   "metadata": {},
   "outputs": [],
   "source": [
    "# https://drive.google.com/file/d/1q9ev9qlXf5p0-CTuJ8IO6Qi-tEIuRqCp/view?usp=share_link"
   ]
  },
  {
   "cell_type": "code",
   "execution_count": null,
   "metadata": {
    "tags": []
   },
   "outputs": [],
   "source": [
    "DATA_DIR = settings.DATA_DIR.resolve()\n",
    "ROLLOUT_DIR = DATA_DIR/f\"rollout/{COUNTRY_CODE}\"\n",
    "ROLLOUT_DIR.mkdir(parents=True,exist_ok=True)"
   ]
  },
  {
   "cell_type": "code",
   "execution_count": null,
   "metadata": {},
   "outputs": [],
   "source": [
    "ROLLOUT_DATE = \"-\".join(os.getcwd().split(\"/\")[-2].split(\"-\")[:3]) if ROLLOUT_DATE is None else ROLLOUT_DATE\n",
    "rollout_grids_path = Path(f\"{ROLLOUT_DIR}/{ROLLOUT_DATE}-{COUNTRY_CODE}-rollout-grids.geojson\")\n",
    "rollout_grids_path"
   ]
  },
  {
   "cell_type": "code",
   "execution_count": null,
   "metadata": {},
   "outputs": [],
   "source": [
    "ROLLOUT_DIR.mkdir(parents=True, exist_ok=True)"
   ]
  },
  {
   "attachments": {},
   "cell_type": "markdown",
   "metadata": {},
   "source": [
    "## Set Model Parameters"
   ]
  },
  {
   "cell_type": "code",
   "execution_count": null,
   "metadata": {
    "tags": []
   },
   "outputs": [],
   "source": [
    "# Model to use for prediction\n",
    "MODEL_SAVE_PATH = Path(f\"{ROLLOUT_DIR}/{ROLLOUT_DATE}-{COUNTRY_CODE}-single-country-model.pkl\")"
   ]
  },
  {
   "cell_type": "code",
   "execution_count": null,
   "metadata": {},
   "outputs": [],
   "source": [
    "#papermill_description=\"Load model\"\n",
    "if not MODEL_SAVE_PATH.exists() and MODEL_WEIGHTS_URL is not None:\n",
    "    MODEL_SAVE_PATH.parent.mkdir(parents=True,exist_ok=True)\n",
    "    model_path = gdown.download(url=MODEL_WEIGHTS_URL, fuzzy=True, output=MODEL_SAVE_PATH.as_posix())\n",
    "    print(f\"Downloaded model from url {MODEL_WEIGHTS_URL}\")\n",
    "else:\n",
    "    print(f\"Using existing model on {MODEL_SAVE_PATH}\")"
   ]
  },
  {
   "attachments": {},
   "cell_type": "markdown",
   "metadata": {
    "tags": []
   },
   "source": [
    "## Load Country Rollout AOI\n",
    "\n",
    "The rollout area of interest is split into 2.4km grid tiles (zoom level 14), matching the areas used during model training. The grids are also filtered to only include populated areas based on Meta's High Resolution Settlement Layer (HRSL) data.\n",
    "\n",
    "Refer to the previous notebook `2_tl_generate_grids.ipynb` for documentation on generating this grid."
   ]
  },
  {
   "cell_type": "code",
   "execution_count": null,
   "metadata": {},
   "outputs": [],
   "source": [
    "aoi = gpd.read_file(rollout_grids_path)\n",
    "# aoi.explore()  # Uncomment to view data in a map"
   ]
  },
  {
   "attachments": {},
   "cell_type": "markdown",
   "metadata": {},
   "source": [
    "## Generate Features For Rollout AOI"
   ]
  },
  {
   "cell_type": "code",
   "execution_count": null,
   "metadata": {},
   "outputs": [],
   "source": [
    "%%time\n",
    "#papermill_description=\"Generate features for rollout AOI\"\n",
    "rollout_aoi = aoi.copy()\n",
    "\n",
    "# Create features dataframe using generate_features module\n",
    "features = generate_features(\n",
    "    rollout_aoi,\n",
    "    country_osm=COUNTRY_OSM,\n",
    "    ookla_year=OOKLA_YEAR,\n",
    "    nightlights_year=NIGHTLIGHTS_YEAR,\n",
    "    scale=False,\n",
    "    features_only=True,\n",
    ")"
   ]
  },
  {
   "attachments": {},
   "cell_type": "markdown",
   "metadata": {},
   "source": [
    "## Inspect the generated features"
   ]
  },
  {
   "cell_type": "code",
   "execution_count": null,
   "metadata": {},
   "outputs": [],
   "source": [
    "features.info()"
   ]
  },
  {
   "attachments": {},
   "cell_type": "markdown",
   "metadata": {},
   "source": [
    "## Run Model on AOI"
   ]
  },
  {
   "attachments": {},
   "cell_type": "markdown",
   "metadata": {},
   "source": [
    "### Load Model"
   ]
  },
  {
   "cell_type": "code",
   "execution_count": null,
   "metadata": {},
   "outputs": [],
   "source": [
    "#papermill_description=\"Load model\"\n",
    "with open(MODEL_SAVE_PATH, \"rb\") as f:\n",
    "    model = pickle.load(f)"
   ]
  },
  {
   "attachments": {},
   "cell_type": "markdown",
   "metadata": {},
   "source": [
    "### Make Predictions"
   ]
  },
  {
   "cell_type": "code",
   "execution_count": null,
   "metadata": {},
   "outputs": [],
   "source": [
    "#papermill_description=\"Predict Relative Wealth Index for rollout AOI\"\n",
    "rollout_aoi[\"Predicted Relative Wealth Index\"] = model.predict(features.values)\n"
   ]
  },
  {
   "attachments": {},
   "cell_type": "markdown",
   "metadata": {},
   "source": [
    "## Binning predictions into wealth categories\n",
    "\n",
    "Afterwards, we label the predicted relative wealth by binning them into 5 categories: `A`, `B`, `C`, `D`, and `E` where `A` is the highest and `E` is the lowest. \n",
    "\n",
    "We can create these wealth categories by splitting the output `Predicted Relative Wealth Index` distribution into 5 equally sized **quintiles**, i.e. every 20th percentile. \n",
    "\n",
    "This categorization may be modified to suit the context of the target country."
   ]
  },
  {
   "cell_type": "code",
   "execution_count": null,
   "metadata": {},
   "outputs": [],
   "source": [
    "#papermill_description=\"Bin Relative Wealth Index for rollout AOI\"\n",
    "# Simple quintile approach\n",
    "rollout_aoi[\"Predicted Wealth Category (quintile)\"] = categorize_wealth_index(\n",
    "    rollout_aoi[\"Predicted Relative Wealth Index\"], split_quantile=False\n",
    ").astype(str)"
   ]
  },
  {
   "attachments": {},
   "cell_type": "markdown",
   "metadata": {},
   "source": [
    "### Save Output"
   ]
  },
  {
   "cell_type": "code",
   "execution_count": null,
   "metadata": {},
   "outputs": [],
   "source": [
    "%%time\n",
    "#papermill_description=\"Save Relative Wealth Index for rollout AOI\"\n",
    "rollout_aoi.to_file(\n",
    "    f\"{ROLLOUT_DIR}/{ROLLOUT_DATE}-{COUNTRY_CODE}-rollout-output.geojson\",\n",
    "    driver=\"GeoJSON\",\n",
    "    index=False,\n",
    ")"
   ]
  },
  {
   "cell_type": "code",
   "execution_count": null,
   "metadata": {},
   "outputs": [],
   "source": [
    "#papermill_description=\"Save Relative Wealth Index for rollout AOI with features\"\n",
    "rollout_output_with_features = rollout_aoi.join(features)\n",
    "rollout_output_with_features.to_file(\n",
    "    f\"{ROLLOUT_DIR}/{ROLLOUT_DATE}-{COUNTRY_CODE}-rollout-output-with-features.geojson\",\n",
    "    driver=\"GeoJSON\",\n",
    "    index=False,\n",
    ")"
   ]
  },
  {
   "attachments": {},
   "cell_type": "markdown",
   "metadata": {},
   "source": [
    "## Visualizations"
   ]
  },
  {
   "attachments": {},
   "cell_type": "markdown",
   "metadata": {},
   "source": [
    "### Inspect predicted wealth index and output dataframe"
   ]
  },
  {
   "cell_type": "code",
   "execution_count": null,
   "metadata": {},
   "outputs": [],
   "source": [
    "rollout_aoi[[\"Predicted Relative Wealth Index\"]].hist()"
   ]
  },
  {
   "cell_type": "code",
   "execution_count": null,
   "metadata": {},
   "outputs": [],
   "source": [
    "rollout_aoi.head()"
   ]
  },
  {
   "attachments": {},
   "cell_type": "markdown",
   "metadata": {},
   "source": [
    "### Create Static Maps\n",
    "#### Plot Predicted Relative Wealth Index"
   ]
  },
  {
   "cell_type": "code",
   "execution_count": null,
   "metadata": {},
   "outputs": [],
   "source": [
    "#papermill_description=\"Create static maps\"\n",
    "plt.cla()\n",
    "plt.clf()\n",
    "rollout_aoi_plot = rollout_aoi.to_crs(\"EPSG:3857\")\n",
    "ax = rollout_aoi_plot.plot(\n",
    "    \"Predicted Relative Wealth Index\",\n",
    "    figsize=(20, 8),\n",
    "    cmap=\"viridis\",\n",
    "    legend=True,\n",
    "    legend_kwds={\"shrink\": 0.8},\n",
    ")\n",
    "cx.add_basemap(ax, source=cx.providers.OpenStreetMap.Mapnik)\n",
    "ax.set_axis_off()\n",
    "plt.title(\"Predicted Relative Wealth Index\")\n",
    "plt.tight_layout()\n",
    "plt.savefig(f\"{ROLLOUT_DIR}/{ROLLOUT_DATE}-{COUNTRY_CODE}-predicted-wealth-index.png\")\n",
    "plt.show()"
   ]
  },
  {
   "cell_type": "code",
   "execution_count": null,
   "metadata": {},
   "outputs": [],
   "source": [
    "#papermill_description=\"Create static maps for bins\"\n",
    "plt.cla()\n",
    "plt.clf()\n",
    "rollout_aoi_plot = rollout_aoi.to_crs(\"EPSG:3857\")\n",
    "ax = rollout_aoi_plot.plot(\n",
    "    \"Predicted Wealth Category (quintile)\",\n",
    "    figsize=(20, 8),\n",
    "    cmap=\"viridis_r\",\n",
    "    legend=True,\n",
    ")\n",
    "cx.add_basemap(ax, source=cx.providers.OpenStreetMap.Mapnik)\n",
    "ax.set_axis_off()\n",
    "plt.title(\"Predicted Wealth Category\")\n",
    "plt.tight_layout()\n",
    "plt.savefig(f\"{ROLLOUT_DIR}/{ROLLOUT_DATE}-{COUNTRY_CODE}-predicted-wealth-bin.png\")\n",
    "plt.show()"
   ]
  },
  {
   "attachments": {},
   "cell_type": "markdown",
   "metadata": {},
   "source": [
    "### Create an Interactive Map"
   ]
  },
  {
   "cell_type": "code",
   "execution_count": null,
   "metadata": {},
   "outputs": [],
   "source": [
    "cols_of_interest = [\n",
    "    \"quadkey\",\n",
    "    \"shapeName\",\n",
    "    \"shapeGroup\",\n",
    "    \"pop_count\",\n",
    "    \"avg_rad_mean\",\n",
    "    \"mobile_2019_mean_avg_d_kbps_mean\",\n",
    "    \"fixed_2019_mean_avg_d_kbps_mean\",\n",
    "    \"poi_count\",\n",
    "    \"road_count\",\n",
    "    \"Predicted Relative Wealth Index\",\n",
    "    \"Predicted Wealth Category (quintile)\",\n",
    "]\n",
    "\n",
    "# Warning: This can be a bit laggy due to the large amount of tiles being visualized\n",
    "\n",
    "# Uncomment the ff if you want to viz the raw wealth predictions\n",
    "# rollout_aoi.explore(column='Predicted Relative Wealth Index', tooltip=cols_of_interest, cmap=\"viridis\")\n",
    "\n",
    "# Uncomment the ff if you want to view the quintiles\n",
    "# rollout_aoi.explore(column='Predicted Wealth Category (quintile)', tooltip=cols_of_interest, cmap=\"viridis_r\")"
   ]
  },
  {
   "attachments": {},
   "cell_type": "markdown",
   "metadata": {},
   "source": [
    "Alternatively, you may also try to visualize this interactively in [Kepler](https://kepler.gl/demo) by uploading the rollout output geojson file."
   ]
  }
 ],
 "metadata": {
  "kernelspec": {
   "display_name": "Python 3",
   "language": "python",
   "name": "python3"
  },
  "language_info": {
   "codemirror_mode": {
    "name": "ipython",
    "version": 3
   },
   "file_extension": ".py",
   "mimetype": "text/x-python",
   "name": "python",
   "nbconvert_exporter": "python",
   "pygments_lexer": "ipython3",
   "version": "3.9.16"
  }
 },
 "nbformat": 4,
 "nbformat_minor": 4
}

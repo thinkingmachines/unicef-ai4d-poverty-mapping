{
 "cells": [
  {
   "cell_type": "raw",
   "metadata": {},
   "source": [
    "---\n",
    "title: Generate training data\n",
    "format:\n",
    "  html:\n",
    "    code-fold: false\n",
    "---"
   ]
  },
  {
   "cell_type": "code",
   "execution_count": null,
   "metadata": {},
   "outputs": [],
   "source": [
    "import os\n",
    "import sys\n",
    "\n",
    "sys.path.append(\"../../../\")\n",
    "\n",
    "import getpass\n",
    "import json\n",
    "from pathlib import Path\n",
    "\n",
    "import geopandas as gpd\n",
    "import numpy as np\n",
    "import pandas as pd\n",
    "from sklearn.preprocessing import MinMaxScaler\n",
    "\n",
    "from povertymapping import dhs, feature_engineering, iso3, nightlights, settings\n",
    "\n",
    "%reload_ext autoreload\n",
    "%autoreload 2"
   ]
  },
  {
   "attachments": {},
   "cell_type": "markdown",
   "metadata": {},
   "source": [
    "## Set Parameters"
   ]
  },
  {
   "cell_type": "code",
   "execution_count": null,
   "metadata": {
    "tags": [
     "parameters"
    ]
   },
   "outputs": [],
   "source": [
    "# These configure some params for the feature engineering steps.\n",
    "COUNTRY_CODE = 'tl'\n",
    "COUNTRY_OSM = 'east-timor'\n",
    "OOKLA_YEAR = 2019\n",
    "NIGHTLIGHTS_YEAR = 2016\n",
    "ROLLOUT_DATE = None\n",
    "DHS_DTA_PREFIX = 'dhs/tl/TLHR71DT/TLHR71FL'\n",
    "DHS_GEO_PREFIX = 'dhs/tl/TLGE71FL/TLGE71FL'"
   ]
  },
  {
   "cell_type": "code",
   "execution_count": null,
   "metadata": {
    "tags": []
   },
   "outputs": [],
   "source": [
    "DATA_DIR = settings.DATA_DIR.resolve()\n",
    "ROLLOUT_DIR = DATA_DIR/f\"rollout/{COUNTRY_CODE}\"\n",
    "ROLLOUT_DIR.mkdir(parents=True,exist_ok=True)"
   ]
  },
  {
   "cell_type": "code",
   "execution_count": null,
   "metadata": {
    "tags": []
   },
   "outputs": [],
   "source": [
    "# You need to download these datasets from the DHS website before running this notebook.\n",
    "DHS_HOUSEHOLD_DTA_PATH = Path(settings.DATA_DIR / f\"{DHS_DTA_PREFIX}.DTA\")\n",
    "DHS_GEOGRAPHIC_SHP_PATH = Path(settings.DATA_DIR / f\"{DHS_GEO_PREFIX}.shp\")\n",
    "\n",
    "# Indicate name of column from dhs data that will be used as the label for training\n",
    "DHS_LABEL_COL = \"Wealth Index\"\n",
    "OUTPUT_LABEL_COL = \"Wealth Index - Scaled\"\n",
    "\n",
    "# Tile size for the area around a DHS household cluster to generate features for.\n",
    "# We set this to 2.4km to match target rollout size of Bing Tile Zoom Level 14 (~2.4km)\n",
    "TILE_SIZE_KM = 2.4\n",
    "\n",
    "# For convenience, consider the rollout version as the date of the root notebook folder.\n",
    "ROLLOUT_DATE = \"-\".join(os.getcwd().split(\"/\")[-2].split(\"-\")[:3]) if ROLLOUT_DATE is None else ROLLOUT_DATE"
   ]
  },
  {
   "attachments": {},
   "cell_type": "markdown",
   "metadata": {},
   "source": [
    "## Set up EOG API Access\n",
    "The following cell will prompt you to enter your EOG username and password. See [this page](https://eogdata.mines.edu/products/register/) to learn how to set-up your EOG account."
   ]
  },
  {
   "cell_type": "code",
   "execution_count": null,
   "metadata": {},
   "outputs": [],
   "source": [
    "#papermill_description=\"EOG Token Setup\"\n",
    "# Log-in using EOG credentials\n",
    "username = os.environ.get(\"EOG_USER\", None)\n",
    "username = username if username is not None else input(\"Username?\")\n",
    "password = os.environ.get(\"EOG_PASSWORD\", None)\n",
    "password = password if password is not None else getpass.getpass(\"Password?\")\n",
    "\n",
    "# set save_token to True so that access token gets stored in ~/.eog_creds/eog_access_token\n",
    "access_token = nightlights.get_eog_access_token(username, password, save_token=True)"
   ]
  },
  {
   "attachments": {},
   "cell_type": "markdown",
   "metadata": {},
   "source": [
    "## Load DHS Data"
   ]
  },
  {
   "cell_type": "code",
   "execution_count": null,
   "metadata": {},
   "outputs": [],
   "source": [
    "#papermill_description=\"Generate DHS Cluster level data\"\n",
    "dhs_gdf = dhs.generate_dhs_cluster_level_data(\n",
    "    DHS_HOUSEHOLD_DTA_PATH,\n",
    "    DHS_GEOGRAPHIC_SHP_PATH,\n",
    "    col_rename_config=COUNTRY_CODE,\n",
    "    convert_geoms_to_bbox=True,\n",
    "    bbox_size_km=TILE_SIZE_KM,\n",
    ").reset_index(drop=True)"
   ]
  },
  {
   "cell_type": "code",
   "execution_count": null,
   "metadata": {},
   "outputs": [],
   "source": [
    "# Uncomment to view interactive map\n",
    "# dhs_gdf.explore()"
   ]
  },
  {
   "cell_type": "code",
   "execution_count": null,
   "metadata": {},
   "outputs": [],
   "source": [
    "# Inspect the generated data\n",
    "dhs_gdf.head(3)"
   ]
  },
  {
   "attachments": {},
   "cell_type": "markdown",
   "metadata": {},
   "source": [
    "## Feature Engineering and Label Pre-processing\n",
    "\n",
    "If this is your first time running this notebook for this specific country, expect a long runtime for the following cell as it will download and cache the required datasets. It will then process the relevant features for each area specified. On subsequent runs, the runtime will be much faster as the data is already stored in your filesystem. "
   ]
  },
  {
   "cell_type": "code",
   "execution_count": null,
   "metadata": {},
   "outputs": [],
   "source": [
    "%%time\n",
    "#papermill_description=\"Scale label columns\"\n",
    "scaler = MinMaxScaler\n",
    "country_data = dhs_gdf.copy()\n",
    "\n",
    "# Create labels dataframe by scaling the specified dhs_label_col (ex. Wealth Index)\n",
    "labels = scaler().fit_transform(country_data[[DHS_LABEL_COL]])\n",
    "labels = pd.DataFrame(labels, columns=[OUTPUT_LABEL_COL])"
   ]
  },
  {
   "cell_type": "code",
   "execution_count": null,
   "metadata": {},
   "outputs": [],
   "source": [
    "#papermill_description=\"Create features dataframe using generate_features module\"\n",
    "features = feature_engineering.generate_features(\n",
    "    country_data,\n",
    "    country_osm=COUNTRY_OSM,\n",
    "    ookla_year=OOKLA_YEAR,\n",
    "    nightlights_year=NIGHTLIGHTS_YEAR,\n",
    "    scale=False,\n",
    "    features_only=True,\n",
    ")"
   ]
  },
  {
   "cell_type": "code",
   "execution_count": null,
   "metadata": {},
   "outputs": [],
   "source": [
    "features.describe()"
   ]
  },
  {
   "cell_type": "code",
   "execution_count": null,
   "metadata": {},
   "outputs": [],
   "source": [
    "labels.hist()"
   ]
  },
  {
   "attachments": {},
   "cell_type": "markdown",
   "metadata": {},
   "source": [
    "# Save training data and column metadata"
   ]
  },
  {
   "cell_type": "code",
   "execution_count": null,
   "metadata": {},
   "outputs": [],
   "source": [
    "#papermill_description=\"Write training data\"\n",
    "data_gdf = pd.concat([dhs_gdf, features, labels], axis=1)\n",
    "data_gdf.to_csv(f\"{ROLLOUT_DIR}/{ROLLOUT_DATE}-training-data.csv\", index=False)"
   ]
  },
  {
   "cell_type": "code",
   "execution_count": null,
   "metadata": {},
   "outputs": [],
   "source": [
    "#papermill_description=\"Write training data columns\"\n",
    "feature_cols = features.columns.tolist()\n",
    "metadata_cols = [\n",
    "    col for col in data_gdf if col not in feature_cols and col != OUTPUT_LABEL_COL\n",
    "]\n",
    "\n",
    "metadata = {\n",
    "    \"features\": feature_cols,\n",
    "    \"label\": OUTPUT_LABEL_COL,\n",
    "    \"metadata\": metadata_cols,\n",
    "}\n",
    "\n",
    "filepath = f\"{ROLLOUT_DIR}/{ROLLOUT_DATE}-training-data-columns.json\"\n",
    "with open(filepath, \"w\") as file:\n",
    "    json.dump(metadata, file, indent=4)"
   ]
  }
 ],
 "metadata": {
  "kernelspec": {
   "display_name": "Python 3 (ipykernel)",
   "language": "python",
   "name": "python3"
  },
  "language_info": {
   "codemirror_mode": {
    "name": "ipython",
    "version": 3
   },
   "file_extension": ".py",
   "mimetype": "text/x-python",
   "name": "python",
   "nbconvert_exporter": "python",
   "pygments_lexer": "ipython3",
   "version": "3.9.16"
  }
 },
 "nbformat": 4,
 "nbformat_minor": 4
}

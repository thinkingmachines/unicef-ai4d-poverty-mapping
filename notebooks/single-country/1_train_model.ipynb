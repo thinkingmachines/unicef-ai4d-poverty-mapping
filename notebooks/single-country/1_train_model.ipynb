{
 "cells": [
  {
   "cell_type": "raw",
   "metadata": {},
   "source": [
    "---\n",
    "title: Train model\n",
    "format:\n",
    "  html:\n",
    "    code-fold: false\n",
    "---"
   ]
  },
  {
   "cell_type": "code",
   "execution_count": null,
   "metadata": {},
   "outputs": [],
   "source": [
    "import os\n",
    "import sys\n",
    "\n",
    "sys.path.append(\"../../../\")\n",
    "\n",
    "import json\n",
    "import pickle\n",
    "\n",
    "import fasttreeshap\n",
    "import numpy as np\n",
    "import pandas as pd\n",
    "import shap\n",
    "from sklearn.model_selection import RepeatedKFold, cross_val_score\n",
    "from povertymapping import settings\n",
    "%reload_ext autoreload\n",
    "%autoreload 2"
   ]
  },
  {
   "cell_type": "markdown",
   "metadata": {},
   "source": [
    "# Load Training Data"
   ]
  },
  {
   "cell_type": "code",
   "execution_count": null,
   "metadata": {
    "tags": [
     "parameters"
    ]
   },
   "outputs": [],
   "source": [
    "COUNTRY_CODE = \"tl\"\n",
    "ROLLOUT_DATE = None"
   ]
  },
  {
   "cell_type": "code",
   "execution_count": null,
   "metadata": {
    "tags": []
   },
   "outputs": [],
   "source": [
    "DATA_DIR = settings.DATA_DIR.resolve()\n",
    "ROLLOUT_DIR = DATA_DIR/f\"rollout/{COUNTRY_CODE}\"\n",
    "ROLLOUT_DIR.mkdir(parents=True,exist_ok=True)"
   ]
  },
  {
   "cell_type": "code",
   "execution_count": null,
   "metadata": {
    "tags": []
   },
   "outputs": [],
   "source": [
    "ROLLOUT_DATE = \"-\".join(os.getcwd().split(\"/\")[-2].split(\"-\")[:3]) if ROLLOUT_DATE is None else ROLLOUT_DATE"
   ]
  },
  {
   "cell_type": "code",
   "execution_count": null,
   "metadata": {},
   "outputs": [],
   "source": [
    "# CSV file contains all data\n",
    "# Metadata JSON file lists the feature columns and label column\n",
    "data = pd.read_csv(f\"{ROLLOUT_DIR}/{ROLLOUT_DATE}-training-data.csv\")\n",
    "with open(f\"{ROLLOUT_DIR}/{ROLLOUT_DATE}-training-data-columns.json\", \"r\") as file:\n",
    "    column_metadata = json.load(file)\n",
    "\n",
    "features = data[column_metadata[\"features\"]]\n",
    "labels = data[column_metadata[\"label\"]]"
   ]
  },
  {
   "cell_type": "markdown",
   "metadata": {},
   "source": [
    "# Cross-Validation"
   ]
  },
  {
   "cell_type": "code",
   "execution_count": null,
   "metadata": {
    "tags": [
     "parameters"
    ]
   },
   "outputs": [],
   "source": [
    "# Set parameters\n",
    "CV_K_FOLDS = 5\n",
    "CV_NUM_REPEATS = 5\n",
    "RANDOM_SEED = 42"
   ]
  },
  {
   "cell_type": "code",
   "execution_count": null,
   "metadata": {},
   "outputs": [],
   "source": [
    "print(f\"Performing {CV_K_FOLDS}-fold CV...\")\n",
    "cv = RepeatedKFold(\n",
    "    n_splits=CV_K_FOLDS,\n",
    "    n_repeats=CV_NUM_REPEATS,\n",
    "    random_state=RANDOM_SEED,\n",
    ")\n",
    "\n",
    "print(cv.split(features))"
   ]
  },
  {
   "cell_type": "code",
   "execution_count": null,
   "metadata": {},
   "outputs": [],
   "source": [
    "#papermill_description=\"Compute cross validation scores\"\n",
    "from sklearn.ensemble import RandomForestRegressor\n",
    "\n",
    "model = RandomForestRegressor(n_estimators=100, random_state=RANDOM_SEED, verbose=0)\n",
    "\n",
    "R_cv = cross_val_score(model, features.values, labels.values.ravel(), cv=cv)\n",
    "cv_mean = round(np.array(R_cv).mean(), 2)\n",
    "cv_std = round(np.array(R_cv).std(), 2)\n",
    "\n",
    "print(\"Cross validation scores are: \", R_cv)\n",
    "print(f\"Cross validation R^2 mean: {cv_mean}\")\n",
    "print(f\"Cross validation R^2 std: {cv_std}\")"
   ]
  },
  {
   "cell_type": "markdown",
   "metadata": {},
   "source": [
    "# Train the final model\n",
    "\n",
    "For training the final model, we train on all the available data."
   ]
  },
  {
   "cell_type": "code",
   "execution_count": null,
   "metadata": {},
   "outputs": [],
   "source": [
    "#papermill_description=\"Train final model\"\n",
    "model = RandomForestRegressor(n_estimators=100, random_state=RANDOM_SEED, verbose=0)\n",
    "model.fit(features.values, labels.values.ravel())"
   ]
  },
  {
   "cell_type": "code",
   "execution_count": null,
   "metadata": {},
   "outputs": [],
   "source": [
    "#papermill_description=\"Save final model\"\n",
    "model_save_path = f\"{ROLLOUT_DIR}/{ROLLOUT_DATE}-{COUNTRY_CODE}-single-country-model.pkl\"\n",
    "with open(model_save_path, \"wb\") as file:\n",
    "    pickle.dump(model, file)"
   ]
  },
  {
   "cell_type": "markdown",
   "metadata": {},
   "source": [
    "# SHAP"
   ]
  },
  {
   "cell_type": "code",
   "execution_count": null,
   "metadata": {},
   "outputs": [],
   "source": [
    "explainer = fasttreeshap.TreeExplainer(model, algorithm=\"auto\", n_jobs=-1)\n",
    "shap_values = explainer(features).values"
   ]
  },
  {
   "cell_type": "code",
   "execution_count": null,
   "metadata": {},
   "outputs": [],
   "source": [
    "shap.summary_plot(\n",
    "    shap_values, features, feature_names=features.columns, plot_type=\"bar\"\n",
    ")"
   ]
  },
  {
   "cell_type": "code",
   "execution_count": null,
   "metadata": {},
   "outputs": [],
   "source": [
    "shap.summary_plot(shap_values, features.values, feature_names=features.columns)"
   ]
  },
  {
   "cell_type": "code",
   "execution_count": null,
   "metadata": {},
   "outputs": [],
   "source": []
  }
 ],
 "metadata": {
  "kernelspec": {
   "display_name": "Python 3 (ipykernel)",
   "language": "python",
   "name": "python3"
  },
  "language_info": {
   "codemirror_mode": {
    "name": "ipython",
    "version": 3
   },
   "file_extension": ".py",
   "mimetype": "text/x-python",
   "name": "python",
   "nbconvert_exporter": "python",
   "pygments_lexer": "ipython3",
   "version": "3.9.16"
  }
 },
 "nbformat": 4,
 "nbformat_minor": 4
}

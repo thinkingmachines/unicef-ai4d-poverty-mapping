{
 "cells": [
  {
   "cell_type": "raw",
   "metadata": {},
   "source": [
    "---\n",
    "title: Generate rollout grids\n",
    "format:\n",
    "  html:\n",
    "    code-fold: false\n",
    "---"
   ]
  },
  {
   "cell_type": "code",
   "execution_count": 1,
   "metadata": {},
   "outputs": [],
   "source": [
    "%matplotlib inline\n",
    "%reload_ext autoreload\n",
    "%autoreload 2"
   ]
  },
  {
   "cell_type": "code",
   "execution_count": 2,
   "metadata": {},
   "outputs": [],
   "source": [
    "import sys\n",
    "\n",
    "sys.path.append(\"../../../\")\n",
    "import os\n",
    "from pathlib import Path\n",
    "\n",
    "import geopandas as gpd\n",
    "import pandas as pd\n",
    "import requests\n",
    "\n",
    "from povertymapping import settings\n",
    "from povertymapping.iso3 import get_region_name\n",
    "from povertymapping.rollout_grids import (\n",
    "    compute_raster_stats,\n",
    "    get_region_filtered_bingtile_grids,\n",
    ")"
   ]
  },
  {
   "attachments": {},
   "cell_type": "markdown",
   "metadata": {},
   "source": [
    "# Generate Rollout Grids: Myanmar\n",
    "\n",
    "This notebook generates the rollout grid tiles over the country. The output file is used as an input for Step 3, where we will run the trained model over the set of grids.\n",
    "\n",
    "The generated grids are set at 2.4km (zoom level 14), matching the grids used during model training. The grids are also filtered to only include populated areas based on a gridded population data.\n",
    "\n",
    "**Notes on Myanmar**\n",
    "\n",
    "As of time of writing, HRSL population data for Myanmar is not available in the HDX site, which will cause `hdx.get_hdx_file` to fail. We use population data downloaded from [WorldPop](https://data.humdata.org/dataset/worldpop-population-counts-for-myanmar) instead to filter the grids."
   ]
  },
  {
   "cell_type": "code",
   "execution_count": 3,
   "metadata": {},
   "outputs": [
    {
     "name": "stdout",
     "output_type": "stream",
     "text": [
      "File ‘/home/alron/unicef-ai4d-poverty-mapping/notebooks/2023-02-21-single-country-rollouts/mm/../../../data/worldpop/mm/mmr_ppp_2020_UNadj_constrained.tif’ already there; not retrieving.\n"
     ]
    }
   ],
   "source": [
    "# This auto-downloads the data\n",
    "pop_file = settings.DATA_DIR / \"worldpop/mm/mmr_ppp_2020_UNadj_constrained.tif\"\n",
    "url = \"https://data.worldpop.org/GIS/Population/Global_2000_2020/2016/MMR/mmr_ppp_2020_UNadj_constrained.tif\"\n",
    "\n",
    "\n",
    "Path(pop_file).parent.mkdir(parents=True, exist_ok=True)\n",
    "!wget -nc $url -O $pop_file "
   ]
  },
  {
   "attachments": {},
   "cell_type": "markdown",
   "metadata": {},
   "source": [
    "## Set country-specific parameters"
   ]
  },
  {
   "cell_type": "code",
   "execution_count": 4,
   "metadata": {},
   "outputs": [],
   "source": [
    "COUNTRY_CODE = \"mm\"\n",
    "REGION = get_region_name(COUNTRY_CODE, code=\"alpha-2\").lower()\n",
    "ADMIN_LVL = \"ADM2\"\n",
    "ZOOM_LEVEL = 14\n",
    "GROUP_ZOOM_LEVEL = 10"
   ]
  },
  {
   "attachments": {},
   "cell_type": "markdown",
   "metadata": {},
   "source": [
    "## Generate Grids"
   ]
  },
  {
   "cell_type": "code",
   "execution_count": 5,
   "metadata": {},
   "outputs": [
    {
     "name": "stderr",
     "output_type": "stream",
     "text": [
      "2023-04-16 22:45:23.771 | INFO     | povertymapping.rollout_grids:get_region_filtered_bingtile_grids:260 - Loading cached grids file /home/alron/.cache/geowrangler/quadkey_grids/myanmar_14_ADM2_admin_grids.geojson\n"
     ]
    }
   ],
   "source": [
    "admin_grids_gdf = get_region_filtered_bingtile_grids(\n",
    "    REGION,\n",
    "    admin_lvl=ADMIN_LVL,\n",
    "    quadkey_lvl=ZOOM_LEVEL,\n",
    "    use_cache=True,\n",
    "    filter_population=False,  # We set this to False to not trigger an HDX download\n",
    ")"
   ]
  },
  {
   "attachments": {},
   "cell_type": "markdown",
   "metadata": {},
   "source": [
    "## Compute Population Per Grid\n",
    "\n",
    "For this calculation, we will calculate the population, batched based on groups calculated from the quadkey. By getting the first n digits of the quadkey, we are able to get the zoom level n quadkey to which that tile belongs to. \n",
    "\n",
    "Ex. if we group based on zoom level 10 the quadkey `31000101131223` belongs to the grouping `3100010113`.\n",
    "\n",
    "This grouping ensures that the tile groupings are geographically close to one another, which reduces the raster window size that we needed to calculate the population count. \n",
    "\n",
    "For more information about quadkeys, see [Bing Maps Tile System](https://learn.microsoft.com/en-us/bingmaps/articles/bing-maps-tile-system)."
   ]
  },
  {
   "cell_type": "code",
   "execution_count": 6,
   "metadata": {},
   "outputs": [
    {
     "data": {
      "text/html": [
       "<div>\n",
       "<style scoped>\n",
       "    .dataframe tbody tr th:only-of-type {\n",
       "        vertical-align: middle;\n",
       "    }\n",
       "\n",
       "    .dataframe tbody tr th {\n",
       "        vertical-align: top;\n",
       "    }\n",
       "\n",
       "    .dataframe thead th {\n",
       "        text-align: right;\n",
       "    }\n",
       "</style>\n",
       "<table border=\"1\" class=\"dataframe\">\n",
       "  <thead>\n",
       "    <tr style=\"text-align: right;\">\n",
       "      <th></th>\n",
       "      <th>quadkey</th>\n",
       "      <th>shapeName</th>\n",
       "      <th>shapeISO</th>\n",
       "      <th>shapeID</th>\n",
       "      <th>shapeGroup</th>\n",
       "      <th>shapeType</th>\n",
       "      <th>geometry</th>\n",
       "      <th>quadkey_level10</th>\n",
       "    </tr>\n",
       "  </thead>\n",
       "  <tbody>\n",
       "    <tr>\n",
       "      <th>0</th>\n",
       "      <td>13220212231203</td>\n",
       "      <td>Yangon (South)</td>\n",
       "      <td>None</td>\n",
       "      <td>MMR-ADM2-3_0_0-B72</td>\n",
       "      <td>MMR</td>\n",
       "      <td>ADM2</td>\n",
       "      <td>POLYGON ((93.36182 14.13658, 93.36182 14.15788...</td>\n",
       "      <td>1322021223</td>\n",
       "    </tr>\n",
       "    <tr>\n",
       "      <th>1</th>\n",
       "      <td>13220212231221</td>\n",
       "      <td>Yangon (South)</td>\n",
       "      <td>None</td>\n",
       "      <td>MMR-ADM2-3_0_0-B72</td>\n",
       "      <td>MMR</td>\n",
       "      <td>ADM2</td>\n",
       "      <td>POLYGON ((93.36182 14.11527, 93.36182 14.13658...</td>\n",
       "      <td>1322021223</td>\n",
       "    </tr>\n",
       "    <tr>\n",
       "      <th>2</th>\n",
       "      <td>13220212231223</td>\n",
       "      <td>Yangon (South)</td>\n",
       "      <td>None</td>\n",
       "      <td>MMR-ADM2-3_0_0-B72</td>\n",
       "      <td>MMR</td>\n",
       "      <td>ADM2</td>\n",
       "      <td>POLYGON ((93.36182 14.09396, 93.36182 14.11527...</td>\n",
       "      <td>1322021223</td>\n",
       "    </tr>\n",
       "  </tbody>\n",
       "</table>\n",
       "</div>"
      ],
      "text/plain": [
       "          quadkey       shapeName shapeISO             shapeID shapeGroup  \\\n",
       "0  13220212231203  Yangon (South)     None  MMR-ADM2-3_0_0-B72        MMR   \n",
       "1  13220212231221  Yangon (South)     None  MMR-ADM2-3_0_0-B72        MMR   \n",
       "2  13220212231223  Yangon (South)     None  MMR-ADM2-3_0_0-B72        MMR   \n",
       "\n",
       "  shapeType                                           geometry quadkey_level10  \n",
       "0      ADM2  POLYGON ((93.36182 14.13658, 93.36182 14.15788...      1322021223  \n",
       "1      ADM2  POLYGON ((93.36182 14.11527, 93.36182 14.13658...      1322021223  \n",
       "2      ADM2  POLYGON ((93.36182 14.09396, 93.36182 14.11527...      1322021223  "
      ]
     },
     "execution_count": 6,
     "metadata": {},
     "output_type": "execute_result"
    }
   ],
   "source": [
    "quadkey_group_col = f\"quadkey_level{GROUP_ZOOM_LEVEL}\"\n",
    "admin_grids_gdf[quadkey_group_col] = admin_grids_gdf[\"quadkey\"].str[:GROUP_ZOOM_LEVEL]\n",
    "admin_grids_gdf.head(3)"
   ]
  },
  {
   "attachments": {},
   "cell_type": "markdown",
   "metadata": {},
   "source": [
    "### Compute population per grid tile and filter to populated areas only"
   ]
  },
  {
   "cell_type": "code",
   "execution_count": 7,
   "metadata": {},
   "outputs": [],
   "source": [
    "# For Worldpop data only: set aggregation settings\n",
    "aggregation = dict(column=\"population\", output=\"pop_count\", func=\"sum\")\n",
    "extra_args = dict(nodata=-99999)"
   ]
  },
  {
   "cell_type": "code",
   "execution_count": 8,
   "metadata": {},
   "outputs": [
    {
     "name": "stderr",
     "output_type": "stream",
     "text": [
      "2023-04-16 22:45:34.028 | INFO     | povertymapping.rollout_grids:compute_raster_stats:72 - Creating raster zonal stats for 133637 grids for file size 8.619787 Mb, batched in 647 unique group/s from quadkey_level10\n",
      "2023-04-16 22:45:34.029 | WARNING  | povertymapping.rollout_grids:compute_raster_stats:75 - When batching by group, output gdf rows will be ordered based on the group.\n",
      "100%|██████████| 647/647 [03:11<00:00,  3.38it/s]\n",
      "2023-04-16 22:48:45.623 | INFO     | povertymapping.rollout_grids:compute_raster_stats:90 - Completed raster zonal stats for 647 groups\n",
      "2023-04-16 22:48:45.703 | INFO     | povertymapping.rollout_grids:compute_raster_stats:92 - Concatenated raster zonal stats for 647 groups\n"
     ]
    }
   ],
   "source": [
    "# For Worldpop data only: compute population totals per grid\n",
    "admin_grids_pop_count = compute_raster_stats(\n",
    "    admin_grids_gdf,\n",
    "    pop_file,\n",
    "    aggregation=aggregation,\n",
    "    extra_args=extra_args,\n",
    "    group_col=quadkey_group_col,\n",
    "    max_batch_size=None,\n",
    "    n_workers=2,\n",
    ")"
   ]
  },
  {
   "cell_type": "code",
   "execution_count": 9,
   "metadata": {},
   "outputs": [
    {
     "name": "stdout",
     "output_type": "stream",
     "text": [
      "<class 'geopandas.geodataframe.GeoDataFrame'>\n",
      "RangeIndex: 27830 entries, 0 to 27829\n",
      "Data columns (total 9 columns):\n",
      " #   Column           Non-Null Count  Dtype   \n",
      "---  ------           --------------  -----   \n",
      " 0   quadkey          27830 non-null  object  \n",
      " 1   shapeName        27830 non-null  object  \n",
      " 2   shapeISO         27830 non-null  object  \n",
      " 3   shapeID          27830 non-null  object  \n",
      " 4   shapeGroup       27830 non-null  object  \n",
      " 5   shapeType        27830 non-null  object  \n",
      " 6   geometry         27830 non-null  geometry\n",
      " 7   quadkey_level10  27830 non-null  object  \n",
      " 8   pop_count        27830 non-null  float64 \n",
      "dtypes: float64(1), geometry(1), object(7)\n",
      "memory usage: 1.9+ MB\n"
     ]
    }
   ],
   "source": [
    "admin_grids_filtered = admin_grids_pop_count[admin_grids_pop_count[\"pop_count\"] > 0]\n",
    "admin_grids_filtered = admin_grids_filtered.reset_index(drop=True)\n",
    "admin_grids_filtered.info()"
   ]
  },
  {
   "attachments": {},
   "cell_type": "markdown",
   "metadata": {},
   "source": [
    "## Explore Populated Grids"
   ]
  },
  {
   "cell_type": "code",
   "execution_count": 10,
   "metadata": {},
   "outputs": [
    {
     "name": "stdout",
     "output_type": "stream",
     "text": [
      "<class 'geopandas.geodataframe.GeoDataFrame'>\n",
      "RangeIndex: 27830 entries, 0 to 27829\n",
      "Data columns (total 9 columns):\n",
      " #   Column           Non-Null Count  Dtype   \n",
      "---  ------           --------------  -----   \n",
      " 0   quadkey          27830 non-null  object  \n",
      " 1   shapeName        27830 non-null  object  \n",
      " 2   shapeISO         27830 non-null  object  \n",
      " 3   shapeID          27830 non-null  object  \n",
      " 4   shapeGroup       27830 non-null  object  \n",
      " 5   shapeType        27830 non-null  object  \n",
      " 6   geometry         27830 non-null  geometry\n",
      " 7   quadkey_level10  27830 non-null  object  \n",
      " 8   pop_count        27830 non-null  float64 \n",
      "dtypes: float64(1), geometry(1), object(7)\n",
      "memory usage: 1.9+ MB\n"
     ]
    }
   ],
   "source": [
    "admin_grids_filtered.info()"
   ]
  },
  {
   "cell_type": "code",
   "execution_count": 11,
   "metadata": {},
   "outputs": [
    {
     "data": {
      "text/html": [
       "<div>\n",
       "<style scoped>\n",
       "    .dataframe tbody tr th:only-of-type {\n",
       "        vertical-align: middle;\n",
       "    }\n",
       "\n",
       "    .dataframe tbody tr th {\n",
       "        vertical-align: top;\n",
       "    }\n",
       "\n",
       "    .dataframe thead th {\n",
       "        text-align: right;\n",
       "    }\n",
       "</style>\n",
       "<table border=\"1\" class=\"dataframe\">\n",
       "  <thead>\n",
       "    <tr style=\"text-align: right;\">\n",
       "      <th></th>\n",
       "      <th>quadkey</th>\n",
       "      <th>shapeName</th>\n",
       "      <th>shapeISO</th>\n",
       "      <th>shapeID</th>\n",
       "      <th>shapeGroup</th>\n",
       "      <th>shapeType</th>\n",
       "      <th>geometry</th>\n",
       "      <th>quadkey_level10</th>\n",
       "      <th>pop_count</th>\n",
       "    </tr>\n",
       "  </thead>\n",
       "  <tbody>\n",
       "    <tr>\n",
       "      <th>0</th>\n",
       "      <td>13220212231203</td>\n",
       "      <td>Yangon (South)</td>\n",
       "      <td>None</td>\n",
       "      <td>MMR-ADM2-3_0_0-B72</td>\n",
       "      <td>MMR</td>\n",
       "      <td>ADM2</td>\n",
       "      <td>POLYGON ((93.36182 14.13658, 93.36182 14.15788...</td>\n",
       "      <td>1322021223</td>\n",
       "      <td>1646.340576</td>\n",
       "    </tr>\n",
       "    <tr>\n",
       "      <th>1</th>\n",
       "      <td>13220212231221</td>\n",
       "      <td>Yangon (South)</td>\n",
       "      <td>None</td>\n",
       "      <td>MMR-ADM2-3_0_0-B72</td>\n",
       "      <td>MMR</td>\n",
       "      <td>ADM2</td>\n",
       "      <td>POLYGON ((93.36182 14.11527, 93.36182 14.13658...</td>\n",
       "      <td>1322021223</td>\n",
       "      <td>749.037048</td>\n",
       "    </tr>\n",
       "  </tbody>\n",
       "</table>\n",
       "</div>"
      ],
      "text/plain": [
       "          quadkey       shapeName shapeISO             shapeID shapeGroup  \\\n",
       "0  13220212231203  Yangon (South)     None  MMR-ADM2-3_0_0-B72        MMR   \n",
       "1  13220212231221  Yangon (South)     None  MMR-ADM2-3_0_0-B72        MMR   \n",
       "\n",
       "  shapeType                                           geometry  \\\n",
       "0      ADM2  POLYGON ((93.36182 14.13658, 93.36182 14.15788...   \n",
       "1      ADM2  POLYGON ((93.36182 14.11527, 93.36182 14.13658...   \n",
       "\n",
       "  quadkey_level10    pop_count  \n",
       "0      1322021223  1646.340576  \n",
       "1      1322021223   749.037048  "
      ]
     },
     "execution_count": 11,
     "metadata": {},
     "output_type": "execute_result"
    }
   ],
   "source": [
    "admin_grids_filtered.head(2)"
   ]
  },
  {
   "cell_type": "code",
   "execution_count": 12,
   "metadata": {},
   "outputs": [],
   "source": [
    "# Uncomment to view interactive map\n",
    "# admin_grids_filtered.explore()"
   ]
  },
  {
   "attachments": {},
   "cell_type": "markdown",
   "metadata": {},
   "source": [
    "## Save to file"
   ]
  },
  {
   "cell_type": "code",
   "execution_count": 13,
   "metadata": {},
   "outputs": [],
   "source": [
    "rollout_date = \"-\".join(os.getcwd().split(\"/\")[-2].split(\"-\")[:3])\n",
    "grid_save_path = f\"./{rollout_date}-{COUNTRY_CODE}-rollout-grids.geojson\"\n",
    "admin_grids_filtered.to_file(grid_save_path, driver=\"GeoJSON\", index=False)"
   ]
  }
 ],
 "metadata": {
  "kernelspec": {
   "display_name": "Python 3",
   "language": "python",
   "name": "python3"
  },
  "language_info": {
   "codemirror_mode": {
    "name": "ipython",
    "version": 3
   },
   "file_extension": ".py",
   "mimetype": "text/x-python",
   "name": "python",
   "nbconvert_exporter": "python",
   "pygments_lexer": "ipython3",
   "version": "3.9.15"
  },
  "orig_nbformat": 4,
  "vscode": {
   "interpreter": {
    "hash": "a9c652687746b7e37dd5eba4a53c758a3d21cd9cb60962b6bb30d0de25d1ae14"
   }
  }
 },
 "nbformat": 4,
 "nbformat_minor": 2
}

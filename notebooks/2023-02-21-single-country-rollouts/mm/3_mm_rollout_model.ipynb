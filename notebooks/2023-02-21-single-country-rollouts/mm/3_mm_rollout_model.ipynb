{
 "cells": [
  {
   "cell_type": "raw",
   "metadata": {},
   "source": [
    "---\n",
    "title: Myanmar Model Rollout Part 3 (Feature Engineering and Model Prediction on Rollout Grids)\n",
    "format:\n",
    "  html:\n",
    "    code-fold: false\n",
    "---"
   ]
  },
  {
   "cell_type": "code",
   "execution_count": 1,
   "metadata": {},
   "outputs": [],
   "source": [
    "%matplotlib inline\n",
    "%reload_ext autoreload\n",
    "%autoreload 2"
   ]
  },
  {
   "cell_type": "code",
   "execution_count": 2,
   "metadata": {},
   "outputs": [
    {
     "name": "stderr",
     "output_type": "stream",
     "text": [
      "/home/jace/workspace/unicef-ai4d-poverty-mapping/env/lib/python3.9/site-packages/geopandas/_compat.py:111: UserWarning: The Shapely GEOS version (3.11.1-CAPI-1.17.1) is incompatible with the GEOS version PyGEOS was compiled with (3.10.1-CAPI-1.16.0). Conversions between both will be slow.\n",
      "  warnings.warn(\n"
     ]
    }
   ],
   "source": [
    "import sys\n",
    "import os\n",
    "sys.path.append(\"../../\")\n",
    "\n",
    "import pickle\n",
    "import geopandas as gpd\n",
    "from pathlib import Path\n",
    "import getpass\n",
    "from sklearn.preprocessing import StandardScaler\n",
    "\n",
    "from povertymapping.rollout_grids import get_region_filtered_bingtile_grids \n",
    "from povertymapping import settings, nightlights\n",
    "from povertymapping.iso3 import get_iso3_code\n",
    "from povertymapping.dhs import generate_dhs_cluster_level_data\n",
    "from povertymapping.feature_engineering import generate_features, categorize_wealth_index"
   ]
  },
  {
   "attachments": {},
   "cell_type": "markdown",
   "metadata": {},
   "source": [
    "# Myanmar Model Rollout Part 3 (Feature Engineering and Model Prediction on Rollout Grids)\n",
    "\n",
    "This notebook runs the final model to create relative wealth estimations over populated areas within the given country. The model predictions will have a spatial resolution of 2.4km.\n",
    "\n",
    "The `predicted relative wealth` value is calculated as the number of standard deviations away from the overall country-mean DHS wealth index, and gives us the relative wealth level of that area compared to the rest of the country. For example, an area with `y=0` is at the average wealth value, while an area with `y=1` means that it's richer than the average area by 1 standard deviation.\n",
    "\n",
    "The predicted relative wealth value is later binned into 5 wealth categories A-E based on a split quintile approach. "
   ]
  },
  {
   "cell_type": "markdown",
   "metadata": {},
   "source": [
    "## Set up Data Access\n",
    "The following cell will prompt you to enter your EOG username and password. See [this page](https://eogdata.mines.edu/products/register/) to learn how to set-up your EOG account."
   ]
  },
  {
   "cell_type": "code",
   "execution_count": 3,
   "metadata": {},
   "outputs": [
    {
     "name": "stderr",
     "output_type": "stream",
     "text": [
      "2023-03-15 08:12:29.098 | INFO     | povertymapping.nightlights:get_eog_access_token:48 - Saving access_token to ~/.eog_creds/eog_access_token\n",
      "2023-03-15 08:12:29.104 | INFO     | povertymapping.nightlights:get_eog_access_token:56 - Adding access token to environmentt var EOG_ACCESS_TOKEN\n"
     ]
    }
   ],
   "source": [
    "# Log-in using EOG credentials\n",
    "username = os.environ.get('EOG_USER',None)\n",
    "username = username if username is not None else input('Username?')\n",
    "password = os.environ.get('EOG_PASSWORD',None)\n",
    "password = password if password is not None else getpass.getpass('Password?') \n",
    "\n",
    "# set save_token to True so that access token gets stored in ~/.eog_creds/eog_access_token\n",
    "access_token = nightlights.get_eog_access_token(username,password, save_token=True)"
   ]
  },
  {
   "attachments": {},
   "cell_type": "markdown",
   "metadata": {},
   "source": [
    "## Set country-specific parameters"
   ]
  },
  {
   "cell_type": "code",
   "execution_count": 4,
   "metadata": {},
   "outputs": [
    {
     "data": {
      "text/plain": [
       "Path('2023-02-21-mm-rollout-grids.geojson')"
      ]
     },
     "execution_count": 4,
     "metadata": {},
     "output_type": "execute_result"
    }
   ],
   "source": [
    "country_osm = \"myanmar\"\n",
    "ookla_year = 2019\n",
    "nightlights_year = 2016\n",
    "country_code = get_iso3_code(country_osm, code='alpha-2').lower()\n",
    "rollout_date = '-'.join(os.getcwd().split('/')[-2].split('-')[:3])\n",
    "rollout_grids_path = Path(f'./{rollout_date}-{country_code}-rollout-grids.geojson')\n",
    "rollout_grids_path"
   ]
  },
  {
   "attachments": {},
   "cell_type": "markdown",
   "metadata": {},
   "source": [
    "## Set Model Parameters"
   ]
  },
  {
   "cell_type": "code",
   "execution_count": 5,
   "metadata": {},
   "outputs": [],
   "source": [
    "# Model to use for prediction\n",
    "MODEL_SAVE_PATH = Path(f'./{rollout_date}-{country_code}-single-country-model.pkl')"
   ]
  },
  {
   "attachments": {},
   "cell_type": "markdown",
   "metadata": {},
   "source": [
    "## Load Country Rollout AOI\n",
    "\n",
    "The rollout area of interest is split into 2.4km grid tiles (zoom level 14), matching the areas used during model training. The grids are also filtered to only include populated areas based on Meta's High Resolution Settlement Layer (HRSL) data.\n",
    "\n",
    "Refer to the previous notebook `2_mm_generate_grids.ipynb` for documentation on generating this grid."
   ]
  },
  {
   "cell_type": "code",
   "execution_count": 6,
   "metadata": {},
   "outputs": [],
   "source": [
    "aoi = gpd.read_file(rollout_grids_path)\n",
    "# aoi.explore()  # Uncomment to view data in a map "
   ]
  },
  {
   "attachments": {},
   "cell_type": "markdown",
   "metadata": {},
   "source": [
    "## Generate Features For Rollout AOI"
   ]
  },
  {
   "cell_type": "code",
   "execution_count": 7,
   "metadata": {},
   "outputs": [
    {
     "name": "stderr",
     "output_type": "stream",
     "text": [
      "2023-03-15 08:12:31.612 | INFO     | povertymapping.osm:download_osm_country_data:199 - OSM Data: Cached data available for myanmar at /home/jace/.geowrangler/osm/myanmar? True\n",
      "2023-03-15 08:12:31.613 | DEBUG    | povertymapping.osm:load_pois:161 - OSM POIs for myanmar being loaded from /home/jace/.geowrangler/osm/myanmar/gis_osm_pois_free_1.shp\n",
      "2023-03-15 08:12:38.263 | INFO     | povertymapping.osm:download_osm_country_data:199 - OSM Data: Cached data available for myanmar at /home/jace/.geowrangler/osm/myanmar? True\n",
      "2023-03-15 08:12:38.265 | DEBUG    | povertymapping.osm:load_roads:180 - OSM Roads for myanmar being loaded from /home/jace/.geowrangler/osm/myanmar/gis_osm_roads_free_1.shp\n",
      "2023-03-15 08:12:57.720 | DEBUG    | povertymapping.ookla:load_type_year_data:79 - Contents of data cache: []\n",
      "2023-03-15 08:12:57.722 | INFO     | povertymapping.ookla:load_type_year_data:94 - Cached data available at /home/jace/.geowrangler/ookla/processed/97c85fa667d6b4cb541dd541fda2a619.csv? False\n",
      "2023-03-15 08:12:57.722 | DEBUG    | povertymapping.ookla:load_type_year_data:111 - No cached data found. Processing Ookla data from scratch.\n",
      "2023-03-15 08:12:58.597 | INFO     | povertymapping.ookla:download_ookla_year_data:224 - Ookla Data: Number of available files for fixed and 2019: 4\n",
      "2023-03-15 08:12:58.605 | INFO     | povertymapping.ookla:download_ookla_year_data:237 - Ookla Data: Cached data available for fixed and 2019 at /home/jace/.geowrangler/ookla/fixed/2019? True\n",
      "2023-03-15 08:12:58.606 | DEBUG    | povertymapping.ookla:load_type_year_data:146 - Generating quadkeys based on input aoi geometry to pull intersecting Ookla data.\n",
      "2023-03-15 08:19:41.444 | DEBUG    | povertymapping.ookla:load_type_year_data:163 - Ookla data for aoi, fixed 2019 1 being loaded from /home/jace/.geowrangler/ookla/fixed/2019/2019-01-01_performance_fixed_tiles.parquet\n",
      "2023-03-15 08:19:52.633 | DEBUG    | povertymapping.ookla:load_type_year_data:163 - Ookla data for aoi, fixed 2019 2 being loaded from /home/jace/.geowrangler/ookla/fixed/2019/2019-04-01_performance_fixed_tiles.parquet\n",
      "2023-03-15 08:20:03.338 | DEBUG    | povertymapping.ookla:load_type_year_data:163 - Ookla data for aoi, fixed 2019 3 being loaded from /home/jace/.geowrangler/ookla/fixed/2019/2019-07-01_performance_fixed_tiles.parquet\n",
      "2023-03-15 08:20:14.852 | DEBUG    | povertymapping.ookla:load_type_year_data:163 - Ookla data for aoi, fixed 2019 4 being loaded from /home/jace/.geowrangler/ookla/fixed/2019/2019-10-01_performance_fixed_tiles.parquet\n",
      "2023-03-15 08:20:27.526 | DEBUG    | povertymapping.ookla:load_type_year_data:184 - Concatenating quarterly Ookla data for fixed and 2019 into one dataframe\n",
      "2023-03-15 08:20:28.689 | DEBUG    | povertymapping.ookla:load_type_year_data:79 - Contents of data cache: ['97c85fa667d6b4cb541dd541fda2a619']\n",
      "2023-03-15 08:20:28.690 | INFO     | povertymapping.ookla:load_type_year_data:94 - Cached data available at /home/jace/.geowrangler/ookla/processed/ab6f73556709a12c8cda2780b96efd34.csv? False\n",
      "2023-03-15 08:20:28.692 | DEBUG    | povertymapping.ookla:load_type_year_data:111 - No cached data found. Processing Ookla data from scratch.\n",
      "2023-03-15 08:20:28.693 | INFO     | povertymapping.ookla:download_ookla_year_data:224 - Ookla Data: Number of available files for mobile and 2019: 4\n",
      "2023-03-15 08:20:28.693 | INFO     | povertymapping.ookla:download_ookla_year_data:237 - Ookla Data: Cached data available for mobile and 2019 at /home/jace/.geowrangler/ookla/mobile/2019? True\n",
      "2023-03-15 08:20:28.694 | DEBUG    | povertymapping.ookla:load_type_year_data:146 - Generating quadkeys based on input aoi geometry to pull intersecting Ookla data.\n",
      "2023-03-15 08:28:22.478 | DEBUG    | povertymapping.ookla:load_type_year_data:163 - Ookla data for aoi, mobile 2019 1 being loaded from /home/jace/.geowrangler/ookla/mobile/2019/2019-01-01_performance_mobile_tiles.parquet\n",
      "2023-03-15 08:28:28.743 | DEBUG    | povertymapping.ookla:load_type_year_data:163 - Ookla data for aoi, mobile 2019 2 being loaded from /home/jace/.geowrangler/ookla/mobile/2019/2019-04-01_performance_mobile_tiles.parquet\n",
      "2023-03-15 08:28:35.831 | DEBUG    | povertymapping.ookla:load_type_year_data:163 - Ookla data for aoi, mobile 2019 3 being loaded from /home/jace/.geowrangler/ookla/mobile/2019/2019-07-01_performance_mobile_tiles.parquet\n",
      "2023-03-15 08:28:43.323 | DEBUG    | povertymapping.ookla:load_type_year_data:163 - Ookla data for aoi, mobile 2019 4 being loaded from /home/jace/.geowrangler/ookla/mobile/2019/2019-10-01_performance_mobile_tiles.parquet\n",
      "2023-03-15 08:28:50.137 | DEBUG    | povertymapping.ookla:load_type_year_data:184 - Concatenating quarterly Ookla data for mobile and 2019 into one dataframe\n",
      "2023-03-15 08:28:52.290 | INFO     | povertymapping.nightlights:generate_clipped_raster:365 - Using viirs global file as source raster: /home/jace/.geowrangler/nightlights/global/VNL_v21_npp_2016_global_vcmslcfg_c202205302300.average.dat.tif\n",
      "2023-03-15 08:28:52.291 | INFO     | povertymapping.nightlights:clip_raster:232 - Generating clipped raster file from /home/jace/.geowrangler/nightlights/global/VNL_v21_npp_2016_global_vcmslcfg_c202205302300.average.dat.tif to /home/jace/.geowrangler/nightlights/clip/bba685e5e66fe07e752163d010f7f0a0.tif with bounds [ 92.15332029   9.75237013 101.09619138  28.40106481] and buffer 0.1\n",
      "2023-03-15 08:28:54.058 | INFO     | povertymapping.nightlights:generate_clipped_metadata:393 - Adding metadata.json file /home/jace/.geowrangler/nightlights/clip/bba685e5e66fe07e752163d010f7f0a0.metadata.json\n"
     ]
    },
    {
     "name": "stdout",
     "output_type": "stream",
     "text": [
      "CPU times: user 16min 40s, sys: 1min 29s, total: 18min 10s\n",
      "Wall time: 18min 6s\n"
     ]
    }
   ],
   "source": [
    "%%time\n",
    "scaler = StandardScaler\n",
    "rollout_aoi = aoi.copy()\n",
    "\n",
    "# Create features dataframe using generate_features module\n",
    "features = generate_features(rollout_aoi, country_osm, ookla_year, nightlights_year, scaled_only=True, sklearn_scaler=scaler,features_only=True)"
   ]
  },
  {
   "attachments": {},
   "cell_type": "markdown",
   "metadata": {},
   "source": [
    "## Inspect the generated features"
   ]
  },
  {
   "cell_type": "code",
   "execution_count": 9,
   "metadata": {},
   "outputs": [
    {
     "name": "stdout",
     "output_type": "stream",
     "text": [
      "<class 'geopandas.geodataframe.GeoDataFrame'>\n",
      "Int64Index: 27830 entries, 0 to 27829\n",
      "Data columns (total 61 columns):\n",
      " #   Column                                    Non-Null Count  Dtype  \n",
      "---  ------                                    --------------  -----  \n",
      " 0   poi_count_scaled                          27830 non-null  float64\n",
      " 1   atm_count_scaled                          27830 non-null  float64\n",
      " 2   atm_nearest_scaled                        27830 non-null  float64\n",
      " 3   bank_count_scaled                         27830 non-null  float64\n",
      " 4   bank_nearest_scaled                       27830 non-null  float64\n",
      " 5   bus_station_count_scaled                  27830 non-null  float64\n",
      " 6   bus_station_nearest_scaled                27830 non-null  float64\n",
      " 7   cafe_count_scaled                         27830 non-null  float64\n",
      " 8   cafe_nearest_scaled                       27830 non-null  float64\n",
      " 9   charging_station_count_scaled             27830 non-null  float64\n",
      " 10  charging_station_nearest_scaled           27830 non-null  float64\n",
      " 11  courthouse_count_scaled                   27830 non-null  float64\n",
      " 12  courthouse_nearest_scaled                 27830 non-null  float64\n",
      " 13  dentist_count_scaled                      27830 non-null  float64\n",
      " 14  dentist_nearest_scaled                    27830 non-null  float64\n",
      " 15  fast_food_count_scaled                    27830 non-null  float64\n",
      " 16  fast_food_nearest_scaled                  27830 non-null  float64\n",
      " 17  fire_station_count_scaled                 27830 non-null  float64\n",
      " 18  fire_station_nearest_scaled               27830 non-null  float64\n",
      " 19  food_court_count_scaled                   27830 non-null  float64\n",
      " 20  food_court_nearest_scaled                 27830 non-null  float64\n",
      " 21  fuel_count_scaled                         27830 non-null  float64\n",
      " 22  fuel_nearest_scaled                       27830 non-null  float64\n",
      " 23  hospital_count_scaled                     27830 non-null  float64\n",
      " 24  hospital_nearest_scaled                   27830 non-null  float64\n",
      " 25  library_count_scaled                      27830 non-null  float64\n",
      " 26  library_nearest_scaled                    27830 non-null  float64\n",
      " 27  marketplace_count_scaled                  27830 non-null  float64\n",
      " 28  marketplace_nearest_scaled                27830 non-null  float64\n",
      " 29  pharmacy_count_scaled                     27830 non-null  float64\n",
      " 30  pharmacy_nearest_scaled                   27830 non-null  float64\n",
      " 31  police_count_scaled                       27830 non-null  float64\n",
      " 32  police_nearest_scaled                     27830 non-null  float64\n",
      " 33  post_box_count_scaled                     27830 non-null  float64\n",
      " 34  post_box_nearest_scaled                   27830 non-null  float64\n",
      " 35  post_office_count_scaled                  27830 non-null  float64\n",
      " 36  post_office_nearest_scaled                27830 non-null  float64\n",
      " 37  restaurant_count_scaled                   27830 non-null  float64\n",
      " 38  restaurant_nearest_scaled                 27830 non-null  float64\n",
      " 39  social_facility_count_scaled              27830 non-null  float64\n",
      " 40  social_facility_nearest_scaled            27830 non-null  float64\n",
      " 41  supermarket_count_scaled                  27830 non-null  float64\n",
      " 42  supermarket_nearest_scaled                27830 non-null  float64\n",
      " 43  townhall_count_scaled                     27830 non-null  float64\n",
      " 44  townhall_nearest_scaled                   27830 non-null  float64\n",
      " 45  road_count_scaled                         27830 non-null  float64\n",
      " 46  fixed_2019_mean_avg_d_kbps_mean_scaled    27830 non-null  float64\n",
      " 47  fixed_2019_mean_avg_u_kbps_mean_scaled    27830 non-null  float64\n",
      " 48  fixed_2019_mean_avg_lat_ms_mean_scaled    27830 non-null  float64\n",
      " 49  fixed_2019_mean_num_tests_mean_scaled     27830 non-null  float64\n",
      " 50  fixed_2019_mean_num_devices_mean_scaled   27830 non-null  float64\n",
      " 51  mobile_2019_mean_avg_d_kbps_mean_scaled   27830 non-null  float64\n",
      " 52  mobile_2019_mean_avg_u_kbps_mean_scaled   27830 non-null  float64\n",
      " 53  mobile_2019_mean_avg_lat_ms_mean_scaled   27830 non-null  float64\n",
      " 54  mobile_2019_mean_num_tests_mean_scaled    27830 non-null  float64\n",
      " 55  mobile_2019_mean_num_devices_mean_scaled  27830 non-null  float64\n",
      " 56  avg_rad_min_scaled                        27830 non-null  float64\n",
      " 57  avg_rad_max_scaled                        27830 non-null  float64\n",
      " 58  avg_rad_mean_scaled                       27830 non-null  float64\n",
      " 59  avg_rad_std_scaled                        27830 non-null  float64\n",
      " 60  avg_rad_median_scaled                     27830 non-null  float64\n",
      "dtypes: float64(61)\n",
      "memory usage: 14.2 MB\n"
     ]
    }
   ],
   "source": [
    "features.info()"
   ]
  },
  {
   "attachments": {},
   "cell_type": "markdown",
   "metadata": {},
   "source": [
    "## Run Model on AOI"
   ]
  },
  {
   "attachments": {},
   "cell_type": "markdown",
   "metadata": {},
   "source": [
    "### Load Model"
   ]
  },
  {
   "cell_type": "code",
   "execution_count": 10,
   "metadata": {},
   "outputs": [],
   "source": [
    "with open(MODEL_SAVE_PATH,'rb') as f:\n",
    "    model = pickle.load(f)"
   ]
  },
  {
   "attachments": {},
   "cell_type": "markdown",
   "metadata": {},
   "source": [
    "### Make Predictions"
   ]
  },
  {
   "cell_type": "code",
   "execution_count": 11,
   "metadata": {},
   "outputs": [],
   "source": [
    "rollout_aoi['Predicted Relative Wealth Index'] = model.predict(features.values)"
   ]
  },
  {
   "attachments": {},
   "cell_type": "markdown",
   "metadata": {},
   "source": [
    "### Inspect predicted wealth index and output dataframe"
   ]
  },
  {
   "cell_type": "code",
   "execution_count": 12,
   "metadata": {},
   "outputs": [
    {
     "data": {
      "text/plain": [
       "array([[<AxesSubplot: title={'center': 'Predicted Relative Wealth Index'}>]],\n",
       "      dtype=object)"
      ]
     },
     "execution_count": 12,
     "metadata": {},
     "output_type": "execute_result"
    },
    {
     "data": {
      "image/png": "[encoded data removed]",
      "text/plain": [
       "<Figure size 640x480 with 1 Axes>"
      ]
     },
     "metadata": {},
     "output_type": "display_data"
    }
   ],
   "source": [
    "rollout_aoi[['Predicted Relative Wealth Index']].hist()"
   ]
  },
  {
   "cell_type": "code",
   "execution_count": null,
   "metadata": {},
   "outputs": [],
   "source": [
    "rollout_aoi.explore(column='Predicted Relative Wealth Index')"
   ]
  },
  {
   "attachments": {},
   "cell_type": "markdown",
   "metadata": {},
   "source": [
    "The Predicted Relative Wealth Index map should look like this\n",
    "\n",
    "![image info](2023-02-21-mm-predicted-wealth-index.PNG)"
   ]
  },
  {
   "cell_type": "code",
   "execution_count": 14,
   "metadata": {},
   "outputs": [
    {
     "data": {
      "text/html": [
       "<div>\n",
       "<style scoped>\n",
       "    .dataframe tbody tr th:only-of-type {\n",
       "        vertical-align: middle;\n",
       "    }\n",
       "\n",
       "    .dataframe tbody tr th {\n",
       "        vertical-align: top;\n",
       "    }\n",
       "\n",
       "    .dataframe thead th {\n",
       "        text-align: right;\n",
       "    }\n",
       "</style>\n",
       "<table border=\"1\" class=\"dataframe\">\n",
       "  <thead>\n",
       "    <tr style=\"text-align: right;\">\n",
       "      <th></th>\n",
       "      <th>quadkey</th>\n",
       "      <th>shapeName</th>\n",
       "      <th>shapeISO</th>\n",
       "      <th>shapeID</th>\n",
       "      <th>shapeGroup</th>\n",
       "      <th>shapeType</th>\n",
       "      <th>quadkey_level10</th>\n",
       "      <th>pop_count</th>\n",
       "      <th>geometry</th>\n",
       "      <th>Predicted Relative Wealth Index</th>\n",
       "    </tr>\n",
       "  </thead>\n",
       "  <tbody>\n",
       "    <tr>\n",
       "      <th>0</th>\n",
       "      <td>13220212231203</td>\n",
       "      <td>Yangon (South)</td>\n",
       "      <td>None</td>\n",
       "      <td>MMR-ADM2-3_0_0-B72</td>\n",
       "      <td>MMR</td>\n",
       "      <td>ADM2</td>\n",
       "      <td>1322021223</td>\n",
       "      <td>1646.340576</td>\n",
       "      <td>POLYGON ((93.36182 14.13658, 93.36182 14.15788...</td>\n",
       "      <td>-0.002091</td>\n",
       "    </tr>\n",
       "    <tr>\n",
       "      <th>1</th>\n",
       "      <td>13220212231221</td>\n",
       "      <td>Yangon (South)</td>\n",
       "      <td>None</td>\n",
       "      <td>MMR-ADM2-3_0_0-B72</td>\n",
       "      <td>MMR</td>\n",
       "      <td>ADM2</td>\n",
       "      <td>1322021223</td>\n",
       "      <td>749.037048</td>\n",
       "      <td>POLYGON ((93.36182 14.11527, 93.36182 14.13658...</td>\n",
       "      <td>0.032767</td>\n",
       "    </tr>\n",
       "    <tr>\n",
       "      <th>2</th>\n",
       "      <td>13220030031312</td>\n",
       "      <td>Kyaukpyu</td>\n",
       "      <td>None</td>\n",
       "      <td>MMR-ADM2-3_0_0-B21</td>\n",
       "      <td>MMR</td>\n",
       "      <td>ADM2</td>\n",
       "      <td>1322003003</td>\n",
       "      <td>1276.558105</td>\n",
       "      <td>POLYGON ((93.47168 18.85431, 93.47168 18.87510...</td>\n",
       "      <td>-0.048936</td>\n",
       "    </tr>\n",
       "    <tr>\n",
       "      <th>3</th>\n",
       "      <td>13220030031313</td>\n",
       "      <td>Kyaukpyu</td>\n",
       "      <td>None</td>\n",
       "      <td>MMR-ADM2-3_0_0-B21</td>\n",
       "      <td>MMR</td>\n",
       "      <td>ADM2</td>\n",
       "      <td>1322003003</td>\n",
       "      <td>59.303814</td>\n",
       "      <td>POLYGON ((93.49365 18.85431, 93.49365 18.87510...</td>\n",
       "      <td>-0.046051</td>\n",
       "    </tr>\n",
       "    <tr>\n",
       "      <th>4</th>\n",
       "      <td>13220030031333</td>\n",
       "      <td>Kyaukpyu</td>\n",
       "      <td>None</td>\n",
       "      <td>MMR-ADM2-3_0_0-B21</td>\n",
       "      <td>MMR</td>\n",
       "      <td>ADM2</td>\n",
       "      <td>1322003003</td>\n",
       "      <td>674.946777</td>\n",
       "      <td>POLYGON ((93.49365 18.81272, 93.49365 18.83352...</td>\n",
       "      <td>-0.029971</td>\n",
       "    </tr>\n",
       "  </tbody>\n",
       "</table>\n",
       "</div>"
      ],
      "text/plain": [
       "          quadkey       shapeName shapeISO             shapeID shapeGroup  \\\n",
       "0  13220212231203  Yangon (South)     None  MMR-ADM2-3_0_0-B72        MMR   \n",
       "1  13220212231221  Yangon (South)     None  MMR-ADM2-3_0_0-B72        MMR   \n",
       "2  13220030031312        Kyaukpyu     None  MMR-ADM2-3_0_0-B21        MMR   \n",
       "3  13220030031313        Kyaukpyu     None  MMR-ADM2-3_0_0-B21        MMR   \n",
       "4  13220030031333        Kyaukpyu     None  MMR-ADM2-3_0_0-B21        MMR   \n",
       "\n",
       "  shapeType quadkey_level10    pop_count  \\\n",
       "0      ADM2      1322021223  1646.340576   \n",
       "1      ADM2      1322021223   749.037048   \n",
       "2      ADM2      1322003003  1276.558105   \n",
       "3      ADM2      1322003003    59.303814   \n",
       "4      ADM2      1322003003   674.946777   \n",
       "\n",
       "                                            geometry  \\\n",
       "0  POLYGON ((93.36182 14.13658, 93.36182 14.15788...   \n",
       "1  POLYGON ((93.36182 14.11527, 93.36182 14.13658...   \n",
       "2  POLYGON ((93.47168 18.85431, 93.47168 18.87510...   \n",
       "3  POLYGON ((93.49365 18.85431, 93.49365 18.87510...   \n",
       "4  POLYGON ((93.49365 18.81272, 93.49365 18.83352...   \n",
       "\n",
       "   Predicted Relative Wealth Index  \n",
       "0                        -0.002091  \n",
       "1                         0.032767  \n",
       "2                        -0.048936  \n",
       "3                        -0.046051  \n",
       "4                        -0.029971  "
      ]
     },
     "execution_count": 14,
     "metadata": {},
     "output_type": "execute_result"
    }
   ],
   "source": [
    "rollout_aoi.head()"
   ]
  },
  {
   "cell_type": "code",
   "execution_count": 15,
   "metadata": {},
   "outputs": [
    {
     "name": "stdout",
     "output_type": "stream",
     "text": [
      "<class 'geopandas.geodataframe.GeoDataFrame'>\n",
      "RangeIndex: 27830 entries, 0 to 27829\n",
      "Data columns (total 10 columns):\n",
      " #   Column                           Non-Null Count  Dtype   \n",
      "---  ------                           --------------  -----   \n",
      " 0   quadkey                          27830 non-null  object  \n",
      " 1   shapeName                        27830 non-null  object  \n",
      " 2   shapeISO                         27830 non-null  object  \n",
      " 3   shapeID                          27830 non-null  object  \n",
      " 4   shapeGroup                       27830 non-null  object  \n",
      " 5   shapeType                        27830 non-null  object  \n",
      " 6   quadkey_level10                  27830 non-null  object  \n",
      " 7   pop_count                        27830 non-null  float64 \n",
      " 8   geometry                         27830 non-null  geometry\n",
      " 9   Predicted Relative Wealth Index  27830 non-null  float64 \n",
      "dtypes: float64(2), geometry(1), object(7)\n",
      "memory usage: 2.1+ MB\n"
     ]
    }
   ],
   "source": [
    "rollout_aoi.info()"
   ]
  },
  {
   "attachments": {},
   "cell_type": "markdown",
   "metadata": {},
   "source": [
    "## Binning predictions into wealth categories\n",
    "\n",
    "Afterwards, we label the predicted relative wealth by binning them into 5 categories \n",
    "\n",
    "|Category |Description| \n",
    "|---|-----------------| \n",
    "| A | high income | \n",
    "| B | mid-high income | \n",
    "| C | middle income | \n",
    "| D | mid-low income | \n",
    "| E | low income |\n",
    "\n",
    "We can create these wealth categories in two ways, both of which are provided in the output dataset. \n",
    "- `Predicted Wealth Category (quintile)`: Categories derived by splitting the output `Predicted Relative Wealth Index` distribution into 5 equally sized quintiles\n",
    "- `Predicted Wealth Category (split-quintile)`: Categories derived using the **split quintiles** approach described below. This preserves the realities of unequal wealth distribution by accounting for distance from the mean wealth level `y = 0`. \n",
    "\n",
    "**Split-quintile approach**\n",
    "1. Generate this by identifying two splits first, a) `Predicted Relative Wealth Index > 0` (above average wealth) and b) `Predicted Relative Wealth Index < 0` (below average wealth).\n",
    "2. Generate quintiles for each of the two initial splits.\n",
    "3. Take every 2 quintiles as one wealth bin.\n",
    "\n",
    "\n",
    "![alt](../../../assets/split%20quintile%20approach.png)\n",
    "\n"
   ]
  },
  {
   "attachments": {},
   "cell_type": "markdown",
   "metadata": {},
   "source": [
    "### Calculate equal-quintile wealth category"
   ]
  },
  {
   "cell_type": "code",
   "execution_count": 16,
   "metadata": {},
   "outputs": [],
   "source": [
    "rollout_aoi[\"Predicted Wealth Category (quintile)\"] = categorize_wealth_index(\n",
    "    rollout_aoi[\"Predicted Relative Wealth Index\"], split_quantile=False\n",
    ").astype(str)\n"
   ]
  },
  {
   "cell_type": "code",
   "execution_count": null,
   "metadata": {},
   "outputs": [],
   "source": [
    "rollout_aoi.explore(\n",
    "    column = 'Predicted Wealth Category (quintile)',\n",
    "    cmap = 'viridis_r' # _r suffix reverses the colormap\n",
    ")"
   ]
  },
  {
   "attachments": {},
   "cell_type": "markdown",
   "metadata": {},
   "source": [
    "### Calculate split-quintile wealth category"
   ]
  },
  {
   "cell_type": "code",
   "execution_count": 18,
   "metadata": {},
   "outputs": [
    {
     "name": "stdout",
     "output_type": "stream",
     "text": [
      "[-0.22339426214424138, -0.05933902152093077, -0.01691452512440633, 0.04890446048397144, 0.27360744618145494, 2.3921408548456924]\n"
     ]
    }
   ],
   "source": [
    "rollout_aoi[\"Predicted Wealth Category (split-quintile)\"] = categorize_wealth_index(\n",
    "    rollout_aoi[\"Predicted Relative Wealth Index\"], split_quantile=True\n",
    ")\n"
   ]
  },
  {
   "cell_type": "code",
   "execution_count": null,
   "metadata": {},
   "outputs": [],
   "source": [
    "rollout_aoi.explore(\n",
    "    column = 'Predicted Wealth Category (split-quintile)',\n",
    "    cmap = 'viridis_r' # _r suffix reverses the colormap\n",
    ")"
   ]
  },
  {
   "attachments": {},
   "cell_type": "markdown",
   "metadata": {},
   "source": [
    "## Save output"
   ]
  },
  {
   "cell_type": "code",
   "execution_count": 21,
   "metadata": {},
   "outputs": [
    {
     "name": "stdout",
     "output_type": "stream",
     "text": [
      "CPU times: user 4.28 s, sys: 109 ms, total: 4.39 s\n",
      "Wall time: 4.39 s\n"
     ]
    }
   ],
   "source": [
    "%%time\n",
    "rollout_aoi.to_file(f'{rollout_date}-{country_code}-rollout-output.geojson', driver='GeoJSON', index=False)"
   ]
  }
 ],
 "metadata": {
  "kernelspec": {
   "display_name": "Python 3",
   "language": "python",
   "name": "python3"
  },
  "language_info": {
   "codemirror_mode": {
    "name": "ipython",
    "version": 3
   },
   "file_extension": ".py",
   "mimetype": "text/x-python",
   "name": "python",
   "nbconvert_exporter": "python",
   "pygments_lexer": "ipython3",
   "version": "3.9.15"
  },
  "orig_nbformat": 4
 },
 "nbformat": 4,
 "nbformat_minor": 2
}

{
 "cells": [
  {
   "cell_type": "raw",
   "metadata": {},
   "source": [
    "---\n",
    "title: Cambodia Model Rollout Part 2 (Generate Roll-out Grids) \n",
    "format:\n",
    "  html:\n",
    "    code-fold: false\n",
    "---"
   ]
  },
  {
   "cell_type": "code",
   "execution_count": 1,
   "metadata": {},
   "outputs": [],
   "source": [
    "%matplotlib inline\n",
    "%reload_ext autoreload\n",
    "%autoreload 2"
   ]
  },
  {
   "cell_type": "code",
   "execution_count": 2,
   "metadata": {},
   "outputs": [
    {
     "name": "stderr",
     "output_type": "stream",
     "text": [
      "/home/jace/workspace/unicef-ai4d-poverty-mapping/env/lib/python3.9/site-packages/geopandas/_compat.py:111: UserWarning: The Shapely GEOS version (3.11.1-CAPI-1.17.1) is incompatible with the GEOS version PyGEOS was compiled with (3.10.1-CAPI-1.16.0). Conversions between both will be slow.\n",
      "  warnings.warn(\n"
     ]
    }
   ],
   "source": [
    "import sys\n",
    "sys.path.append(\"../../\")\n",
    "import os\n",
    "from povertymapping.rollout_grids import get_region_filtered_bingtile_grids \n",
    "import geopandas as gpd"
   ]
  },
  {
   "attachments": {},
   "cell_type": "markdown",
   "metadata": {},
   "source": [
    "# Cambodia Model Rollout Part 2 (Generate Roll-out Grids) \n",
    "\n",
    "This notebook generates the rollout grid tiles over the country. The output file is used as an input for Step 3, where we will run the trained model over the set of grids.\n",
    "\n",
    "The generated grids are set at 2.4km (zoom level 14), matching the grids used during model training. The grids are also filtered to only include populated areas based on Meta's High Resolution Settlement Layer (HRSL) data."
   ]
  },
  {
   "attachments": {},
   "cell_type": "markdown",
   "metadata": {},
   "source": [
    "## Set country-specific parameters"
   ]
  },
  {
   "cell_type": "code",
   "execution_count": 3,
   "metadata": {},
   "outputs": [],
   "source": [
    "REGION = 'cambodia'\n",
    "ADMIN_LVL = 'ADM2'\n",
    "ZOOM_LEVEL = 14"
   ]
  },
  {
   "attachments": {},
   "cell_type": "markdown",
   "metadata": {},
   "source": [
    "## Generate Grids"
   ]
  },
  {
   "cell_type": "code",
   "execution_count": 4,
   "metadata": {},
   "outputs": [
    {
     "name": "stderr",
     "output_type": "stream",
     "text": [
      "2023-03-12 17:36:21.223 | INFO     | povertymapping.rollout_grids:get_region_filtered_bingtile_grids:264 - No cached grids file found. Generating grids file :/home/jace/.cache/geowrangler/quadkey_grids/cambodia_14_ADM2_populated_admin_grids.geojson\n",
      "2023-03-12 17:36:21.230 | DEBUG    | povertymapping.rollout_grids:get_region_filtered_bingtile_grids:281 - Loading boundaries for region cambodia and admin level ADM2\n",
      "2023-03-12 17:36:21.230 | DEBUG    | povertymapping.rollout_grids:get_region_filtered_bingtile_grids:281 - Loading boundaries for region cambodia and admin level ADM2\n",
      "2023-03-12 17:36:21.849 | INFO     | povertymapping.geoboundaries:get_geoboundaries:41 - Downloading geoboundaries for KHM at admin level ADM2 at https://www.geoboundaries.org/gbRequest.html?ISO=KHM&ADM=ADM2\n",
      "2023-03-12 17:36:23.378 | INFO     | povertymapping.geoboundaries:get_geoboundaries:50 - Download path for KHM at admin level ADM2 found at https://geoboundaries.org/data/geoBoundaries-3_0_0/KHM/ADM2/geoBoundaries-3_0_0-KHM-ADM2.geojson\n"
     ]
    },
    {
     "name": "stderr",
     "output_type": "stream",
     "text": [
      "2023-03-12 17:36:54.238 | INFO     | povertymapping.rollout_grids:get_region_filtered_bingtile_grids:287 - Generating grids for region cambodia and admin level ADM2 at quadkey level 14\n"
     ]
    },
    {
     "data": {
      "text/html": [
       "\n",
       "<style>\n",
       "    /* Turns off some styling */\n",
       "    progress {\n",
       "        /* gets rid of default border in Firefox and Opera. */\n",
       "        border: none;\n",
       "        /* Needs to be in here for Safari polyfill so background images work as expected. */\n",
       "        background-size: auto;\n",
       "    }\n",
       "    progress:not([value]), progress:not([value])::-webkit-progress-bar {\n",
       "        background: repeating-linear-gradient(45deg, #7e7e7e, #7e7e7e 10px, #5c5c5c 10px, #5c5c5c 20px);\n",
       "    }\n",
       "    .progress-bar-interrupted, .progress-bar-interrupted::-webkit-progress-bar {\n",
       "        background: #F44336;\n",
       "    }\n",
       "</style>\n"
      ],
      "text/plain": [
       "<IPython.core.display.HTML object>"
      ]
     },
     "metadata": {},
     "output_type": "display_data"
    },
    {
     "data": {
      "text/html": [
       "\n",
       "    <div>\n",
       "      <progress value='1' class='' max='8' style='width:300px; height:20px; vertical-align: middle;'></progress>\n",
       "      12.50% [1/8 00:00&lt;00:00]\n",
       "    </div>\n",
       "    "
      ],
      "text/plain": [
       "<IPython.core.display.HTML object>"
      ]
     },
     "metadata": {},
     "output_type": "display_data"
    },
    {
     "name": "stderr",
     "output_type": "stream",
     "text": [
      "2023-03-12 17:37:45.227 | INFO     | povertymapping.rollout_grids:get_region_filtered_bingtile_grids:293 - Generated 32580 grids for region cambodia and admin level ADM2 at quadkey level 14\n",
      "2023-03-12 17:37:45.236 | INFO     | povertymapping.rollout_grids:get_region_filtered_bingtile_grids:299 - Assigning grids to admin areas using metric crs epsg:3857\n",
      "2023-03-12 17:37:45.236 | INFO     | povertymapping.rollout_grids:get_region_filtered_bingtile_grids:299 - Assigning grids to admin areas using metric crs epsg:3857\n",
      "2023-03-12 17:38:11.135 | INFO     | povertymapping.rollout_grids:get_region_filtered_bingtile_grids:305 - Getting cambodia population data for filtering grids\n"
     ]
    },
    {
     "name": "stderr",
     "output_type": "stream",
     "text": [
      "2023-03-12 17:39:42.662 | INFO     | povertymapping.hdx:get_hdx_file:201 - HDX Data: Unzipping the zip file /home/jace/.cache/geowrangler/hdx/khm_general_2020_geotiff.zip...\n",
      "2023-03-12 17:40:06.724 | INFO     | povertymapping.hdx:get_hdx_file:211 - HDX Data: Successfully downloaded and cached for cambodia at /home/jace/.cache/geowrangler/hdx/khm_general_2020_geotiff.zip!\n",
      "2023-03-12 17:40:06.726 | INFO     | povertymapping.rollout_grids:get_region_filtered_bingtile_grids:307 - Computing population zonal stats per grid\n",
      "2023-03-12 17:40:06.728 | INFO     | povertymapping.rollout_grids:compute_raster_stats:98 - Creating raster zonal stats for 32580 grids for file size 3732653178\n",
      "2023-03-12 17:54:06.391 | INFO     | povertymapping.rollout_grids:get_region_filtered_bingtile_grids:318 - Filtering unpopulated grids based on population data\n",
      "2023-03-12 17:54:06.429 | INFO     | povertymapping.rollout_grids:get_region_filtered_bingtile_grids:321 - Filtered admin grid count: 20137\n",
      "/home/jace/workspace/unicef-ai4d-poverty-mapping/env/lib/python3.9/site-packages/geopandas/io/file.py:362: FutureWarning: pandas.Int64Index is deprecated and will be removed from pandas in a future version. Use pandas.Index with the appropriate dtype instead.\n",
      "  pd.Int64Index,\n"
     ]
    }
   ],
   "source": [
    "admin_grids_gdf = get_region_filtered_bingtile_grids(\n",
    "    REGION, \n",
    "    admin_lvl=ADMIN_LVL, \n",
    "    quadkey_lvl=ZOOM_LEVEL, \n",
    "    use_cache=True\n",
    ")"
   ]
  },
  {
   "attachments": {},
   "cell_type": "markdown",
   "metadata": {},
   "source": [
    "## Explore Populated Grids"
   ]
  },
  {
   "cell_type": "code",
   "execution_count": 5,
   "metadata": {},
   "outputs": [
    {
     "name": "stdout",
     "output_type": "stream",
     "text": [
      "<class 'geopandas.geodataframe.GeoDataFrame'>\n",
      "Int64Index: 20137 entries, 3 to 32579\n",
      "Data columns (total 8 columns):\n",
      " #   Column      Non-Null Count  Dtype   \n",
      "---  ------      --------------  -----   \n",
      " 0   geometry    20137 non-null  geometry\n",
      " 1   quadkey     20137 non-null  object  \n",
      " 2   shapeName   20137 non-null  object  \n",
      " 3   shapeISO    20137 non-null  object  \n",
      " 4   shapeID     20137 non-null  object  \n",
      " 5   shapeGroup  20137 non-null  object  \n",
      " 6   shapeType   20137 non-null  object  \n",
      " 7   pop_count   20137 non-null  float64 \n",
      "dtypes: float64(1), geometry(1), object(6)\n",
      "memory usage: 1.4+ MB\n"
     ]
    }
   ],
   "source": [
    "admin_grids_gdf.info()"
   ]
  },
  {
   "cell_type": "code",
   "execution_count": 6,
   "metadata": {},
   "outputs": [
    {
     "data": {
      "text/html": [
       "<div>\n",
       "<style scoped>\n",
       "    .dataframe tbody tr th:only-of-type {\n",
       "        vertical-align: middle;\n",
       "    }\n",
       "\n",
       "    .dataframe tbody tr th {\n",
       "        vertical-align: top;\n",
       "    }\n",
       "\n",
       "    .dataframe thead th {\n",
       "        text-align: right;\n",
       "    }\n",
       "</style>\n",
       "<table border=\"1\" class=\"dataframe\">\n",
       "  <thead>\n",
       "    <tr style=\"text-align: right;\">\n",
       "      <th></th>\n",
       "      <th>geometry</th>\n",
       "      <th>quadkey</th>\n",
       "      <th>shapeName</th>\n",
       "      <th>shapeISO</th>\n",
       "      <th>shapeID</th>\n",
       "      <th>shapeGroup</th>\n",
       "      <th>shapeType</th>\n",
       "      <th>pop_count</th>\n",
       "    </tr>\n",
       "  </thead>\n",
       "  <tbody>\n",
       "    <tr>\n",
       "      <th>3</th>\n",
       "      <td>POLYGON ((103.16162 10.81172, 103.16162 10.833...</td>\n",
       "      <td>13223001030111</td>\n",
       "      <td>Botum Sakor</td>\n",
       "      <td>None</td>\n",
       "      <td>KHM-ADM2-3_0_0-B77</td>\n",
       "      <td>KHM</td>\n",
       "      <td>ADM2</td>\n",
       "      <td>1.530576</td>\n",
       "    </tr>\n",
       "    <tr>\n",
       "      <th>4</th>\n",
       "      <td>POLYGON ((103.18359 10.83331, 103.18359 10.854...</td>\n",
       "      <td>13223001013222</td>\n",
       "      <td>Botum Sakor</td>\n",
       "      <td>None</td>\n",
       "      <td>KHM-ADM2-3_0_0-B77</td>\n",
       "      <td>KHM</td>\n",
       "      <td>ADM2</td>\n",
       "      <td>1.530576</td>\n",
       "    </tr>\n",
       "  </tbody>\n",
       "</table>\n",
       "</div>"
      ],
      "text/plain": [
       "                                            geometry         quadkey  \\\n",
       "3  POLYGON ((103.16162 10.81172, 103.16162 10.833...  13223001030111   \n",
       "4  POLYGON ((103.18359 10.83331, 103.18359 10.854...  13223001013222   \n",
       "\n",
       "     shapeName shapeISO             shapeID shapeGroup shapeType  pop_count  \n",
       "3  Botum Sakor     None  KHM-ADM2-3_0_0-B77        KHM      ADM2   1.530576  \n",
       "4  Botum Sakor     None  KHM-ADM2-3_0_0-B77        KHM      ADM2   1.530576  "
      ]
     },
     "execution_count": 6,
     "metadata": {},
     "output_type": "execute_result"
    }
   ],
   "source": [
    "admin_grids_gdf.head(2)"
   ]
  },
  {
   "cell_type": "code",
   "execution_count": null,
   "metadata": {},
   "outputs": [],
   "source": [
    "admin_grids_gdf.explore()"
   ]
  },
  {
   "attachments": {},
   "cell_type": "markdown",
   "metadata": {},
   "source": [
    "## Save to file"
   ]
  },
  {
   "cell_type": "code",
   "execution_count": 8,
   "metadata": {},
   "outputs": [],
   "source": [
    "rollout_date = '-'.join(os.getcwd().split('/')[-2].split('-')[:3])\n",
    "grid_save_path = f'./{rollout_date}-kh-rollout-grids.geojson'\n",
    "admin_grids_gdf.to_file(grid_save_path, driver='GeoJSON', index=False)"
   ]
  }
 ],
 "metadata": {
  "kernelspec": {
   "display_name": "Python 3",
   "language": "python",
   "name": "python3"
  },
  "language_info": {
   "codemirror_mode": {
    "name": "ipython",
    "version": 3
   },
   "file_extension": ".py",
   "mimetype": "text/x-python",
   "name": "python",
   "nbconvert_exporter": "python",
   "pygments_lexer": "ipython3",
   "version": "3.9.15"
  },
  "orig_nbformat": 4,
  "vscode": {
   "interpreter": {
    "hash": "a9c652687746b7e37dd5eba4a53c758a3d21cd9cb60962b6bb30d0de25d1ae14"
   }
  }
 },
 "nbformat": 4,
 "nbformat_minor": 2
}

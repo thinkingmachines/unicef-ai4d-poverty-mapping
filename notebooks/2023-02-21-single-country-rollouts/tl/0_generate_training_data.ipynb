{
 "cells": [
  {
   "cell_type": "raw",
   "metadata": {},
   "source": [
    "---\n",
    "title: Generate training data\n",
    "format:\n",
    "  html:\n",
    "    code-fold: false\n",
    "---"
   ]
  },
  {
   "cell_type": "code",
   "execution_count": 1,
   "metadata": {},
   "outputs": [
    {
     "name": "stderr",
     "output_type": "stream",
     "text": [
      "/home/butchtm/work/resbank/povmap/env/lib/python3.9/site-packages/geopandas/_compat.py:111: UserWarning: The Shapely GEOS version (3.11.2-CAPI-1.17.2) is incompatible with the GEOS version PyGEOS was compiled with (3.11.0-CAPI-1.17.0). Conversions between both will be slow.\n",
      "  warnings.warn(\n"
     ]
    }
   ],
   "source": [
    "import os\n",
    "import sys\n",
    "\n",
    "sys.path.append(\"../../../\")\n",
    "\n",
    "import getpass\n",
    "import json\n",
    "from pathlib import Path\n",
    "\n",
    "import geopandas as gpd\n",
    "import numpy as np\n",
    "import pandas as pd\n",
    "from sklearn.preprocessing import MinMaxScaler\n",
    "\n",
    "from povertymapping import dhs, feature_engineering, iso3, nightlights, settings\n",
    "\n",
    "%reload_ext autoreload\n",
    "%autoreload 2"
   ]
  },
  {
   "cell_type": "markdown",
   "metadata": {},
   "source": [
    "## Set Parameters"
   ]
  },
  {
   "cell_type": "code",
   "execution_count": 4,
   "metadata": {
    "tags": [
     "parameters"
    ]
   },
   "outputs": [],
   "source": [
    "# These configure some params for the feature engineering steps.\n",
    "COUNTRY_CODE = \"tl\"\n",
    "COUNTRY_OSM = \"east-timor\"\n",
    "OOKLA_YEAR = 2019\n",
    "NIGHTLIGHTS_YEAR = 2016"
   ]
  },
  {
   "cell_type": "code",
   "execution_count": 14,
   "metadata": {},
   "outputs": [],
   "source": [
    "DATA_DIR = settings.DATA_DIR.resolve()\n",
    "ROLLOUT_DIR = DATA_DIR/f\"rollout/{COUNTRY_CODE}\""
   ]
  },
  {
   "cell_type": "code",
   "execution_count": 15,
   "metadata": {},
   "outputs": [],
   "source": [
    "# You need to download these datasets from the DHS website before running this notebook.\n",
    "DHS_HOUSEHOLD_DTA_PATH = Path(settings.DATA_DIR / \"dhs/tl/TLHR71DT/TLHR71FL.DTA\")\n",
    "DHS_GEOGRAPHIC_SHP_PATH = Path(settings.DATA_DIR / \"dhs/tl/TLGE71FL/TLGE71FL.shp\")\n",
    "\n",
    "# Indicate name of column from dhs data that will be used as the label for training\n",
    "DHS_LABEL_COL = \"Wealth Index\"\n",
    "OUTPUT_LABEL_COL = \"Wealth Index - Scaled\"\n",
    "\n",
    "# Tile size for the area around a DHS household cluster to generate features for.\n",
    "# We set this to 2.4km to match target rollout size of Bing Tile Zoom Level 14 (~2.4km)\n",
    "TILE_SIZE_KM = 2.4\n",
    "\n",
    "# For convenience, consider the rollout version as the date of the root notebook folder.\n",
    "ROLLOUT_DATE = \"-\".join(os.getcwd().split(\"/\")[-2].split(\"-\")[:3])"
   ]
  },
  {
   "cell_type": "markdown",
   "metadata": {},
   "source": [
    "## Set up EOG API Access\n",
    "The following cell will prompt you to enter your EOG username and password. See [this page](https://eogdata.mines.edu/products/register/) to learn how to set-up your EOG account."
   ]
  },
  {
   "cell_type": "code",
   "execution_count": null,
   "metadata": {},
   "outputs": [],
   "source": [
    "# Log-in using EOG credentials\n",
    "username = os.environ.get(\"EOG_USER\", None)\n",
    "username = username if username is not None else input(\"Username?\")\n",
    "password = os.environ.get(\"EOG_PASSWORD\", None)\n",
    "password = password if password is not None else getpass.getpass(\"Password?\")\n",
    "\n",
    "# set save_token to True so that access token gets stored in ~/.eog_creds/eog_access_token\n",
    "access_token = nightlights.get_eog_access_token(username, password, save_token=True)"
   ]
  },
  {
   "cell_type": "markdown",
   "metadata": {},
   "source": [
    "## Load DHS Data"
   ]
  },
  {
   "cell_type": "code",
   "execution_count": 6,
   "metadata": {},
   "outputs": [],
   "source": [
    "dhs_gdf = dhs.generate_dhs_cluster_level_data(\n",
    "    DHS_HOUSEHOLD_DTA_PATH,\n",
    "    DHS_GEOGRAPHIC_SHP_PATH,\n",
    "    col_rename_config=COUNTRY_CODE,\n",
    "    convert_geoms_to_bbox=True,\n",
    "    bbox_size_km=TILE_SIZE_KM,\n",
    ").reset_index(drop=True)"
   ]
  },
  {
   "cell_type": "code",
   "execution_count": 7,
   "metadata": {},
   "outputs": [],
   "source": [
    "# Uncomment to view interactive map\n",
    "# dhs_gdf.explore()"
   ]
  },
  {
   "cell_type": "code",
   "execution_count": 8,
   "metadata": {},
   "outputs": [
    {
     "data": {
      "text/html": [
       "<div>\n",
       "<style scoped>\n",
       "    .dataframe tbody tr th:only-of-type {\n",
       "        vertical-align: middle;\n",
       "    }\n",
       "\n",
       "    .dataframe tbody tr th {\n",
       "        vertical-align: top;\n",
       "    }\n",
       "\n",
       "    .dataframe thead th {\n",
       "        text-align: right;\n",
       "    }\n",
       "</style>\n",
       "<table border=\"1\" class=\"dataframe\">\n",
       "  <thead>\n",
       "    <tr style=\"text-align: right;\">\n",
       "      <th></th>\n",
       "      <th>DHSCLUST</th>\n",
       "      <th>Wealth Index</th>\n",
       "      <th>DHSID</th>\n",
       "      <th>DHSCC</th>\n",
       "      <th>DHSYEAR</th>\n",
       "      <th>CCFIPS</th>\n",
       "      <th>ADM1FIPS</th>\n",
       "      <th>ADM1FIPSNA</th>\n",
       "      <th>ADM1SALBNA</th>\n",
       "      <th>ADM1SALBCO</th>\n",
       "      <th>...</th>\n",
       "      <th>URBAN_RURA</th>\n",
       "      <th>LATNUM</th>\n",
       "      <th>LONGNUM</th>\n",
       "      <th>ALT_GPS</th>\n",
       "      <th>ALT_DEM</th>\n",
       "      <th>DATUM</th>\n",
       "      <th>F21</th>\n",
       "      <th>F22</th>\n",
       "      <th>F23</th>\n",
       "      <th>geometry</th>\n",
       "    </tr>\n",
       "  </thead>\n",
       "  <tbody>\n",
       "    <tr>\n",
       "      <th>0</th>\n",
       "      <td>1</td>\n",
       "      <td>32166.600000</td>\n",
       "      <td>TL201600000001</td>\n",
       "      <td>TL</td>\n",
       "      <td>2016.0</td>\n",
       "      <td>TT</td>\n",
       "      <td>NULL</td>\n",
       "      <td>NULL</td>\n",
       "      <td>NULL</td>\n",
       "      <td>NULL</td>\n",
       "      <td>...</td>\n",
       "      <td>R</td>\n",
       "      <td>-8.712016</td>\n",
       "      <td>125.567381</td>\n",
       "      <td>9999.0</td>\n",
       "      <td>1005.0</td>\n",
       "      <td>WGS84</td>\n",
       "      <td>None</td>\n",
       "      <td>None</td>\n",
       "      <td>None</td>\n",
       "      <td>POLYGON ((125.55646 -8.70122, 125.57830 -8.701...</td>\n",
       "    </tr>\n",
       "    <tr>\n",
       "      <th>1</th>\n",
       "      <td>2</td>\n",
       "      <td>-34063.923077</td>\n",
       "      <td>TL201600000002</td>\n",
       "      <td>TL</td>\n",
       "      <td>2016.0</td>\n",
       "      <td>TT</td>\n",
       "      <td>NULL</td>\n",
       "      <td>NULL</td>\n",
       "      <td>NULL</td>\n",
       "      <td>NULL</td>\n",
       "      <td>...</td>\n",
       "      <td>R</td>\n",
       "      <td>-8.730226</td>\n",
       "      <td>125.590219</td>\n",
       "      <td>9999.0</td>\n",
       "      <td>1342.0</td>\n",
       "      <td>WGS84</td>\n",
       "      <td>None</td>\n",
       "      <td>None</td>\n",
       "      <td>None</td>\n",
       "      <td>POLYGON ((125.57930 -8.71943, 125.60114 -8.719...</td>\n",
       "    </tr>\n",
       "    <tr>\n",
       "      <th>2</th>\n",
       "      <td>3</td>\n",
       "      <td>39230.590909</td>\n",
       "      <td>TL201600000003</td>\n",
       "      <td>TL</td>\n",
       "      <td>2016.0</td>\n",
       "      <td>TT</td>\n",
       "      <td>NULL</td>\n",
       "      <td>NULL</td>\n",
       "      <td>NULL</td>\n",
       "      <td>NULL</td>\n",
       "      <td>...</td>\n",
       "      <td>R</td>\n",
       "      <td>-8.741340</td>\n",
       "      <td>125.556399</td>\n",
       "      <td>9999.0</td>\n",
       "      <td>1060.0</td>\n",
       "      <td>WGS84</td>\n",
       "      <td>None</td>\n",
       "      <td>None</td>\n",
       "      <td>None</td>\n",
       "      <td>POLYGON ((125.54548 -8.73055, 125.56732 -8.730...</td>\n",
       "    </tr>\n",
       "  </tbody>\n",
       "</table>\n",
       "<p>3 rows × 25 columns</p>\n",
       "</div>"
      ],
      "text/plain": [
       "   DHSCLUST  Wealth Index           DHSID DHSCC  DHSYEAR CCFIPS ADM1FIPS  \\\n",
       "0         1  32166.600000  TL201600000001    TL   2016.0     TT     NULL   \n",
       "1         2 -34063.923077  TL201600000002    TL   2016.0     TT     NULL   \n",
       "2         3  39230.590909  TL201600000003    TL   2016.0     TT     NULL   \n",
       "\n",
       "  ADM1FIPSNA ADM1SALBNA ADM1SALBCO  ...  URBAN_RURA    LATNUM     LONGNUM  \\\n",
       "0       NULL       NULL       NULL  ...           R -8.712016  125.567381   \n",
       "1       NULL       NULL       NULL  ...           R -8.730226  125.590219   \n",
       "2       NULL       NULL       NULL  ...           R -8.741340  125.556399   \n",
       "\n",
       "  ALT_GPS ALT_DEM  DATUM   F21   F22   F23  \\\n",
       "0  9999.0  1005.0  WGS84  None  None  None   \n",
       "1  9999.0  1342.0  WGS84  None  None  None   \n",
       "2  9999.0  1060.0  WGS84  None  None  None   \n",
       "\n",
       "                                            geometry  \n",
       "0  POLYGON ((125.55646 -8.70122, 125.57830 -8.701...  \n",
       "1  POLYGON ((125.57930 -8.71943, 125.60114 -8.719...  \n",
       "2  POLYGON ((125.54548 -8.73055, 125.56732 -8.730...  \n",
       "\n",
       "[3 rows x 25 columns]"
      ]
     },
     "execution_count": 8,
     "metadata": {},
     "output_type": "execute_result"
    }
   ],
   "source": [
    "# Inspect the generated data\n",
    "dhs_gdf.head(3)"
   ]
  },
  {
   "cell_type": "markdown",
   "metadata": {},
   "source": [
    "## Feature Engineering and Label Pre-processing\n",
    "\n",
    "If this is your first time running this notebook for this specific country, expect a long runtime for the following cell as it will download and cache the required datasets. It will then process the relevant features for each area specified. On subsequent runs, the runtime will be much faster as the data is already stored in your filesystem. "
   ]
  },
  {
   "cell_type": "code",
   "execution_count": 9,
   "metadata": {},
   "outputs": [],
   "source": [
    "%%time\n",
    "scaler = MinMaxScaler\n",
    "country_data = dhs_gdf.copy()\n",
    "\n",
    "# Create labels dataframe by scaling the specified dhs_label_col (ex. Wealth Index)\n",
    "labels = scaler().fit_transform(country_data[[DHS_LABEL_COL]])\n",
    "labels = pd.DataFrame(labels, columns=[OUTPUT_LABEL_COL])"
   ]
  },
  {
   "cell_type": "code",
   "execution_count": null,
   "metadata": {},
   "outputs": [],
   "source": [
    "# Create features dataframe using generate_features module\n",
    "features = feature_engineering.generate_features(\n",
    "    country_data,\n",
    "    country_osm=COUNTRY_OSM,\n",
    "    ookla_year=OOKLA_YEAR,\n",
    "    nightlights_year=NIGHTLIGHTS_YEAR,\n",
    "    scale=False,\n",
    "    features_only=True,\n",
    ")"
   ]
  },
  {
   "cell_type": "code",
   "execution_count": null,
   "metadata": {},
   "outputs": [],
   "source": [
    "features.describe()"
   ]
  },
  {
   "cell_type": "code",
   "execution_count": null,
   "metadata": {},
   "outputs": [],
   "source": [
    "labels.hist()"
   ]
  },
  {
   "cell_type": "markdown",
   "metadata": {},
   "source": [
    "# Save training data and column metadata"
   ]
  },
  {
   "cell_type": "code",
   "execution_count": null,
   "metadata": {},
   "outputs": [],
   "source": [
    "data_gdf = pd.concat([dhs_gdf, features, labels], axis=1)\n",
    "data_gdf.to_csv(f\"{ROLLOUT_DIR}/{ROLLOUT_DATE}-training-data.csv\", index=False)"
   ]
  },
  {
   "cell_type": "code",
   "execution_count": null,
   "metadata": {},
   "outputs": [],
   "source": [
    "feature_cols = features.columns.tolist()\n",
    "metadata_cols = [\n",
    "    col for col in data_gdf if col not in feature_cols and col != OUTPUT_LABEL_COL\n",
    "]\n",
    "\n",
    "metadata = {\n",
    "    \"features\": feature_cols,\n",
    "    \"label\": OUTPUT_LABEL_COL,\n",
    "    \"metadata\": metadata_cols,\n",
    "}\n",
    "\n",
    "filepath = f\"{ROLLOUT_DIR}/{ROLLOUT_DATE}-training-data-columns.json\"\n",
    "with open(filepath, \"w\") as file:\n",
    "    json.dump(metadata, file, indent=4)"
   ]
  }
 ],
 "metadata": {
  "kernelspec": {
   "display_name": "Python 3 (ipykernel)",
   "language": "python",
   "name": "python3"
  },
  "language_info": {
   "codemirror_mode": {
    "name": "ipython",
    "version": 3
   },
   "file_extension": ".py",
   "mimetype": "text/x-python",
   "name": "python",
   "nbconvert_exporter": "python",
   "pygments_lexer": "ipython3",
   "version": "3.9.16"
  }
 },
 "nbformat": 4,
 "nbformat_minor": 4
}

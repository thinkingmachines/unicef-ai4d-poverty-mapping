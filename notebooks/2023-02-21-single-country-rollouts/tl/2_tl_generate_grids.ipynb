{
 "cells": [
  {
   "cell_type": "raw",
   "metadata": {},
   "source": [
    "---\n",
    "title: Timor Leste Model Rollout Part 2 (Generate Roll-out Grids) \n",
    "format:\n",
    "  html:\n",
    "    code-fold: false\n",
    "---"
   ]
  },
  {
   "cell_type": "code",
   "execution_count": 1,
   "metadata": {},
   "outputs": [],
   "source": [
    "%matplotlib inline\n",
    "%reload_ext autoreload\n",
    "%autoreload 2"
   ]
  },
  {
   "cell_type": "code",
   "execution_count": 2,
   "metadata": {},
   "outputs": [
    {
     "name": "stderr",
     "output_type": "stream",
     "text": [
      "/home/jace/workspace/unicef-ai4d-poverty-mapping/env/lib/python3.9/site-packages/geopandas/_compat.py:111: UserWarning: The Shapely GEOS version (3.11.1-CAPI-1.17.1) is incompatible with the GEOS version PyGEOS was compiled with (3.10.1-CAPI-1.16.0). Conversions between both will be slow.\n",
      "  warnings.warn(\n"
     ]
    }
   ],
   "source": [
    "import sys\n",
    "sys.path.append(\"../../\")\n",
    "import os\n",
    "from povertymapping.rollout_grids import get_region_filtered_bingtile_grids \n",
    "from povertymapping.iso3 import get_iso3_code\n",
    "import geopandas as gpd"
   ]
  },
  {
   "attachments": {},
   "cell_type": "markdown",
   "metadata": {},
   "source": [
    "# Timor Leste Model Rollout Part 2 (Generate Roll-out Grids) \n",
    "\n",
    "This notebook generates the rollout grid tiles over the country. The output file is used as an input for Step 3, where we will run the trained model over the set of grids.\n",
    "\n",
    "The generated grids are set at 2.4km (zoom level 14), matching the grids used during model training. The grids are also filtered to only include populated areas based on Meta's High Resolution Settlement Layer (HRSL) data."
   ]
  },
  {
   "attachments": {},
   "cell_type": "markdown",
   "metadata": {},
   "source": [
    "## Set country-specific parameters"
   ]
  },
  {
   "cell_type": "code",
   "execution_count": 3,
   "metadata": {},
   "outputs": [],
   "source": [
    "REGION = 'timor-leste'\n",
    "ADMIN_LVL = 'ADM2'\n",
    "ZOOM_LEVEL = 14\n",
    "country_code = get_iso3_code(REGION, code='alpha-2').lower()"
   ]
  },
  {
   "attachments": {},
   "cell_type": "markdown",
   "metadata": {},
   "source": [
    "## Generate Grids"
   ]
  },
  {
   "cell_type": "code",
   "execution_count": 4,
   "metadata": {},
   "outputs": [
    {
     "name": "stderr",
     "output_type": "stream",
     "text": [
      "2023-03-14 12:50:41.581 | INFO     | povertymapping.rollout_grids:get_region_filtered_bingtile_grids:259 - Loading cached grids file /home/jace/.cache/geowrangler/quadkey_grids/timor-leste_14_ADM2_populated_admin_grids.geojson\n"
     ]
    }
   ],
   "source": [
    "admin_grids_gdf = get_region_filtered_bingtile_grids(\n",
    "    REGION, \n",
    "    admin_lvl=ADMIN_LVL, \n",
    "    quadkey_lvl=ZOOM_LEVEL, \n",
    "    use_cache=True\n",
    ")"
   ]
  },
  {
   "attachments": {},
   "cell_type": "markdown",
   "metadata": {},
   "source": [
    "## Explore Populated Grids"
   ]
  },
  {
   "cell_type": "code",
   "execution_count": 5,
   "metadata": {},
   "outputs": [
    {
     "name": "stdout",
     "output_type": "stream",
     "text": [
      "<class 'geopandas.geodataframe.GeoDataFrame'>\n",
      "RangeIndex: 2024 entries, 0 to 2023\n",
      "Data columns (total 8 columns):\n",
      " #   Column      Non-Null Count  Dtype   \n",
      "---  ------      --------------  -----   \n",
      " 0   quadkey     2024 non-null   object  \n",
      " 1   shapeName   2024 non-null   object  \n",
      " 2   shapeISO    2024 non-null   object  \n",
      " 3   shapeID     2024 non-null   object  \n",
      " 4   shapeGroup  2024 non-null   object  \n",
      " 5   shapeType   2024 non-null   object  \n",
      " 6   pop_count   2024 non-null   float64 \n",
      " 7   geometry    2024 non-null   geometry\n",
      "dtypes: float64(1), geometry(1), object(6)\n",
      "memory usage: 126.6+ KB\n"
     ]
    }
   ],
   "source": [
    "admin_grids_gdf.info()"
   ]
  },
  {
   "cell_type": "code",
   "execution_count": 6,
   "metadata": {},
   "outputs": [
    {
     "data": {
      "text/html": [
       "<div>\n",
       "<style scoped>\n",
       "    .dataframe tbody tr th:only-of-type {\n",
       "        vertical-align: middle;\n",
       "    }\n",
       "\n",
       "    .dataframe tbody tr th {\n",
       "        vertical-align: top;\n",
       "    }\n",
       "\n",
       "    .dataframe thead th {\n",
       "        text-align: right;\n",
       "    }\n",
       "</style>\n",
       "<table border=\"1\" class=\"dataframe\">\n",
       "  <thead>\n",
       "    <tr style=\"text-align: right;\">\n",
       "      <th></th>\n",
       "      <th>quadkey</th>\n",
       "      <th>shapeName</th>\n",
       "      <th>shapeISO</th>\n",
       "      <th>shapeID</th>\n",
       "      <th>shapeGroup</th>\n",
       "      <th>shapeType</th>\n",
       "      <th>pop_count</th>\n",
       "      <th>geometry</th>\n",
       "    </tr>\n",
       "  </thead>\n",
       "  <tbody>\n",
       "    <tr>\n",
       "      <th>0</th>\n",
       "      <td>31011220203121</td>\n",
       "      <td>Nitibe</td>\n",
       "      <td>None</td>\n",
       "      <td>TLS-ADM2-3_0_0-B58</td>\n",
       "      <td>TLS</td>\n",
       "      <td>ADM2</td>\n",
       "      <td>102.251936</td>\n",
       "      <td>POLYGON ((124.03564 -9.34067, 124.03564 -9.318...</td>\n",
       "    </tr>\n",
       "    <tr>\n",
       "      <th>1</th>\n",
       "      <td>31011220203123</td>\n",
       "      <td>Nitibe</td>\n",
       "      <td>None</td>\n",
       "      <td>TLS-ADM2-3_0_0-B58</td>\n",
       "      <td>TLS</td>\n",
       "      <td>ADM2</td>\n",
       "      <td>992.492772</td>\n",
       "      <td>POLYGON ((124.03564 -9.36235, 124.03564 -9.340...</td>\n",
       "    </tr>\n",
       "  </tbody>\n",
       "</table>\n",
       "</div>"
      ],
      "text/plain": [
       "          quadkey shapeName shapeISO             shapeID shapeGroup shapeType  \\\n",
       "0  31011220203121    Nitibe     None  TLS-ADM2-3_0_0-B58        TLS      ADM2   \n",
       "1  31011220203123    Nitibe     None  TLS-ADM2-3_0_0-B58        TLS      ADM2   \n",
       "\n",
       "    pop_count                                           geometry  \n",
       "0  102.251936  POLYGON ((124.03564 -9.34067, 124.03564 -9.318...  \n",
       "1  992.492772  POLYGON ((124.03564 -9.36235, 124.03564 -9.340...  "
      ]
     },
     "execution_count": 6,
     "metadata": {},
     "output_type": "execute_result"
    }
   ],
   "source": [
    "admin_grids_gdf.head(2)"
   ]
  },
  {
   "cell_type": "code",
   "execution_count": null,
   "metadata": {},
   "outputs": [],
   "source": [
    "admin_grids_gdf.explore()"
   ]
  },
  {
   "attachments": {},
   "cell_type": "markdown",
   "metadata": {},
   "source": [
    "## Save to file"
   ]
  },
  {
   "cell_type": "code",
   "execution_count": 8,
   "metadata": {},
   "outputs": [],
   "source": [
    "rollout_date = '-'.join(os.getcwd().split('/')[-2].split('-')[:3])\n",
    "grid_save_path = f'./{rollout_date}-{country_code}-rollout-grids.geojson'\n",
    "admin_grids_gdf.to_file(grid_save_path, driver='GeoJSON', index=False)"
   ]
  }
 ],
 "metadata": {
  "kernelspec": {
   "display_name": "Python 3",
   "language": "python",
   "name": "python3"
  },
  "language_info": {
   "codemirror_mode": {
    "name": "ipython",
    "version": 3
   },
   "file_extension": ".py",
   "mimetype": "text/x-python",
   "name": "python",
   "nbconvert_exporter": "python",
   "pygments_lexer": "ipython3",
   "version": "3.9.15"
  },
  "orig_nbformat": 4,
  "vscode": {
   "interpreter": {
    "hash": "a9c652687746b7e37dd5eba4a53c758a3d21cd9cb60962b6bb30d0de25d1ae14"
   }
  }
 },
 "nbformat": 4,
 "nbformat_minor": 2
}

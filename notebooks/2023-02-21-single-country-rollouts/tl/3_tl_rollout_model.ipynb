{
 "cells": [
  {
   "cell_type": "raw",
   "metadata": {},
   "source": [
    "---\n",
    "title: Timor Leste Model Rollout Part 3 (Feature Engineering and Model Prediction on Rollout Grids)\n",
    "format:\n",
    "  html:\n",
    "    code-fold: false\n",
    "---"
   ]
  },
  {
   "cell_type": "code",
   "execution_count": 1,
   "metadata": {},
   "outputs": [],
   "source": [
    "%matplotlib inline\n",
    "%reload_ext autoreload\n",
    "%autoreload 2"
   ]
  },
  {
   "cell_type": "code",
   "execution_count": 2,
   "metadata": {},
   "outputs": [
    {
     "name": "stderr",
     "output_type": "stream",
     "text": [
      "/home/jace/workspace/unicef-ai4d-poverty-mapping/env/lib/python3.9/site-packages/geopandas/_compat.py:111: UserWarning: The Shapely GEOS version (3.11.1-CAPI-1.17.1) is incompatible with the GEOS version PyGEOS was compiled with (3.10.1-CAPI-1.16.0). Conversions between both will be slow.\n",
      "  warnings.warn(\n"
     ]
    }
   ],
   "source": [
    "import sys\n",
    "import os\n",
    "sys.path.append(\"../../\")\n",
    "\n",
    "import pickle\n",
    "import geopandas as gpd\n",
    "from pathlib import Path\n",
    "import getpass\n",
    "from sklearn.preprocessing import StandardScaler\n",
    "\n",
    "from povertymapping.rollout_grids import get_region_filtered_bingtile_grids \n",
    "from povertymapping import settings, nightlights\n",
    "from povertymapping.iso3 import get_iso3_code\n",
    "from povertymapping.dhs import generate_dhs_cluster_level_data\n",
    "from povertymapping.feature_engineering import generate_features, categorize_wealth_index"
   ]
  },
  {
   "attachments": {},
   "cell_type": "markdown",
   "metadata": {},
   "source": [
    "# Timor Leste Model Rollout Part 3 (Feature Engineering and Model Prediction on Rollout Grids)\n",
    "\n",
    "This notebook runs the final model to create relative wealth estimations over populated areas within the given country. The model predictions will have a spatial resolution of 2.4km.\n",
    "\n",
    "The `predicted relative wealth` value is calculated as the number of standard deviations away from the overall country-mean DHS wealth index, and gives us the relative wealth level of that area compared to the rest of the country. For example, an area with `y=0` is at the average wealth value, while an area with `y=1` means that it's richer than the average area by 1 standard deviation.\n",
    "\n",
    "The predicted relative wealth value is later binned into 5 wealth categories A-E based on a split quintile approach. "
   ]
  },
  {
   "cell_type": "markdown",
   "metadata": {},
   "source": [
    "## Set up Data Access\n",
    "The following cell will prompt you to enter your EOG username and password. See [this page](https://eogdata.mines.edu/products/register/) to learn how to set-up your EOG account."
   ]
  },
  {
   "cell_type": "code",
   "execution_count": 4,
   "metadata": {},
   "outputs": [
    {
     "name": "stderr",
     "output_type": "stream",
     "text": [
      "2023-03-12 12:38:46.757 | INFO     | povertymapping.nightlights:get_eog_access_token:48 - Saving access_token to ~/.eog_creds/eog_access_token\n",
      "2023-03-12 12:38:46.760 | INFO     | povertymapping.nightlights:get_eog_access_token:56 - Adding access token to environmentt var EOG_ACCESS_TOKEN\n"
     ]
    }
   ],
   "source": [
    "# Log-in using EOG credentials\n",
    "username = os.environ.get('EOG_USER',None)\n",
    "username = username if username is not None else input('Username?')\n",
    "password = os.environ.get('EOG_PASSWORD',None)\n",
    "password = password if password is not None else getpass.getpass('Password?') \n",
    "\n",
    "# set save_token to True so that access token gets stored in ~/.eog_creds/eog_access_token\n",
    "access_token = nightlights.get_eog_access_token(username,password, save_token=True)"
   ]
  },
  {
   "attachments": {},
   "cell_type": "markdown",
   "metadata": {},
   "source": [
    "## Set country-specific parameters"
   ]
  },
  {
   "cell_type": "code",
   "execution_count": 6,
   "metadata": {},
   "outputs": [],
   "source": [
    "country_osm = \"east-timor\"\n",
    "ookla_year = 2019\n",
    "nightlights_year = 2016\n",
    "country_code = get_iso3_code(country_osm, code='alpha-2').lower()\n",
    "rollout_date = '-'.join(os.getcwd().split('/')[-2].split('-')[:3])\n",
    "rollout_grids_path = Path(f'./{rollout_date}-{country_code}-rollout-grids.geojson')"
   ]
  },
  {
   "attachments": {},
   "cell_type": "markdown",
   "metadata": {},
   "source": [
    "## Set Model Parameters"
   ]
  },
  {
   "cell_type": "code",
   "execution_count": 7,
   "metadata": {},
   "outputs": [],
   "source": [
    "# Model to use for prediction\n",
    "MODEL_SAVE_PATH = Path(f'./{rollout_date}-{country_code}-single-country-model.pkl')"
   ]
  },
  {
   "attachments": {},
   "cell_type": "markdown",
   "metadata": {},
   "source": [
    "## Load Country Rollout AOI\n",
    "\n",
    "The rollout area of interest is split into 2.4km grid tiles (zoom level 14), matching the areas used during model training. The grids are also filtered to only include populated areas based on Meta's High Resolution Settlement Layer (HRSL) data.\n",
    "\n",
    "Refer to the previous notebook `2_tl_generate_grids.ipynb` for documentation on generating this grid."
   ]
  },
  {
   "cell_type": "code",
   "execution_count": 8,
   "metadata": {},
   "outputs": [],
   "source": [
    "aoi = gpd.read_file(rollout_grids_path)\n",
    "# aoi.explore()  # Uncomment to view data in a map "
   ]
  },
  {
   "attachments": {},
   "cell_type": "markdown",
   "metadata": {},
   "source": [
    "## Generate Features For Rollout AOI"
   ]
  },
  {
   "cell_type": "code",
   "execution_count": 10,
   "metadata": {},
   "outputs": [
    {
     "name": "stderr",
     "output_type": "stream",
     "text": [
      "2023-03-12 12:38:57.625 | INFO     | povertymapping.osm:download_osm_country_data:187 - OSM Data: Cached data available for east-timor at /home/jace/.geowrangler/osm/east-timor? True\n",
      "2023-03-12 12:38:57.626 | DEBUG    | povertymapping.osm:load_pois:149 - OSM POIs for east-timor being loaded from /home/jace/.geowrangler/osm/east-timor/gis_osm_pois_free_1.shp\n",
      "2023-03-12 12:38:59.158 | INFO     | povertymapping.osm:download_osm_country_data:187 - OSM Data: Cached data available for east-timor at /home/jace/.geowrangler/osm/east-timor? True\n",
      "2023-03-12 12:38:59.159 | DEBUG    | povertymapping.osm:load_roads:168 - OSM Roads for east-timor being loaded from /home/jace/.geowrangler/osm/east-timor/gis_osm_roads_free_1.shp\n",
      "2023-03-12 12:39:00.105 | DEBUG    | povertymapping.ookla:load_type_year_data:68 - Contents of data cache: []\n",
      "2023-03-12 12:39:00.106 | INFO     | povertymapping.ookla:load_type_year_data:83 - Cached data available at /home/jace/.geowrangler/ookla/processed/9ffb4fa270d3223649715458afdaedc5.csv? True\n",
      "2023-03-12 12:39:00.107 | DEBUG    | povertymapping.ookla:load_type_year_data:88 - Processed Ookla data for aoi, fixed 2019 (key: 9ffb4fa270d3223649715458afdaedc5) found in filesystem. Loading in cache.\n",
      "2023-03-12 12:39:00.283 | DEBUG    | povertymapping.ookla:load_type_year_data:68 - Contents of data cache: ['9ffb4fa270d3223649715458afdaedc5']\n",
      "2023-03-12 12:39:00.284 | INFO     | povertymapping.ookla:load_type_year_data:83 - Cached data available at /home/jace/.geowrangler/ookla/processed/839f98fa5bce8308017ede7966cc46f8.csv? True\n",
      "2023-03-12 12:39:00.284 | DEBUG    | povertymapping.ookla:load_type_year_data:88 - Processed Ookla data for aoi, mobile 2019 (key: 839f98fa5bce8308017ede7966cc46f8) found in filesystem. Loading in cache.\n",
      "2023-03-12 12:39:00.556 | INFO     | povertymapping.nightlights:get_clipped_raster:414 - Retrieving clipped raster file /home/jace/.geowrangler/nightlights/clip/5a2ab755246adb45217c58a60b82a309.tif\n"
     ]
    },
    {
     "name": "stdout",
     "output_type": "stream",
     "text": [
      "CPU times: user 7.84 s, sys: 2.52 s, total: 10.4 s\n",
      "Wall time: 10.9 s\n"
     ]
    }
   ],
   "source": [
    "%%time\n",
    "scaler = StandardScaler\n",
    "rollout_aoi = aoi.copy()\n",
    "\n",
    "# Create features dataframe using generate_features module\n",
    "features = generate_features(rollout_aoi, country_osm, ookla_year, nightlights_year, scaled_only=True, sklearn_scaler=scaler,features_only=True)"
   ]
  },
  {
   "attachments": {},
   "cell_type": "markdown",
   "metadata": {},
   "source": [
    "## Inspect the generated features"
   ]
  },
  {
   "cell_type": "code",
   "execution_count": 11,
   "metadata": {},
   "outputs": [
    {
     "name": "stdout",
     "output_type": "stream",
     "text": [
      "<class 'geopandas.geodataframe.GeoDataFrame'>\n",
      "Int64Index: 2024 entries, 0 to 2023\n",
      "Data columns (total 61 columns):\n",
      " #   Column                                    Non-Null Count  Dtype  \n",
      "---  ------                                    --------------  -----  \n",
      " 0   poi_count_scaled                          2024 non-null   float64\n",
      " 1   atm_count_scaled                          2024 non-null   float64\n",
      " 2   atm_nearest_scaled                        2024 non-null   float64\n",
      " 3   bank_count_scaled                         2024 non-null   float64\n",
      " 4   bank_nearest_scaled                       2024 non-null   float64\n",
      " 5   bus_station_count_scaled                  2024 non-null   float64\n",
      " 6   bus_station_nearest_scaled                2024 non-null   float64\n",
      " 7   cafe_count_scaled                         2024 non-null   float64\n",
      " 8   cafe_nearest_scaled                       2024 non-null   float64\n",
      " 9   charging_station_count_scaled             2024 non-null   float64\n",
      " 10  charging_station_nearest_scaled           2024 non-null   float64\n",
      " 11  courthouse_count_scaled                   2024 non-null   float64\n",
      " 12  courthouse_nearest_scaled                 2024 non-null   float64\n",
      " 13  dentist_count_scaled                      2024 non-null   float64\n",
      " 14  dentist_nearest_scaled                    2024 non-null   float64\n",
      " 15  fast_food_count_scaled                    2024 non-null   float64\n",
      " 16  fast_food_nearest_scaled                  2024 non-null   float64\n",
      " 17  fire_station_count_scaled                 2024 non-null   float64\n",
      " 18  fire_station_nearest_scaled               2024 non-null   float64\n",
      " 19  food_court_count_scaled                   2024 non-null   float64\n",
      " 20  food_court_nearest_scaled                 2024 non-null   float64\n",
      " 21  fuel_count_scaled                         2024 non-null   float64\n",
      " 22  fuel_nearest_scaled                       2024 non-null   float64\n",
      " 23  hospital_count_scaled                     2024 non-null   float64\n",
      " 24  hospital_nearest_scaled                   2024 non-null   float64\n",
      " 25  library_count_scaled                      2024 non-null   float64\n",
      " 26  library_nearest_scaled                    2024 non-null   float64\n",
      " 27  marketplace_count_scaled                  2024 non-null   float64\n",
      " 28  marketplace_nearest_scaled                2024 non-null   float64\n",
      " 29  pharmacy_count_scaled                     2024 non-null   float64\n",
      " 30  pharmacy_nearest_scaled                   2024 non-null   float64\n",
      " 31  police_count_scaled                       2024 non-null   float64\n",
      " 32  police_nearest_scaled                     2024 non-null   float64\n",
      " 33  post_box_count_scaled                     2024 non-null   float64\n",
      " 34  post_box_nearest_scaled                   2024 non-null   float64\n",
      " 35  post_office_count_scaled                  2024 non-null   float64\n",
      " 36  post_office_nearest_scaled                2024 non-null   float64\n",
      " 37  restaurant_count_scaled                   2024 non-null   float64\n",
      " 38  restaurant_nearest_scaled                 2024 non-null   float64\n",
      " 39  social_facility_count_scaled              2024 non-null   float64\n",
      " 40  social_facility_nearest_scaled            2024 non-null   float64\n",
      " 41  supermarket_count_scaled                  2024 non-null   float64\n",
      " 42  supermarket_nearest_scaled                2024 non-null   float64\n",
      " 43  townhall_count_scaled                     2024 non-null   float64\n",
      " 44  townhall_nearest_scaled                   2024 non-null   float64\n",
      " 45  road_count_scaled                         2024 non-null   float64\n",
      " 46  fixed_2019_mean_avg_d_kbps_mean_scaled    2024 non-null   float64\n",
      " 47  fixed_2019_mean_avg_u_kbps_mean_scaled    2024 non-null   float64\n",
      " 48  fixed_2019_mean_avg_lat_ms_mean_scaled    2024 non-null   float64\n",
      " 49  fixed_2019_mean_num_tests_mean_scaled     2024 non-null   float64\n",
      " 50  fixed_2019_mean_num_devices_mean_scaled   2024 non-null   float64\n",
      " 51  mobile_2019_mean_avg_d_kbps_mean_scaled   2024 non-null   float64\n",
      " 52  mobile_2019_mean_avg_u_kbps_mean_scaled   2024 non-null   float64\n",
      " 53  mobile_2019_mean_avg_lat_ms_mean_scaled   2024 non-null   float64\n",
      " 54  mobile_2019_mean_num_tests_mean_scaled    2024 non-null   float64\n",
      " 55  mobile_2019_mean_num_devices_mean_scaled  2024 non-null   float64\n",
      " 56  avg_rad_min_scaled                        2024 non-null   float64\n",
      " 57  avg_rad_max_scaled                        2024 non-null   float64\n",
      " 58  avg_rad_mean_scaled                       2024 non-null   float64\n",
      " 59  avg_rad_std_scaled                        2024 non-null   float64\n",
      " 60  avg_rad_median_scaled                     2024 non-null   float64\n",
      "dtypes: float64(61)\n",
      "memory usage: 1.0 MB\n"
     ]
    }
   ],
   "source": [
    "features.info()"
   ]
  },
  {
   "attachments": {},
   "cell_type": "markdown",
   "metadata": {},
   "source": [
    "## Run Model on AOI"
   ]
  },
  {
   "attachments": {},
   "cell_type": "markdown",
   "metadata": {},
   "source": [
    "### Load Model"
   ]
  },
  {
   "cell_type": "code",
   "execution_count": 12,
   "metadata": {},
   "outputs": [],
   "source": [
    "with open(MODEL_SAVE_PATH,'rb') as f:\n",
    "    model = pickle.load(f)"
   ]
  },
  {
   "attachments": {},
   "cell_type": "markdown",
   "metadata": {},
   "source": [
    "### Make Predictions"
   ]
  },
  {
   "cell_type": "code",
   "execution_count": 13,
   "metadata": {},
   "outputs": [],
   "source": [
    "rollout_aoi['Predicted Relative Wealth Index'] = model.predict(features.values)"
   ]
  },
  {
   "attachments": {},
   "cell_type": "markdown",
   "metadata": {},
   "source": [
    "### Inspect predicted wealth index and output dataframe"
   ]
  },
  {
   "cell_type": "code",
   "execution_count": 14,
   "metadata": {},
   "outputs": [
    {
     "data": {
      "text/plain": [
       "array([[<AxesSubplot: title={'center': 'Predicted Relative Wealth Index'}>]],\n",
       "      dtype=object)"
      ]
     },
     "execution_count": 14,
     "metadata": {},
     "output_type": "execute_result"
    },
    {
     "data": {
      "image/png": "[encoded data removed]",
      "text/plain": [
       "<Figure size 640x480 with 1 Axes>"
      ]
     },
     "metadata": {},
     "output_type": "display_data"
    }
   ],
   "source": [
    "rollout_aoi[['Predicted Relative Wealth Index']].hist()"
   ]
  },
  {
   "cell_type": "code",
   "execution_count": null,
   "metadata": {},
   "outputs": [],
   "source": [
    "rollout_aoi.explore(column='Predicted Relative Wealth Index')"
   ]
  },
  {
   "attachments": {},
   "cell_type": "markdown",
   "metadata": {},
   "source": [
    "The Predicted Relative Wealth Index map should look like this\n",
    "\n",
    "![image info](./2023-02-21-tl-predicted-wealth-index.PNG)"
   ]
  },
  {
   "cell_type": "code",
   "execution_count": 16,
   "metadata": {},
   "outputs": [
    {
     "data": {
      "text/html": [
       "<div>\n",
       "<style scoped>\n",
       "    .dataframe tbody tr th:only-of-type {\n",
       "        vertical-align: middle;\n",
       "    }\n",
       "\n",
       "    .dataframe tbody tr th {\n",
       "        vertical-align: top;\n",
       "    }\n",
       "\n",
       "    .dataframe thead th {\n",
       "        text-align: right;\n",
       "    }\n",
       "</style>\n",
       "<table border=\"1\" class=\"dataframe\">\n",
       "  <thead>\n",
       "    <tr style=\"text-align: right;\">\n",
       "      <th></th>\n",
       "      <th>quadkey</th>\n",
       "      <th>shapeName</th>\n",
       "      <th>shapeISO</th>\n",
       "      <th>shapeID</th>\n",
       "      <th>shapeGroup</th>\n",
       "      <th>shapeType</th>\n",
       "      <th>pop_count</th>\n",
       "      <th>geometry</th>\n",
       "      <th>Predicted Relative Wealth Index</th>\n",
       "    </tr>\n",
       "  </thead>\n",
       "  <tbody>\n",
       "    <tr>\n",
       "      <th>0</th>\n",
       "      <td>31011220203121</td>\n",
       "      <td>Nitibe</td>\n",
       "      <td>None</td>\n",
       "      <td>TLS-ADM2-3_0_0-B58</td>\n",
       "      <td>TLS</td>\n",
       "      <td>ADM2</td>\n",
       "      <td>102.251936</td>\n",
       "      <td>POLYGON ((124.03564 -9.34067, 124.03564 -9.318...</td>\n",
       "      <td>-0.340866</td>\n",
       "    </tr>\n",
       "    <tr>\n",
       "      <th>1</th>\n",
       "      <td>31011220203123</td>\n",
       "      <td>Nitibe</td>\n",
       "      <td>None</td>\n",
       "      <td>TLS-ADM2-3_0_0-B58</td>\n",
       "      <td>TLS</td>\n",
       "      <td>ADM2</td>\n",
       "      <td>992.492772</td>\n",
       "      <td>POLYGON ((124.03564 -9.36235, 124.03564 -9.340...</td>\n",
       "      <td>0.152553</td>\n",
       "    </tr>\n",
       "    <tr>\n",
       "      <th>2</th>\n",
       "      <td>31011220203130</td>\n",
       "      <td>Nitibe</td>\n",
       "      <td>None</td>\n",
       "      <td>TLS-ADM2-3_0_0-B58</td>\n",
       "      <td>TLS</td>\n",
       "      <td>ADM2</td>\n",
       "      <td>118.897600</td>\n",
       "      <td>POLYGON ((124.05762 -9.34067, 124.05762 -9.318...</td>\n",
       "      <td>-0.341640</td>\n",
       "    </tr>\n",
       "    <tr>\n",
       "      <th>3</th>\n",
       "      <td>31011220203132</td>\n",
       "      <td>Nitibe</td>\n",
       "      <td>None</td>\n",
       "      <td>TLS-ADM2-3_0_0-B58</td>\n",
       "      <td>TLS</td>\n",
       "      <td>ADM2</td>\n",
       "      <td>513.637632</td>\n",
       "      <td>POLYGON ((124.05762 -9.36235, 124.05762 -9.340...</td>\n",
       "      <td>0.068045</td>\n",
       "    </tr>\n",
       "    <tr>\n",
       "      <th>4</th>\n",
       "      <td>31011220203310</td>\n",
       "      <td>Nitibe</td>\n",
       "      <td>None</td>\n",
       "      <td>TLS-ADM2-3_0_0-B58</td>\n",
       "      <td>TLS</td>\n",
       "      <td>ADM2</td>\n",
       "      <td>319.140940</td>\n",
       "      <td>POLYGON ((124.05762 -9.38403, 124.05762 -9.362...</td>\n",
       "      <td>-0.016132</td>\n",
       "    </tr>\n",
       "  </tbody>\n",
       "</table>\n",
       "</div>"
      ],
      "text/plain": [
       "          quadkey shapeName shapeISO             shapeID shapeGroup shapeType  \\\n",
       "0  31011220203121    Nitibe     None  TLS-ADM2-3_0_0-B58        TLS      ADM2   \n",
       "1  31011220203123    Nitibe     None  TLS-ADM2-3_0_0-B58        TLS      ADM2   \n",
       "2  31011220203130    Nitibe     None  TLS-ADM2-3_0_0-B58        TLS      ADM2   \n",
       "3  31011220203132    Nitibe     None  TLS-ADM2-3_0_0-B58        TLS      ADM2   \n",
       "4  31011220203310    Nitibe     None  TLS-ADM2-3_0_0-B58        TLS      ADM2   \n",
       "\n",
       "    pop_count                                           geometry  \\\n",
       "0  102.251936  POLYGON ((124.03564 -9.34067, 124.03564 -9.318...   \n",
       "1  992.492772  POLYGON ((124.03564 -9.36235, 124.03564 -9.340...   \n",
       "2  118.897600  POLYGON ((124.05762 -9.34067, 124.05762 -9.318...   \n",
       "3  513.637632  POLYGON ((124.05762 -9.36235, 124.05762 -9.340...   \n",
       "4  319.140940  POLYGON ((124.05762 -9.38403, 124.05762 -9.362...   \n",
       "\n",
       "   Predicted Relative Wealth Index  \n",
       "0                        -0.340866  \n",
       "1                         0.152553  \n",
       "2                        -0.341640  \n",
       "3                         0.068045  \n",
       "4                        -0.016132  "
      ]
     },
     "execution_count": 16,
     "metadata": {},
     "output_type": "execute_result"
    }
   ],
   "source": [
    "rollout_aoi.head()"
   ]
  },
  {
   "cell_type": "code",
   "execution_count": 17,
   "metadata": {},
   "outputs": [
    {
     "name": "stdout",
     "output_type": "stream",
     "text": [
      "<class 'geopandas.geodataframe.GeoDataFrame'>\n",
      "RangeIndex: 2024 entries, 0 to 2023\n",
      "Data columns (total 9 columns):\n",
      " #   Column                           Non-Null Count  Dtype   \n",
      "---  ------                           --------------  -----   \n",
      " 0   quadkey                          2024 non-null   object  \n",
      " 1   shapeName                        2024 non-null   object  \n",
      " 2   shapeISO                         2024 non-null   object  \n",
      " 3   shapeID                          2024 non-null   object  \n",
      " 4   shapeGroup                       2024 non-null   object  \n",
      " 5   shapeType                        2024 non-null   object  \n",
      " 6   pop_count                        2024 non-null   float64 \n",
      " 7   geometry                         2024 non-null   geometry\n",
      " 8   Predicted Relative Wealth Index  2024 non-null   float64 \n",
      "dtypes: float64(2), geometry(1), object(6)\n",
      "memory usage: 142.4+ KB\n"
     ]
    }
   ],
   "source": [
    "rollout_aoi.info()"
   ]
  },
  {
   "attachments": {},
   "cell_type": "markdown",
   "metadata": {},
   "source": [
    "## Binning predictions into wealth categories\n",
    "\n",
    "Afterwards, we label the predicted relative wealth by binning them into 5 categories \n",
    "\n",
    "|Category |Description| \n",
    "|---|-----------------| \n",
    "| A | high income | \n",
    "| B | mid-high income | \n",
    "| C | middle income | \n",
    "| D | mid-low income | \n",
    "| E | low income |\n",
    "\n",
    "We can create these wealth categories in two ways, both of which are provided in the output dataset. \n",
    "- `Predicted Wealth Category (quintile)`: Categories derived by splitting the output `Predicted Relative Wealth Index` distribution into 5 equally sized quintiles\n",
    "- `Predicted Wealth Category (split-quintile)`: Categories derived using the **split quintiles** approach described below. This preserves the realities of unequal wealth distribution by accounting for distance from the mean wealth level `y = 0`. \n",
    "\n",
    "**Split-quintile approach**\n",
    "1. Generate this by identifying two splits first, a) `Predicted Relative Wealth Index > 0` (above average wealth) and b) `Predicted Relative Wealth Index < 0` (below average wealth).\n",
    "2. Generate quintiles for each of the two initial splits.\n",
    "3. Take every 2 quintiles as one wealth bin.\n",
    "\n",
    "\n",
    "![alt](../../../assets/split%20quintile%20approach.png)\n",
    "\n"
   ]
  },
  {
   "attachments": {},
   "cell_type": "markdown",
   "metadata": {},
   "source": [
    "### Calculate equal-quintile wealth category"
   ]
  },
  {
   "cell_type": "code",
   "execution_count": 18,
   "metadata": {},
   "outputs": [],
   "source": [
    "rollout_aoi[\"Predicted Wealth Category (quintile)\"] = categorize_wealth_index(\n",
    "    rollout_aoi[\"Predicted Relative Wealth Index\"], split_quantile=False\n",
    ").astype(str)\n"
   ]
  },
  {
   "cell_type": "code",
   "execution_count": null,
   "metadata": {},
   "outputs": [],
   "source": [
    "rollout_aoi.explore(\n",
    "    column = 'Predicted Wealth Category (quintile)',\n",
    "    cmap = 'viridis_r' # _r suffix reverses the colormap\n",
    ")"
   ]
  },
  {
   "attachments": {},
   "cell_type": "markdown",
   "metadata": {},
   "source": [
    "### Calculate split-quintile wealth category"
   ]
  },
  {
   "cell_type": "code",
   "execution_count": 20,
   "metadata": {},
   "outputs": [
    {
     "name": "stdout",
     "output_type": "stream",
     "text": [
      "[-0.5260360790951342, -0.2707347460585039, -0.12701446448786338, 0.26690190287376175, 0.6519863067307566, 2.1574144982670056]\n"
     ]
    }
   ],
   "source": [
    "rollout_aoi[\"Predicted Wealth Category (split-quintile)\"] = categorize_wealth_index(\n",
    "    rollout_aoi[\"Predicted Relative Wealth Index\"], split_quantile=True\n",
    ")\n"
   ]
  },
  {
   "cell_type": "code",
   "execution_count": null,
   "metadata": {},
   "outputs": [],
   "source": [
    "rollout_aoi.explore(\n",
    "    column = 'Predicted Wealth Category (split-quintile)',\n",
    "    cmap = 'viridis_r' # _r suffix reverses the colormap\n",
    ")"
   ]
  },
  {
   "attachments": {},
   "cell_type": "markdown",
   "metadata": {},
   "source": [
    "## Save output"
   ]
  },
  {
   "cell_type": "code",
   "execution_count": 22,
   "metadata": {},
   "outputs": [
    {
     "name": "stdout",
     "output_type": "stream",
     "text": [
      "CPU times: user 375 ms, sys: 0 ns, total: 375 ms\n",
      "Wall time: 384 ms\n"
     ]
    }
   ],
   "source": [
    "%%time\n",
    "rollout_aoi.to_file(f'{rollout_date}-{country_code}-rollout-output.geojson', driver='GeoJSON', index=False)"
   ]
  }
 ],
 "metadata": {
  "kernelspec": {
   "display_name": "Python 3",
   "language": "python",
   "name": "python3"
  },
  "language_info": {
   "codemirror_mode": {
    "name": "ipython",
    "version": 3
   },
   "file_extension": ".py",
   "mimetype": "text/x-python",
   "name": "python",
   "nbconvert_exporter": "python",
   "pygments_lexer": "ipython3",
   "version": "3.9.15"
  },
  "orig_nbformat": 4
 },
 "nbformat": 4,
 "nbformat_minor": 2
}

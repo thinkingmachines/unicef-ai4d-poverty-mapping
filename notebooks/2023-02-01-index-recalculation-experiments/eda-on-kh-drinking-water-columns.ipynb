{
 "cells": [
  {
   "cell_type": "markdown",
   "id": "9035e661-c4f3-44d2-bb7d-91a5916b9578",
   "metadata": {},
   "source": [
    "# EDA on household columns / index calculation\n",
    "\n",
    "This notebook will investigate columns for the household data in cambodia to find the relevant column for index calculation"
   ]
  },
  {
   "cell_type": "code",
   "execution_count": 1,
   "id": "c4005691-5a5a-47b3-b14a-5a67b831b301",
   "metadata": {},
   "outputs": [],
   "source": [
    "import sys\n",
    "sys.path.append(\"../../\")\n",
    "\n",
    "from relativewealth import settings\n",
    "from relativewealth.dhs import DHSDataManager\n",
    "from geowrangler import dhs"
   ]
  },
  {
   "cell_type": "code",
   "execution_count": 2,
   "id": "af744f3c-9892-4c74-b359-a3614f854bff",
   "metadata": {},
   "outputs": [],
   "source": [
    "%reload_ext autoreload\n",
    "%autoreload 2"
   ]
  },
  {
   "cell_type": "code",
   "execution_count": 3,
   "id": "ba15a365-c5d7-44e4-980f-667a1261625c",
   "metadata": {},
   "outputs": [],
   "source": [
    "dhsmanager = DHSDataManager()"
   ]
  },
  {
   "cell_type": "code",
   "execution_count": 4,
   "id": "89e691bc-ac1e-4b21-acbf-f169cb0283b0",
   "metadata": {},
   "outputs": [],
   "source": [
    "# Set country-specific variables\n",
    "country_config = {\n",
    "    'Philippines': {\n",
    "        'country_osm':'philippines',\n",
    "        'ookla_year': 2019,\n",
    "        'nightlights_year' : 2017,\n",
    "        'country_code': 'ph',\n",
    "        'dhs_household_dta_path' : settings.DATA_DIR/\"dhs/ph/PHHR71DT/PHHR71FL.DTA\",\n",
    "        'dhs_geographic_shp_path' : settings.DATA_DIR/\"dhs/ph/PHGE71FL/PHGE71FL.shp\"\n",
    "    },\n",
    "    'Timor Leste': {\n",
    "        'country_osm':'east-timor',\n",
    "        'ookla_year': 2019,\n",
    "        'nightlights_year' : 2016,\n",
    "        'country_code': 'tl',\n",
    "        'dhs_household_dta_path' : settings.DATA_DIR/\"dhs/tl/TLHR71DT/TLHR71FL.DTA\",\n",
    "        'dhs_geographic_shp_path' : settings.DATA_DIR/\"dhs/tl/TLGE71FL/TLGE71FL.shp\"\n",
    "    },\n",
    "    'Cambodia': {\n",
    "        'country_osm':'cambodia',\n",
    "        'ookla_year': 2019,\n",
    "        'nightlights_year' : 2014,\n",
    "        'country_code': 'kh',\n",
    "        'dhs_household_dta_path' : settings.DATA_DIR/\"dhs/kh/KHHR73DT/KHHR73FL.DTA\",\n",
    "        'dhs_geographic_shp_path' : settings.DATA_DIR/\"dhs/kh/KHGE71FL/KHGE71FL.shp\"\n",
    "    },\n",
    "    'Myanmar': {\n",
    "        'country_osm':'myanmar',\n",
    "        'ookla_year': 2019,\n",
    "        'nightlights_year' : 2015,\n",
    "        'country_code': 'mm',\n",
    "        'dhs_household_dta_path' : settings.DATA_DIR/\"dhs/mm/MMHR71DT/MMHR71FL.DTA\",\n",
    "        'dhs_geographic_shp_path' : settings.DATA_DIR/\"dhs/mm/MMGE71FL/MMGE71FL.shp\"\n",
    "    }\n",
    "}"
   ]
  },
  {
   "cell_type": "markdown",
   "id": "f3878f7e-4d1b-4c6e-bb8b-c078a2dd7010",
   "metadata": {},
   "source": [
    "## Load Cambodia Data Without Applying GW config"
   ]
  },
  {
   "cell_type": "code",
   "execution_count": 6,
   "id": "b8d43589-00b4-463f-a14e-83ce0f3352f6",
   "metadata": {},
   "outputs": [],
   "source": [
    "dhs_kh = dhs.load_dhs_file(country_config[\"Cambodia\"][\"dhs_household_dta_path\"])"
   ]
  },
  {
   "cell_type": "code",
   "execution_count": 16,
   "id": "f8869f79-bc55-40dc-bc65-20b1ac45c3ed",
   "metadata": {},
   "outputs": [
    {
     "data": {
      "text/plain": [
       "['na - source of drinking water',\n",
       " 'na - source of non-drinking water',\n",
       " 'source of drinking water during the dry season',\n",
       " 'same source of drinking water during wet and dry season',\n",
       " 'source of drinking water during wet season']"
      ]
     },
     "execution_count": 16,
     "metadata": {},
     "output_type": "execute_result"
    }
   ],
   "source": [
    "kh_cols_with_drinking_water = [x for x in dhs_kh.columns if \"drinking water\" in x]\n",
    "kh_cols_with_drinking_water"
   ]
  },
  {
   "cell_type": "code",
   "execution_count": 17,
   "id": "d57bb615-1037-46a7-9d09-a83891a668df",
   "metadata": {},
   "outputs": [
    {
     "name": "stdout",
     "output_type": "stream",
     "text": [
      "<class 'pandas.core.frame.DataFrame'>\n",
      "Int64Index: 15825 entries, 0 to 15824\n",
      "Data columns (total 5 columns):\n",
      " #   Column                                                   Non-Null Count  Dtype  \n",
      "---  ------                                                   --------------  -----  \n",
      " 0   na - source of drinking water                            0 non-null      float64\n",
      " 1   na - source of non-drinking water                        0 non-null      float64\n",
      " 2   source of drinking water during the dry season           15820 non-null  float64\n",
      " 3   same source of drinking water during wet and dry season  15823 non-null  float64\n",
      " 4   source of drinking water during wet season               15811 non-null  float64\n",
      "dtypes: float64(5)\n",
      "memory usage: 741.8 KB\n"
     ]
    }
   ],
   "source": [
    "dhs_kh[kh_cols_with_drinking_water].info()"
   ]
  },
  {
   "cell_type": "markdown",
   "id": "7d98e669-880e-4e0f-8550-19c3d64dad8b",
   "metadata": {},
   "source": [
    "## Investigate the GW config"
   ]
  },
  {
   "cell_type": "markdown",
   "id": "be077380-e4ff-485a-982e-686f1f86a109",
   "metadata": {},
   "source": [
    "From this cell, it looks like GW converts `na - source of drinkign water` as its drinking water column, but we know that this column has no values!"
   ]
  },
  {
   "cell_type": "code",
   "execution_count": 11,
   "id": "a8956d2a-9870-4c7f-80cd-d96a150e4198",
   "metadata": {},
   "outputs": [
    {
     "data": {
      "text/plain": [
       "{'cluster number': 'DHSCLUST',\n",
       " 'wealth index factor score (5 decimals)': 'Wealth Index',\n",
       " 'country code and phase': 'country code and phase',\n",
       " 'number of rooms used for sleeping': 'rooms',\n",
       " 'has electricity': 'electric',\n",
       " 'has mobile telephone': 'mobile telephone',\n",
       " 'has radio': 'radio',\n",
       " 'has television': 'television',\n",
       " 'has car/truck': 'car/truck',\n",
       " 'has refrigerator': 'refrigerator',\n",
       " 'has motorcycle/scooter': 'motorcycle',\n",
       " 'main floor material': 'floor',\n",
       " 'type of toilet facility': 'toilet',\n",
       " 'na - source of drinking water': 'drinking water'}"
      ]
     },
     "execution_count": 11,
     "metadata": {},
     "output_type": "execute_result"
    }
   ],
   "source": [
    "dhs.load_column_config('kh')"
   ]
  },
  {
   "cell_type": "code",
   "execution_count": 12,
   "id": "e6a17e33-2320-409c-9bda-1ebb56ab0a64",
   "metadata": {},
   "outputs": [
    {
     "data": {
      "text/plain": [
       "0       NaN\n",
       "1       NaN\n",
       "2       NaN\n",
       "3       NaN\n",
       "4       NaN\n",
       "         ..\n",
       "15820   NaN\n",
       "15821   NaN\n",
       "15822   NaN\n",
       "15823   NaN\n",
       "15824   NaN\n",
       "Name: na - source of drinking water, Length: 15825, dtype: float64"
      ]
     },
     "execution_count": 12,
     "metadata": {},
     "output_type": "execute_result"
    }
   ],
   "source": [
    "dhs_kh['na - source of drinking water']"
   ]
  },
  {
   "cell_type": "markdown",
   "id": "06d5a437-3b13-4eac-8f80-0ea8a004004e",
   "metadata": {},
   "source": [
    "Using `same source of drinking water during wet and dry season` might be a better choice, but the values are binary (maybe it means yes/no?)"
   ]
  },
  {
   "cell_type": "code",
   "execution_count": 19,
   "id": "3bdf4c49-a263-4b95-818f-de69c12dba7a",
   "metadata": {},
   "outputs": [
    {
     "data": {
      "text/plain": [
       "1.0    10916\n",
       "0.0     4907\n",
       "Name: same source of drinking water during wet and dry season, dtype: int64"
      ]
     },
     "execution_count": 19,
     "metadata": {},
     "output_type": "execute_result"
    }
   ],
   "source": [
    "dhs_kh['same source of drinking water during wet and dry season'].value_counts()"
   ]
  },
  {
   "cell_type": "markdown",
   "id": "277de0dd-02b0-4641-bdef-68f5a843beea",
   "metadata": {},
   "source": [
    "Looking at 'source of drinking water during the dry season' and 'source of drinking water during wet season' seems to make more sense"
   ]
  },
  {
   "cell_type": "code",
   "execution_count": 25,
   "id": "3fb5cc71-f7e9-4edd-8c9c-4c4e7abacd1b",
   "metadata": {},
   "outputs": [
    {
     "data": {
      "text/plain": [
       "0        43.0\n",
       "1        43.0\n",
       "2        51.0\n",
       "3        51.0\n",
       "4        43.0\n",
       "         ... \n",
       "15820    43.0\n",
       "15821    31.0\n",
       "15822    32.0\n",
       "15823    32.0\n",
       "15824    43.0\n",
       "Name: source of drinking water during the dry season, Length: 15825, dtype: float64"
      ]
     },
     "execution_count": 25,
     "metadata": {},
     "output_type": "execute_result"
    }
   ],
   "source": [
    "dhs_kh['source of drinking water during the dry season']"
   ]
  },
  {
   "cell_type": "code",
   "execution_count": 24,
   "id": "24115aa8-f06a-4691-9475-d85f3611eb3f",
   "metadata": {},
   "outputs": [
    {
     "data": {
      "text/plain": [
       "0        51.0\n",
       "1        43.0\n",
       "2        51.0\n",
       "3        51.0\n",
       "4        51.0\n",
       "         ... \n",
       "15820    31.0\n",
       "15821    31.0\n",
       "15822    32.0\n",
       "15823    32.0\n",
       "15824    51.0\n",
       "Name: source of drinking water during wet season, Length: 15825, dtype: float64"
      ]
     },
     "execution_count": 24,
     "metadata": {},
     "output_type": "execute_result"
    }
   ],
   "source": [
    "dhs_kh['source of drinking water during wet season']"
   ]
  },
  {
   "cell_type": "code",
   "execution_count": 29,
   "id": "6933922b-deaa-4ca9-b9be-9995287278b7",
   "metadata": {},
   "outputs": [
    {
     "data": {
      "text/html": [
       "<div>\n",
       "<style scoped>\n",
       "    .dataframe tbody tr th:only-of-type {\n",
       "        vertical-align: middle;\n",
       "    }\n",
       "\n",
       "    .dataframe tbody tr th {\n",
       "        vertical-align: top;\n",
       "    }\n",
       "\n",
       "    .dataframe thead th {\n",
       "        text-align: right;\n",
       "    }\n",
       "</style>\n",
       "<table border=\"1\" class=\"dataframe\">\n",
       "  <thead>\n",
       "    <tr style=\"text-align: right;\">\n",
       "      <th></th>\n",
       "      <th>source of drinking water during the dry season</th>\n",
       "      <th>source of drinking water during wet season</th>\n",
       "      <th>same source of drinking water during wet and dry season</th>\n",
       "    </tr>\n",
       "  </thead>\n",
       "  <tbody>\n",
       "    <tr>\n",
       "      <th>0</th>\n",
       "      <td>43.0</td>\n",
       "      <td>51.0</td>\n",
       "      <td>0.0</td>\n",
       "    </tr>\n",
       "    <tr>\n",
       "      <th>1</th>\n",
       "      <td>43.0</td>\n",
       "      <td>43.0</td>\n",
       "      <td>1.0</td>\n",
       "    </tr>\n",
       "    <tr>\n",
       "      <th>2</th>\n",
       "      <td>51.0</td>\n",
       "      <td>51.0</td>\n",
       "      <td>1.0</td>\n",
       "    </tr>\n",
       "    <tr>\n",
       "      <th>3</th>\n",
       "      <td>51.0</td>\n",
       "      <td>51.0</td>\n",
       "      <td>1.0</td>\n",
       "    </tr>\n",
       "    <tr>\n",
       "      <th>4</th>\n",
       "      <td>43.0</td>\n",
       "      <td>51.0</td>\n",
       "      <td>0.0</td>\n",
       "    </tr>\n",
       "    <tr>\n",
       "      <th>...</th>\n",
       "      <td>...</td>\n",
       "      <td>...</td>\n",
       "      <td>...</td>\n",
       "    </tr>\n",
       "    <tr>\n",
       "      <th>15820</th>\n",
       "      <td>43.0</td>\n",
       "      <td>31.0</td>\n",
       "      <td>0.0</td>\n",
       "    </tr>\n",
       "    <tr>\n",
       "      <th>15821</th>\n",
       "      <td>31.0</td>\n",
       "      <td>31.0</td>\n",
       "      <td>1.0</td>\n",
       "    </tr>\n",
       "    <tr>\n",
       "      <th>15822</th>\n",
       "      <td>32.0</td>\n",
       "      <td>32.0</td>\n",
       "      <td>1.0</td>\n",
       "    </tr>\n",
       "    <tr>\n",
       "      <th>15823</th>\n",
       "      <td>32.0</td>\n",
       "      <td>32.0</td>\n",
       "      <td>1.0</td>\n",
       "    </tr>\n",
       "    <tr>\n",
       "      <th>15824</th>\n",
       "      <td>43.0</td>\n",
       "      <td>51.0</td>\n",
       "      <td>0.0</td>\n",
       "    </tr>\n",
       "  </tbody>\n",
       "</table>\n",
       "<p>15825 rows × 3 columns</p>\n",
       "</div>"
      ],
      "text/plain": [
       "       source of drinking water during the dry season  \\\n",
       "0                                                43.0   \n",
       "1                                                43.0   \n",
       "2                                                51.0   \n",
       "3                                                51.0   \n",
       "4                                                43.0   \n",
       "...                                               ...   \n",
       "15820                                            43.0   \n",
       "15821                                            31.0   \n",
       "15822                                            32.0   \n",
       "15823                                            32.0   \n",
       "15824                                            43.0   \n",
       "\n",
       "       source of drinking water during wet season  \\\n",
       "0                                            51.0   \n",
       "1                                            43.0   \n",
       "2                                            51.0   \n",
       "3                                            51.0   \n",
       "4                                            51.0   \n",
       "...                                           ...   \n",
       "15820                                        31.0   \n",
       "15821                                        31.0   \n",
       "15822                                        32.0   \n",
       "15823                                        32.0   \n",
       "15824                                        51.0   \n",
       "\n",
       "       same source of drinking water during wet and dry season  \n",
       "0                                                    0.0        \n",
       "1                                                    1.0        \n",
       "2                                                    1.0        \n",
       "3                                                    1.0        \n",
       "4                                                    0.0        \n",
       "...                                                  ...        \n",
       "15820                                                0.0        \n",
       "15821                                                1.0        \n",
       "15822                                                1.0        \n",
       "15823                                                1.0        \n",
       "15824                                                0.0        \n",
       "\n",
       "[15825 rows x 3 columns]"
      ]
     },
     "execution_count": 29,
     "metadata": {},
     "output_type": "execute_result"
    }
   ],
   "source": [
    "dhs_kh[['source of drinking water during the dry season', 'source of drinking water during wet season', 'same source of drinking water during wet and dry season']]"
   ]
  },
  {
   "cell_type": "markdown",
   "id": "f1c86eaa-ca62-47c0-8393-b3a5a18cf451",
   "metadata": {},
   "source": [
    "## Sense check with PH"
   ]
  },
  {
   "cell_type": "code",
   "execution_count": 26,
   "id": "32bc741e-ec26-4e02-921f-db5e9137ab28",
   "metadata": {},
   "outputs": [],
   "source": [
    "dhs_ph = dhs.load_dhs_file(country_config[\"Philippines\"][\"dhs_household_dta_path\"])"
   ]
  },
  {
   "cell_type": "code",
   "execution_count": 27,
   "id": "990609d1-41be-442f-977e-9f43bedeb226",
   "metadata": {},
   "outputs": [
    {
     "data": {
      "text/plain": [
       "['source of drinking water', 'source of non-drinking water']"
      ]
     },
     "execution_count": 27,
     "metadata": {},
     "output_type": "execute_result"
    }
   ],
   "source": [
    "ph_cols_with_drinking_water = [x for x in dhs_ph.columns if \"drinking water\" in x]\n",
    "ph_cols_with_drinking_water"
   ]
  },
  {
   "cell_type": "code",
   "execution_count": 28,
   "id": "6a0075b2-c0eb-43f9-b4db-c78540008eea",
   "metadata": {},
   "outputs": [
    {
     "data": {
      "text/plain": [
       "0        11\n",
       "1        71\n",
       "2        71\n",
       "3        13\n",
       "4        11\n",
       "         ..\n",
       "27491    13\n",
       "27492    42\n",
       "27493    41\n",
       "27494    12\n",
       "27495    41\n",
       "Name: source of drinking water, Length: 27496, dtype: int8"
      ]
     },
     "execution_count": 28,
     "metadata": {},
     "output_type": "execute_result"
    }
   ],
   "source": [
    "dhs_ph['source of drinking water']"
   ]
  }
 ],
 "metadata": {
  "kernelspec": {
   "display_name": "Python 3 (ipykernel)",
   "language": "python",
   "name": "python3"
  },
  "language_info": {
   "codemirror_mode": {
    "name": "ipython",
    "version": 3
   },
   "file_extension": ".py",
   "mimetype": "text/x-python",
   "name": "python",
   "nbconvert_exporter": "python",
   "pygments_lexer": "ipython3",
   "version": "3.9.16"
  }
 },
 "nbformat": 4,
 "nbformat_minor": 5
}

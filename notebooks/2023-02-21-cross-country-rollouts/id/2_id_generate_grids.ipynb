{
 "cells": [
  {
   "cell_type": "raw",
   "metadata": {},
   "source": [
    "---\n",
    "title: Generate rollout grids\n",
    "format:\n",
    "  html:\n",
    "    code-fold: false\n",
    "---"
   ]
  },
  {
   "cell_type": "code",
   "execution_count": 1,
   "metadata": {},
   "outputs": [],
   "source": [
    "%matplotlib inline\n",
    "%reload_ext autoreload\n",
    "%autoreload 2"
   ]
  },
  {
   "cell_type": "code",
   "execution_count": 2,
   "metadata": {},
   "outputs": [
    {
     "name": "stderr",
     "output_type": "stream",
     "text": [
      "/home/jace/workspace/unicef-ai4d-relative-wealth/env/lib/python3.9/site-packages/geopandas/_compat.py:111: UserWarning: The Shapely GEOS version (3.11.1-CAPI-1.17.1) is incompatible with the GEOS version PyGEOS was compiled with (3.10.1-CAPI-1.16.0). Conversions between both will be slow.\n",
      "  warnings.warn(\n"
     ]
    }
   ],
   "source": [
    "import sys\n",
    "\n",
    "sys.path.append(\"../../../\")\n",
    "import os\n",
    "from pathlib import Path\n",
    "\n",
    "import geopandas as gpd\n",
    "import numpy as np\n",
    "\n",
    "from povertymapping.hdx import get_hdx_file\n",
    "from povertymapping.iso3 import get_region_name\n",
    "from povertymapping.rollout_grids import (\n",
    "    compute_raster_stats,\n",
    "    get_region_filtered_bingtile_grids,\n",
    ")"
   ]
  },
  {
   "attachments": {},
   "cell_type": "markdown",
   "metadata": {},
   "source": [
    "# Generate Roll-out Grids: Indonesia\n",
    "\n",
    "This notebook is the second step in the rollout and generates the rollout grid tiles over the country. The output file is used as an input for Step 3, where we will run the trained model over the set of grids.\n",
    "\n",
    "The generated grids are set at 2.4km (zoom level 14), matching the grids used during model training. The grids are also filtered to only include populated areas based on Meta's High Resolution Settlement Layer (HRSL) data.\n",
    "\n",
    "**Notes on Indonesia**\n",
    "\n",
    "The Indonesia grids are processed slightly differently to the other countries as the normal gridding workflow runs into memory issues when processing Indonesia. The size and scale of the country makes it difficult to load and process all the data in memory. For Indonesia, we follow this modifed workflow:\n",
    "\n",
    "1. We generate the grids over Indonesia first without filtering by population (`filter_population=False`)\n",
    "2. We then group the generated grids by lower-zoom-level quadkeys so that we can have geographically close groupings\n",
    "3. The population count for each grid is generated on a per-group basis to limit the amount of data being loaded as it is being processed\n",
    "4. After getting the population count, we filter out the unpopulated grids manually and save to file"
   ]
  },
  {
   "cell_type": "markdown",
   "metadata": {},
   "source": [
    "## Set country-specific parameters"
   ]
  },
  {
   "cell_type": "code",
   "execution_count": 3,
   "metadata": {},
   "outputs": [],
   "source": [
    "COUNTRY_CODE = \"id\"\n",
    "REGION = get_region_name(COUNTRY_CODE, code=\"alpha-2\").lower()\n",
    "ADMIN_LVL = \"ADM2\"\n",
    "ZOOM_LEVEL = 14\n",
    "GROUP_ZOOM_LEVEL = 8"
   ]
  },
  {
   "cell_type": "markdown",
   "metadata": {},
   "source": [
    "## Generate Grids"
   ]
  },
  {
   "cell_type": "code",
   "execution_count": 4,
   "metadata": {},
   "outputs": [
    {
     "name": "stderr",
     "output_type": "stream",
     "text": [
      "2023-03-15 01:22:53.354 | INFO     | povertymapping.rollout_grids:get_region_filtered_bingtile_grids:264 - No cached grids file found. Generating grids file :/home/jace/.cache/geowrangler/quadkey_grids/indonesia_14_ADM2_admin_grids.geojson\n",
      "2023-03-15 01:22:53.362 | DEBUG    | povertymapping.rollout_grids:get_region_filtered_bingtile_grids:281 - Loading boundaries for region indonesia and admin level ADM2\n",
      "2023-03-15 01:22:53.369 | INFO     | povertymapping.geoboundaries:get_geoboundaries:41 - Downloading geoboundaries for IDN at admin level ADM2 at https://www.geoboundaries.org/gbRequest.html?ISO=IDN&ADM=ADM2\n",
      "2023-03-15 01:22:53.362 | DEBUG    | povertymapping.rollout_grids:get_region_filtered_bingtile_grids:281 - Loading boundaries for region indonesia and admin level ADM2\n",
      "2023-03-15 01:22:53.369 | INFO     | povertymapping.geoboundaries:get_geoboundaries:41 - Downloading geoboundaries for IDN at admin level ADM2 at https://www.geoboundaries.org/gbRequest.html?ISO=IDN&ADM=ADM2\n",
      "2023-03-15 01:22:55.255 | INFO     | povertymapping.geoboundaries:get_geoboundaries:50 - Download path for IDN at admin level ADM2 found at https://geoboundaries.org/data/geoBoundaries-3_0_0/IDN/ADM2/geoBoundaries-3_0_0-IDN-ADM2.geojson\n"
     ]
    },
    {
     "name": "stderr",
     "output_type": "stream",
     "text": [
      "2023-03-15 01:41:14.769 | INFO     | povertymapping.rollout_grids:get_region_filtered_bingtile_grids:287 - Generating grids for region indonesia and admin level ADM2 at quadkey level 14\n"
     ]
    },
    {
     "name": "stderr",
     "output_type": "stream",
     "text": [
      "2023-03-15 01:46:44.171 | INFO     | povertymapping.rollout_grids:get_region_filtered_bingtile_grids:293 - Generated 340122 grids for region indonesia and admin level ADM2 at quadkey level 14\n",
      "2023-03-15 01:46:44.182 | INFO     | povertymapping.rollout_grids:get_region_filtered_bingtile_grids:299 - Assigning grids to admin areas using metric crs epsg:3857\n",
      "/home/jace/workspace/unicef-ai4d-relative-wealth/env/lib/python3.9/site-packages/geopandas/geodataframe.py:2196: UserWarning: `keep_geom_type=True` in overlay resulted in 2 dropped geometries of different geometry types than df1 has. Set `keep_geom_type=False` to retain all geometries\n",
      "  return geopandas.overlay(\n",
      "/home/jace/workspace/unicef-ai4d-relative-wealth/env/lib/python3.9/site-packages/geopandas/io/file.py:362: FutureWarning: pandas.Int64Index is deprecated and will be removed from pandas in a future version. Use pandas.Index with the appropriate dtype instead.\n",
      "  pd.Int64Index,\n"
     ]
    }
   ],
   "source": [
    "admin_grids_gdf = get_region_filtered_bingtile_grids(\n",
    "    REGION,\n",
    "    admin_lvl=ADMIN_LVL,\n",
    "    quadkey_lvl=ZOOM_LEVEL,\n",
    "    use_cache=True,\n",
    "    filter_population=False,  # We set this to False for Indonesia\n",
    ")"
   ]
  },
  {
   "cell_type": "markdown",
   "metadata": {},
   "source": [
    "## Explore Generated Grids"
   ]
  },
  {
   "cell_type": "code",
   "execution_count": 5,
   "metadata": {},
   "outputs": [
    {
     "name": "stdout",
     "output_type": "stream",
     "text": [
      "<class 'geopandas.geodataframe.GeoDataFrame'>\n",
      "Int64Index: 340122 entries, 0 to 340121\n",
      "Data columns (total 7 columns):\n",
      " #   Column      Non-Null Count   Dtype   \n",
      "---  ------      --------------   -----   \n",
      " 0   geometry    340122 non-null  geometry\n",
      " 1   quadkey     340122 non-null  object  \n",
      " 2   shapeName   340122 non-null  object  \n",
      " 3   shapeISO    340122 non-null  object  \n",
      " 4   shapeID     340122 non-null  object  \n",
      " 5   shapeGroup  340122 non-null  object  \n",
      " 6   shapeType   340122 non-null  object  \n",
      "dtypes: geometry(1), object(6)\n",
      "memory usage: 20.8+ MB\n"
     ]
    }
   ],
   "source": [
    "admin_grids_gdf.info()"
   ]
  },
  {
   "cell_type": "code",
   "execution_count": 6,
   "metadata": {},
   "outputs": [
    {
     "data": {
      "text/html": [
       "<div>\n",
       "<style scoped>\n",
       "    .dataframe tbody tr th:only-of-type {\n",
       "        vertical-align: middle;\n",
       "    }\n",
       "\n",
       "    .dataframe tbody tr th {\n",
       "        vertical-align: top;\n",
       "    }\n",
       "\n",
       "    .dataframe thead th {\n",
       "        text-align: right;\n",
       "    }\n",
       "</style>\n",
       "<table border=\"1\" class=\"dataframe\">\n",
       "  <thead>\n",
       "    <tr style=\"text-align: right;\">\n",
       "      <th></th>\n",
       "      <th>geometry</th>\n",
       "      <th>quadkey</th>\n",
       "      <th>shapeName</th>\n",
       "      <th>shapeISO</th>\n",
       "      <th>shapeID</th>\n",
       "      <th>shapeGroup</th>\n",
       "      <th>shapeType</th>\n",
       "    </tr>\n",
       "  </thead>\n",
       "  <tbody>\n",
       "    <tr>\n",
       "      <th>0</th>\n",
       "      <td>POLYGON ((98.28369 -0.52734, 98.28369 -0.50536...</td>\n",
       "      <td>31000101131223</td>\n",
       "      <td>Nias Selatan</td>\n",
       "      <td>None</td>\n",
       "      <td>IDN-ADM2-3_0_0-B371</td>\n",
       "      <td>IDN</td>\n",
       "      <td>ADM2</td>\n",
       "    </tr>\n",
       "    <tr>\n",
       "      <th>1</th>\n",
       "      <td>POLYGON ((98.28369 -0.54931, 98.28369 -0.52734...</td>\n",
       "      <td>31000101133001</td>\n",
       "      <td>Nias Selatan</td>\n",
       "      <td>None</td>\n",
       "      <td>IDN-ADM2-3_0_0-B371</td>\n",
       "      <td>IDN</td>\n",
       "      <td>ADM2</td>\n",
       "    </tr>\n",
       "  </tbody>\n",
       "</table>\n",
       "</div>"
      ],
      "text/plain": [
       "                                            geometry         quadkey  \\\n",
       "0  POLYGON ((98.28369 -0.52734, 98.28369 -0.50536...  31000101131223   \n",
       "1  POLYGON ((98.28369 -0.54931, 98.28369 -0.52734...  31000101133001   \n",
       "\n",
       "      shapeName shapeISO              shapeID shapeGroup shapeType  \n",
       "0  Nias Selatan     None  IDN-ADM2-3_0_0-B371        IDN      ADM2  \n",
       "1  Nias Selatan     None  IDN-ADM2-3_0_0-B371        IDN      ADM2  "
      ]
     },
     "execution_count": 6,
     "metadata": {},
     "output_type": "execute_result"
    }
   ],
   "source": [
    "admin_grids_gdf.head(2)"
   ]
  },
  {
   "cell_type": "code",
   "execution_count": null,
   "metadata": {},
   "outputs": [],
   "source": [
    "# Uncomment to view the generated grid on an interactive map\n",
    "# Set a limit to plotted grids as loading all grids can become very slow\n",
    "# n = 10000\n",
    "# start_idx = 10000\n",
    "# admin_grids_gdf.iloc[start_idx:start_idx+n].explore()"
   ]
  },
  {
   "cell_type": "markdown",
   "metadata": {},
   "source": [
    "## Compute Population Per Grid\n",
    "\n",
    "For this calculation, we will calculate the population, batched based on groups calculated from the quadkey. By getting the first n digits of the quadkey, we are able to get the zoom level n quadkey to which that tile belongs to. \n",
    "\n",
    "Ex. if we group based on zoom level 8 the quadkey `31000101131223` belongs to the grouping `31000101`.\n",
    "\n",
    "This grouping ensures that the tile groupings are geographically close to one another, which reduces the raster window size that we needed to calculate the population count. \n",
    "\n",
    "For more information about quadkeys, see [Bing Maps Tile System](https://learn.microsoft.com/en-us/bingmaps/articles/bing-maps-tile-system)."
   ]
  },
  {
   "cell_type": "markdown",
   "metadata": {},
   "source": [
    "### Get groupings based on quadkey"
   ]
  },
  {
   "cell_type": "code",
   "execution_count": 8,
   "metadata": {},
   "outputs": [
    {
     "data": {
      "text/html": [
       "<div>\n",
       "<style scoped>\n",
       "    .dataframe tbody tr th:only-of-type {\n",
       "        vertical-align: middle;\n",
       "    }\n",
       "\n",
       "    .dataframe tbody tr th {\n",
       "        vertical-align: top;\n",
       "    }\n",
       "\n",
       "    .dataframe thead th {\n",
       "        text-align: right;\n",
       "    }\n",
       "</style>\n",
       "<table border=\"1\" class=\"dataframe\">\n",
       "  <thead>\n",
       "    <tr style=\"text-align: right;\">\n",
       "      <th></th>\n",
       "      <th>geometry</th>\n",
       "      <th>quadkey</th>\n",
       "      <th>shapeName</th>\n",
       "      <th>shapeISO</th>\n",
       "      <th>shapeID</th>\n",
       "      <th>shapeGroup</th>\n",
       "      <th>shapeType</th>\n",
       "      <th>quadkey_level8</th>\n",
       "    </tr>\n",
       "  </thead>\n",
       "  <tbody>\n",
       "    <tr>\n",
       "      <th>0</th>\n",
       "      <td>POLYGON ((98.28369 -0.52734, 98.28369 -0.50536...</td>\n",
       "      <td>31000101131223</td>\n",
       "      <td>Nias Selatan</td>\n",
       "      <td>None</td>\n",
       "      <td>IDN-ADM2-3_0_0-B371</td>\n",
       "      <td>IDN</td>\n",
       "      <td>ADM2</td>\n",
       "      <td>31000101</td>\n",
       "    </tr>\n",
       "    <tr>\n",
       "      <th>1</th>\n",
       "      <td>POLYGON ((98.28369 -0.54931, 98.28369 -0.52734...</td>\n",
       "      <td>31000101133001</td>\n",
       "      <td>Nias Selatan</td>\n",
       "      <td>None</td>\n",
       "      <td>IDN-ADM2-3_0_0-B371</td>\n",
       "      <td>IDN</td>\n",
       "      <td>ADM2</td>\n",
       "      <td>31000101</td>\n",
       "    </tr>\n",
       "    <tr>\n",
       "      <th>2</th>\n",
       "      <td>POLYGON ((98.30566 -0.52734, 98.30566 -0.50536...</td>\n",
       "      <td>31000101131232</td>\n",
       "      <td>Nias Selatan</td>\n",
       "      <td>None</td>\n",
       "      <td>IDN-ADM2-3_0_0-B371</td>\n",
       "      <td>IDN</td>\n",
       "      <td>ADM2</td>\n",
       "      <td>31000101</td>\n",
       "    </tr>\n",
       "  </tbody>\n",
       "</table>\n",
       "</div>"
      ],
      "text/plain": [
       "                                            geometry         quadkey  \\\n",
       "0  POLYGON ((98.28369 -0.52734, 98.28369 -0.50536...  31000101131223   \n",
       "1  POLYGON ((98.28369 -0.54931, 98.28369 -0.52734...  31000101133001   \n",
       "2  POLYGON ((98.30566 -0.52734, 98.30566 -0.50536...  31000101131232   \n",
       "\n",
       "      shapeName shapeISO              shapeID shapeGroup shapeType  \\\n",
       "0  Nias Selatan     None  IDN-ADM2-3_0_0-B371        IDN      ADM2   \n",
       "1  Nias Selatan     None  IDN-ADM2-3_0_0-B371        IDN      ADM2   \n",
       "2  Nias Selatan     None  IDN-ADM2-3_0_0-B371        IDN      ADM2   \n",
       "\n",
       "  quadkey_level8  \n",
       "0       31000101  \n",
       "1       31000101  \n",
       "2       31000101  "
      ]
     },
     "execution_count": 8,
     "metadata": {},
     "output_type": "execute_result"
    }
   ],
   "source": [
    "quadkey_group_col = f\"quadkey_level{GROUP_ZOOM_LEVEL}\"\n",
    "admin_grids_gdf[quadkey_group_col] = admin_grids_gdf[\"quadkey\"].str[:GROUP_ZOOM_LEVEL]\n",
    "admin_grids_gdf.head(3)"
   ]
  },
  {
   "cell_type": "code",
   "execution_count": null,
   "metadata": {},
   "outputs": [],
   "source": [
    "# Demonstrate how the quadkey grouping gives us geographically close grids\n",
    "quadkey_groups = list(admin_grids_gdf[quadkey_group_col].unique())\n",
    "i = 78\n",
    "test_group = quadkey_groups[i]\n",
    "group_gdf = admin_grids_gdf[admin_grids_gdf[quadkey_group_col] == test_group]\n",
    "group_gdf.explore()"
   ]
  },
  {
   "cell_type": "markdown",
   "metadata": {},
   "source": [
    "### Get population HDX file\n",
    "This section will get the HDX filepath for the specifed `REGION`. The file will also be downloaded if needed. "
   ]
  },
  {
   "cell_type": "code",
   "execution_count": 10,
   "metadata": {},
   "outputs": [
    {
     "name": "stderr",
     "output_type": "stream",
     "text": [
      "2023-03-15 01:55:58.179 | INFO     | povertymapping.hdx:get_hdx_file:200 - HDX Data: Unzipping the zip file /home/jace/.cache/geowrangler/hdx/idn_general_2020_geotiff.zip...\n",
      "2023-03-15 01:59:09.933 | INFO     | povertymapping.hdx:get_hdx_file:210 - HDX Data: Successfully downloaded and cached for indonesia at /home/jace/.cache/geowrangler/hdx/idn_general_2020_geotiff.zip!\n"
     ]
    },
    {
     "data": {
      "text/plain": [
       "Path('/home/jace/.cache/geowrangler/hdx/idn_general_2020.tif')"
      ]
     },
     "execution_count": 10,
     "metadata": {},
     "output_type": "execute_result"
    }
   ],
   "source": [
    "hdx_pop_file = get_hdx_file(REGION)\n",
    "hdx_pop_file"
   ]
  },
  {
   "cell_type": "markdown",
   "metadata": {},
   "source": [
    "### Compute population count, batched by the quadkey group"
   ]
  },
  {
   "cell_type": "code",
   "execution_count": 11,
   "metadata": {},
   "outputs": [],
   "source": [
    "# Set aggregation settings\n",
    "aggregation = dict(column=\"population\", output=\"pop_count\", func=\"sum\")\n",
    "extra_args = dict(nodata=np.nan)"
   ]
  },
  {
   "cell_type": "code",
   "execution_count": 12,
   "metadata": {},
   "outputs": [
    {
     "name": "stderr",
     "output_type": "stream",
     "text": [
      "2023-03-15 01:59:10.349 | INFO     | povertymapping.rollout_grids:compute_raster_stats:71 - Creating raster zonal stats for 340122 grids for file size 87714.317324 Mb, batched in 238 unique group/s from quadkey_level8\n",
      "2023-03-15 01:59:10.350 | WARNING  | povertymapping.rollout_grids:compute_raster_stats:74 - When batching by group, output gdf rows will be ordered based on the group.\n",
      "100%|██████████| 238/238 [28:43<00:00,  7.24s/it]\n",
      "2023-03-15 02:27:54.170 | INFO     | povertymapping.rollout_grids:compute_raster_stats:89 - Completed raster zonal stats for 238 groups\n",
      "2023-03-15 02:27:54.296 | INFO     | povertymapping.rollout_grids:compute_raster_stats:91 - Concatenated raster zonal stats for 238 groups\n"
     ]
    }
   ],
   "source": [
    "# Compute population totals per grid\n",
    "admin_grids_pop_count = compute_raster_stats(\n",
    "    admin_grids_gdf,\n",
    "    hdx_pop_file,\n",
    "    aggregation=aggregation,\n",
    "    extra_args=extra_args,\n",
    "    group_col=quadkey_group_col,\n",
    "    max_batch_size=None,\n",
    "    n_workers=None,\n",
    ")"
   ]
  },
  {
   "cell_type": "code",
   "execution_count": 13,
   "metadata": {},
   "outputs": [
    {
     "data": {
      "text/html": [
       "<div>\n",
       "<style scoped>\n",
       "    .dataframe tbody tr th:only-of-type {\n",
       "        vertical-align: middle;\n",
       "    }\n",
       "\n",
       "    .dataframe tbody tr th {\n",
       "        vertical-align: top;\n",
       "    }\n",
       "\n",
       "    .dataframe thead th {\n",
       "        text-align: right;\n",
       "    }\n",
       "</style>\n",
       "<table border=\"1\" class=\"dataframe\">\n",
       "  <thead>\n",
       "    <tr style=\"text-align: right;\">\n",
       "      <th></th>\n",
       "      <th>geometry</th>\n",
       "      <th>quadkey</th>\n",
       "      <th>shapeName</th>\n",
       "      <th>shapeISO</th>\n",
       "      <th>shapeID</th>\n",
       "      <th>shapeGroup</th>\n",
       "      <th>shapeType</th>\n",
       "      <th>quadkey_level8</th>\n",
       "      <th>pop_count</th>\n",
       "    </tr>\n",
       "  </thead>\n",
       "  <tbody>\n",
       "    <tr>\n",
       "      <th>0</th>\n",
       "      <td>POLYGON ((98.28369 -0.52734, 98.28369 -0.50536...</td>\n",
       "      <td>31000101131223</td>\n",
       "      <td>Nias Selatan</td>\n",
       "      <td>None</td>\n",
       "      <td>IDN-ADM2-3_0_0-B371</td>\n",
       "      <td>IDN</td>\n",
       "      <td>ADM2</td>\n",
       "      <td>31000101</td>\n",
       "      <td>NaN</td>\n",
       "    </tr>\n",
       "    <tr>\n",
       "      <th>1</th>\n",
       "      <td>POLYGON ((98.28369 -0.54931, 98.28369 -0.52734...</td>\n",
       "      <td>31000101133001</td>\n",
       "      <td>Nias Selatan</td>\n",
       "      <td>None</td>\n",
       "      <td>IDN-ADM2-3_0_0-B371</td>\n",
       "      <td>IDN</td>\n",
       "      <td>ADM2</td>\n",
       "      <td>31000101</td>\n",
       "      <td>NaN</td>\n",
       "    </tr>\n",
       "    <tr>\n",
       "      <th>2</th>\n",
       "      <td>POLYGON ((98.30566 -0.52734, 98.30566 -0.50536...</td>\n",
       "      <td>31000101131232</td>\n",
       "      <td>Nias Selatan</td>\n",
       "      <td>None</td>\n",
       "      <td>IDN-ADM2-3_0_0-B371</td>\n",
       "      <td>IDN</td>\n",
       "      <td>ADM2</td>\n",
       "      <td>31000101</td>\n",
       "      <td>185.68042</td>\n",
       "    </tr>\n",
       "    <tr>\n",
       "      <th>3</th>\n",
       "      <td>POLYGON ((98.30566 -0.54931, 98.30566 -0.52734...</td>\n",
       "      <td>31000101133010</td>\n",
       "      <td>Nias Selatan</td>\n",
       "      <td>None</td>\n",
       "      <td>IDN-ADM2-3_0_0-B371</td>\n",
       "      <td>IDN</td>\n",
       "      <td>ADM2</td>\n",
       "      <td>31000101</td>\n",
       "      <td>NaN</td>\n",
       "    </tr>\n",
       "    <tr>\n",
       "      <th>4</th>\n",
       "      <td>POLYGON ((98.32764 -0.50536, 98.32764 -0.48339...</td>\n",
       "      <td>31000101131231</td>\n",
       "      <td>Nias Selatan</td>\n",
       "      <td>None</td>\n",
       "      <td>IDN-ADM2-3_0_0-B371</td>\n",
       "      <td>IDN</td>\n",
       "      <td>ADM2</td>\n",
       "      <td>31000101</td>\n",
       "      <td>NaN</td>\n",
       "    </tr>\n",
       "  </tbody>\n",
       "</table>\n",
       "</div>"
      ],
      "text/plain": [
       "                                            geometry         quadkey  \\\n",
       "0  POLYGON ((98.28369 -0.52734, 98.28369 -0.50536...  31000101131223   \n",
       "1  POLYGON ((98.28369 -0.54931, 98.28369 -0.52734...  31000101133001   \n",
       "2  POLYGON ((98.30566 -0.52734, 98.30566 -0.50536...  31000101131232   \n",
       "3  POLYGON ((98.30566 -0.54931, 98.30566 -0.52734...  31000101133010   \n",
       "4  POLYGON ((98.32764 -0.50536, 98.32764 -0.48339...  31000101131231   \n",
       "\n",
       "      shapeName shapeISO              shapeID shapeGroup shapeType  \\\n",
       "0  Nias Selatan     None  IDN-ADM2-3_0_0-B371        IDN      ADM2   \n",
       "1  Nias Selatan     None  IDN-ADM2-3_0_0-B371        IDN      ADM2   \n",
       "2  Nias Selatan     None  IDN-ADM2-3_0_0-B371        IDN      ADM2   \n",
       "3  Nias Selatan     None  IDN-ADM2-3_0_0-B371        IDN      ADM2   \n",
       "4  Nias Selatan     None  IDN-ADM2-3_0_0-B371        IDN      ADM2   \n",
       "\n",
       "  quadkey_level8  pop_count  \n",
       "0       31000101        NaN  \n",
       "1       31000101        NaN  \n",
       "2       31000101  185.68042  \n",
       "3       31000101        NaN  \n",
       "4       31000101        NaN  "
      ]
     },
     "execution_count": 13,
     "metadata": {},
     "output_type": "execute_result"
    }
   ],
   "source": [
    "admin_grids_pop_count.head()"
   ]
  },
  {
   "attachments": {},
   "cell_type": "markdown",
   "metadata": {},
   "source": [
    "### Keep grids with total population > 0"
   ]
  },
  {
   "cell_type": "code",
   "execution_count": 14,
   "metadata": {},
   "outputs": [
    {
     "name": "stdout",
     "output_type": "stream",
     "text": [
      "<class 'geopandas.geodataframe.GeoDataFrame'>\n",
      "RangeIndex: 161230 entries, 0 to 161229\n",
      "Data columns (total 9 columns):\n",
      " #   Column          Non-Null Count   Dtype   \n",
      "---  ------          --------------   -----   \n",
      " 0   geometry        161230 non-null  geometry\n",
      " 1   quadkey         161230 non-null  object  \n",
      " 2   shapeName       161230 non-null  object  \n",
      " 3   shapeISO        161230 non-null  object  \n",
      " 4   shapeID         161230 non-null  object  \n",
      " 5   shapeGroup      161230 non-null  object  \n",
      " 6   shapeType       161230 non-null  object  \n",
      " 7   quadkey_level8  161230 non-null  object  \n",
      " 8   pop_count       161230 non-null  float64 \n",
      "dtypes: float64(1), geometry(1), object(7)\n",
      "memory usage: 11.1+ MB\n"
     ]
    }
   ],
   "source": [
    "admin_grids_filtered = admin_grids_pop_count[admin_grids_pop_count[\"pop_count\"] > 0]\n",
    "admin_grids_filtered = admin_grids_filtered.reset_index(drop=True)\n",
    "admin_grids_filtered.info()"
   ]
  },
  {
   "cell_type": "code",
   "execution_count": null,
   "metadata": {},
   "outputs": [],
   "source": [
    "# # Uncomment to view interactive map\n",
    "# # Set a limit to plotted grids as loading all grids can become very slow\n",
    "# n = 10000\n",
    "# start_idx = 100000\n",
    "# admin_grids_filtered.iloc[start_idx:start_idx+n].explore()"
   ]
  },
  {
   "cell_type": "markdown",
   "metadata": {},
   "source": [
    "## Save to file"
   ]
  },
  {
   "cell_type": "code",
   "execution_count": 16,
   "metadata": {},
   "outputs": [],
   "source": [
    "rollout_date = \"-\".join(os.getcwd().split(\"/\")[-2].split(\"-\")[:3])\n",
    "grid_save_path = f\"./{rollout_date}-{COUNTRY_CODE}-rollout-grids.geojson\"\n",
    "admin_grids_filtered.to_file(grid_save_path, driver=\"GeoJSON\", index=False)"
   ]
  }
 ],
 "metadata": {
  "kernelspec": {
   "display_name": "Python 3 (ipykernel)",
   "language": "python",
   "name": "python3"
  },
  "language_info": {
   "codemirror_mode": {
    "name": "ipython",
    "version": 3
   },
   "file_extension": ".py",
   "mimetype": "text/x-python",
   "name": "python",
   "nbconvert_exporter": "python",
   "pygments_lexer": "ipython3",
   "version": "3.9.15"
  },
  "vscode": {
   "interpreter": {
    "hash": "a9c652687746b7e37dd5eba4a53c758a3d21cd9cb60962b6bb30d0de25d1ae14"
   }
  }
 },
 "nbformat": 4,
 "nbformat_minor": 4
}

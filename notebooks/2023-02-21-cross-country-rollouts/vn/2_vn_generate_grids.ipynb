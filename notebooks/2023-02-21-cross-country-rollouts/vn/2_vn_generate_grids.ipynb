{
 "cells": [
  {
   "cell_type": "raw",
   "metadata": {},
   "source": [
    "---\n",
    "title: Generate rollout grids\n",
    "format:\n",
    "  html:\n",
    "    code-fold: false\n",
    "---"
   ]
  },
  {
   "cell_type": "code",
   "execution_count": 1,
   "metadata": {},
   "outputs": [],
   "source": [
    "%matplotlib inline\n",
    "%reload_ext autoreload\n",
    "%autoreload 2"
   ]
  },
  {
   "cell_type": "code",
   "execution_count": 2,
   "metadata": {},
   "outputs": [],
   "source": [
    "import sys\n",
    "\n",
    "sys.path.append(\"../../../\")\n",
    "import os\n",
    "from pathlib import Path\n",
    "\n",
    "import geopandas as gpd\n",
    "import pandas as pd\n",
    "\n",
    "from relativewealth.iso3 import get_region_name\n",
    "from relativewealth.rollout_grids import get_region_filtered_bingtile_grids"
   ]
  },
  {
   "cell_type": "markdown",
   "metadata": {},
   "source": [
    "# Generate Roll-out Grids: Vietnam\n",
    "\n",
    "This notebook generates the rollout grid tiles over the country. The output file is used as an input for Step 3, where we will run the trained model over the set of grids.\n",
    "\n",
    "The generated grids are set at 2.4km (zoom level 14), matching the grids used during model training. The grids are also filtered to only include populated areas based on Meta's High Resolution Settlement Layer (HRSL) data."
   ]
  },
  {
   "cell_type": "markdown",
   "metadata": {},
   "source": [
    "## Set country-specific parameters"
   ]
  },
  {
   "cell_type": "code",
   "execution_count": 3,
   "metadata": {},
   "outputs": [],
   "source": [
    "COUNTRY_CODE = \"vn\"\n",
    "REGION = get_region_name(COUNTRY_CODE, code=\"alpha-2\").lower()\n",
    "ADMIN_LVL = \"ADM2\"\n",
    "ZOOM_LEVEL = 14"
   ]
  },
  {
   "cell_type": "markdown",
   "metadata": {},
   "source": [
    "## Generate Grids"
   ]
  },
  {
   "cell_type": "code",
   "execution_count": 4,
   "metadata": {},
   "outputs": [
    {
     "name": "stderr",
     "output_type": "stream",
     "text": [
      "2023-04-17 18:07:35.408 | INFO     | relativewealth.rollout_grids:get_region_filtered_bingtile_grids:264 - No cached grids file found. Generating grids file :/home/alron/.cache/geowrangler/quadkey_grids/vietnam_14_ADM2_populated_admin_grids.geojson\n",
      "2023-04-17 18:07:35.421 | DEBUG    | relativewealth.rollout_grids:get_region_filtered_bingtile_grids:281 - Loading boundaries for region vietnam and admin level ADM2\n",
      "2023-04-17 18:07:35.956 | INFO     | relativewealth.rollout_grids:get_region_filtered_bingtile_grids:287 - Generating grids for region vietnam and admin level ADM2 at quadkey level 14\n"
     ]
    },
    {
     "data": {
      "text/html": [
       "\n",
       "<style>\n",
       "    /* Turns off some styling */\n",
       "    progress {\n",
       "        /* gets rid of default border in Firefox and Opera. */\n",
       "        border: none;\n",
       "        /* Needs to be in here for Safari polyfill so background images work as expected. */\n",
       "        background-size: auto;\n",
       "    }\n",
       "    progress:not([value]), progress:not([value])::-webkit-progress-bar {\n",
       "        background: repeating-linear-gradient(45deg, #7e7e7e, #7e7e7e 10px, #5c5c5c 10px, #5c5c5c 20px);\n",
       "    }\n",
       "    .progress-bar-interrupted, .progress-bar-interrupted::-webkit-progress-bar {\n",
       "        background: #F44336;\n",
       "    }\n",
       "</style>\n"
      ],
      "text/plain": [
       "<IPython.core.display.HTML object>"
      ]
     },
     "metadata": {},
     "output_type": "display_data"
    },
    {
     "data": {
      "text/html": [],
      "text/plain": [
       "<IPython.core.display.HTML object>"
      ]
     },
     "metadata": {},
     "output_type": "display_data"
    },
    {
     "name": "stderr",
     "output_type": "stream",
     "text": [
      "2023-04-17 18:08:26.716 | INFO     | relativewealth.rollout_grids:get_region_filtered_bingtile_grids:293 - Generated 64782 grids for region vietnam and admin level ADM2 at quadkey level 14\n",
      "2023-04-17 18:08:26.723 | INFO     | relativewealth.rollout_grids:get_region_filtered_bingtile_grids:299 - Assigning grids to admin areas using metric crs epsg:3857\n",
      "2023-04-17 18:08:31.630 | INFO     | relativewealth.rollout_grids:get_region_filtered_bingtile_grids:305 - Getting vietnam population data for filtering grids\n",
      "2023-04-17 18:08:32.883 | INFO     | relativewealth.rollout_grids:get_region_filtered_bingtile_grids:307 - Computing population zonal stats per grid\n",
      "2023-04-17 18:08:32.884 | INFO     | relativewealth.rollout_grids:compute_raster_stats:108 - Batching call to create raster_zonal stats for 64782 grids for file size 13271.962124 Mb\n",
      "2023-04-17 18:08:33.000 | INFO     | relativewealth.rollout_grids:compute_raster_stats:119 - Created 64 for 64 splits of 1000\n",
      "2023-04-17 18:08:33.001 | INFO     | relativewealth.rollout_grids:compute_raster_stats:132 - Creating raster zonal stats for batch 0 with index (0/1012 in 4 parallel threads\n"
     ]
    },
    {
     "data": {
      "text/html": [
       "\n",
       "<style>\n",
       "    /* Turns off some styling */\n",
       "    progress {\n",
       "        /* gets rid of default border in Firefox and Opera. */\n",
       "        border: none;\n",
       "        /* Needs to be in here for Safari polyfill so background images work as expected. */\n",
       "        background-size: auto;\n",
       "    }\n",
       "    progress:not([value]), progress:not([value])::-webkit-progress-bar {\n",
       "        background: repeating-linear-gradient(45deg, #7e7e7e, #7e7e7e 10px, #5c5c5c 10px, #5c5c5c 20px);\n",
       "    }\n",
       "    .progress-bar-interrupted, .progress-bar-interrupted::-webkit-progress-bar {\n",
       "        background: #F44336;\n",
       "    }\n",
       "</style>\n"
      ],
      "text/plain": [
       "<IPython.core.display.HTML object>"
      ]
     },
     "metadata": {},
     "output_type": "display_data"
    },
    {
     "data": {
      "text/html": [],
      "text/plain": [
       "<IPython.core.display.HTML object>"
      ]
     },
     "metadata": {},
     "output_type": "display_data"
    },
    {
     "name": "stderr",
     "output_type": "stream",
     "text": [
      "/home/alron/unicef-ai4d-relative-wealth/env/lib/python3.9/site-packages/rasterio/features.py:362: NotGeoreferencedWarning: Dataset has no geotransform, gcps, or rpcs. The identity matrix will be returned.\n",
      "  _rasterize(valid_shapes, out, transform, all_touched, merge_alg)\n",
      "2023-04-17 18:08:41.351 | INFO     | relativewealth.rollout_grids:compute_parallel_raster_zonal_stats:207 - Completed parallel raster zonal stats for 4 threads\n",
      "2023-04-17 18:08:41.353 | INFO     | relativewealth.rollout_grids:compute_parallel_raster_zonal_stats:209 - Concatenated parallel raster zonal stats for 4 threads\n",
      "2023-04-17 18:08:41.355 | INFO     | relativewealth.rollout_grids:compute_raster_stats:132 - Creating raster zonal stats for batch 1 with index (0/1012 in 4 parallel threads\n"
     ]
    },
    {
     "data": {
      "text/html": [
       "\n",
       "<style>\n",
       "    /* Turns off some styling */\n",
       "    progress {\n",
       "        /* gets rid of default border in Firefox and Opera. */\n",
       "        border: none;\n",
       "        /* Needs to be in here for Safari polyfill so background images work as expected. */\n",
       "        background-size: auto;\n",
       "    }\n",
       "    progress:not([value]), progress:not([value])::-webkit-progress-bar {\n",
       "        background: repeating-linear-gradient(45deg, #7e7e7e, #7e7e7e 10px, #5c5c5c 10px, #5c5c5c 20px);\n",
       "    }\n",
       "    .progress-bar-interrupted, .progress-bar-interrupted::-webkit-progress-bar {\n",
       "        background: #F44336;\n",
       "    }\n",
       "</style>\n"
      ],
      "text/plain": [
       "<IPython.core.display.HTML object>"
      ]
     },
     "metadata": {},
     "output_type": "display_data"
    },
    {
     "data": {
      "text/html": [],
      "text/plain": [
       "<IPython.core.display.HTML object>"
      ]
     },
     "metadata": {},
     "output_type": "display_data"
    },
    {
     "name": "stderr",
     "output_type": "stream",
     "text": [
      "2023-04-17 18:08:49.855 | INFO     | relativewealth.rollout_grids:compute_parallel_raster_zonal_stats:207 - Completed parallel raster zonal stats for 4 threads\n",
      "2023-04-17 18:08:49.858 | INFO     | relativewealth.rollout_grids:compute_parallel_raster_zonal_stats:209 - Concatenated parallel raster zonal stats for 4 threads\n",
      "2023-04-17 18:08:49.859 | INFO     | relativewealth.rollout_grids:compute_raster_stats:132 - Creating raster zonal stats for batch 2 with index (0/1012 in 4 parallel threads\n"
     ]
    },
    {
     "data": {
      "text/html": [
       "\n",
       "<style>\n",
       "    /* Turns off some styling */\n",
       "    progress {\n",
       "        /* gets rid of default border in Firefox and Opera. */\n",
       "        border: none;\n",
       "        /* Needs to be in here for Safari polyfill so background images work as expected. */\n",
       "        background-size: auto;\n",
       "    }\n",
       "    progress:not([value]), progress:not([value])::-webkit-progress-bar {\n",
       "        background: repeating-linear-gradient(45deg, #7e7e7e, #7e7e7e 10px, #5c5c5c 10px, #5c5c5c 20px);\n",
       "    }\n",
       "    .progress-bar-interrupted, .progress-bar-interrupted::-webkit-progress-bar {\n",
       "        background: #F44336;\n",
       "    }\n",
       "</style>\n"
      ],
      "text/plain": [
       "<IPython.core.display.HTML object>"
      ]
     },
     "metadata": {},
     "output_type": "display_data"
    },
    {
     "data": {
      "text/html": [],
      "text/plain": [
       "<IPython.core.display.HTML object>"
      ]
     },
     "metadata": {},
     "output_type": "display_data"
    },
    {
     "name": "stderr",
     "output_type": "stream",
     "text": [
      "2023-04-17 18:08:57.994 | INFO     | relativewealth.rollout_grids:compute_parallel_raster_zonal_stats:207 - Completed parallel raster zonal stats for 4 threads\n",
      "2023-04-17 18:08:57.997 | INFO     | relativewealth.rollout_grids:compute_parallel_raster_zonal_stats:209 - Concatenated parallel raster zonal stats for 4 threads\n",
      "2023-04-17 18:08:57.999 | INFO     | relativewealth.rollout_grids:compute_raster_stats:132 - Creating raster zonal stats for batch 3 with index (0/1012 in 4 parallel threads\n"
     ]
    },
    {
     "data": {
      "text/html": [
       "\n",
       "<style>\n",
       "    /* Turns off some styling */\n",
       "    progress {\n",
       "        /* gets rid of default border in Firefox and Opera. */\n",
       "        border: none;\n",
       "        /* Needs to be in here for Safari polyfill so background images work as expected. */\n",
       "        background-size: auto;\n",
       "    }\n",
       "    progress:not([value]), progress:not([value])::-webkit-progress-bar {\n",
       "        background: repeating-linear-gradient(45deg, #7e7e7e, #7e7e7e 10px, #5c5c5c 10px, #5c5c5c 20px);\n",
       "    }\n",
       "    .progress-bar-interrupted, .progress-bar-interrupted::-webkit-progress-bar {\n",
       "        background: #F44336;\n",
       "    }\n",
       "</style>\n"
      ],
      "text/plain": [
       "<IPython.core.display.HTML object>"
      ]
     },
     "metadata": {},
     "output_type": "display_data"
    },
    {
     "data": {
      "text/html": [],
      "text/plain": [
       "<IPython.core.display.HTML object>"
      ]
     },
     "metadata": {},
     "output_type": "display_data"
    },
    {
     "name": "stderr",
     "output_type": "stream",
     "text": [
      "2023-04-17 18:09:06.275 | INFO     | relativewealth.rollout_grids:compute_parallel_raster_zonal_stats:207 - Completed parallel raster zonal stats for 4 threads\n",
      "2023-04-17 18:09:06.279 | INFO     | relativewealth.rollout_grids:compute_parallel_raster_zonal_stats:209 - Concatenated parallel raster zonal stats for 4 threads\n",
      "2023-04-17 18:09:06.281 | INFO     | relativewealth.rollout_grids:compute_raster_stats:132 - Creating raster zonal stats for batch 4 with index (0/1012 in 4 parallel threads\n"
     ]
    },
    {
     "data": {
      "text/html": [
       "\n",
       "<style>\n",
       "    /* Turns off some styling */\n",
       "    progress {\n",
       "        /* gets rid of default border in Firefox and Opera. */\n",
       "        border: none;\n",
       "        /* Needs to be in here for Safari polyfill so background images work as expected. */\n",
       "        background-size: auto;\n",
       "    }\n",
       "    progress:not([value]), progress:not([value])::-webkit-progress-bar {\n",
       "        background: repeating-linear-gradient(45deg, #7e7e7e, #7e7e7e 10px, #5c5c5c 10px, #5c5c5c 20px);\n",
       "    }\n",
       "    .progress-bar-interrupted, .progress-bar-interrupted::-webkit-progress-bar {\n",
       "        background: #F44336;\n",
       "    }\n",
       "</style>\n"
      ],
      "text/plain": [
       "<IPython.core.display.HTML object>"
      ]
     },
     "metadata": {},
     "output_type": "display_data"
    },
    {
     "data": {
      "text/html": [],
      "text/plain": [
       "<IPython.core.display.HTML object>"
      ]
     },
     "metadata": {},
     "output_type": "display_data"
    },
    {
     "name": "stderr",
     "output_type": "stream",
     "text": [
      "2023-04-17 18:09:14.411 | INFO     | relativewealth.rollout_grids:compute_parallel_raster_zonal_stats:207 - Completed parallel raster zonal stats for 4 threads\n",
      "2023-04-17 18:09:14.413 | INFO     | relativewealth.rollout_grids:compute_parallel_raster_zonal_stats:209 - Concatenated parallel raster zonal stats for 4 threads\n",
      "2023-04-17 18:09:14.415 | INFO     | relativewealth.rollout_grids:compute_raster_stats:132 - Creating raster zonal stats for batch 5 with index (0/1012 in 4 parallel threads\n"
     ]
    },
    {
     "data": {
      "text/html": [
       "\n",
       "<style>\n",
       "    /* Turns off some styling */\n",
       "    progress {\n",
       "        /* gets rid of default border in Firefox and Opera. */\n",
       "        border: none;\n",
       "        /* Needs to be in here for Safari polyfill so background images work as expected. */\n",
       "        background-size: auto;\n",
       "    }\n",
       "    progress:not([value]), progress:not([value])::-webkit-progress-bar {\n",
       "        background: repeating-linear-gradient(45deg, #7e7e7e, #7e7e7e 10px, #5c5c5c 10px, #5c5c5c 20px);\n",
       "    }\n",
       "    .progress-bar-interrupted, .progress-bar-interrupted::-webkit-progress-bar {\n",
       "        background: #F44336;\n",
       "    }\n",
       "</style>\n"
      ],
      "text/plain": [
       "<IPython.core.display.HTML object>"
      ]
     },
     "metadata": {},
     "output_type": "display_data"
    },
    {
     "data": {
      "text/html": [],
      "text/plain": [
       "<IPython.core.display.HTML object>"
      ]
     },
     "metadata": {},
     "output_type": "display_data"
    },
    {
     "name": "stderr",
     "output_type": "stream",
     "text": [
      "2023-04-17 18:09:22.479 | INFO     | relativewealth.rollout_grids:compute_parallel_raster_zonal_stats:207 - Completed parallel raster zonal stats for 4 threads\n",
      "2023-04-17 18:09:22.482 | INFO     | relativewealth.rollout_grids:compute_parallel_raster_zonal_stats:209 - Concatenated parallel raster zonal stats for 4 threads\n",
      "2023-04-17 18:09:22.484 | INFO     | relativewealth.rollout_grids:compute_raster_stats:132 - Creating raster zonal stats for batch 6 with index (0/1012 in 4 parallel threads\n"
     ]
    },
    {
     "data": {
      "text/html": [
       "\n",
       "<style>\n",
       "    /* Turns off some styling */\n",
       "    progress {\n",
       "        /* gets rid of default border in Firefox and Opera. */\n",
       "        border: none;\n",
       "        /* Needs to be in here for Safari polyfill so background images work as expected. */\n",
       "        background-size: auto;\n",
       "    }\n",
       "    progress:not([value]), progress:not([value])::-webkit-progress-bar {\n",
       "        background: repeating-linear-gradient(45deg, #7e7e7e, #7e7e7e 10px, #5c5c5c 10px, #5c5c5c 20px);\n",
       "    }\n",
       "    .progress-bar-interrupted, .progress-bar-interrupted::-webkit-progress-bar {\n",
       "        background: #F44336;\n",
       "    }\n",
       "</style>\n"
      ],
      "text/plain": [
       "<IPython.core.display.HTML object>"
      ]
     },
     "metadata": {},
     "output_type": "display_data"
    },
    {
     "data": {
      "text/html": [],
      "text/plain": [
       "<IPython.core.display.HTML object>"
      ]
     },
     "metadata": {},
     "output_type": "display_data"
    },
    {
     "name": "stderr",
     "output_type": "stream",
     "text": [
      "2023-04-17 18:09:30.553 | INFO     | relativewealth.rollout_grids:compute_parallel_raster_zonal_stats:207 - Completed parallel raster zonal stats for 4 threads\n",
      "2023-04-17 18:09:30.557 | INFO     | relativewealth.rollout_grids:compute_parallel_raster_zonal_stats:209 - Concatenated parallel raster zonal stats for 4 threads\n",
      "2023-04-17 18:09:30.558 | INFO     | relativewealth.rollout_grids:compute_raster_stats:132 - Creating raster zonal stats for batch 7 with index (0/1012 in 4 parallel threads\n"
     ]
    },
    {
     "data": {
      "text/html": [
       "\n",
       "<style>\n",
       "    /* Turns off some styling */\n",
       "    progress {\n",
       "        /* gets rid of default border in Firefox and Opera. */\n",
       "        border: none;\n",
       "        /* Needs to be in here for Safari polyfill so background images work as expected. */\n",
       "        background-size: auto;\n",
       "    }\n",
       "    progress:not([value]), progress:not([value])::-webkit-progress-bar {\n",
       "        background: repeating-linear-gradient(45deg, #7e7e7e, #7e7e7e 10px, #5c5c5c 10px, #5c5c5c 20px);\n",
       "    }\n",
       "    .progress-bar-interrupted, .progress-bar-interrupted::-webkit-progress-bar {\n",
       "        background: #F44336;\n",
       "    }\n",
       "</style>\n"
      ],
      "text/plain": [
       "<IPython.core.display.HTML object>"
      ]
     },
     "metadata": {},
     "output_type": "display_data"
    },
    {
     "data": {
      "text/html": [],
      "text/plain": [
       "<IPython.core.display.HTML object>"
      ]
     },
     "metadata": {},
     "output_type": "display_data"
    },
    {
     "name": "stderr",
     "output_type": "stream",
     "text": [
      "2023-04-17 18:09:39.018 | INFO     | relativewealth.rollout_grids:compute_parallel_raster_zonal_stats:207 - Completed parallel raster zonal stats for 4 threads\n",
      "2023-04-17 18:09:39.021 | INFO     | relativewealth.rollout_grids:compute_parallel_raster_zonal_stats:209 - Concatenated parallel raster zonal stats for 4 threads\n",
      "2023-04-17 18:09:39.023 | INFO     | relativewealth.rollout_grids:compute_raster_stats:132 - Creating raster zonal stats for batch 8 with index (0/1012 in 4 parallel threads\n"
     ]
    },
    {
     "data": {
      "text/html": [
       "\n",
       "<style>\n",
       "    /* Turns off some styling */\n",
       "    progress {\n",
       "        /* gets rid of default border in Firefox and Opera. */\n",
       "        border: none;\n",
       "        /* Needs to be in here for Safari polyfill so background images work as expected. */\n",
       "        background-size: auto;\n",
       "    }\n",
       "    progress:not([value]), progress:not([value])::-webkit-progress-bar {\n",
       "        background: repeating-linear-gradient(45deg, #7e7e7e, #7e7e7e 10px, #5c5c5c 10px, #5c5c5c 20px);\n",
       "    }\n",
       "    .progress-bar-interrupted, .progress-bar-interrupted::-webkit-progress-bar {\n",
       "        background: #F44336;\n",
       "    }\n",
       "</style>\n"
      ],
      "text/plain": [
       "<IPython.core.display.HTML object>"
      ]
     },
     "metadata": {},
     "output_type": "display_data"
    },
    {
     "data": {
      "text/html": [],
      "text/plain": [
       "<IPython.core.display.HTML object>"
      ]
     },
     "metadata": {},
     "output_type": "display_data"
    },
    {
     "name": "stderr",
     "output_type": "stream",
     "text": [
      "2023-04-17 18:09:47.367 | INFO     | relativewealth.rollout_grids:compute_parallel_raster_zonal_stats:207 - Completed parallel raster zonal stats for 4 threads\n",
      "2023-04-17 18:09:47.370 | INFO     | relativewealth.rollout_grids:compute_parallel_raster_zonal_stats:209 - Concatenated parallel raster zonal stats for 4 threads\n",
      "2023-04-17 18:09:47.372 | INFO     | relativewealth.rollout_grids:compute_raster_stats:132 - Creating raster zonal stats for batch 9 with index (0/1012 in 4 parallel threads\n"
     ]
    },
    {
     "data": {
      "text/html": [
       "\n",
       "<style>\n",
       "    /* Turns off some styling */\n",
       "    progress {\n",
       "        /* gets rid of default border in Firefox and Opera. */\n",
       "        border: none;\n",
       "        /* Needs to be in here for Safari polyfill so background images work as expected. */\n",
       "        background-size: auto;\n",
       "    }\n",
       "    progress:not([value]), progress:not([value])::-webkit-progress-bar {\n",
       "        background: repeating-linear-gradient(45deg, #7e7e7e, #7e7e7e 10px, #5c5c5c 10px, #5c5c5c 20px);\n",
       "    }\n",
       "    .progress-bar-interrupted, .progress-bar-interrupted::-webkit-progress-bar {\n",
       "        background: #F44336;\n",
       "    }\n",
       "</style>\n"
      ],
      "text/plain": [
       "<IPython.core.display.HTML object>"
      ]
     },
     "metadata": {},
     "output_type": "display_data"
    },
    {
     "data": {
      "text/html": [],
      "text/plain": [
       "<IPython.core.display.HTML object>"
      ]
     },
     "metadata": {},
     "output_type": "display_data"
    },
    {
     "name": "stderr",
     "output_type": "stream",
     "text": [
      "2023-04-17 18:09:55.978 | INFO     | relativewealth.rollout_grids:compute_parallel_raster_zonal_stats:207 - Completed parallel raster zonal stats for 4 threads\n",
      "2023-04-17 18:09:55.982 | INFO     | relativewealth.rollout_grids:compute_parallel_raster_zonal_stats:209 - Concatenated parallel raster zonal stats for 4 threads\n",
      "2023-04-17 18:09:55.983 | INFO     | relativewealth.rollout_grids:compute_raster_stats:132 - Creating raster zonal stats for batch 10 with index (0/1012 in 4 parallel threads\n"
     ]
    },
    {
     "data": {
      "text/html": [
       "\n",
       "<style>\n",
       "    /* Turns off some styling */\n",
       "    progress {\n",
       "        /* gets rid of default border in Firefox and Opera. */\n",
       "        border: none;\n",
       "        /* Needs to be in here for Safari polyfill so background images work as expected. */\n",
       "        background-size: auto;\n",
       "    }\n",
       "    progress:not([value]), progress:not([value])::-webkit-progress-bar {\n",
       "        background: repeating-linear-gradient(45deg, #7e7e7e, #7e7e7e 10px, #5c5c5c 10px, #5c5c5c 20px);\n",
       "    }\n",
       "    .progress-bar-interrupted, .progress-bar-interrupted::-webkit-progress-bar {\n",
       "        background: #F44336;\n",
       "    }\n",
       "</style>\n"
      ],
      "text/plain": [
       "<IPython.core.display.HTML object>"
      ]
     },
     "metadata": {},
     "output_type": "display_data"
    },
    {
     "data": {
      "text/html": [],
      "text/plain": [
       "<IPython.core.display.HTML object>"
      ]
     },
     "metadata": {},
     "output_type": "display_data"
    },
    {
     "name": "stderr",
     "output_type": "stream",
     "text": [
      "2023-04-17 18:10:04.515 | INFO     | relativewealth.rollout_grids:compute_parallel_raster_zonal_stats:207 - Completed parallel raster zonal stats for 4 threads\n",
      "2023-04-17 18:10:04.518 | INFO     | relativewealth.rollout_grids:compute_parallel_raster_zonal_stats:209 - Concatenated parallel raster zonal stats for 4 threads\n",
      "2023-04-17 18:10:04.520 | INFO     | relativewealth.rollout_grids:compute_raster_stats:132 - Creating raster zonal stats for batch 11 with index (0/1012 in 4 parallel threads\n"
     ]
    },
    {
     "data": {
      "text/html": [
       "\n",
       "<style>\n",
       "    /* Turns off some styling */\n",
       "    progress {\n",
       "        /* gets rid of default border in Firefox and Opera. */\n",
       "        border: none;\n",
       "        /* Needs to be in here for Safari polyfill so background images work as expected. */\n",
       "        background-size: auto;\n",
       "    }\n",
       "    progress:not([value]), progress:not([value])::-webkit-progress-bar {\n",
       "        background: repeating-linear-gradient(45deg, #7e7e7e, #7e7e7e 10px, #5c5c5c 10px, #5c5c5c 20px);\n",
       "    }\n",
       "    .progress-bar-interrupted, .progress-bar-interrupted::-webkit-progress-bar {\n",
       "        background: #F44336;\n",
       "    }\n",
       "</style>\n"
      ],
      "text/plain": [
       "<IPython.core.display.HTML object>"
      ]
     },
     "metadata": {},
     "output_type": "display_data"
    },
    {
     "data": {
      "text/html": [],
      "text/plain": [
       "<IPython.core.display.HTML object>"
      ]
     },
     "metadata": {},
     "output_type": "display_data"
    },
    {
     "name": "stderr",
     "output_type": "stream",
     "text": [
      "2023-04-17 18:10:13.884 | INFO     | relativewealth.rollout_grids:compute_parallel_raster_zonal_stats:207 - Completed parallel raster zonal stats for 4 threads\n",
      "2023-04-17 18:10:13.891 | INFO     | relativewealth.rollout_grids:compute_parallel_raster_zonal_stats:209 - Concatenated parallel raster zonal stats for 4 threads\n",
      "2023-04-17 18:10:13.892 | INFO     | relativewealth.rollout_grids:compute_raster_stats:132 - Creating raster zonal stats for batch 12 with index (0/1012 in 4 parallel threads\n"
     ]
    },
    {
     "data": {
      "text/html": [
       "\n",
       "<style>\n",
       "    /* Turns off some styling */\n",
       "    progress {\n",
       "        /* gets rid of default border in Firefox and Opera. */\n",
       "        border: none;\n",
       "        /* Needs to be in here for Safari polyfill so background images work as expected. */\n",
       "        background-size: auto;\n",
       "    }\n",
       "    progress:not([value]), progress:not([value])::-webkit-progress-bar {\n",
       "        background: repeating-linear-gradient(45deg, #7e7e7e, #7e7e7e 10px, #5c5c5c 10px, #5c5c5c 20px);\n",
       "    }\n",
       "    .progress-bar-interrupted, .progress-bar-interrupted::-webkit-progress-bar {\n",
       "        background: #F44336;\n",
       "    }\n",
       "</style>\n"
      ],
      "text/plain": [
       "<IPython.core.display.HTML object>"
      ]
     },
     "metadata": {},
     "output_type": "display_data"
    },
    {
     "data": {
      "text/html": [],
      "text/plain": [
       "<IPython.core.display.HTML object>"
      ]
     },
     "metadata": {},
     "output_type": "display_data"
    },
    {
     "name": "stderr",
     "output_type": "stream",
     "text": [
      "2023-04-17 18:10:23.237 | INFO     | relativewealth.rollout_grids:compute_parallel_raster_zonal_stats:207 - Completed parallel raster zonal stats for 4 threads\n",
      "2023-04-17 18:10:23.260 | INFO     | relativewealth.rollout_grids:compute_parallel_raster_zonal_stats:209 - Concatenated parallel raster zonal stats for 4 threads\n",
      "2023-04-17 18:10:23.261 | INFO     | relativewealth.rollout_grids:compute_raster_stats:132 - Creating raster zonal stats for batch 13 with index (0/1012 in 4 parallel threads\n"
     ]
    },
    {
     "data": {
      "text/html": [
       "\n",
       "<style>\n",
       "    /* Turns off some styling */\n",
       "    progress {\n",
       "        /* gets rid of default border in Firefox and Opera. */\n",
       "        border: none;\n",
       "        /* Needs to be in here for Safari polyfill so background images work as expected. */\n",
       "        background-size: auto;\n",
       "    }\n",
       "    progress:not([value]), progress:not([value])::-webkit-progress-bar {\n",
       "        background: repeating-linear-gradient(45deg, #7e7e7e, #7e7e7e 10px, #5c5c5c 10px, #5c5c5c 20px);\n",
       "    }\n",
       "    .progress-bar-interrupted, .progress-bar-interrupted::-webkit-progress-bar {\n",
       "        background: #F44336;\n",
       "    }\n",
       "</style>\n"
      ],
      "text/plain": [
       "<IPython.core.display.HTML object>"
      ]
     },
     "metadata": {},
     "output_type": "display_data"
    },
    {
     "data": {
      "text/html": [],
      "text/plain": [
       "<IPython.core.display.HTML object>"
      ]
     },
     "metadata": {},
     "output_type": "display_data"
    },
    {
     "name": "stderr",
     "output_type": "stream",
     "text": [
      "2023-04-17 18:10:32.218 | INFO     | relativewealth.rollout_grids:compute_parallel_raster_zonal_stats:207 - Completed parallel raster zonal stats for 4 threads\n",
      "2023-04-17 18:10:32.234 | INFO     | relativewealth.rollout_grids:compute_parallel_raster_zonal_stats:209 - Concatenated parallel raster zonal stats for 4 threads\n",
      "2023-04-17 18:10:32.236 | INFO     | relativewealth.rollout_grids:compute_raster_stats:132 - Creating raster zonal stats for batch 14 with index (0/1011 in 4 parallel threads\n"
     ]
    },
    {
     "data": {
      "text/html": [
       "\n",
       "<style>\n",
       "    /* Turns off some styling */\n",
       "    progress {\n",
       "        /* gets rid of default border in Firefox and Opera. */\n",
       "        border: none;\n",
       "        /* Needs to be in here for Safari polyfill so background images work as expected. */\n",
       "        background-size: auto;\n",
       "    }\n",
       "    progress:not([value]), progress:not([value])::-webkit-progress-bar {\n",
       "        background: repeating-linear-gradient(45deg, #7e7e7e, #7e7e7e 10px, #5c5c5c 10px, #5c5c5c 20px);\n",
       "    }\n",
       "    .progress-bar-interrupted, .progress-bar-interrupted::-webkit-progress-bar {\n",
       "        background: #F44336;\n",
       "    }\n",
       "</style>\n"
      ],
      "text/plain": [
       "<IPython.core.display.HTML object>"
      ]
     },
     "metadata": {},
     "output_type": "display_data"
    },
    {
     "data": {
      "text/html": [],
      "text/plain": [
       "<IPython.core.display.HTML object>"
      ]
     },
     "metadata": {},
     "output_type": "display_data"
    },
    {
     "name": "stderr",
     "output_type": "stream",
     "text": [
      "2023-04-17 18:10:40.979 | INFO     | relativewealth.rollout_grids:compute_parallel_raster_zonal_stats:207 - Completed parallel raster zonal stats for 4 threads\n",
      "2023-04-17 18:10:40.982 | INFO     | relativewealth.rollout_grids:compute_parallel_raster_zonal_stats:209 - Concatenated parallel raster zonal stats for 4 threads\n",
      "2023-04-17 18:10:40.983 | INFO     | relativewealth.rollout_grids:compute_raster_stats:132 - Creating raster zonal stats for batch 15 with index (0/1011 in 4 parallel threads\n"
     ]
    },
    {
     "data": {
      "text/html": [
       "\n",
       "<style>\n",
       "    /* Turns off some styling */\n",
       "    progress {\n",
       "        /* gets rid of default border in Firefox and Opera. */\n",
       "        border: none;\n",
       "        /* Needs to be in here for Safari polyfill so background images work as expected. */\n",
       "        background-size: auto;\n",
       "    }\n",
       "    progress:not([value]), progress:not([value])::-webkit-progress-bar {\n",
       "        background: repeating-linear-gradient(45deg, #7e7e7e, #7e7e7e 10px, #5c5c5c 10px, #5c5c5c 20px);\n",
       "    }\n",
       "    .progress-bar-interrupted, .progress-bar-interrupted::-webkit-progress-bar {\n",
       "        background: #F44336;\n",
       "    }\n",
       "</style>\n"
      ],
      "text/plain": [
       "<IPython.core.display.HTML object>"
      ]
     },
     "metadata": {},
     "output_type": "display_data"
    },
    {
     "data": {
      "text/html": [],
      "text/plain": [
       "<IPython.core.display.HTML object>"
      ]
     },
     "metadata": {},
     "output_type": "display_data"
    },
    {
     "name": "stderr",
     "output_type": "stream",
     "text": [
      "2023-04-17 18:10:50.852 | INFO     | relativewealth.rollout_grids:compute_parallel_raster_zonal_stats:207 - Completed parallel raster zonal stats for 4 threads\n",
      "2023-04-17 18:10:50.855 | INFO     | relativewealth.rollout_grids:compute_parallel_raster_zonal_stats:209 - Concatenated parallel raster zonal stats for 4 threads\n",
      "2023-04-17 18:10:50.856 | INFO     | relativewealth.rollout_grids:compute_raster_stats:132 - Creating raster zonal stats for batch 16 with index (0/1011 in 4 parallel threads\n"
     ]
    },
    {
     "data": {
      "text/html": [
       "\n",
       "<style>\n",
       "    /* Turns off some styling */\n",
       "    progress {\n",
       "        /* gets rid of default border in Firefox and Opera. */\n",
       "        border: none;\n",
       "        /* Needs to be in here for Safari polyfill so background images work as expected. */\n",
       "        background-size: auto;\n",
       "    }\n",
       "    progress:not([value]), progress:not([value])::-webkit-progress-bar {\n",
       "        background: repeating-linear-gradient(45deg, #7e7e7e, #7e7e7e 10px, #5c5c5c 10px, #5c5c5c 20px);\n",
       "    }\n",
       "    .progress-bar-interrupted, .progress-bar-interrupted::-webkit-progress-bar {\n",
       "        background: #F44336;\n",
       "    }\n",
       "</style>\n"
      ],
      "text/plain": [
       "<IPython.core.display.HTML object>"
      ]
     },
     "metadata": {},
     "output_type": "display_data"
    },
    {
     "data": {
      "text/html": [],
      "text/plain": [
       "<IPython.core.display.HTML object>"
      ]
     },
     "metadata": {},
     "output_type": "display_data"
    },
    {
     "name": "stderr",
     "output_type": "stream",
     "text": [
      "2023-04-17 18:11:01.266 | INFO     | relativewealth.rollout_grids:compute_parallel_raster_zonal_stats:207 - Completed parallel raster zonal stats for 4 threads\n",
      "2023-04-17 18:11:01.269 | INFO     | relativewealth.rollout_grids:compute_parallel_raster_zonal_stats:209 - Concatenated parallel raster zonal stats for 4 threads\n",
      "2023-04-17 18:11:01.270 | INFO     | relativewealth.rollout_grids:compute_raster_stats:132 - Creating raster zonal stats for batch 17 with index (0/1011 in 4 parallel threads\n"
     ]
    },
    {
     "data": {
      "text/html": [
       "\n",
       "<style>\n",
       "    /* Turns off some styling */\n",
       "    progress {\n",
       "        /* gets rid of default border in Firefox and Opera. */\n",
       "        border: none;\n",
       "        /* Needs to be in here for Safari polyfill so background images work as expected. */\n",
       "        background-size: auto;\n",
       "    }\n",
       "    progress:not([value]), progress:not([value])::-webkit-progress-bar {\n",
       "        background: repeating-linear-gradient(45deg, #7e7e7e, #7e7e7e 10px, #5c5c5c 10px, #5c5c5c 20px);\n",
       "    }\n",
       "    .progress-bar-interrupted, .progress-bar-interrupted::-webkit-progress-bar {\n",
       "        background: #F44336;\n",
       "    }\n",
       "</style>\n"
      ],
      "text/plain": [
       "<IPython.core.display.HTML object>"
      ]
     },
     "metadata": {},
     "output_type": "display_data"
    },
    {
     "data": {
      "text/html": [],
      "text/plain": [
       "<IPython.core.display.HTML object>"
      ]
     },
     "metadata": {},
     "output_type": "display_data"
    },
    {
     "name": "stderr",
     "output_type": "stream",
     "text": [
      "2023-04-17 18:11:10.850 | INFO     | relativewealth.rollout_grids:compute_parallel_raster_zonal_stats:207 - Completed parallel raster zonal stats for 4 threads\n",
      "2023-04-17 18:11:10.862 | INFO     | relativewealth.rollout_grids:compute_parallel_raster_zonal_stats:209 - Concatenated parallel raster zonal stats for 4 threads\n",
      "2023-04-17 18:11:10.863 | INFO     | relativewealth.rollout_grids:compute_raster_stats:132 - Creating raster zonal stats for batch 18 with index (0/1011 in 4 parallel threads\n"
     ]
    },
    {
     "data": {
      "text/html": [
       "\n",
       "<style>\n",
       "    /* Turns off some styling */\n",
       "    progress {\n",
       "        /* gets rid of default border in Firefox and Opera. */\n",
       "        border: none;\n",
       "        /* Needs to be in here for Safari polyfill so background images work as expected. */\n",
       "        background-size: auto;\n",
       "    }\n",
       "    progress:not([value]), progress:not([value])::-webkit-progress-bar {\n",
       "        background: repeating-linear-gradient(45deg, #7e7e7e, #7e7e7e 10px, #5c5c5c 10px, #5c5c5c 20px);\n",
       "    }\n",
       "    .progress-bar-interrupted, .progress-bar-interrupted::-webkit-progress-bar {\n",
       "        background: #F44336;\n",
       "    }\n",
       "</style>\n"
      ],
      "text/plain": [
       "<IPython.core.display.HTML object>"
      ]
     },
     "metadata": {},
     "output_type": "display_data"
    },
    {
     "data": {
      "text/html": [],
      "text/plain": [
       "<IPython.core.display.HTML object>"
      ]
     },
     "metadata": {},
     "output_type": "display_data"
    },
    {
     "name": "stderr",
     "output_type": "stream",
     "text": [
      "2023-04-17 18:11:20.934 | INFO     | relativewealth.rollout_grids:compute_parallel_raster_zonal_stats:207 - Completed parallel raster zonal stats for 4 threads\n",
      "2023-04-17 18:11:20.945 | INFO     | relativewealth.rollout_grids:compute_parallel_raster_zonal_stats:209 - Concatenated parallel raster zonal stats for 4 threads\n",
      "2023-04-17 18:11:20.947 | INFO     | relativewealth.rollout_grids:compute_raster_stats:132 - Creating raster zonal stats for batch 19 with index (0/1011 in 4 parallel threads\n"
     ]
    },
    {
     "data": {
      "text/html": [
       "\n",
       "<style>\n",
       "    /* Turns off some styling */\n",
       "    progress {\n",
       "        /* gets rid of default border in Firefox and Opera. */\n",
       "        border: none;\n",
       "        /* Needs to be in here for Safari polyfill so background images work as expected. */\n",
       "        background-size: auto;\n",
       "    }\n",
       "    progress:not([value]), progress:not([value])::-webkit-progress-bar {\n",
       "        background: repeating-linear-gradient(45deg, #7e7e7e, #7e7e7e 10px, #5c5c5c 10px, #5c5c5c 20px);\n",
       "    }\n",
       "    .progress-bar-interrupted, .progress-bar-interrupted::-webkit-progress-bar {\n",
       "        background: #F44336;\n",
       "    }\n",
       "</style>\n"
      ],
      "text/plain": [
       "<IPython.core.display.HTML object>"
      ]
     },
     "metadata": {},
     "output_type": "display_data"
    },
    {
     "data": {
      "text/html": [],
      "text/plain": [
       "<IPython.core.display.HTML object>"
      ]
     },
     "metadata": {},
     "output_type": "display_data"
    },
    {
     "name": "stderr",
     "output_type": "stream",
     "text": [
      "2023-04-17 18:11:31.512 | INFO     | relativewealth.rollout_grids:compute_parallel_raster_zonal_stats:207 - Completed parallel raster zonal stats for 4 threads\n",
      "2023-04-17 18:11:31.515 | INFO     | relativewealth.rollout_grids:compute_parallel_raster_zonal_stats:209 - Concatenated parallel raster zonal stats for 4 threads\n",
      "2023-04-17 18:11:31.517 | INFO     | relativewealth.rollout_grids:compute_raster_stats:132 - Creating raster zonal stats for batch 20 with index (0/1011 in 4 parallel threads\n"
     ]
    },
    {
     "data": {
      "text/html": [
       "\n",
       "<style>\n",
       "    /* Turns off some styling */\n",
       "    progress {\n",
       "        /* gets rid of default border in Firefox and Opera. */\n",
       "        border: none;\n",
       "        /* Needs to be in here for Safari polyfill so background images work as expected. */\n",
       "        background-size: auto;\n",
       "    }\n",
       "    progress:not([value]), progress:not([value])::-webkit-progress-bar {\n",
       "        background: repeating-linear-gradient(45deg, #7e7e7e, #7e7e7e 10px, #5c5c5c 10px, #5c5c5c 20px);\n",
       "    }\n",
       "    .progress-bar-interrupted, .progress-bar-interrupted::-webkit-progress-bar {\n",
       "        background: #F44336;\n",
       "    }\n",
       "</style>\n"
      ],
      "text/plain": [
       "<IPython.core.display.HTML object>"
      ]
     },
     "metadata": {},
     "output_type": "display_data"
    },
    {
     "data": {
      "text/html": [],
      "text/plain": [
       "<IPython.core.display.HTML object>"
      ]
     },
     "metadata": {},
     "output_type": "display_data"
    },
    {
     "name": "stderr",
     "output_type": "stream",
     "text": [
      "2023-04-17 18:11:47.768 | INFO     | relativewealth.rollout_grids:compute_parallel_raster_zonal_stats:207 - Completed parallel raster zonal stats for 4 threads\n",
      "2023-04-17 18:11:47.785 | INFO     | relativewealth.rollout_grids:compute_parallel_raster_zonal_stats:209 - Concatenated parallel raster zonal stats for 4 threads\n",
      "2023-04-17 18:11:47.786 | INFO     | relativewealth.rollout_grids:compute_raster_stats:132 - Creating raster zonal stats for batch 21 with index (0/1011 in 4 parallel threads\n"
     ]
    },
    {
     "data": {
      "text/html": [
       "\n",
       "<style>\n",
       "    /* Turns off some styling */\n",
       "    progress {\n",
       "        /* gets rid of default border in Firefox and Opera. */\n",
       "        border: none;\n",
       "        /* Needs to be in here for Safari polyfill so background images work as expected. */\n",
       "        background-size: auto;\n",
       "    }\n",
       "    progress:not([value]), progress:not([value])::-webkit-progress-bar {\n",
       "        background: repeating-linear-gradient(45deg, #7e7e7e, #7e7e7e 10px, #5c5c5c 10px, #5c5c5c 20px);\n",
       "    }\n",
       "    .progress-bar-interrupted, .progress-bar-interrupted::-webkit-progress-bar {\n",
       "        background: #F44336;\n",
       "    }\n",
       "</style>\n"
      ],
      "text/plain": [
       "<IPython.core.display.HTML object>"
      ]
     },
     "metadata": {},
     "output_type": "display_data"
    },
    {
     "data": {
      "text/html": [],
      "text/plain": [
       "<IPython.core.display.HTML object>"
      ]
     },
     "metadata": {},
     "output_type": "display_data"
    },
    {
     "name": "stderr",
     "output_type": "stream",
     "text": [
      "2023-04-17 18:11:59.898 | INFO     | relativewealth.rollout_grids:compute_parallel_raster_zonal_stats:207 - Completed parallel raster zonal stats for 4 threads\n",
      "2023-04-17 18:11:59.912 | INFO     | relativewealth.rollout_grids:compute_parallel_raster_zonal_stats:209 - Concatenated parallel raster zonal stats for 4 threads\n",
      "2023-04-17 18:11:59.913 | INFO     | relativewealth.rollout_grids:compute_raster_stats:132 - Creating raster zonal stats for batch 22 with index (0/1011 in 4 parallel threads\n"
     ]
    },
    {
     "data": {
      "text/html": [
       "\n",
       "<style>\n",
       "    /* Turns off some styling */\n",
       "    progress {\n",
       "        /* gets rid of default border in Firefox and Opera. */\n",
       "        border: none;\n",
       "        /* Needs to be in here for Safari polyfill so background images work as expected. */\n",
       "        background-size: auto;\n",
       "    }\n",
       "    progress:not([value]), progress:not([value])::-webkit-progress-bar {\n",
       "        background: repeating-linear-gradient(45deg, #7e7e7e, #7e7e7e 10px, #5c5c5c 10px, #5c5c5c 20px);\n",
       "    }\n",
       "    .progress-bar-interrupted, .progress-bar-interrupted::-webkit-progress-bar {\n",
       "        background: #F44336;\n",
       "    }\n",
       "</style>\n"
      ],
      "text/plain": [
       "<IPython.core.display.HTML object>"
      ]
     },
     "metadata": {},
     "output_type": "display_data"
    },
    {
     "data": {
      "text/html": [],
      "text/plain": [
       "<IPython.core.display.HTML object>"
      ]
     },
     "metadata": {},
     "output_type": "display_data"
    },
    {
     "name": "stderr",
     "output_type": "stream",
     "text": [
      "2023-04-17 18:12:13.258 | INFO     | relativewealth.rollout_grids:compute_parallel_raster_zonal_stats:207 - Completed parallel raster zonal stats for 4 threads\n",
      "2023-04-17 18:12:13.276 | INFO     | relativewealth.rollout_grids:compute_parallel_raster_zonal_stats:209 - Concatenated parallel raster zonal stats for 4 threads\n",
      "2023-04-17 18:12:13.277 | INFO     | relativewealth.rollout_grids:compute_raster_stats:132 - Creating raster zonal stats for batch 23 with index (0/1011 in 4 parallel threads\n"
     ]
    },
    {
     "data": {
      "text/html": [
       "\n",
       "<style>\n",
       "    /* Turns off some styling */\n",
       "    progress {\n",
       "        /* gets rid of default border in Firefox and Opera. */\n",
       "        border: none;\n",
       "        /* Needs to be in here for Safari polyfill so background images work as expected. */\n",
       "        background-size: auto;\n",
       "    }\n",
       "    progress:not([value]), progress:not([value])::-webkit-progress-bar {\n",
       "        background: repeating-linear-gradient(45deg, #7e7e7e, #7e7e7e 10px, #5c5c5c 10px, #5c5c5c 20px);\n",
       "    }\n",
       "    .progress-bar-interrupted, .progress-bar-interrupted::-webkit-progress-bar {\n",
       "        background: #F44336;\n",
       "    }\n",
       "</style>\n"
      ],
      "text/plain": [
       "<IPython.core.display.HTML object>"
      ]
     },
     "metadata": {},
     "output_type": "display_data"
    },
    {
     "data": {
      "text/html": [],
      "text/plain": [
       "<IPython.core.display.HTML object>"
      ]
     },
     "metadata": {},
     "output_type": "display_data"
    },
    {
     "name": "stderr",
     "output_type": "stream",
     "text": [
      "2023-04-17 18:12:30.714 | INFO     | relativewealth.rollout_grids:compute_parallel_raster_zonal_stats:207 - Completed parallel raster zonal stats for 4 threads\n",
      "2023-04-17 18:12:30.729 | INFO     | relativewealth.rollout_grids:compute_parallel_raster_zonal_stats:209 - Concatenated parallel raster zonal stats for 4 threads\n",
      "2023-04-17 18:12:30.730 | INFO     | relativewealth.rollout_grids:compute_raster_stats:132 - Creating raster zonal stats for batch 24 with index (0/1011 in 4 parallel threads\n"
     ]
    },
    {
     "data": {
      "text/html": [
       "\n",
       "<style>\n",
       "    /* Turns off some styling */\n",
       "    progress {\n",
       "        /* gets rid of default border in Firefox and Opera. */\n",
       "        border: none;\n",
       "        /* Needs to be in here for Safari polyfill so background images work as expected. */\n",
       "        background-size: auto;\n",
       "    }\n",
       "    progress:not([value]), progress:not([value])::-webkit-progress-bar {\n",
       "        background: repeating-linear-gradient(45deg, #7e7e7e, #7e7e7e 10px, #5c5c5c 10px, #5c5c5c 20px);\n",
       "    }\n",
       "    .progress-bar-interrupted, .progress-bar-interrupted::-webkit-progress-bar {\n",
       "        background: #F44336;\n",
       "    }\n",
       "</style>\n"
      ],
      "text/plain": [
       "<IPython.core.display.HTML object>"
      ]
     },
     "metadata": {},
     "output_type": "display_data"
    },
    {
     "data": {
      "text/html": [],
      "text/plain": [
       "<IPython.core.display.HTML object>"
      ]
     },
     "metadata": {},
     "output_type": "display_data"
    },
    {
     "name": "stderr",
     "output_type": "stream",
     "text": [
      "2023-04-17 18:12:49.527 | INFO     | relativewealth.rollout_grids:compute_parallel_raster_zonal_stats:207 - Completed parallel raster zonal stats for 4 threads\n",
      "2023-04-17 18:12:49.533 | INFO     | relativewealth.rollout_grids:compute_parallel_raster_zonal_stats:209 - Concatenated parallel raster zonal stats for 4 threads\n",
      "2023-04-17 18:12:49.535 | INFO     | relativewealth.rollout_grids:compute_raster_stats:132 - Creating raster zonal stats for batch 25 with index (0/1011 in 4 parallel threads\n"
     ]
    },
    {
     "data": {
      "text/html": [
       "\n",
       "<style>\n",
       "    /* Turns off some styling */\n",
       "    progress {\n",
       "        /* gets rid of default border in Firefox and Opera. */\n",
       "        border: none;\n",
       "        /* Needs to be in here for Safari polyfill so background images work as expected. */\n",
       "        background-size: auto;\n",
       "    }\n",
       "    progress:not([value]), progress:not([value])::-webkit-progress-bar {\n",
       "        background: repeating-linear-gradient(45deg, #7e7e7e, #7e7e7e 10px, #5c5c5c 10px, #5c5c5c 20px);\n",
       "    }\n",
       "    .progress-bar-interrupted, .progress-bar-interrupted::-webkit-progress-bar {\n",
       "        background: #F44336;\n",
       "    }\n",
       "</style>\n"
      ],
      "text/plain": [
       "<IPython.core.display.HTML object>"
      ]
     },
     "metadata": {},
     "output_type": "display_data"
    },
    {
     "data": {
      "text/html": [],
      "text/plain": [
       "<IPython.core.display.HTML object>"
      ]
     },
     "metadata": {},
     "output_type": "display_data"
    },
    {
     "name": "stderr",
     "output_type": "stream",
     "text": [
      "2023-04-17 18:13:09.819 | INFO     | relativewealth.rollout_grids:compute_parallel_raster_zonal_stats:207 - Completed parallel raster zonal stats for 4 threads\n",
      "2023-04-17 18:13:09.834 | INFO     | relativewealth.rollout_grids:compute_parallel_raster_zonal_stats:209 - Concatenated parallel raster zonal stats for 4 threads\n",
      "2023-04-17 18:13:09.835 | INFO     | relativewealth.rollout_grids:compute_raster_stats:132 - Creating raster zonal stats for batch 26 with index (0/1011 in 4 parallel threads\n"
     ]
    },
    {
     "data": {
      "text/html": [
       "\n",
       "<style>\n",
       "    /* Turns off some styling */\n",
       "    progress {\n",
       "        /* gets rid of default border in Firefox and Opera. */\n",
       "        border: none;\n",
       "        /* Needs to be in here for Safari polyfill so background images work as expected. */\n",
       "        background-size: auto;\n",
       "    }\n",
       "    progress:not([value]), progress:not([value])::-webkit-progress-bar {\n",
       "        background: repeating-linear-gradient(45deg, #7e7e7e, #7e7e7e 10px, #5c5c5c 10px, #5c5c5c 20px);\n",
       "    }\n",
       "    .progress-bar-interrupted, .progress-bar-interrupted::-webkit-progress-bar {\n",
       "        background: #F44336;\n",
       "    }\n",
       "</style>\n"
      ],
      "text/plain": [
       "<IPython.core.display.HTML object>"
      ]
     },
     "metadata": {},
     "output_type": "display_data"
    },
    {
     "data": {
      "text/html": [],
      "text/plain": [
       "<IPython.core.display.HTML object>"
      ]
     },
     "metadata": {},
     "output_type": "display_data"
    },
    {
     "name": "stderr",
     "output_type": "stream",
     "text": [
      "2023-04-17 18:13:34.034 | INFO     | relativewealth.rollout_grids:compute_parallel_raster_zonal_stats:207 - Completed parallel raster zonal stats for 4 threads\n",
      "2023-04-17 18:13:34.050 | INFO     | relativewealth.rollout_grids:compute_parallel_raster_zonal_stats:209 - Concatenated parallel raster zonal stats for 4 threads\n",
      "2023-04-17 18:13:34.052 | INFO     | relativewealth.rollout_grids:compute_raster_stats:132 - Creating raster zonal stats for batch 27 with index (0/1011 in 4 parallel threads\n"
     ]
    },
    {
     "data": {
      "text/html": [
       "\n",
       "<style>\n",
       "    /* Turns off some styling */\n",
       "    progress {\n",
       "        /* gets rid of default border in Firefox and Opera. */\n",
       "        border: none;\n",
       "        /* Needs to be in here for Safari polyfill so background images work as expected. */\n",
       "        background-size: auto;\n",
       "    }\n",
       "    progress:not([value]), progress:not([value])::-webkit-progress-bar {\n",
       "        background: repeating-linear-gradient(45deg, #7e7e7e, #7e7e7e 10px, #5c5c5c 10px, #5c5c5c 20px);\n",
       "    }\n",
       "    .progress-bar-interrupted, .progress-bar-interrupted::-webkit-progress-bar {\n",
       "        background: #F44336;\n",
       "    }\n",
       "</style>\n"
      ],
      "text/plain": [
       "<IPython.core.display.HTML object>"
      ]
     },
     "metadata": {},
     "output_type": "display_data"
    },
    {
     "data": {
      "text/html": [],
      "text/plain": [
       "<IPython.core.display.HTML object>"
      ]
     },
     "metadata": {},
     "output_type": "display_data"
    },
    {
     "name": "stderr",
     "output_type": "stream",
     "text": [
      "2023-04-17 18:14:01.120 | INFO     | relativewealth.rollout_grids:compute_parallel_raster_zonal_stats:207 - Completed parallel raster zonal stats for 4 threads\n",
      "2023-04-17 18:14:01.132 | INFO     | relativewealth.rollout_grids:compute_parallel_raster_zonal_stats:209 - Concatenated parallel raster zonal stats for 4 threads\n",
      "2023-04-17 18:14:01.134 | INFO     | relativewealth.rollout_grids:compute_raster_stats:132 - Creating raster zonal stats for batch 28 with index (0/1011 in 4 parallel threads\n"
     ]
    },
    {
     "data": {
      "text/html": [
       "\n",
       "<style>\n",
       "    /* Turns off some styling */\n",
       "    progress {\n",
       "        /* gets rid of default border in Firefox and Opera. */\n",
       "        border: none;\n",
       "        /* Needs to be in here for Safari polyfill so background images work as expected. */\n",
       "        background-size: auto;\n",
       "    }\n",
       "    progress:not([value]), progress:not([value])::-webkit-progress-bar {\n",
       "        background: repeating-linear-gradient(45deg, #7e7e7e, #7e7e7e 10px, #5c5c5c 10px, #5c5c5c 20px);\n",
       "    }\n",
       "    .progress-bar-interrupted, .progress-bar-interrupted::-webkit-progress-bar {\n",
       "        background: #F44336;\n",
       "    }\n",
       "</style>\n"
      ],
      "text/plain": [
       "<IPython.core.display.HTML object>"
      ]
     },
     "metadata": {},
     "output_type": "display_data"
    },
    {
     "data": {
      "text/html": [],
      "text/plain": [
       "<IPython.core.display.HTML object>"
      ]
     },
     "metadata": {},
     "output_type": "display_data"
    },
    {
     "name": "stderr",
     "output_type": "stream",
     "text": [
      "2023-04-17 18:15:54.425 | INFO     | relativewealth.rollout_grids:compute_parallel_raster_zonal_stats:207 - Completed parallel raster zonal stats for 4 threads\n",
      "2023-04-17 18:15:54.450 | INFO     | relativewealth.rollout_grids:compute_parallel_raster_zonal_stats:209 - Concatenated parallel raster zonal stats for 4 threads\n",
      "2023-04-17 18:15:54.452 | INFO     | relativewealth.rollout_grids:compute_raster_stats:132 - Creating raster zonal stats for batch 29 with index (0/1011 in 4 parallel threads\n"
     ]
    },
    {
     "data": {
      "text/html": [
       "\n",
       "<style>\n",
       "    /* Turns off some styling */\n",
       "    progress {\n",
       "        /* gets rid of default border in Firefox and Opera. */\n",
       "        border: none;\n",
       "        /* Needs to be in here for Safari polyfill so background images work as expected. */\n",
       "        background-size: auto;\n",
       "    }\n",
       "    progress:not([value]), progress:not([value])::-webkit-progress-bar {\n",
       "        background: repeating-linear-gradient(45deg, #7e7e7e, #7e7e7e 10px, #5c5c5c 10px, #5c5c5c 20px);\n",
       "    }\n",
       "    .progress-bar-interrupted, .progress-bar-interrupted::-webkit-progress-bar {\n",
       "        background: #F44336;\n",
       "    }\n",
       "</style>\n"
      ],
      "text/plain": [
       "<IPython.core.display.HTML object>"
      ]
     },
     "metadata": {},
     "output_type": "display_data"
    },
    {
     "data": {
      "text/html": [],
      "text/plain": [
       "<IPython.core.display.HTML object>"
      ]
     },
     "metadata": {},
     "output_type": "display_data"
    },
    {
     "name": "stderr",
     "output_type": "stream",
     "text": [
      "2023-04-17 18:17:13.779 | INFO     | relativewealth.rollout_grids:compute_parallel_raster_zonal_stats:207 - Completed parallel raster zonal stats for 4 threads\n",
      "2023-04-17 18:17:13.785 | INFO     | relativewealth.rollout_grids:compute_parallel_raster_zonal_stats:209 - Concatenated parallel raster zonal stats for 4 threads\n",
      "2023-04-17 18:17:13.787 | INFO     | relativewealth.rollout_grids:compute_raster_stats:132 - Creating raster zonal stats for batch 30 with index (0/1011 in 4 parallel threads\n"
     ]
    },
    {
     "data": {
      "text/html": [
       "\n",
       "<style>\n",
       "    /* Turns off some styling */\n",
       "    progress {\n",
       "        /* gets rid of default border in Firefox and Opera. */\n",
       "        border: none;\n",
       "        /* Needs to be in here for Safari polyfill so background images work as expected. */\n",
       "        background-size: auto;\n",
       "    }\n",
       "    progress:not([value]), progress:not([value])::-webkit-progress-bar {\n",
       "        background: repeating-linear-gradient(45deg, #7e7e7e, #7e7e7e 10px, #5c5c5c 10px, #5c5c5c 20px);\n",
       "    }\n",
       "    .progress-bar-interrupted, .progress-bar-interrupted::-webkit-progress-bar {\n",
       "        background: #F44336;\n",
       "    }\n",
       "</style>\n"
      ],
      "text/plain": [
       "<IPython.core.display.HTML object>"
      ]
     },
     "metadata": {},
     "output_type": "display_data"
    },
    {
     "data": {
      "text/html": [],
      "text/plain": [
       "<IPython.core.display.HTML object>"
      ]
     },
     "metadata": {},
     "output_type": "display_data"
    },
    {
     "name": "stderr",
     "output_type": "stream",
     "text": [
      "2023-04-17 18:18:08.960 | INFO     | relativewealth.rollout_grids:compute_parallel_raster_zonal_stats:207 - Completed parallel raster zonal stats for 4 threads\n",
      "2023-04-17 18:18:08.965 | INFO     | relativewealth.rollout_grids:compute_parallel_raster_zonal_stats:209 - Concatenated parallel raster zonal stats for 4 threads\n",
      "2023-04-17 18:18:08.967 | INFO     | relativewealth.rollout_grids:compute_raster_stats:132 - Creating raster zonal stats for batch 31 with index (0/1011 in 4 parallel threads\n"
     ]
    },
    {
     "data": {
      "text/html": [
       "\n",
       "<style>\n",
       "    /* Turns off some styling */\n",
       "    progress {\n",
       "        /* gets rid of default border in Firefox and Opera. */\n",
       "        border: none;\n",
       "        /* Needs to be in here for Safari polyfill so background images work as expected. */\n",
       "        background-size: auto;\n",
       "    }\n",
       "    progress:not([value]), progress:not([value])::-webkit-progress-bar {\n",
       "        background: repeating-linear-gradient(45deg, #7e7e7e, #7e7e7e 10px, #5c5c5c 10px, #5c5c5c 20px);\n",
       "    }\n",
       "    .progress-bar-interrupted, .progress-bar-interrupted::-webkit-progress-bar {\n",
       "        background: #F44336;\n",
       "    }\n",
       "</style>\n"
      ],
      "text/plain": [
       "<IPython.core.display.HTML object>"
      ]
     },
     "metadata": {},
     "output_type": "display_data"
    },
    {
     "data": {
      "text/html": [],
      "text/plain": [
       "<IPython.core.display.HTML object>"
      ]
     },
     "metadata": {},
     "output_type": "display_data"
    },
    {
     "name": "stderr",
     "output_type": "stream",
     "text": [
      "2023-04-17 18:18:23.363 | INFO     | relativewealth.rollout_grids:compute_parallel_raster_zonal_stats:207 - Completed parallel raster zonal stats for 4 threads\n",
      "2023-04-17 18:18:23.366 | INFO     | relativewealth.rollout_grids:compute_parallel_raster_zonal_stats:209 - Concatenated parallel raster zonal stats for 4 threads\n",
      "2023-04-17 18:18:23.367 | INFO     | relativewealth.rollout_grids:compute_raster_stats:132 - Creating raster zonal stats for batch 32 with index (0/1011 in 4 parallel threads\n"
     ]
    },
    {
     "data": {
      "text/html": [
       "\n",
       "<style>\n",
       "    /* Turns off some styling */\n",
       "    progress {\n",
       "        /* gets rid of default border in Firefox and Opera. */\n",
       "        border: none;\n",
       "        /* Needs to be in here for Safari polyfill so background images work as expected. */\n",
       "        background-size: auto;\n",
       "    }\n",
       "    progress:not([value]), progress:not([value])::-webkit-progress-bar {\n",
       "        background: repeating-linear-gradient(45deg, #7e7e7e, #7e7e7e 10px, #5c5c5c 10px, #5c5c5c 20px);\n",
       "    }\n",
       "    .progress-bar-interrupted, .progress-bar-interrupted::-webkit-progress-bar {\n",
       "        background: #F44336;\n",
       "    }\n",
       "</style>\n"
      ],
      "text/plain": [
       "<IPython.core.display.HTML object>"
      ]
     },
     "metadata": {},
     "output_type": "display_data"
    },
    {
     "data": {
      "text/html": [],
      "text/plain": [
       "<IPython.core.display.HTML object>"
      ]
     },
     "metadata": {},
     "output_type": "display_data"
    },
    {
     "name": "stderr",
     "output_type": "stream",
     "text": [
      "2023-04-17 18:18:33.718 | INFO     | relativewealth.rollout_grids:compute_parallel_raster_zonal_stats:207 - Completed parallel raster zonal stats for 4 threads\n",
      "2023-04-17 18:18:33.721 | INFO     | relativewealth.rollout_grids:compute_parallel_raster_zonal_stats:209 - Concatenated parallel raster zonal stats for 4 threads\n",
      "2023-04-17 18:18:33.722 | INFO     | relativewealth.rollout_grids:compute_raster_stats:132 - Creating raster zonal stats for batch 33 with index (0/1011 in 4 parallel threads\n"
     ]
    },
    {
     "data": {
      "text/html": [
       "\n",
       "<style>\n",
       "    /* Turns off some styling */\n",
       "    progress {\n",
       "        /* gets rid of default border in Firefox and Opera. */\n",
       "        border: none;\n",
       "        /* Needs to be in here for Safari polyfill so background images work as expected. */\n",
       "        background-size: auto;\n",
       "    }\n",
       "    progress:not([value]), progress:not([value])::-webkit-progress-bar {\n",
       "        background: repeating-linear-gradient(45deg, #7e7e7e, #7e7e7e 10px, #5c5c5c 10px, #5c5c5c 20px);\n",
       "    }\n",
       "    .progress-bar-interrupted, .progress-bar-interrupted::-webkit-progress-bar {\n",
       "        background: #F44336;\n",
       "    }\n",
       "</style>\n"
      ],
      "text/plain": [
       "<IPython.core.display.HTML object>"
      ]
     },
     "metadata": {},
     "output_type": "display_data"
    },
    {
     "data": {
      "text/html": [],
      "text/plain": [
       "<IPython.core.display.HTML object>"
      ]
     },
     "metadata": {},
     "output_type": "display_data"
    },
    {
     "name": "stderr",
     "output_type": "stream",
     "text": [
      "2023-04-17 18:18:42.450 | INFO     | relativewealth.rollout_grids:compute_parallel_raster_zonal_stats:207 - Completed parallel raster zonal stats for 4 threads\n",
      "2023-04-17 18:18:42.452 | INFO     | relativewealth.rollout_grids:compute_parallel_raster_zonal_stats:209 - Concatenated parallel raster zonal stats for 4 threads\n",
      "2023-04-17 18:18:42.454 | INFO     | relativewealth.rollout_grids:compute_raster_stats:132 - Creating raster zonal stats for batch 34 with index (0/1011 in 4 parallel threads\n"
     ]
    },
    {
     "data": {
      "text/html": [
       "\n",
       "<style>\n",
       "    /* Turns off some styling */\n",
       "    progress {\n",
       "        /* gets rid of default border in Firefox and Opera. */\n",
       "        border: none;\n",
       "        /* Needs to be in here for Safari polyfill so background images work as expected. */\n",
       "        background-size: auto;\n",
       "    }\n",
       "    progress:not([value]), progress:not([value])::-webkit-progress-bar {\n",
       "        background: repeating-linear-gradient(45deg, #7e7e7e, #7e7e7e 10px, #5c5c5c 10px, #5c5c5c 20px);\n",
       "    }\n",
       "    .progress-bar-interrupted, .progress-bar-interrupted::-webkit-progress-bar {\n",
       "        background: #F44336;\n",
       "    }\n",
       "</style>\n"
      ],
      "text/plain": [
       "<IPython.core.display.HTML object>"
      ]
     },
     "metadata": {},
     "output_type": "display_data"
    },
    {
     "data": {
      "text/html": [],
      "text/plain": [
       "<IPython.core.display.HTML object>"
      ]
     },
     "metadata": {},
     "output_type": "display_data"
    },
    {
     "name": "stderr",
     "output_type": "stream",
     "text": [
      "2023-04-17 18:18:50.678 | INFO     | relativewealth.rollout_grids:compute_parallel_raster_zonal_stats:207 - Completed parallel raster zonal stats for 4 threads\n",
      "2023-04-17 18:18:50.681 | INFO     | relativewealth.rollout_grids:compute_parallel_raster_zonal_stats:209 - Concatenated parallel raster zonal stats for 4 threads\n",
      "2023-04-17 18:18:50.683 | INFO     | relativewealth.rollout_grids:compute_raster_stats:132 - Creating raster zonal stats for batch 35 with index (0/1011 in 4 parallel threads\n"
     ]
    },
    {
     "data": {
      "text/html": [
       "\n",
       "<style>\n",
       "    /* Turns off some styling */\n",
       "    progress {\n",
       "        /* gets rid of default border in Firefox and Opera. */\n",
       "        border: none;\n",
       "        /* Needs to be in here for Safari polyfill so background images work as expected. */\n",
       "        background-size: auto;\n",
       "    }\n",
       "    progress:not([value]), progress:not([value])::-webkit-progress-bar {\n",
       "        background: repeating-linear-gradient(45deg, #7e7e7e, #7e7e7e 10px, #5c5c5c 10px, #5c5c5c 20px);\n",
       "    }\n",
       "    .progress-bar-interrupted, .progress-bar-interrupted::-webkit-progress-bar {\n",
       "        background: #F44336;\n",
       "    }\n",
       "</style>\n"
      ],
      "text/plain": [
       "<IPython.core.display.HTML object>"
      ]
     },
     "metadata": {},
     "output_type": "display_data"
    },
    {
     "data": {
      "text/html": [],
      "text/plain": [
       "<IPython.core.display.HTML object>"
      ]
     },
     "metadata": {},
     "output_type": "display_data"
    },
    {
     "name": "stderr",
     "output_type": "stream",
     "text": [
      "2023-04-17 18:18:59.055 | INFO     | relativewealth.rollout_grids:compute_parallel_raster_zonal_stats:207 - Completed parallel raster zonal stats for 4 threads\n",
      "2023-04-17 18:18:59.058 | INFO     | relativewealth.rollout_grids:compute_parallel_raster_zonal_stats:209 - Concatenated parallel raster zonal stats for 4 threads\n",
      "2023-04-17 18:18:59.059 | INFO     | relativewealth.rollout_grids:compute_raster_stats:132 - Creating raster zonal stats for batch 36 with index (0/1011 in 4 parallel threads\n"
     ]
    },
    {
     "data": {
      "text/html": [
       "\n",
       "<style>\n",
       "    /* Turns off some styling */\n",
       "    progress {\n",
       "        /* gets rid of default border in Firefox and Opera. */\n",
       "        border: none;\n",
       "        /* Needs to be in here for Safari polyfill so background images work as expected. */\n",
       "        background-size: auto;\n",
       "    }\n",
       "    progress:not([value]), progress:not([value])::-webkit-progress-bar {\n",
       "        background: repeating-linear-gradient(45deg, #7e7e7e, #7e7e7e 10px, #5c5c5c 10px, #5c5c5c 20px);\n",
       "    }\n",
       "    .progress-bar-interrupted, .progress-bar-interrupted::-webkit-progress-bar {\n",
       "        background: #F44336;\n",
       "    }\n",
       "</style>\n"
      ],
      "text/plain": [
       "<IPython.core.display.HTML object>"
      ]
     },
     "metadata": {},
     "output_type": "display_data"
    },
    {
     "data": {
      "text/html": [],
      "text/plain": [
       "<IPython.core.display.HTML object>"
      ]
     },
     "metadata": {},
     "output_type": "display_data"
    },
    {
     "name": "stderr",
     "output_type": "stream",
     "text": [
      "2023-04-17 18:19:07.339 | INFO     | relativewealth.rollout_grids:compute_parallel_raster_zonal_stats:207 - Completed parallel raster zonal stats for 4 threads\n",
      "2023-04-17 18:19:07.344 | INFO     | relativewealth.rollout_grids:compute_parallel_raster_zonal_stats:209 - Concatenated parallel raster zonal stats for 4 threads\n",
      "2023-04-17 18:19:07.345 | INFO     | relativewealth.rollout_grids:compute_raster_stats:132 - Creating raster zonal stats for batch 37 with index (0/1011 in 4 parallel threads\n"
     ]
    },
    {
     "data": {
      "text/html": [
       "\n",
       "<style>\n",
       "    /* Turns off some styling */\n",
       "    progress {\n",
       "        /* gets rid of default border in Firefox and Opera. */\n",
       "        border: none;\n",
       "        /* Needs to be in here for Safari polyfill so background images work as expected. */\n",
       "        background-size: auto;\n",
       "    }\n",
       "    progress:not([value]), progress:not([value])::-webkit-progress-bar {\n",
       "        background: repeating-linear-gradient(45deg, #7e7e7e, #7e7e7e 10px, #5c5c5c 10px, #5c5c5c 20px);\n",
       "    }\n",
       "    .progress-bar-interrupted, .progress-bar-interrupted::-webkit-progress-bar {\n",
       "        background: #F44336;\n",
       "    }\n",
       "</style>\n"
      ],
      "text/plain": [
       "<IPython.core.display.HTML object>"
      ]
     },
     "metadata": {},
     "output_type": "display_data"
    },
    {
     "data": {
      "text/html": [],
      "text/plain": [
       "<IPython.core.display.HTML object>"
      ]
     },
     "metadata": {},
     "output_type": "display_data"
    },
    {
     "name": "stderr",
     "output_type": "stream",
     "text": [
      "2023-04-17 18:19:15.773 | INFO     | relativewealth.rollout_grids:compute_parallel_raster_zonal_stats:207 - Completed parallel raster zonal stats for 4 threads\n",
      "2023-04-17 18:19:15.775 | INFO     | relativewealth.rollout_grids:compute_parallel_raster_zonal_stats:209 - Concatenated parallel raster zonal stats for 4 threads\n",
      "2023-04-17 18:19:15.777 | INFO     | relativewealth.rollout_grids:compute_raster_stats:132 - Creating raster zonal stats for batch 38 with index (0/1011 in 4 parallel threads\n"
     ]
    },
    {
     "data": {
      "text/html": [
       "\n",
       "<style>\n",
       "    /* Turns off some styling */\n",
       "    progress {\n",
       "        /* gets rid of default border in Firefox and Opera. */\n",
       "        border: none;\n",
       "        /* Needs to be in here for Safari polyfill so background images work as expected. */\n",
       "        background-size: auto;\n",
       "    }\n",
       "    progress:not([value]), progress:not([value])::-webkit-progress-bar {\n",
       "        background: repeating-linear-gradient(45deg, #7e7e7e, #7e7e7e 10px, #5c5c5c 10px, #5c5c5c 20px);\n",
       "    }\n",
       "    .progress-bar-interrupted, .progress-bar-interrupted::-webkit-progress-bar {\n",
       "        background: #F44336;\n",
       "    }\n",
       "</style>\n"
      ],
      "text/plain": [
       "<IPython.core.display.HTML object>"
      ]
     },
     "metadata": {},
     "output_type": "display_data"
    },
    {
     "data": {
      "text/html": [],
      "text/plain": [
       "<IPython.core.display.HTML object>"
      ]
     },
     "metadata": {},
     "output_type": "display_data"
    },
    {
     "name": "stderr",
     "output_type": "stream",
     "text": [
      "2023-04-17 18:19:23.853 | INFO     | relativewealth.rollout_grids:compute_parallel_raster_zonal_stats:207 - Completed parallel raster zonal stats for 4 threads\n",
      "2023-04-17 18:19:23.856 | INFO     | relativewealth.rollout_grids:compute_parallel_raster_zonal_stats:209 - Concatenated parallel raster zonal stats for 4 threads\n",
      "2023-04-17 18:19:23.857 | INFO     | relativewealth.rollout_grids:compute_raster_stats:132 - Creating raster zonal stats for batch 39 with index (0/1011 in 4 parallel threads\n"
     ]
    },
    {
     "data": {
      "text/html": [
       "\n",
       "<style>\n",
       "    /* Turns off some styling */\n",
       "    progress {\n",
       "        /* gets rid of default border in Firefox and Opera. */\n",
       "        border: none;\n",
       "        /* Needs to be in here for Safari polyfill so background images work as expected. */\n",
       "        background-size: auto;\n",
       "    }\n",
       "    progress:not([value]), progress:not([value])::-webkit-progress-bar {\n",
       "        background: repeating-linear-gradient(45deg, #7e7e7e, #7e7e7e 10px, #5c5c5c 10px, #5c5c5c 20px);\n",
       "    }\n",
       "    .progress-bar-interrupted, .progress-bar-interrupted::-webkit-progress-bar {\n",
       "        background: #F44336;\n",
       "    }\n",
       "</style>\n"
      ],
      "text/plain": [
       "<IPython.core.display.HTML object>"
      ]
     },
     "metadata": {},
     "output_type": "display_data"
    },
    {
     "data": {
      "text/html": [],
      "text/plain": [
       "<IPython.core.display.HTML object>"
      ]
     },
     "metadata": {},
     "output_type": "display_data"
    },
    {
     "name": "stderr",
     "output_type": "stream",
     "text": [
      "2023-04-17 18:19:31.950 | INFO     | relativewealth.rollout_grids:compute_parallel_raster_zonal_stats:207 - Completed parallel raster zonal stats for 4 threads\n",
      "2023-04-17 18:19:31.953 | INFO     | relativewealth.rollout_grids:compute_parallel_raster_zonal_stats:209 - Concatenated parallel raster zonal stats for 4 threads\n",
      "2023-04-17 18:19:31.954 | INFO     | relativewealth.rollout_grids:compute_raster_stats:132 - Creating raster zonal stats for batch 40 with index (0/1011 in 4 parallel threads\n"
     ]
    },
    {
     "data": {
      "text/html": [
       "\n",
       "<style>\n",
       "    /* Turns off some styling */\n",
       "    progress {\n",
       "        /* gets rid of default border in Firefox and Opera. */\n",
       "        border: none;\n",
       "        /* Needs to be in here for Safari polyfill so background images work as expected. */\n",
       "        background-size: auto;\n",
       "    }\n",
       "    progress:not([value]), progress:not([value])::-webkit-progress-bar {\n",
       "        background: repeating-linear-gradient(45deg, #7e7e7e, #7e7e7e 10px, #5c5c5c 10px, #5c5c5c 20px);\n",
       "    }\n",
       "    .progress-bar-interrupted, .progress-bar-interrupted::-webkit-progress-bar {\n",
       "        background: #F44336;\n",
       "    }\n",
       "</style>\n"
      ],
      "text/plain": [
       "<IPython.core.display.HTML object>"
      ]
     },
     "metadata": {},
     "output_type": "display_data"
    },
    {
     "data": {
      "text/html": [],
      "text/plain": [
       "<IPython.core.display.HTML object>"
      ]
     },
     "metadata": {},
     "output_type": "display_data"
    },
    {
     "name": "stderr",
     "output_type": "stream",
     "text": [
      "2023-04-17 18:19:40.082 | INFO     | relativewealth.rollout_grids:compute_parallel_raster_zonal_stats:207 - Completed parallel raster zonal stats for 4 threads\n",
      "2023-04-17 18:19:40.084 | INFO     | relativewealth.rollout_grids:compute_parallel_raster_zonal_stats:209 - Concatenated parallel raster zonal stats for 4 threads\n",
      "2023-04-17 18:19:40.086 | INFO     | relativewealth.rollout_grids:compute_raster_stats:132 - Creating raster zonal stats for batch 41 with index (0/1011 in 4 parallel threads\n"
     ]
    },
    {
     "data": {
      "text/html": [
       "\n",
       "<style>\n",
       "    /* Turns off some styling */\n",
       "    progress {\n",
       "        /* gets rid of default border in Firefox and Opera. */\n",
       "        border: none;\n",
       "        /* Needs to be in here for Safari polyfill so background images work as expected. */\n",
       "        background-size: auto;\n",
       "    }\n",
       "    progress:not([value]), progress:not([value])::-webkit-progress-bar {\n",
       "        background: repeating-linear-gradient(45deg, #7e7e7e, #7e7e7e 10px, #5c5c5c 10px, #5c5c5c 20px);\n",
       "    }\n",
       "    .progress-bar-interrupted, .progress-bar-interrupted::-webkit-progress-bar {\n",
       "        background: #F44336;\n",
       "    }\n",
       "</style>\n"
      ],
      "text/plain": [
       "<IPython.core.display.HTML object>"
      ]
     },
     "metadata": {},
     "output_type": "display_data"
    },
    {
     "data": {
      "text/html": [],
      "text/plain": [
       "<IPython.core.display.HTML object>"
      ]
     },
     "metadata": {},
     "output_type": "display_data"
    },
    {
     "name": "stderr",
     "output_type": "stream",
     "text": [
      "2023-04-17 18:19:48.225 | INFO     | relativewealth.rollout_grids:compute_parallel_raster_zonal_stats:207 - Completed parallel raster zonal stats for 4 threads\n",
      "2023-04-17 18:19:48.227 | INFO     | relativewealth.rollout_grids:compute_parallel_raster_zonal_stats:209 - Concatenated parallel raster zonal stats for 4 threads\n",
      "2023-04-17 18:19:48.229 | INFO     | relativewealth.rollout_grids:compute_raster_stats:132 - Creating raster zonal stats for batch 42 with index (0/1011 in 4 parallel threads\n"
     ]
    },
    {
     "data": {
      "text/html": [
       "\n",
       "<style>\n",
       "    /* Turns off some styling */\n",
       "    progress {\n",
       "        /* gets rid of default border in Firefox and Opera. */\n",
       "        border: none;\n",
       "        /* Needs to be in here for Safari polyfill so background images work as expected. */\n",
       "        background-size: auto;\n",
       "    }\n",
       "    progress:not([value]), progress:not([value])::-webkit-progress-bar {\n",
       "        background: repeating-linear-gradient(45deg, #7e7e7e, #7e7e7e 10px, #5c5c5c 10px, #5c5c5c 20px);\n",
       "    }\n",
       "    .progress-bar-interrupted, .progress-bar-interrupted::-webkit-progress-bar {\n",
       "        background: #F44336;\n",
       "    }\n",
       "</style>\n"
      ],
      "text/plain": [
       "<IPython.core.display.HTML object>"
      ]
     },
     "metadata": {},
     "output_type": "display_data"
    },
    {
     "data": {
      "text/html": [],
      "text/plain": [
       "<IPython.core.display.HTML object>"
      ]
     },
     "metadata": {},
     "output_type": "display_data"
    },
    {
     "name": "stderr",
     "output_type": "stream",
     "text": [
      "2023-04-17 18:19:56.776 | INFO     | relativewealth.rollout_grids:compute_parallel_raster_zonal_stats:207 - Completed parallel raster zonal stats for 4 threads\n",
      "2023-04-17 18:19:56.779 | INFO     | relativewealth.rollout_grids:compute_parallel_raster_zonal_stats:209 - Concatenated parallel raster zonal stats for 4 threads\n",
      "2023-04-17 18:19:56.780 | INFO     | relativewealth.rollout_grids:compute_raster_stats:132 - Creating raster zonal stats for batch 43 with index (0/1011 in 4 parallel threads\n"
     ]
    },
    {
     "data": {
      "text/html": [
       "\n",
       "<style>\n",
       "    /* Turns off some styling */\n",
       "    progress {\n",
       "        /* gets rid of default border in Firefox and Opera. */\n",
       "        border: none;\n",
       "        /* Needs to be in here for Safari polyfill so background images work as expected. */\n",
       "        background-size: auto;\n",
       "    }\n",
       "    progress:not([value]), progress:not([value])::-webkit-progress-bar {\n",
       "        background: repeating-linear-gradient(45deg, #7e7e7e, #7e7e7e 10px, #5c5c5c 10px, #5c5c5c 20px);\n",
       "    }\n",
       "    .progress-bar-interrupted, .progress-bar-interrupted::-webkit-progress-bar {\n",
       "        background: #F44336;\n",
       "    }\n",
       "</style>\n"
      ],
      "text/plain": [
       "<IPython.core.display.HTML object>"
      ]
     },
     "metadata": {},
     "output_type": "display_data"
    },
    {
     "data": {
      "text/html": [],
      "text/plain": [
       "<IPython.core.display.HTML object>"
      ]
     },
     "metadata": {},
     "output_type": "display_data"
    },
    {
     "name": "stderr",
     "output_type": "stream",
     "text": [
      "2023-04-17 18:20:05.695 | INFO     | relativewealth.rollout_grids:compute_parallel_raster_zonal_stats:207 - Completed parallel raster zonal stats for 4 threads\n",
      "2023-04-17 18:20:05.697 | INFO     | relativewealth.rollout_grids:compute_parallel_raster_zonal_stats:209 - Concatenated parallel raster zonal stats for 4 threads\n",
      "2023-04-17 18:20:05.699 | INFO     | relativewealth.rollout_grids:compute_raster_stats:132 - Creating raster zonal stats for batch 44 with index (0/1011 in 4 parallel threads\n"
     ]
    },
    {
     "data": {
      "text/html": [
       "\n",
       "<style>\n",
       "    /* Turns off some styling */\n",
       "    progress {\n",
       "        /* gets rid of default border in Firefox and Opera. */\n",
       "        border: none;\n",
       "        /* Needs to be in here for Safari polyfill so background images work as expected. */\n",
       "        background-size: auto;\n",
       "    }\n",
       "    progress:not([value]), progress:not([value])::-webkit-progress-bar {\n",
       "        background: repeating-linear-gradient(45deg, #7e7e7e, #7e7e7e 10px, #5c5c5c 10px, #5c5c5c 20px);\n",
       "    }\n",
       "    .progress-bar-interrupted, .progress-bar-interrupted::-webkit-progress-bar {\n",
       "        background: #F44336;\n",
       "    }\n",
       "</style>\n"
      ],
      "text/plain": [
       "<IPython.core.display.HTML object>"
      ]
     },
     "metadata": {},
     "output_type": "display_data"
    },
    {
     "data": {
      "text/html": [],
      "text/plain": [
       "<IPython.core.display.HTML object>"
      ]
     },
     "metadata": {},
     "output_type": "display_data"
    },
    {
     "name": "stderr",
     "output_type": "stream",
     "text": [
      "2023-04-17 18:20:14.460 | INFO     | relativewealth.rollout_grids:compute_parallel_raster_zonal_stats:207 - Completed parallel raster zonal stats for 4 threads\n",
      "2023-04-17 18:20:14.462 | INFO     | relativewealth.rollout_grids:compute_parallel_raster_zonal_stats:209 - Concatenated parallel raster zonal stats for 4 threads\n",
      "2023-04-17 18:20:14.464 | INFO     | relativewealth.rollout_grids:compute_raster_stats:132 - Creating raster zonal stats for batch 45 with index (0/1011 in 4 parallel threads\n"
     ]
    },
    {
     "data": {
      "text/html": [
       "\n",
       "<style>\n",
       "    /* Turns off some styling */\n",
       "    progress {\n",
       "        /* gets rid of default border in Firefox and Opera. */\n",
       "        border: none;\n",
       "        /* Needs to be in here for Safari polyfill so background images work as expected. */\n",
       "        background-size: auto;\n",
       "    }\n",
       "    progress:not([value]), progress:not([value])::-webkit-progress-bar {\n",
       "        background: repeating-linear-gradient(45deg, #7e7e7e, #7e7e7e 10px, #5c5c5c 10px, #5c5c5c 20px);\n",
       "    }\n",
       "    .progress-bar-interrupted, .progress-bar-interrupted::-webkit-progress-bar {\n",
       "        background: #F44336;\n",
       "    }\n",
       "</style>\n"
      ],
      "text/plain": [
       "<IPython.core.display.HTML object>"
      ]
     },
     "metadata": {},
     "output_type": "display_data"
    },
    {
     "data": {
      "text/html": [],
      "text/plain": [
       "<IPython.core.display.HTML object>"
      ]
     },
     "metadata": {},
     "output_type": "display_data"
    },
    {
     "name": "stderr",
     "output_type": "stream",
     "text": [
      "2023-04-17 18:20:23.497 | INFO     | relativewealth.rollout_grids:compute_parallel_raster_zonal_stats:207 - Completed parallel raster zonal stats for 4 threads\n",
      "2023-04-17 18:20:23.511 | INFO     | relativewealth.rollout_grids:compute_parallel_raster_zonal_stats:209 - Concatenated parallel raster zonal stats for 4 threads\n",
      "2023-04-17 18:20:23.513 | INFO     | relativewealth.rollout_grids:compute_raster_stats:132 - Creating raster zonal stats for batch 46 with index (0/1011 in 4 parallel threads\n"
     ]
    },
    {
     "data": {
      "text/html": [
       "\n",
       "<style>\n",
       "    /* Turns off some styling */\n",
       "    progress {\n",
       "        /* gets rid of default border in Firefox and Opera. */\n",
       "        border: none;\n",
       "        /* Needs to be in here for Safari polyfill so background images work as expected. */\n",
       "        background-size: auto;\n",
       "    }\n",
       "    progress:not([value]), progress:not([value])::-webkit-progress-bar {\n",
       "        background: repeating-linear-gradient(45deg, #7e7e7e, #7e7e7e 10px, #5c5c5c 10px, #5c5c5c 20px);\n",
       "    }\n",
       "    .progress-bar-interrupted, .progress-bar-interrupted::-webkit-progress-bar {\n",
       "        background: #F44336;\n",
       "    }\n",
       "</style>\n"
      ],
      "text/plain": [
       "<IPython.core.display.HTML object>"
      ]
     },
     "metadata": {},
     "output_type": "display_data"
    },
    {
     "data": {
      "text/html": [],
      "text/plain": [
       "<IPython.core.display.HTML object>"
      ]
     },
     "metadata": {},
     "output_type": "display_data"
    },
    {
     "name": "stderr",
     "output_type": "stream",
     "text": [
      "2023-04-17 18:20:31.731 | INFO     | relativewealth.rollout_grids:compute_parallel_raster_zonal_stats:207 - Completed parallel raster zonal stats for 4 threads\n",
      "2023-04-17 18:20:31.733 | INFO     | relativewealth.rollout_grids:compute_parallel_raster_zonal_stats:209 - Concatenated parallel raster zonal stats for 4 threads\n",
      "2023-04-17 18:20:31.734 | INFO     | relativewealth.rollout_grids:compute_raster_stats:132 - Creating raster zonal stats for batch 47 with index (0/1011 in 4 parallel threads\n"
     ]
    },
    {
     "data": {
      "text/html": [
       "\n",
       "<style>\n",
       "    /* Turns off some styling */\n",
       "    progress {\n",
       "        /* gets rid of default border in Firefox and Opera. */\n",
       "        border: none;\n",
       "        /* Needs to be in here for Safari polyfill so background images work as expected. */\n",
       "        background-size: auto;\n",
       "    }\n",
       "    progress:not([value]), progress:not([value])::-webkit-progress-bar {\n",
       "        background: repeating-linear-gradient(45deg, #7e7e7e, #7e7e7e 10px, #5c5c5c 10px, #5c5c5c 20px);\n",
       "    }\n",
       "    .progress-bar-interrupted, .progress-bar-interrupted::-webkit-progress-bar {\n",
       "        background: #F44336;\n",
       "    }\n",
       "</style>\n"
      ],
      "text/plain": [
       "<IPython.core.display.HTML object>"
      ]
     },
     "metadata": {},
     "output_type": "display_data"
    },
    {
     "data": {
      "text/html": [],
      "text/plain": [
       "<IPython.core.display.HTML object>"
      ]
     },
     "metadata": {},
     "output_type": "display_data"
    },
    {
     "name": "stderr",
     "output_type": "stream",
     "text": [
      "2023-04-17 18:20:39.885 | INFO     | relativewealth.rollout_grids:compute_parallel_raster_zonal_stats:207 - Completed parallel raster zonal stats for 4 threads\n",
      "2023-04-17 18:20:39.888 | INFO     | relativewealth.rollout_grids:compute_parallel_raster_zonal_stats:209 - Concatenated parallel raster zonal stats for 4 threads\n",
      "2023-04-17 18:20:39.889 | INFO     | relativewealth.rollout_grids:compute_raster_stats:132 - Creating raster zonal stats for batch 48 with index (0/1011 in 4 parallel threads\n"
     ]
    },
    {
     "data": {
      "text/html": [
       "\n",
       "<style>\n",
       "    /* Turns off some styling */\n",
       "    progress {\n",
       "        /* gets rid of default border in Firefox and Opera. */\n",
       "        border: none;\n",
       "        /* Needs to be in here for Safari polyfill so background images work as expected. */\n",
       "        background-size: auto;\n",
       "    }\n",
       "    progress:not([value]), progress:not([value])::-webkit-progress-bar {\n",
       "        background: repeating-linear-gradient(45deg, #7e7e7e, #7e7e7e 10px, #5c5c5c 10px, #5c5c5c 20px);\n",
       "    }\n",
       "    .progress-bar-interrupted, .progress-bar-interrupted::-webkit-progress-bar {\n",
       "        background: #F44336;\n",
       "    }\n",
       "</style>\n"
      ],
      "text/plain": [
       "<IPython.core.display.HTML object>"
      ]
     },
     "metadata": {},
     "output_type": "display_data"
    },
    {
     "data": {
      "text/html": [],
      "text/plain": [
       "<IPython.core.display.HTML object>"
      ]
     },
     "metadata": {},
     "output_type": "display_data"
    },
    {
     "name": "stderr",
     "output_type": "stream",
     "text": [
      "2023-04-17 18:20:47.888 | INFO     | relativewealth.rollout_grids:compute_parallel_raster_zonal_stats:207 - Completed parallel raster zonal stats for 4 threads\n",
      "2023-04-17 18:20:47.891 | INFO     | relativewealth.rollout_grids:compute_parallel_raster_zonal_stats:209 - Concatenated parallel raster zonal stats for 4 threads\n",
      "2023-04-17 18:20:47.892 | INFO     | relativewealth.rollout_grids:compute_raster_stats:132 - Creating raster zonal stats for batch 49 with index (0/1011 in 4 parallel threads\n"
     ]
    },
    {
     "data": {
      "text/html": [
       "\n",
       "<style>\n",
       "    /* Turns off some styling */\n",
       "    progress {\n",
       "        /* gets rid of default border in Firefox and Opera. */\n",
       "        border: none;\n",
       "        /* Needs to be in here for Safari polyfill so background images work as expected. */\n",
       "        background-size: auto;\n",
       "    }\n",
       "    progress:not([value]), progress:not([value])::-webkit-progress-bar {\n",
       "        background: repeating-linear-gradient(45deg, #7e7e7e, #7e7e7e 10px, #5c5c5c 10px, #5c5c5c 20px);\n",
       "    }\n",
       "    .progress-bar-interrupted, .progress-bar-interrupted::-webkit-progress-bar {\n",
       "        background: #F44336;\n",
       "    }\n",
       "</style>\n"
      ],
      "text/plain": [
       "<IPython.core.display.HTML object>"
      ]
     },
     "metadata": {},
     "output_type": "display_data"
    },
    {
     "data": {
      "text/html": [],
      "text/plain": [
       "<IPython.core.display.HTML object>"
      ]
     },
     "metadata": {},
     "output_type": "display_data"
    },
    {
     "name": "stderr",
     "output_type": "stream",
     "text": [
      "2023-04-17 18:20:56.146 | INFO     | relativewealth.rollout_grids:compute_parallel_raster_zonal_stats:207 - Completed parallel raster zonal stats for 4 threads\n",
      "2023-04-17 18:20:56.148 | INFO     | relativewealth.rollout_grids:compute_parallel_raster_zonal_stats:209 - Concatenated parallel raster zonal stats for 4 threads\n",
      "2023-04-17 18:20:56.150 | INFO     | relativewealth.rollout_grids:compute_raster_stats:132 - Creating raster zonal stats for batch 50 with index (0/1011 in 4 parallel threads\n"
     ]
    },
    {
     "data": {
      "text/html": [
       "\n",
       "<style>\n",
       "    /* Turns off some styling */\n",
       "    progress {\n",
       "        /* gets rid of default border in Firefox and Opera. */\n",
       "        border: none;\n",
       "        /* Needs to be in here for Safari polyfill so background images work as expected. */\n",
       "        background-size: auto;\n",
       "    }\n",
       "    progress:not([value]), progress:not([value])::-webkit-progress-bar {\n",
       "        background: repeating-linear-gradient(45deg, #7e7e7e, #7e7e7e 10px, #5c5c5c 10px, #5c5c5c 20px);\n",
       "    }\n",
       "    .progress-bar-interrupted, .progress-bar-interrupted::-webkit-progress-bar {\n",
       "        background: #F44336;\n",
       "    }\n",
       "</style>\n"
      ],
      "text/plain": [
       "<IPython.core.display.HTML object>"
      ]
     },
     "metadata": {},
     "output_type": "display_data"
    },
    {
     "data": {
      "text/html": [],
      "text/plain": [
       "<IPython.core.display.HTML object>"
      ]
     },
     "metadata": {},
     "output_type": "display_data"
    },
    {
     "name": "stderr",
     "output_type": "stream",
     "text": [
      "2023-04-17 18:21:04.089 | INFO     | relativewealth.rollout_grids:compute_parallel_raster_zonal_stats:207 - Completed parallel raster zonal stats for 4 threads\n",
      "2023-04-17 18:21:04.091 | INFO     | relativewealth.rollout_grids:compute_parallel_raster_zonal_stats:209 - Concatenated parallel raster zonal stats for 4 threads\n",
      "2023-04-17 18:21:04.093 | INFO     | relativewealth.rollout_grids:compute_raster_stats:132 - Creating raster zonal stats for batch 51 with index (0/1011 in 4 parallel threads\n"
     ]
    },
    {
     "data": {
      "text/html": [
       "\n",
       "<style>\n",
       "    /* Turns off some styling */\n",
       "    progress {\n",
       "        /* gets rid of default border in Firefox and Opera. */\n",
       "        border: none;\n",
       "        /* Needs to be in here for Safari polyfill so background images work as expected. */\n",
       "        background-size: auto;\n",
       "    }\n",
       "    progress:not([value]), progress:not([value])::-webkit-progress-bar {\n",
       "        background: repeating-linear-gradient(45deg, #7e7e7e, #7e7e7e 10px, #5c5c5c 10px, #5c5c5c 20px);\n",
       "    }\n",
       "    .progress-bar-interrupted, .progress-bar-interrupted::-webkit-progress-bar {\n",
       "        background: #F44336;\n",
       "    }\n",
       "</style>\n"
      ],
      "text/plain": [
       "<IPython.core.display.HTML object>"
      ]
     },
     "metadata": {},
     "output_type": "display_data"
    },
    {
     "data": {
      "text/html": [],
      "text/plain": [
       "<IPython.core.display.HTML object>"
      ]
     },
     "metadata": {},
     "output_type": "display_data"
    },
    {
     "name": "stderr",
     "output_type": "stream",
     "text": [
      "2023-04-17 18:21:12.336 | INFO     | relativewealth.rollout_grids:compute_parallel_raster_zonal_stats:207 - Completed parallel raster zonal stats for 4 threads\n",
      "2023-04-17 18:21:12.339 | INFO     | relativewealth.rollout_grids:compute_parallel_raster_zonal_stats:209 - Concatenated parallel raster zonal stats for 4 threads\n",
      "2023-04-17 18:21:12.340 | INFO     | relativewealth.rollout_grids:compute_raster_stats:132 - Creating raster zonal stats for batch 52 with index (0/1011 in 4 parallel threads\n"
     ]
    },
    {
     "data": {
      "text/html": [
       "\n",
       "<style>\n",
       "    /* Turns off some styling */\n",
       "    progress {\n",
       "        /* gets rid of default border in Firefox and Opera. */\n",
       "        border: none;\n",
       "        /* Needs to be in here for Safari polyfill so background images work as expected. */\n",
       "        background-size: auto;\n",
       "    }\n",
       "    progress:not([value]), progress:not([value])::-webkit-progress-bar {\n",
       "        background: repeating-linear-gradient(45deg, #7e7e7e, #7e7e7e 10px, #5c5c5c 10px, #5c5c5c 20px);\n",
       "    }\n",
       "    .progress-bar-interrupted, .progress-bar-interrupted::-webkit-progress-bar {\n",
       "        background: #F44336;\n",
       "    }\n",
       "</style>\n"
      ],
      "text/plain": [
       "<IPython.core.display.HTML object>"
      ]
     },
     "metadata": {},
     "output_type": "display_data"
    },
    {
     "data": {
      "text/html": [],
      "text/plain": [
       "<IPython.core.display.HTML object>"
      ]
     },
     "metadata": {},
     "output_type": "display_data"
    },
    {
     "name": "stderr",
     "output_type": "stream",
     "text": [
      "2023-04-17 18:21:20.426 | INFO     | relativewealth.rollout_grids:compute_parallel_raster_zonal_stats:207 - Completed parallel raster zonal stats for 4 threads\n",
      "2023-04-17 18:21:20.429 | INFO     | relativewealth.rollout_grids:compute_parallel_raster_zonal_stats:209 - Concatenated parallel raster zonal stats for 4 threads\n",
      "2023-04-17 18:21:20.430 | INFO     | relativewealth.rollout_grids:compute_raster_stats:132 - Creating raster zonal stats for batch 53 with index (0/1011 in 4 parallel threads\n"
     ]
    },
    {
     "data": {
      "text/html": [
       "\n",
       "<style>\n",
       "    /* Turns off some styling */\n",
       "    progress {\n",
       "        /* gets rid of default border in Firefox and Opera. */\n",
       "        border: none;\n",
       "        /* Needs to be in here for Safari polyfill so background images work as expected. */\n",
       "        background-size: auto;\n",
       "    }\n",
       "    progress:not([value]), progress:not([value])::-webkit-progress-bar {\n",
       "        background: repeating-linear-gradient(45deg, #7e7e7e, #7e7e7e 10px, #5c5c5c 10px, #5c5c5c 20px);\n",
       "    }\n",
       "    .progress-bar-interrupted, .progress-bar-interrupted::-webkit-progress-bar {\n",
       "        background: #F44336;\n",
       "    }\n",
       "</style>\n"
      ],
      "text/plain": [
       "<IPython.core.display.HTML object>"
      ]
     },
     "metadata": {},
     "output_type": "display_data"
    },
    {
     "data": {
      "text/html": [],
      "text/plain": [
       "<IPython.core.display.HTML object>"
      ]
     },
     "metadata": {},
     "output_type": "display_data"
    },
    {
     "name": "stderr",
     "output_type": "stream",
     "text": [
      "2023-04-17 18:21:28.468 | INFO     | relativewealth.rollout_grids:compute_parallel_raster_zonal_stats:207 - Completed parallel raster zonal stats for 4 threads\n",
      "2023-04-17 18:21:28.471 | INFO     | relativewealth.rollout_grids:compute_parallel_raster_zonal_stats:209 - Concatenated parallel raster zonal stats for 4 threads\n",
      "2023-04-17 18:21:28.473 | INFO     | relativewealth.rollout_grids:compute_raster_stats:132 - Creating raster zonal stats for batch 54 with index (0/1011 in 4 parallel threads\n"
     ]
    },
    {
     "data": {
      "text/html": [
       "\n",
       "<style>\n",
       "    /* Turns off some styling */\n",
       "    progress {\n",
       "        /* gets rid of default border in Firefox and Opera. */\n",
       "        border: none;\n",
       "        /* Needs to be in here for Safari polyfill so background images work as expected. */\n",
       "        background-size: auto;\n",
       "    }\n",
       "    progress:not([value]), progress:not([value])::-webkit-progress-bar {\n",
       "        background: repeating-linear-gradient(45deg, #7e7e7e, #7e7e7e 10px, #5c5c5c 10px, #5c5c5c 20px);\n",
       "    }\n",
       "    .progress-bar-interrupted, .progress-bar-interrupted::-webkit-progress-bar {\n",
       "        background: #F44336;\n",
       "    }\n",
       "</style>\n"
      ],
      "text/plain": [
       "<IPython.core.display.HTML object>"
      ]
     },
     "metadata": {},
     "output_type": "display_data"
    },
    {
     "data": {
      "text/html": [],
      "text/plain": [
       "<IPython.core.display.HTML object>"
      ]
     },
     "metadata": {},
     "output_type": "display_data"
    },
    {
     "name": "stderr",
     "output_type": "stream",
     "text": [
      "2023-04-17 18:21:36.649 | INFO     | relativewealth.rollout_grids:compute_parallel_raster_zonal_stats:207 - Completed parallel raster zonal stats for 4 threads\n",
      "2023-04-17 18:21:36.651 | INFO     | relativewealth.rollout_grids:compute_parallel_raster_zonal_stats:209 - Concatenated parallel raster zonal stats for 4 threads\n",
      "2023-04-17 18:21:36.653 | INFO     | relativewealth.rollout_grids:compute_raster_stats:132 - Creating raster zonal stats for batch 55 with index (0/1011 in 4 parallel threads\n"
     ]
    },
    {
     "data": {
      "text/html": [
       "\n",
       "<style>\n",
       "    /* Turns off some styling */\n",
       "    progress {\n",
       "        /* gets rid of default border in Firefox and Opera. */\n",
       "        border: none;\n",
       "        /* Needs to be in here for Safari polyfill so background images work as expected. */\n",
       "        background-size: auto;\n",
       "    }\n",
       "    progress:not([value]), progress:not([value])::-webkit-progress-bar {\n",
       "        background: repeating-linear-gradient(45deg, #7e7e7e, #7e7e7e 10px, #5c5c5c 10px, #5c5c5c 20px);\n",
       "    }\n",
       "    .progress-bar-interrupted, .progress-bar-interrupted::-webkit-progress-bar {\n",
       "        background: #F44336;\n",
       "    }\n",
       "</style>\n"
      ],
      "text/plain": [
       "<IPython.core.display.HTML object>"
      ]
     },
     "metadata": {},
     "output_type": "display_data"
    },
    {
     "data": {
      "text/html": [],
      "text/plain": [
       "<IPython.core.display.HTML object>"
      ]
     },
     "metadata": {},
     "output_type": "display_data"
    },
    {
     "name": "stderr",
     "output_type": "stream",
     "text": [
      "2023-04-17 18:21:44.808 | INFO     | relativewealth.rollout_grids:compute_parallel_raster_zonal_stats:207 - Completed parallel raster zonal stats for 4 threads\n",
      "2023-04-17 18:21:44.811 | INFO     | relativewealth.rollout_grids:compute_parallel_raster_zonal_stats:209 - Concatenated parallel raster zonal stats for 4 threads\n",
      "2023-04-17 18:21:44.813 | INFO     | relativewealth.rollout_grids:compute_raster_stats:132 - Creating raster zonal stats for batch 56 with index (0/1011 in 4 parallel threads\n"
     ]
    },
    {
     "data": {
      "text/html": [
       "\n",
       "<style>\n",
       "    /* Turns off some styling */\n",
       "    progress {\n",
       "        /* gets rid of default border in Firefox and Opera. */\n",
       "        border: none;\n",
       "        /* Needs to be in here for Safari polyfill so background images work as expected. */\n",
       "        background-size: auto;\n",
       "    }\n",
       "    progress:not([value]), progress:not([value])::-webkit-progress-bar {\n",
       "        background: repeating-linear-gradient(45deg, #7e7e7e, #7e7e7e 10px, #5c5c5c 10px, #5c5c5c 20px);\n",
       "    }\n",
       "    .progress-bar-interrupted, .progress-bar-interrupted::-webkit-progress-bar {\n",
       "        background: #F44336;\n",
       "    }\n",
       "</style>\n"
      ],
      "text/plain": [
       "<IPython.core.display.HTML object>"
      ]
     },
     "metadata": {},
     "output_type": "display_data"
    },
    {
     "data": {
      "text/html": [],
      "text/plain": [
       "<IPython.core.display.HTML object>"
      ]
     },
     "metadata": {},
     "output_type": "display_data"
    },
    {
     "name": "stderr",
     "output_type": "stream",
     "text": [
      "2023-04-17 18:21:53.091 | INFO     | relativewealth.rollout_grids:compute_parallel_raster_zonal_stats:207 - Completed parallel raster zonal stats for 4 threads\n",
      "2023-04-17 18:21:53.094 | INFO     | relativewealth.rollout_grids:compute_parallel_raster_zonal_stats:209 - Concatenated parallel raster zonal stats for 4 threads\n",
      "2023-04-17 18:21:53.095 | INFO     | relativewealth.rollout_grids:compute_raster_stats:132 - Creating raster zonal stats for batch 57 with index (0/1011 in 4 parallel threads\n"
     ]
    },
    {
     "data": {
      "text/html": [
       "\n",
       "<style>\n",
       "    /* Turns off some styling */\n",
       "    progress {\n",
       "        /* gets rid of default border in Firefox and Opera. */\n",
       "        border: none;\n",
       "        /* Needs to be in here for Safari polyfill so background images work as expected. */\n",
       "        background-size: auto;\n",
       "    }\n",
       "    progress:not([value]), progress:not([value])::-webkit-progress-bar {\n",
       "        background: repeating-linear-gradient(45deg, #7e7e7e, #7e7e7e 10px, #5c5c5c 10px, #5c5c5c 20px);\n",
       "    }\n",
       "    .progress-bar-interrupted, .progress-bar-interrupted::-webkit-progress-bar {\n",
       "        background: #F44336;\n",
       "    }\n",
       "</style>\n"
      ],
      "text/plain": [
       "<IPython.core.display.HTML object>"
      ]
     },
     "metadata": {},
     "output_type": "display_data"
    },
    {
     "data": {
      "text/html": [],
      "text/plain": [
       "<IPython.core.display.HTML object>"
      ]
     },
     "metadata": {},
     "output_type": "display_data"
    },
    {
     "name": "stderr",
     "output_type": "stream",
     "text": [
      "2023-04-17 18:22:01.314 | INFO     | relativewealth.rollout_grids:compute_parallel_raster_zonal_stats:207 - Completed parallel raster zonal stats for 4 threads\n",
      "2023-04-17 18:22:01.317 | INFO     | relativewealth.rollout_grids:compute_parallel_raster_zonal_stats:209 - Concatenated parallel raster zonal stats for 4 threads\n",
      "2023-04-17 18:22:01.319 | INFO     | relativewealth.rollout_grids:compute_raster_stats:132 - Creating raster zonal stats for batch 58 with index (0/1011 in 4 parallel threads\n"
     ]
    },
    {
     "data": {
      "text/html": [
       "\n",
       "<style>\n",
       "    /* Turns off some styling */\n",
       "    progress {\n",
       "        /* gets rid of default border in Firefox and Opera. */\n",
       "        border: none;\n",
       "        /* Needs to be in here for Safari polyfill so background images work as expected. */\n",
       "        background-size: auto;\n",
       "    }\n",
       "    progress:not([value]), progress:not([value])::-webkit-progress-bar {\n",
       "        background: repeating-linear-gradient(45deg, #7e7e7e, #7e7e7e 10px, #5c5c5c 10px, #5c5c5c 20px);\n",
       "    }\n",
       "    .progress-bar-interrupted, .progress-bar-interrupted::-webkit-progress-bar {\n",
       "        background: #F44336;\n",
       "    }\n",
       "</style>\n"
      ],
      "text/plain": [
       "<IPython.core.display.HTML object>"
      ]
     },
     "metadata": {},
     "output_type": "display_data"
    },
    {
     "data": {
      "text/html": [],
      "text/plain": [
       "<IPython.core.display.HTML object>"
      ]
     },
     "metadata": {},
     "output_type": "display_data"
    },
    {
     "name": "stderr",
     "output_type": "stream",
     "text": [
      "2023-04-17 18:22:09.467 | INFO     | relativewealth.rollout_grids:compute_parallel_raster_zonal_stats:207 - Completed parallel raster zonal stats for 4 threads\n",
      "2023-04-17 18:22:09.469 | INFO     | relativewealth.rollout_grids:compute_parallel_raster_zonal_stats:209 - Concatenated parallel raster zonal stats for 4 threads\n",
      "2023-04-17 18:22:09.471 | INFO     | relativewealth.rollout_grids:compute_raster_stats:132 - Creating raster zonal stats for batch 59 with index (0/1011 in 4 parallel threads\n"
     ]
    },
    {
     "data": {
      "text/html": [
       "\n",
       "<style>\n",
       "    /* Turns off some styling */\n",
       "    progress {\n",
       "        /* gets rid of default border in Firefox and Opera. */\n",
       "        border: none;\n",
       "        /* Needs to be in here for Safari polyfill so background images work as expected. */\n",
       "        background-size: auto;\n",
       "    }\n",
       "    progress:not([value]), progress:not([value])::-webkit-progress-bar {\n",
       "        background: repeating-linear-gradient(45deg, #7e7e7e, #7e7e7e 10px, #5c5c5c 10px, #5c5c5c 20px);\n",
       "    }\n",
       "    .progress-bar-interrupted, .progress-bar-interrupted::-webkit-progress-bar {\n",
       "        background: #F44336;\n",
       "    }\n",
       "</style>\n"
      ],
      "text/plain": [
       "<IPython.core.display.HTML object>"
      ]
     },
     "metadata": {},
     "output_type": "display_data"
    },
    {
     "data": {
      "text/html": [],
      "text/plain": [
       "<IPython.core.display.HTML object>"
      ]
     },
     "metadata": {},
     "output_type": "display_data"
    },
    {
     "name": "stderr",
     "output_type": "stream",
     "text": [
      "2023-04-17 18:22:17.614 | INFO     | relativewealth.rollout_grids:compute_parallel_raster_zonal_stats:207 - Completed parallel raster zonal stats for 4 threads\n",
      "2023-04-17 18:22:17.617 | INFO     | relativewealth.rollout_grids:compute_parallel_raster_zonal_stats:209 - Concatenated parallel raster zonal stats for 4 threads\n",
      "2023-04-17 18:22:17.618 | INFO     | relativewealth.rollout_grids:compute_raster_stats:132 - Creating raster zonal stats for batch 60 with index (0/1011 in 4 parallel threads\n"
     ]
    },
    {
     "data": {
      "text/html": [
       "\n",
       "<style>\n",
       "    /* Turns off some styling */\n",
       "    progress {\n",
       "        /* gets rid of default border in Firefox and Opera. */\n",
       "        border: none;\n",
       "        /* Needs to be in here for Safari polyfill so background images work as expected. */\n",
       "        background-size: auto;\n",
       "    }\n",
       "    progress:not([value]), progress:not([value])::-webkit-progress-bar {\n",
       "        background: repeating-linear-gradient(45deg, #7e7e7e, #7e7e7e 10px, #5c5c5c 10px, #5c5c5c 20px);\n",
       "    }\n",
       "    .progress-bar-interrupted, .progress-bar-interrupted::-webkit-progress-bar {\n",
       "        background: #F44336;\n",
       "    }\n",
       "</style>\n"
      ],
      "text/plain": [
       "<IPython.core.display.HTML object>"
      ]
     },
     "metadata": {},
     "output_type": "display_data"
    },
    {
     "data": {
      "text/html": [],
      "text/plain": [
       "<IPython.core.display.HTML object>"
      ]
     },
     "metadata": {},
     "output_type": "display_data"
    },
    {
     "name": "stderr",
     "output_type": "stream",
     "text": [
      "2023-04-17 18:22:25.675 | INFO     | relativewealth.rollout_grids:compute_parallel_raster_zonal_stats:207 - Completed parallel raster zonal stats for 4 threads\n",
      "2023-04-17 18:22:25.678 | INFO     | relativewealth.rollout_grids:compute_parallel_raster_zonal_stats:209 - Concatenated parallel raster zonal stats for 4 threads\n",
      "2023-04-17 18:22:25.680 | INFO     | relativewealth.rollout_grids:compute_raster_stats:132 - Creating raster zonal stats for batch 61 with index (0/1011 in 4 parallel threads\n"
     ]
    },
    {
     "data": {
      "text/html": [
       "\n",
       "<style>\n",
       "    /* Turns off some styling */\n",
       "    progress {\n",
       "        /* gets rid of default border in Firefox and Opera. */\n",
       "        border: none;\n",
       "        /* Needs to be in here for Safari polyfill so background images work as expected. */\n",
       "        background-size: auto;\n",
       "    }\n",
       "    progress:not([value]), progress:not([value])::-webkit-progress-bar {\n",
       "        background: repeating-linear-gradient(45deg, #7e7e7e, #7e7e7e 10px, #5c5c5c 10px, #5c5c5c 20px);\n",
       "    }\n",
       "    .progress-bar-interrupted, .progress-bar-interrupted::-webkit-progress-bar {\n",
       "        background: #F44336;\n",
       "    }\n",
       "</style>\n"
      ],
      "text/plain": [
       "<IPython.core.display.HTML object>"
      ]
     },
     "metadata": {},
     "output_type": "display_data"
    },
    {
     "data": {
      "text/html": [],
      "text/plain": [
       "<IPython.core.display.HTML object>"
      ]
     },
     "metadata": {},
     "output_type": "display_data"
    },
    {
     "name": "stderr",
     "output_type": "stream",
     "text": [
      "2023-04-17 18:22:33.866 | INFO     | relativewealth.rollout_grids:compute_parallel_raster_zonal_stats:207 - Completed parallel raster zonal stats for 4 threads\n",
      "2023-04-17 18:22:33.869 | INFO     | relativewealth.rollout_grids:compute_parallel_raster_zonal_stats:209 - Concatenated parallel raster zonal stats for 4 threads\n",
      "2023-04-17 18:22:33.870 | INFO     | relativewealth.rollout_grids:compute_raster_stats:132 - Creating raster zonal stats for batch 62 with index (0/1011 in 4 parallel threads\n"
     ]
    },
    {
     "data": {
      "text/html": [
       "\n",
       "<style>\n",
       "    /* Turns off some styling */\n",
       "    progress {\n",
       "        /* gets rid of default border in Firefox and Opera. */\n",
       "        border: none;\n",
       "        /* Needs to be in here for Safari polyfill so background images work as expected. */\n",
       "        background-size: auto;\n",
       "    }\n",
       "    progress:not([value]), progress:not([value])::-webkit-progress-bar {\n",
       "        background: repeating-linear-gradient(45deg, #7e7e7e, #7e7e7e 10px, #5c5c5c 10px, #5c5c5c 20px);\n",
       "    }\n",
       "    .progress-bar-interrupted, .progress-bar-interrupted::-webkit-progress-bar {\n",
       "        background: #F44336;\n",
       "    }\n",
       "</style>\n"
      ],
      "text/plain": [
       "<IPython.core.display.HTML object>"
      ]
     },
     "metadata": {},
     "output_type": "display_data"
    },
    {
     "data": {
      "text/html": [],
      "text/plain": [
       "<IPython.core.display.HTML object>"
      ]
     },
     "metadata": {},
     "output_type": "display_data"
    },
    {
     "name": "stderr",
     "output_type": "stream",
     "text": [
      "2023-04-17 18:22:40.917 | INFO     | relativewealth.rollout_grids:compute_parallel_raster_zonal_stats:207 - Completed parallel raster zonal stats for 4 threads\n",
      "2023-04-17 18:22:40.920 | INFO     | relativewealth.rollout_grids:compute_parallel_raster_zonal_stats:209 - Concatenated parallel raster zonal stats for 4 threads\n",
      "2023-04-17 18:22:40.921 | INFO     | relativewealth.rollout_grids:compute_raster_stats:132 - Creating raster zonal stats for batch 63 with index (0/1011 in 4 parallel threads\n"
     ]
    },
    {
     "data": {
      "text/html": [
       "\n",
       "<style>\n",
       "    /* Turns off some styling */\n",
       "    progress {\n",
       "        /* gets rid of default border in Firefox and Opera. */\n",
       "        border: none;\n",
       "        /* Needs to be in here for Safari polyfill so background images work as expected. */\n",
       "        background-size: auto;\n",
       "    }\n",
       "    progress:not([value]), progress:not([value])::-webkit-progress-bar {\n",
       "        background: repeating-linear-gradient(45deg, #7e7e7e, #7e7e7e 10px, #5c5c5c 10px, #5c5c5c 20px);\n",
       "    }\n",
       "    .progress-bar-interrupted, .progress-bar-interrupted::-webkit-progress-bar {\n",
       "        background: #F44336;\n",
       "    }\n",
       "</style>\n"
      ],
      "text/plain": [
       "<IPython.core.display.HTML object>"
      ]
     },
     "metadata": {},
     "output_type": "display_data"
    },
    {
     "data": {
      "text/html": [],
      "text/plain": [
       "<IPython.core.display.HTML object>"
      ]
     },
     "metadata": {},
     "output_type": "display_data"
    },
    {
     "name": "stderr",
     "output_type": "stream",
     "text": [
      "2023-04-17 18:22:47.041 | INFO     | relativewealth.rollout_grids:compute_parallel_raster_zonal_stats:207 - Completed parallel raster zonal stats for 4 threads\n",
      "2023-04-17 18:22:47.047 | INFO     | relativewealth.rollout_grids:compute_parallel_raster_zonal_stats:209 - Concatenated parallel raster zonal stats for 4 threads\n",
      "2023-04-17 18:22:47.068 | INFO     | relativewealth.rollout_grids:compute_raster_stats:145 - Completed raster zonal stats for 64 batches\n",
      "2023-04-17 18:22:47.115 | INFO     | relativewealth.rollout_grids:compute_raster_stats:147 - Concatenated raster zonal stats for 64 batches\n",
      "2023-04-17 18:22:47.146 | INFO     | relativewealth.rollout_grids:get_region_filtered_bingtile_grids:318 - Filtering unpopulated grids based on population data\n",
      "2023-04-17 18:22:47.269 | INFO     | relativewealth.rollout_grids:get_region_filtered_bingtile_grids:321 - Filtered admin grid count: 50880\n"
     ]
    }
   ],
   "source": [
    "admin_grids_gdf = get_region_filtered_bingtile_grids(\n",
    "    REGION,\n",
    "    admin_lvl=ADMIN_LVL,\n",
    "    quadkey_lvl=ZOOM_LEVEL,\n",
    "    use_cache=True,\n",
    "    n_workers=4,\n",
    "    max_batch_size=1000,\n",
    ")"
   ]
  },
  {
   "cell_type": "markdown",
   "metadata": {},
   "source": [
    "## Explore Populated Grids"
   ]
  },
  {
   "cell_type": "code",
   "execution_count": 5,
   "metadata": {},
   "outputs": [
    {
     "name": "stdout",
     "output_type": "stream",
     "text": [
      "<class 'geopandas.geodataframe.GeoDataFrame'>\n",
      "Int64Index: 50880 entries, 6 to 63293\n",
      "Data columns (total 8 columns):\n",
      " #   Column      Non-Null Count  Dtype   \n",
      "---  ------      --------------  -----   \n",
      " 0   geometry    50880 non-null  geometry\n",
      " 1   quadkey     50880 non-null  object  \n",
      " 2   shapeName   50880 non-null  object  \n",
      " 3   shapeISO    50880 non-null  object  \n",
      " 4   shapeID     50880 non-null  object  \n",
      " 5   shapeGroup  50880 non-null  object  \n",
      " 6   shapeType   50880 non-null  object  \n",
      " 7   pop_count   50880 non-null  float64 \n",
      "dtypes: float64(1), geometry(1), object(6)\n",
      "memory usage: 3.5+ MB\n"
     ]
    }
   ],
   "source": [
    "admin_grids_gdf.info()"
   ]
  },
  {
   "cell_type": "code",
   "execution_count": 6,
   "metadata": {},
   "outputs": [
    {
     "data": {
      "text/html": [
       "<div>\n",
       "<style scoped>\n",
       "    .dataframe tbody tr th:only-of-type {\n",
       "        vertical-align: middle;\n",
       "    }\n",
       "\n",
       "    .dataframe tbody tr th {\n",
       "        vertical-align: top;\n",
       "    }\n",
       "\n",
       "    .dataframe thead th {\n",
       "        text-align: right;\n",
       "    }\n",
       "</style>\n",
       "<table border=\"1\" class=\"dataframe\">\n",
       "  <thead>\n",
       "    <tr style=\"text-align: right;\">\n",
       "      <th></th>\n",
       "      <th>geometry</th>\n",
       "      <th>quadkey</th>\n",
       "      <th>shapeName</th>\n",
       "      <th>shapeISO</th>\n",
       "      <th>shapeID</th>\n",
       "      <th>shapeGroup</th>\n",
       "      <th>shapeType</th>\n",
       "      <th>pop_count</th>\n",
       "    </tr>\n",
       "  </thead>\n",
       "  <tbody>\n",
       "    <tr>\n",
       "      <th>6</th>\n",
       "      <td>POLYGON ((103.46924 9.29731, 103.46924 9.31899...</td>\n",
       "      <td>13223003120321</td>\n",
       "      <td>Phu Quoc</td>\n",
       "      <td>None</td>\n",
       "      <td>VNM-ADM2-3_0_0-B967</td>\n",
       "      <td>VNM</td>\n",
       "      <td>ADM2</td>\n",
       "      <td>500.753008</td>\n",
       "    </tr>\n",
       "    <tr>\n",
       "      <th>11</th>\n",
       "      <td>POLYGON ((103.44727 9.29731, 103.44727 9.31899...</td>\n",
       "      <td>13223003120320</td>\n",
       "      <td>Phu Quoc</td>\n",
       "      <td>None</td>\n",
       "      <td>VNM-ADM2-3_0_0-B967</td>\n",
       "      <td>VNM</td>\n",
       "      <td>ADM2</td>\n",
       "      <td>6.106744</td>\n",
       "    </tr>\n",
       "  </tbody>\n",
       "</table>\n",
       "</div>"
      ],
      "text/plain": [
       "                                             geometry         quadkey  \\\n",
       "6   POLYGON ((103.46924 9.29731, 103.46924 9.31899...  13223003120321   \n",
       "11  POLYGON ((103.44727 9.29731, 103.44727 9.31899...  13223003120320   \n",
       "\n",
       "   shapeName shapeISO              shapeID shapeGroup shapeType   pop_count  \n",
       "6   Phu Quoc     None  VNM-ADM2-3_0_0-B967        VNM      ADM2  500.753008  \n",
       "11  Phu Quoc     None  VNM-ADM2-3_0_0-B967        VNM      ADM2    6.106744  "
      ]
     },
     "execution_count": 6,
     "metadata": {},
     "output_type": "execute_result"
    }
   ],
   "source": [
    "admin_grids_gdf.head(2)"
   ]
  },
  {
   "cell_type": "code",
   "execution_count": 7,
   "metadata": {},
   "outputs": [],
   "source": [
    "# Uncomment to view the generated grid on an interactive map\n",
    "# admin_grids_gdf.explore()"
   ]
  },
  {
   "cell_type": "markdown",
   "metadata": {},
   "source": [
    "## Save to file"
   ]
  },
  {
   "cell_type": "code",
   "execution_count": 8,
   "metadata": {},
   "outputs": [],
   "source": [
    "rollout_date = \"-\".join(os.getcwd().split(\"/\")[-2].split(\"-\")[:3])\n",
    "grid_save_path = f\"./{rollout_date}-{COUNTRY_CODE}-rollout-grids.geojson\"\n",
    "admin_grids_gdf.to_file(grid_save_path, driver=\"GeoJSON\", index=False)"
   ]
  }
 ],
 "metadata": {
  "kernelspec": {
   "display_name": "Python 3 (ipykernel)",
   "language": "python",
   "name": "python3"
  },
  "language_info": {
   "codemirror_mode": {
    "name": "ipython",
    "version": 3
   },
   "file_extension": ".py",
   "mimetype": "text/x-python",
   "name": "python",
   "nbconvert_exporter": "python",
   "pygments_lexer": "ipython3",
   "version": "3.9.15"
  },
  "vscode": {
   "interpreter": {
    "hash": "a9c652687746b7e37dd5eba4a53c758a3d21cd9cb60962b6bb30d0de25d1ae14"
   }
  }
 },
 "nbformat": 4,
 "nbformat_minor": 4
}

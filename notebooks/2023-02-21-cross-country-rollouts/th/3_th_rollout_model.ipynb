{
 "cells": [
  {
   "cell_type": "raw",
   "metadata": {},
   "source": [
    "---\n",
    "title: Thailand Model Rollout Part 3 (Feature Engineering and Model Prediction on Rollout Grids)\n",
    "format:\n",
    "  html:\n",
    "    code-fold: false\n",
    "---"
   ]
  },
  {
   "cell_type": "code",
   "execution_count": 1,
   "metadata": {},
   "outputs": [],
   "source": [
    "%matplotlib inline\n",
    "%reload_ext autoreload\n",
    "%autoreload 2"
   ]
  },
  {
   "cell_type": "code",
   "execution_count": 2,
   "metadata": {},
   "outputs": [
    {
     "name": "stderr",
     "output_type": "stream",
     "text": [
      "/home/jace/workspace/unicef-ai4d-poverty-mapping/env/lib/python3.9/site-packages/geopandas/_compat.py:111: UserWarning: The Shapely GEOS version (3.11.1-CAPI-1.17.1) is incompatible with the GEOS version PyGEOS was compiled with (3.10.1-CAPI-1.16.0). Conversions between both will be slow.\n",
      "  warnings.warn(\n"
     ]
    }
   ],
   "source": [
    "import sys\n",
    "import os\n",
    "sys.path.append(\"../../\")\n",
    "\n",
    "import pickle\n",
    "import geopandas as gpd\n",
    "from pathlib import Path\n",
    "import getpass\n",
    "from sklearn.preprocessing import StandardScaler\n",
    "\n",
    "from povertymapping.rollout_grids import get_region_filtered_bingtile_grids \n",
    "from povertymapping import settings, nightlights\n",
    "from povertymapping.iso3 import get_iso3_code\n",
    "from povertymapping.dhs import generate_dhs_cluster_level_data\n",
    "from povertymapping.feature_engineering import generate_features, categorize_wealth_index"
   ]
  },
  {
   "attachments": {},
   "cell_type": "markdown",
   "metadata": {},
   "source": [
    "# Thailand Model Rollout Part 3 (Feature Engineering and Model Prediction on Rollout Grids)\n",
    "\n",
    "This notebook runs the final model to create relative wealth estimations over populated areas within the given country. The model predictions will have a spatial resolution of 2.4km.\n",
    "\n",
    "The `predicted relative wealth` value is calculated as the number of standard deviations away from the overall country-mean DHS wealth index, and gives us the relative wealth level of that area compared to the rest of the country. For example, an area with `y=0` is at the average wealth value, while an area with `y=1` means that it's richer than the average area by 1 standard deviation.\n",
    "\n",
    "The predicted relative wealth value is later binned into 5 wealth categories A-E based on a split quintile approach. "
   ]
  },
  {
   "cell_type": "markdown",
   "metadata": {},
   "source": [
    "## Set up Data Access\n",
    "The following cell will prompt you to enter your EOG username and password. See [this page](https://eogdata.mines.edu/products/register/) to learn how to set-up your EOG account."
   ]
  },
  {
   "cell_type": "code",
   "execution_count": 3,
   "metadata": {},
   "outputs": [
    {
     "name": "stderr",
     "output_type": "stream",
     "text": [
      "2023-03-10 16:48:09.469 | INFO     | povertymapping.nightlights:get_eog_access_token:48 - Saving access_token to ~/.eog_creds/eog_access_token\n",
      "2023-03-10 16:48:09.475 | INFO     | povertymapping.nightlights:get_eog_access_token:56 - Adding access token to environmentt var EOG_ACCESS_TOKEN\n"
     ]
    }
   ],
   "source": [
    "# Log-in using EOG credentials\n",
    "username = os.environ.get('EOG_USER',None)\n",
    "username = username if username is not None else input('Username?')\n",
    "password = os.environ.get('EOG_PASSWORD',None)\n",
    "password = password if password is not None else getpass.getpass('Password?') \n",
    "\n",
    "# set save_token to True so that access token gets stored in ~/.eog_creds/eog_access_token\n",
    "access_token = nightlights.get_eog_access_token(username,password, save_token=True)"
   ]
  },
  {
   "attachments": {},
   "cell_type": "markdown",
   "metadata": {},
   "source": [
    "## Set country-specific parameters"
   ]
  },
  {
   "cell_type": "code",
   "execution_count": 4,
   "metadata": {},
   "outputs": [
    {
     "data": {
      "text/plain": [
       "Path('2023-02-21-th-rollout-grids.geojson')"
      ]
     },
     "execution_count": 4,
     "metadata": {},
     "output_type": "execute_result"
    }
   ],
   "source": [
    "country_osm = \"thailand\"\n",
    "ookla_year = 2019\n",
    "nightlights_year = 2016\n",
    "country_code = get_iso3_code(country_osm, code='alpha-2').lower()\n",
    "rollout_date = '-'.join(os.getcwd().split('/')[-2].split('-')[:3])\n",
    "rollout_grids_path = Path(f'./{rollout_date}-{country_code}-rollout-grids.geojson')\n",
    "rollout_grids_path"
   ]
  },
  {
   "attachments": {},
   "cell_type": "markdown",
   "metadata": {},
   "source": [
    "## Set Model Parameters"
   ]
  },
  {
   "cell_type": "code",
   "execution_count": 5,
   "metadata": {},
   "outputs": [],
   "source": [
    "# Model to use for prediction\n",
    "MODEL_SAVE_PATH = Path(f'../{rollout_date}-cross-country-model.pkl')"
   ]
  },
  {
   "attachments": {},
   "cell_type": "markdown",
   "metadata": {},
   "source": [
    "## Load Country Rollout AOI\n",
    "\n",
    "The rollout area of interest is split into 2.4km grid tiles (zoom level 14), matching the areas used during model training. The grids are also filtered to only include populated areas based on Meta's High Resolution Settlement Layer (HRSL) data.\n",
    "\n",
    "Refer to the previous notebook `2_th_generate_grids.ipynb` for documentation on generating this grid."
   ]
  },
  {
   "cell_type": "code",
   "execution_count": 6,
   "metadata": {},
   "outputs": [],
   "source": [
    "aoi = gpd.read_file(rollout_grids_path)\n",
    "# aoi.explore() # Uncomment to view data in a map "
   ]
  },
  {
   "attachments": {},
   "cell_type": "markdown",
   "metadata": {},
   "source": [
    "## Generate Features For Rollout AOI"
   ]
  },
  {
   "attachments": {},
   "cell_type": "markdown",
   "metadata": {},
   "source": [
    "If this is your first time running this notebook for this specific area, expect a long runtime for the following cell as it will download and cache the required datasets. It will then process the relevant features for each area specified. On subsequent runs, the runtime will be much faster as the data is already stored in your filesystem. "
   ]
  },
  {
   "cell_type": "code",
   "execution_count": 8,
   "metadata": {},
   "outputs": [
    {
     "name": "stderr",
     "output_type": "stream",
     "text": [
      "2023-03-10 16:48:16.651 | INFO     | povertymapping.osm:download_osm_country_data:187 - OSM Data: Cached data available for thailand at /home/jace/.geowrangler/osm/thailand? True\n",
      "2023-03-10 16:48:16.651 | DEBUG    | povertymapping.osm:load_pois:149 - OSM POIs for thailand being loaded from /home/jace/.geowrangler/osm/thailand/gis_osm_pois_free_1.shp\n",
      "2023-03-10 16:48:37.236 | INFO     | povertymapping.osm:download_osm_country_data:187 - OSM Data: Cached data available for thailand at /home/jace/.geowrangler/osm/thailand? True\n",
      "2023-03-10 16:48:37.237 | DEBUG    | povertymapping.osm:load_roads:168 - OSM Roads for thailand being loaded from /home/jace/.geowrangler/osm/thailand/gis_osm_roads_free_1.shp\n",
      "2023-03-10 16:51:02.098 | DEBUG    | povertymapping.ookla:load_type_year_data:68 - Contents of data cache: []\n",
      "2023-03-10 16:51:02.099 | INFO     | povertymapping.ookla:load_type_year_data:83 - Cached data available at /home/jace/.geowrangler/ookla/processed/a1b0aac46095080838ea2380e214d8bd.csv? True\n",
      "2023-03-10 16:51:02.099 | DEBUG    | povertymapping.ookla:load_type_year_data:88 - Processed Ookla data for aoi, fixed 2019 (key: a1b0aac46095080838ea2380e214d8bd) found in filesystem. Loading in cache.\n",
      "2023-03-10 16:51:15.870 | DEBUG    | povertymapping.ookla:load_type_year_data:68 - Contents of data cache: ['a1b0aac46095080838ea2380e214d8bd']\n",
      "2023-03-10 16:51:15.872 | INFO     | povertymapping.ookla:load_type_year_data:83 - Cached data available at /home/jace/.geowrangler/ookla/processed/803c1674d24b36bc0d40cba17078ebd0.csv? True\n",
      "2023-03-10 16:51:15.873 | DEBUG    | povertymapping.ookla:load_type_year_data:88 - Processed Ookla data for aoi, mobile 2019 (key: 803c1674d24b36bc0d40cba17078ebd0) found in filesystem. Loading in cache.\n",
      "2023-03-10 16:51:31.605 | INFO     | povertymapping.nightlights:get_clipped_raster:414 - Retrieving clipped raster file /home/jace/.geowrangler/nightlights/clip/810eb9eb1168d9de7e5c4c4d3453151d.tif\n"
     ]
    },
    {
     "name": "stdout",
     "output_type": "stream",
     "text": [
      "CPU times: user 6min 5s, sys: 2min 2s, total: 8min 7s\n",
      "Wall time: 8min 13s\n"
     ]
    }
   ],
   "source": [
    "%%time\n",
    "scaler = StandardScaler\n",
    "rollout_aoi = aoi.copy()\n",
    "\n",
    "# Create features dataframe using generate_features module\n",
    "features = generate_features(rollout_aoi, country_osm, ookla_year, nightlights_year, scaled_only=True, sklearn_scaler=scaler,features_only=True)"
   ]
  },
  {
   "attachments": {},
   "cell_type": "markdown",
   "metadata": {},
   "source": [
    "## Inspect the generated features"
   ]
  },
  {
   "cell_type": "code",
   "execution_count": 9,
   "metadata": {},
   "outputs": [
    {
     "name": "stdout",
     "output_type": "stream",
     "text": [
      "<class 'geopandas.geodataframe.GeoDataFrame'>\n",
      "Int64Index: 78254 entries, 0 to 78253\n",
      "Data columns (total 61 columns):\n",
      " #   Column                                    Non-Null Count  Dtype  \n",
      "---  ------                                    --------------  -----  \n",
      " 0   poi_count_scaled                          78254 non-null  float64\n",
      " 1   atm_count_scaled                          78254 non-null  float64\n",
      " 2   atm_nearest_scaled                        78254 non-null  float64\n",
      " 3   bank_count_scaled                         78254 non-null  float64\n",
      " 4   bank_nearest_scaled                       78254 non-null  float64\n",
      " 5   bus_station_count_scaled                  78254 non-null  float64\n",
      " 6   bus_station_nearest_scaled                78254 non-null  float64\n",
      " 7   cafe_count_scaled                         78254 non-null  float64\n",
      " 8   cafe_nearest_scaled                       78254 non-null  float64\n",
      " 9   charging_station_count_scaled             78254 non-null  float64\n",
      " 10  charging_station_nearest_scaled           78254 non-null  float64\n",
      " 11  courthouse_count_scaled                   78254 non-null  float64\n",
      " 12  courthouse_nearest_scaled                 78254 non-null  float64\n",
      " 13  dentist_count_scaled                      78254 non-null  float64\n",
      " 14  dentist_nearest_scaled                    78254 non-null  float64\n",
      " 15  fast_food_count_scaled                    78254 non-null  float64\n",
      " 16  fast_food_nearest_scaled                  78254 non-null  float64\n",
      " 17  fire_station_count_scaled                 78254 non-null  float64\n",
      " 18  fire_station_nearest_scaled               78254 non-null  float64\n",
      " 19  food_court_count_scaled                   78254 non-null  float64\n",
      " 20  food_court_nearest_scaled                 78254 non-null  float64\n",
      " 21  fuel_count_scaled                         78254 non-null  float64\n",
      " 22  fuel_nearest_scaled                       78254 non-null  float64\n",
      " 23  hospital_count_scaled                     78254 non-null  float64\n",
      " 24  hospital_nearest_scaled                   78254 non-null  float64\n",
      " 25  library_count_scaled                      78254 non-null  float64\n",
      " 26  library_nearest_scaled                    78254 non-null  float64\n",
      " 27  marketplace_count_scaled                  78254 non-null  float64\n",
      " 28  marketplace_nearest_scaled                78254 non-null  float64\n",
      " 29  pharmacy_count_scaled                     78254 non-null  float64\n",
      " 30  pharmacy_nearest_scaled                   78254 non-null  float64\n",
      " 31  police_count_scaled                       78254 non-null  float64\n",
      " 32  police_nearest_scaled                     78254 non-null  float64\n",
      " 33  post_box_count_scaled                     78254 non-null  float64\n",
      " 34  post_box_nearest_scaled                   78254 non-null  float64\n",
      " 35  post_office_count_scaled                  78254 non-null  float64\n",
      " 36  post_office_nearest_scaled                78254 non-null  float64\n",
      " 37  restaurant_count_scaled                   78254 non-null  float64\n",
      " 38  restaurant_nearest_scaled                 78254 non-null  float64\n",
      " 39  social_facility_count_scaled              78254 non-null  float64\n",
      " 40  social_facility_nearest_scaled            78254 non-null  float64\n",
      " 41  supermarket_count_scaled                  78254 non-null  float64\n",
      " 42  supermarket_nearest_scaled                78254 non-null  float64\n",
      " 43  townhall_count_scaled                     78254 non-null  float64\n",
      " 44  townhall_nearest_scaled                   78254 non-null  float64\n",
      " 45  road_count_scaled                         78254 non-null  float64\n",
      " 46  fixed_2019_mean_avg_d_kbps_mean_scaled    78254 non-null  float64\n",
      " 47  fixed_2019_mean_avg_u_kbps_mean_scaled    78254 non-null  float64\n",
      " 48  fixed_2019_mean_avg_lat_ms_mean_scaled    78254 non-null  float64\n",
      " 49  fixed_2019_mean_num_tests_mean_scaled     78254 non-null  float64\n",
      " 50  fixed_2019_mean_num_devices_mean_scaled   78254 non-null  float64\n",
      " 51  mobile_2019_mean_avg_d_kbps_mean_scaled   78254 non-null  float64\n",
      " 52  mobile_2019_mean_avg_u_kbps_mean_scaled   78254 non-null  float64\n",
      " 53  mobile_2019_mean_avg_lat_ms_mean_scaled   78254 non-null  float64\n",
      " 54  mobile_2019_mean_num_tests_mean_scaled    78254 non-null  float64\n",
      " 55  mobile_2019_mean_num_devices_mean_scaled  78254 non-null  float64\n",
      " 56  avg_rad_min_scaled                        78254 non-null  float64\n",
      " 57  avg_rad_max_scaled                        78254 non-null  float64\n",
      " 58  avg_rad_mean_scaled                       78254 non-null  float64\n",
      " 59  avg_rad_std_scaled                        78254 non-null  float64\n",
      " 60  avg_rad_median_scaled                     78254 non-null  float64\n",
      "dtypes: float64(61)\n",
      "memory usage: 39.0 MB\n"
     ]
    }
   ],
   "source": [
    "features.info()"
   ]
  },
  {
   "attachments": {},
   "cell_type": "markdown",
   "metadata": {},
   "source": [
    "## Run Model on AOI"
   ]
  },
  {
   "attachments": {},
   "cell_type": "markdown",
   "metadata": {},
   "source": [
    "### Load Model"
   ]
  },
  {
   "cell_type": "code",
   "execution_count": 10,
   "metadata": {},
   "outputs": [],
   "source": [
    "with open(MODEL_SAVE_PATH,'rb') as f:\n",
    "    model = pickle.load(f)"
   ]
  },
  {
   "attachments": {},
   "cell_type": "markdown",
   "metadata": {},
   "source": [
    "### Make Predictions"
   ]
  },
  {
   "cell_type": "code",
   "execution_count": 11,
   "metadata": {},
   "outputs": [],
   "source": [
    "rollout_aoi['Predicted Relative Wealth Index'] = model.predict(features.values)"
   ]
  },
  {
   "attachments": {},
   "cell_type": "markdown",
   "metadata": {},
   "source": [
    "### Inspect predicted wealth index and output dataframe"
   ]
  },
  {
   "cell_type": "code",
   "execution_count": 12,
   "metadata": {},
   "outputs": [
    {
     "data": {
      "text/plain": [
       "array([[<AxesSubplot: title={'center': 'Predicted Relative Wealth Index'}>]],\n",
       "      dtype=object)"
      ]
     },
     "execution_count": 12,
     "metadata": {},
     "output_type": "execute_result"
    },
    {
     "data": {
      "image/png": "[encoded data removed]",
      "text/plain": [
       "<Figure size 640x480 with 1 Axes>"
      ]
     },
     "metadata": {},
     "output_type": "display_data"
    }
   ],
   "source": [
    "rollout_aoi[['Predicted Relative Wealth Index']].hist()"
   ]
  },
  {
   "cell_type": "code",
   "execution_count": null,
   "metadata": {},
   "outputs": [],
   "source": [
    "rollout_aoi.explore(column='Predicted Relative Wealth Index')"
   ]
  },
  {
   "attachments": {},
   "cell_type": "markdown",
   "metadata": {},
   "source": [
    "The Predicted Relative Wealth Index map should look like this\n",
    "\n",
    "![image info](./2023-02-21-th-predicted-wealth-index.PNG)"
   ]
  },
  {
   "cell_type": "code",
   "execution_count": 14,
   "metadata": {},
   "outputs": [
    {
     "data": {
      "text/html": [
       "<div>\n",
       "<style scoped>\n",
       "    .dataframe tbody tr th:only-of-type {\n",
       "        vertical-align: middle;\n",
       "    }\n",
       "\n",
       "    .dataframe tbody tr th {\n",
       "        vertical-align: top;\n",
       "    }\n",
       "\n",
       "    .dataframe thead th {\n",
       "        text-align: right;\n",
       "    }\n",
       "</style>\n",
       "<table border=\"1\" class=\"dataframe\">\n",
       "  <thead>\n",
       "    <tr style=\"text-align: right;\">\n",
       "      <th></th>\n",
       "      <th>quadkey</th>\n",
       "      <th>shapeName</th>\n",
       "      <th>shapeISO</th>\n",
       "      <th>shapeID</th>\n",
       "      <th>shapeGroup</th>\n",
       "      <th>shapeType</th>\n",
       "      <th>pop_count</th>\n",
       "      <th>geometry</th>\n",
       "      <th>Predicted Relative Wealth Index</th>\n",
       "    </tr>\n",
       "  </thead>\n",
       "  <tbody>\n",
       "    <tr>\n",
       "      <th>0</th>\n",
       "      <td>13222121311300</td>\n",
       "      <td>Mueang Phuket</td>\n",
       "      <td>None</td>\n",
       "      <td>THA-ADM2-3_0_0-B565</td>\n",
       "      <td>THA</td>\n",
       "      <td>ADM2</td>\n",
       "      <td>755.127425</td>\n",
       "      <td>POLYGON ((98.34961 7.60211, 98.34961 7.62389, ...</td>\n",
       "      <td>1.111293</td>\n",
       "    </tr>\n",
       "    <tr>\n",
       "      <th>1</th>\n",
       "      <td>13222121311301</td>\n",
       "      <td>Mueang Phuket</td>\n",
       "      <td>None</td>\n",
       "      <td>THA-ADM2-3_0_0-B565</td>\n",
       "      <td>THA</td>\n",
       "      <td>ADM2</td>\n",
       "      <td>449.253025</td>\n",
       "      <td>POLYGON ((98.37158 7.60211, 98.37158 7.62389, ...</td>\n",
       "      <td>0.522908</td>\n",
       "    </tr>\n",
       "    <tr>\n",
       "      <th>2</th>\n",
       "      <td>13222121311303</td>\n",
       "      <td>Mueang Phuket</td>\n",
       "      <td>None</td>\n",
       "      <td>THA-ADM2-3_0_0-B565</td>\n",
       "      <td>THA</td>\n",
       "      <td>ADM2</td>\n",
       "      <td>19.117150</td>\n",
       "      <td>POLYGON ((98.37158 7.58033, 98.37158 7.60211, ...</td>\n",
       "      <td>0.586077</td>\n",
       "    </tr>\n",
       "    <tr>\n",
       "      <th>3</th>\n",
       "      <td>13222121133321</td>\n",
       "      <td>Mueang Phuket</td>\n",
       "      <td>None</td>\n",
       "      <td>THA-ADM2-3_0_0-B565</td>\n",
       "      <td>THA</td>\n",
       "      <td>ADM2</td>\n",
       "      <td>305.874400</td>\n",
       "      <td>POLYGON ((98.37158 7.73277, 98.37158 7.75454, ...</td>\n",
       "      <td>0.531654</td>\n",
       "    </tr>\n",
       "    <tr>\n",
       "      <th>4</th>\n",
       "      <td>13222121133213</td>\n",
       "      <td>Mueang Phuket</td>\n",
       "      <td>None</td>\n",
       "      <td>THA-ADM2-3_0_0-B565</td>\n",
       "      <td>THA</td>\n",
       "      <td>ADM2</td>\n",
       "      <td>305.874400</td>\n",
       "      <td>POLYGON ((98.32764 7.75454, 98.32764 7.77631, ...</td>\n",
       "      <td>0.743781</td>\n",
       "    </tr>\n",
       "  </tbody>\n",
       "</table>\n",
       "</div>"
      ],
      "text/plain": [
       "          quadkey      shapeName shapeISO              shapeID shapeGroup  \\\n",
       "0  13222121311300  Mueang Phuket     None  THA-ADM2-3_0_0-B565        THA   \n",
       "1  13222121311301  Mueang Phuket     None  THA-ADM2-3_0_0-B565        THA   \n",
       "2  13222121311303  Mueang Phuket     None  THA-ADM2-3_0_0-B565        THA   \n",
       "3  13222121133321  Mueang Phuket     None  THA-ADM2-3_0_0-B565        THA   \n",
       "4  13222121133213  Mueang Phuket     None  THA-ADM2-3_0_0-B565        THA   \n",
       "\n",
       "  shapeType   pop_count                                           geometry  \\\n",
       "0      ADM2  755.127425  POLYGON ((98.34961 7.60211, 98.34961 7.62389, ...   \n",
       "1      ADM2  449.253025  POLYGON ((98.37158 7.60211, 98.37158 7.62389, ...   \n",
       "2      ADM2   19.117150  POLYGON ((98.37158 7.58033, 98.37158 7.60211, ...   \n",
       "3      ADM2  305.874400  POLYGON ((98.37158 7.73277, 98.37158 7.75454, ...   \n",
       "4      ADM2  305.874400  POLYGON ((98.32764 7.75454, 98.32764 7.77631, ...   \n",
       "\n",
       "   Predicted Relative Wealth Index  \n",
       "0                         1.111293  \n",
       "1                         0.522908  \n",
       "2                         0.586077  \n",
       "3                         0.531654  \n",
       "4                         0.743781  "
      ]
     },
     "execution_count": 14,
     "metadata": {},
     "output_type": "execute_result"
    }
   ],
   "source": [
    "rollout_aoi.head()"
   ]
  },
  {
   "cell_type": "code",
   "execution_count": 15,
   "metadata": {},
   "outputs": [
    {
     "name": "stdout",
     "output_type": "stream",
     "text": [
      "<class 'geopandas.geodataframe.GeoDataFrame'>\n",
      "RangeIndex: 78254 entries, 0 to 78253\n",
      "Data columns (total 9 columns):\n",
      " #   Column                           Non-Null Count  Dtype   \n",
      "---  ------                           --------------  -----   \n",
      " 0   quadkey                          78254 non-null  object  \n",
      " 1   shapeName                        78254 non-null  object  \n",
      " 2   shapeISO                         78254 non-null  object  \n",
      " 3   shapeID                          78254 non-null  object  \n",
      " 4   shapeGroup                       78254 non-null  object  \n",
      " 5   shapeType                        78254 non-null  object  \n",
      " 6   pop_count                        78254 non-null  float64 \n",
      " 7   geometry                         78254 non-null  geometry\n",
      " 8   Predicted Relative Wealth Index  78254 non-null  float64 \n",
      "dtypes: float64(2), geometry(1), object(6)\n",
      "memory usage: 5.4+ MB\n"
     ]
    }
   ],
   "source": [
    "rollout_aoi.info()"
   ]
  },
  {
   "attachments": {},
   "cell_type": "markdown",
   "metadata": {},
   "source": [
    "## Binning predictions into wealth categories\n",
    "\n",
    "Afterwards, we label the predicted relative wealth by binning them into 5 categories \n",
    "\n",
    "|Category |Description| \n",
    "|---|-----------------| \n",
    "| A | high income | \n",
    "| B | mid-high income | \n",
    "| C | middle income | \n",
    "| D | mid-low income | \n",
    "| E | low income |\n",
    "\n",
    "We can create these wealth categories in two ways, both of which are provided in the output dataset. \n",
    "- `Predicted Wealth Category (quintile)`: Categories derived by splitting the output `Predicted Relative Wealth Index` distribution into 5 equally sized quintiles\n",
    "- `Predicted Wealth Category (split-quintile)`: Categories derived using the **split quintiles** approach described below. This preserves the realities of unequal wealth distribution by accounting for distance from the mean wealth level `y = 0`. \n",
    "\n",
    "**Split-quintile approach**\n",
    "1. Generate this by identifying two splits first, a) `Predicted Relative Wealth Index > 0` (above average wealth) and b) `Predicted Relative Wealth Index < 0` (below average wealth).\n",
    "2. Generate quintiles for each of the two initial splits.\n",
    "3. Take every 2 quintiles as one wealth bin.\n",
    "\n",
    "\n",
    "![alt](../../../assets/split%20quintile%20approach.png)\n",
    "\n"
   ]
  },
  {
   "attachments": {},
   "cell_type": "markdown",
   "metadata": {},
   "source": [
    "### Calculate equal-quintile wealth category"
   ]
  },
  {
   "cell_type": "code",
   "execution_count": 16,
   "metadata": {},
   "outputs": [],
   "source": [
    "rollout_aoi[\"Predicted Wealth Category (quintile)\"] = categorize_wealth_index(\n",
    "    rollout_aoi[\"Predicted Relative Wealth Index\"], split_quantile=False\n",
    ").astype(str)\n"
   ]
  },
  {
   "cell_type": "code",
   "execution_count": null,
   "metadata": {},
   "outputs": [],
   "source": [
    "rollout_aoi.explore(\n",
    "    column = 'Predicted Wealth Category (quintile)',\n",
    "    cmap = 'viridis_r' # _r suffix reverses the colormap\n",
    ")"
   ]
  },
  {
   "attachments": {},
   "cell_type": "markdown",
   "metadata": {},
   "source": [
    "### Calculate split-quintile wealth category"
   ]
  },
  {
   "cell_type": "code",
   "execution_count": 18,
   "metadata": {},
   "outputs": [
    {
     "name": "stdout",
     "output_type": "stream",
     "text": [
      "[-0.6916398277794594, -0.28579012701050305, -0.08677797641050998, 0.19247229003683683, 0.6580743859449736, 2.4913089610046653]\n"
     ]
    }
   ],
   "source": [
    "rollout_aoi[\"Predicted Wealth Category (split-quintile)\"] = categorize_wealth_index(\n",
    "    rollout_aoi[\"Predicted Relative Wealth Index\"], split_quantile=True\n",
    ")\n"
   ]
  },
  {
   "cell_type": "code",
   "execution_count": null,
   "metadata": {},
   "outputs": [],
   "source": [
    "rollout_aoi.explore(\n",
    "    column = 'Predicted Wealth Category (split-quintile)',\n",
    "    cmap = 'viridis_r' # _r suffix reverses the colormap\n",
    ")"
   ]
  },
  {
   "attachments": {},
   "cell_type": "markdown",
   "metadata": {},
   "source": [
    "## Save output"
   ]
  },
  {
   "cell_type": "code",
   "execution_count": 20,
   "metadata": {},
   "outputs": [
    {
     "name": "stdout",
     "output_type": "stream",
     "text": [
      "CPU times: user 28.3 s, sys: 781 ms, total: 29.1 s\n",
      "Wall time: 32.2 s\n"
     ]
    }
   ],
   "source": [
    "%%time\n",
    "rollout_aoi.to_file(f'{rollout_date}-{country_code}-rollout-output.geojson', driver='GeoJSON', index=False)"
   ]
  },
  {
   "cell_type": "code",
   "execution_count": null,
   "metadata": {},
   "outputs": [],
   "source": []
  }
 ],
 "metadata": {
  "kernelspec": {
   "display_name": "Python 3",
   "language": "python",
   "name": "python3"
  },
  "language_info": {
   "codemirror_mode": {
    "name": "ipython",
    "version": 3
   },
   "file_extension": ".py",
   "mimetype": "text/x-python",
   "name": "python",
   "nbconvert_exporter": "python",
   "pygments_lexer": "ipython3",
   "version": "3.9.15"
  },
  "orig_nbformat": 4
 },
 "nbformat": 4,
 "nbformat_minor": 2
}

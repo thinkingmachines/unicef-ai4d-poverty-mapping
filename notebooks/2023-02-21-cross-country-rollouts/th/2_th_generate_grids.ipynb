{
 "cells": [
  {
   "cell_type": "raw",
   "metadata": {},
   "source": [
    "---\n",
    "title: Generate rollout grids\n",
    "format:\n",
    "  html:\n",
    "    code-fold: false\n",
    "---"
   ]
  },
  {
   "cell_type": "code",
   "execution_count": 1,
   "metadata": {},
   "outputs": [],
   "source": [
    "%matplotlib inline\n",
    "%reload_ext autoreload\n",
    "%autoreload 2"
   ]
  },
  {
   "cell_type": "code",
   "execution_count": 2,
   "metadata": {},
   "outputs": [
    {
     "name": "stderr",
     "output_type": "stream",
     "text": [
      "/home/jace/workspace/unicef-ai4d-relative-wealth/env/lib/python3.9/site-packages/geopandas/_compat.py:111: UserWarning: The Shapely GEOS version (3.11.1-CAPI-1.17.1) is incompatible with the GEOS version PyGEOS was compiled with (3.10.1-CAPI-1.16.0). Conversions between both will be slow.\n",
      "  warnings.warn(\n"
     ]
    }
   ],
   "source": [
    "import sys\n",
    "\n",
    "sys.path.append(\"../../../\")\n",
    "import os\n",
    "from pathlib import Path\n",
    "\n",
    "import geopandas as gpd\n",
    "import pandas as pd\n",
    "\n",
    "from povertymapping.iso3 import get_region_name\n",
    "from povertymapping.rollout_grids import get_region_filtered_bingtile_grids"
   ]
  },
  {
   "attachments": {},
   "cell_type": "markdown",
   "metadata": {},
   "source": [
    "# Generate Rollout Grids: Thailand\n",
    "\n",
    "This notebook is the second step in the rollout and generates the rollout grid tiles over the country. The output file is used as an input for Step 3, where we will run the trained model over the set of grids.\n",
    "\n",
    "The generated grids are set at 2.4km (zoom level 14), matching the grids used during model training. The grids are also filtered to only include populated areas based on Meta's High Resolution Settlement Layer (HRSL) data."
   ]
  },
  {
   "attachments": {},
   "cell_type": "markdown",
   "metadata": {},
   "source": [
    "## Set country-specific parameters"
   ]
  },
  {
   "cell_type": "code",
   "execution_count": 3,
   "metadata": {},
   "outputs": [],
   "source": [
    "COUNTRY_CODE = \"th\"\n",
    "REGION = get_region_name(COUNTRY_CODE, code=\"alpha-2\").lower()\n",
    "ADMIN_LVL = \"ADM2\"\n",
    "ZOOM_LEVEL = 14"
   ]
  },
  {
   "attachments": {},
   "cell_type": "markdown",
   "metadata": {},
   "source": [
    "## Generate Grids"
   ]
  },
  {
   "cell_type": "code",
   "execution_count": 6,
   "metadata": {},
   "outputs": [
    {
     "name": "stderr",
     "output_type": "stream",
     "text": [
      "2023-03-09 18:01:04.437 | INFO     | povertymapping.rollout_grids:get_region_filtered_bingtile_grids:264 - No cached grids file found. Generating grids file :/home/jace/.cache/geowrangler/quadkey_grids/thailand_14_ADM2_populated_admin_grids.geojson\n",
      "2023-03-09 18:01:04.440 | DEBUG    | povertymapping.rollout_grids:get_region_filtered_bingtile_grids:281 - Loading boundaries for region thailand and admin level ADM2\n",
      "2023-03-09 18:01:08.440 | INFO     | povertymapping.rollout_grids:get_region_filtered_bingtile_grids:287 - Generating grids for region thailand and admin level ADM2 at quadkey level 14\n"
     ]
    },
    {
     "data": {
      "text/html": [
       "\n",
       "<style>\n",
       "    /* Turns off some styling */\n",
       "    progress {\n",
       "        /* gets rid of default border in Firefox and Opera. */\n",
       "        border: none;\n",
       "        /* Needs to be in here for Safari polyfill so background images work as expected. */\n",
       "        background-size: auto;\n",
       "    }\n",
       "    progress:not([value]), progress:not([value])::-webkit-progress-bar {\n",
       "        background: repeating-linear-gradient(45deg, #7e7e7e, #7e7e7e 10px, #5c5c5c 10px, #5c5c5c 20px);\n",
       "    }\n",
       "    .progress-bar-interrupted, .progress-bar-interrupted::-webkit-progress-bar {\n",
       "        background: #F44336;\n",
       "    }\n",
       "</style>\n"
      ],
      "text/plain": [
       "<IPython.core.display.HTML object>"
      ]
     },
     "metadata": {},
     "output_type": "display_data"
    },
    {
     "name": "stderr",
     "output_type": "stream",
     "text": [
      "2023-03-09 18:02:20.157 | INFO     | povertymapping.rollout_grids:get_region_filtered_bingtile_grids:293 - Generated 96111 grids for region thailand and admin level ADM2 at quadkey level 14\n",
      "2023-03-09 18:02:20.176 | INFO     | povertymapping.rollout_grids:get_region_filtered_bingtile_grids:299 - Assigning grids to admin areas using metric crs epsg:3857\n",
      "2023-03-09 18:02:37.709 | INFO     | povertymapping.rollout_grids:get_region_filtered_bingtile_grids:305 - Getting thailand population data for filtering grids\n",
      "2023-03-09 18:02:38.985 | INFO     | povertymapping.rollout_grids:get_region_filtered_bingtile_grids:307 - Computing population zonal stats per grid\n",
      "2023-03-09 18:02:38.986 | INFO     | povertymapping.rollout_grids:compute_raster_stats:98 - Creating raster zonal stats for 96111 grids for file size 14930842124\n",
      "2023-03-09 18:24:51.892 | INFO     | povertymapping.rollout_grids:get_region_filtered_bingtile_grids:318 - Filtering unpopulated grids based on population data\n",
      "2023-03-09 18:24:52.009 | INFO     | povertymapping.rollout_grids:get_region_filtered_bingtile_grids:321 - Filtered admin grid count: 78254\n",
      "/home/jace/workspace/unicef-ai4d-relative-wealth/env/lib/python3.9/site-packages/geopandas/io/file.py:362: FutureWarning: pandas.Int64Index is deprecated and will be removed from pandas in a future version. Use pandas.Index with the appropriate dtype instead.\n",
      "  pd.Int64Index,\n"
     ]
    }
   ],
   "source": [
    "admin_grids_gdf = get_region_filtered_bingtile_grids(\n",
    "    REGION, admin_lvl=ADMIN_LVL, quadkey_lvl=ZOOM_LEVEL, use_cache=True\n",
    ")"
   ]
  },
  {
   "attachments": {},
   "cell_type": "markdown",
   "metadata": {},
   "source": [
    "## Explore Populated Grids"
   ]
  },
  {
   "cell_type": "code",
   "execution_count": 7,
   "metadata": {},
   "outputs": [
    {
     "name": "stdout",
     "output_type": "stream",
     "text": [
      "<class 'geopandas.geodataframe.GeoDataFrame'>\n",
      "Int64Index: 78254 entries, 4 to 96110\n",
      "Data columns (total 8 columns):\n",
      " #   Column      Non-Null Count  Dtype   \n",
      "---  ------      --------------  -----   \n",
      " 0   geometry    78254 non-null  geometry\n",
      " 1   quadkey     78254 non-null  object  \n",
      " 2   shapeName   78254 non-null  object  \n",
      " 3   shapeISO    78254 non-null  object  \n",
      " 4   shapeID     78254 non-null  object  \n",
      " 5   shapeGroup  78254 non-null  object  \n",
      " 6   shapeType   78254 non-null  object  \n",
      " 7   pop_count   78254 non-null  float64 \n",
      "dtypes: float64(1), geometry(1), object(6)\n",
      "memory usage: 5.4+ MB\n"
     ]
    }
   ],
   "source": [
    "admin_grids_gdf.info()"
   ]
  },
  {
   "cell_type": "code",
   "execution_count": 8,
   "metadata": {},
   "outputs": [
    {
     "data": {
      "text/html": [
       "<div>\n",
       "<style scoped>\n",
       "    .dataframe tbody tr th:only-of-type {\n",
       "        vertical-align: middle;\n",
       "    }\n",
       "\n",
       "    .dataframe tbody tr th {\n",
       "        vertical-align: top;\n",
       "    }\n",
       "\n",
       "    .dataframe thead th {\n",
       "        text-align: right;\n",
       "    }\n",
       "</style>\n",
       "<table border=\"1\" class=\"dataframe\">\n",
       "  <thead>\n",
       "    <tr style=\"text-align: right;\">\n",
       "      <th></th>\n",
       "      <th>geometry</th>\n",
       "      <th>quadkey</th>\n",
       "      <th>shapeName</th>\n",
       "      <th>shapeISO</th>\n",
       "      <th>shapeID</th>\n",
       "      <th>shapeGroup</th>\n",
       "      <th>shapeType</th>\n",
       "      <th>pop_count</th>\n",
       "    </tr>\n",
       "  </thead>\n",
       "  <tbody>\n",
       "    <tr>\n",
       "      <th>4</th>\n",
       "      <td>POLYGON ((98.34961 7.60211, 98.34961 7.62389, ...</td>\n",
       "      <td>13222121311300</td>\n",
       "      <td>Mueang Phuket</td>\n",
       "      <td>None</td>\n",
       "      <td>THA-ADM2-3_0_0-B565</td>\n",
       "      <td>THA</td>\n",
       "      <td>ADM2</td>\n",
       "      <td>755.127425</td>\n",
       "    </tr>\n",
       "    <tr>\n",
       "      <th>6</th>\n",
       "      <td>POLYGON ((98.37158 7.60211, 98.37158 7.62389, ...</td>\n",
       "      <td>13222121311301</td>\n",
       "      <td>Mueang Phuket</td>\n",
       "      <td>None</td>\n",
       "      <td>THA-ADM2-3_0_0-B565</td>\n",
       "      <td>THA</td>\n",
       "      <td>ADM2</td>\n",
       "      <td>449.253025</td>\n",
       "    </tr>\n",
       "  </tbody>\n",
       "</table>\n",
       "</div>"
      ],
      "text/plain": [
       "                                            geometry         quadkey  \\\n",
       "4  POLYGON ((98.34961 7.60211, 98.34961 7.62389, ...  13222121311300   \n",
       "6  POLYGON ((98.37158 7.60211, 98.37158 7.62389, ...  13222121311301   \n",
       "\n",
       "       shapeName shapeISO              shapeID shapeGroup shapeType  \\\n",
       "4  Mueang Phuket     None  THA-ADM2-3_0_0-B565        THA      ADM2   \n",
       "6  Mueang Phuket     None  THA-ADM2-3_0_0-B565        THA      ADM2   \n",
       "\n",
       "    pop_count  \n",
       "4  755.127425  \n",
       "6  449.253025  "
      ]
     },
     "execution_count": 8,
     "metadata": {},
     "output_type": "execute_result"
    }
   ],
   "source": [
    "admin_grids_gdf.head(2)"
   ]
  },
  {
   "cell_type": "code",
   "execution_count": null,
   "metadata": {},
   "outputs": [],
   "source": [
    "# Uncomment to view the generated grid on an interactive map\n",
    "# admin_grids_gdf.explore()"
   ]
  },
  {
   "attachments": {},
   "cell_type": "markdown",
   "metadata": {},
   "source": [
    "## Save to file"
   ]
  },
  {
   "cell_type": "code",
   "execution_count": null,
   "metadata": {},
   "outputs": [],
   "source": [
    "rollout_date = \"-\".join(os.getcwd().split(\"/\")[-2].split(\"-\")[:3])\n",
    "grid_save_path = f\"./{rollout_date}-{COUNTRY_CODE}-rollout-grids.geojson\"\n",
    "admin_grids_gdf.to_file(grid_save_path, driver=\"GeoJSON\", index=False)"
   ]
  }
 ],
 "metadata": {
  "kernelspec": {
   "display_name": "Python 3",
   "language": "python",
   "name": "python3"
  },
  "language_info": {
   "codemirror_mode": {
    "name": "ipython",
    "version": 3
   },
   "file_extension": ".py",
   "mimetype": "text/x-python",
   "name": "python",
   "nbconvert_exporter": "python",
   "pygments_lexer": "ipython3",
   "version": "3.9.15"
  },
  "orig_nbformat": 4,
  "vscode": {
   "interpreter": {
    "hash": "a9c652687746b7e37dd5eba4a53c758a3d21cd9cb60962b6bb30d0de25d1ae14"
   }
  }
 },
 "nbformat": 4,
 "nbformat_minor": 2
}

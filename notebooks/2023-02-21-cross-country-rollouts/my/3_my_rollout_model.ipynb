{
 "cells": [
  {
   "cell_type": "raw",
   "metadata": {},
   "source": [
    "---\n",
    "title: Malaysia Model Rollout Part 3 (Feature Engineering and Model Prediction on Rollout Grids)\n",
    "format:\n",
    "  html:\n",
    "    code-fold: false\n",
    "---"
   ]
  },
  {
   "cell_type": "code",
   "execution_count": 1,
   "metadata": {},
   "outputs": [],
   "source": [
    "%matplotlib inline\n",
    "%reload_ext autoreload\n",
    "%autoreload 2"
   ]
  },
  {
   "cell_type": "code",
   "execution_count": 15,
   "metadata": {},
   "outputs": [],
   "source": [
    "import sys\n",
    "import os\n",
    "sys.path.append(\"../../\")\n",
    "\n",
    "import pickle\n",
    "import geopandas as gpd\n",
    "from pathlib import Path\n",
    "import getpass\n",
    "from sklearn.preprocessing import StandardScaler\n",
    "\n",
    "from povertymapping.rollout_grids import get_region_filtered_bingtile_grids \n",
    "from povertymapping import settings, nightlights\n",
    "from povertymapping.iso3 import get_iso3_code\n",
    "from povertymapping.dhs import generate_dhs_cluster_level_data\n",
    "from povertymapping.feature_engineering import generate_features, categorize_wealth_index"
   ]
  },
  {
   "attachments": {},
   "cell_type": "markdown",
   "metadata": {},
   "source": [
    "# Malaysia Model Rollout Part 3 (Feature Engineering and Model Prediction on Rollout Grids)\n",
    "\n",
    "This notebook runs the final model to create relative wealth estimations over populated areas within the given country. The model predictions will have a spatial resolution of 2.4km.\n",
    "\n",
    "The `predicted relative wealth` value is calculated as the number of standard deviations away from the overall country-mean DHS wealth index, and gives us the relative wealth level of that area compared to the rest of the country. For example, an area with `y=0` is at the average wealth value, while an area with `y=1` means that it's richer than the average area by 1 standard deviation.\n",
    "\n",
    "The predicted relative wealth value is later binned into 5 wealth categories A-E based on a split quintile approach. "
   ]
  },
  {
   "cell_type": "markdown",
   "metadata": {},
   "source": [
    "## Set up Data Access\n",
    "The following cell will prompt you to enter your EOG username and password. See [this page](https://eogdata.mines.edu/products/register/) to learn how to set-up your EOG account."
   ]
  },
  {
   "cell_type": "code",
   "execution_count": 3,
   "metadata": {},
   "outputs": [
    {
     "name": "stderr",
     "output_type": "stream",
     "text": [
      "2023-03-10 00:59:04.748 | INFO     | povertymapping.nightlights:get_eog_access_token:48 - Saving access_token to ~/.eog_creds/eog_access_token\n",
      "2023-03-10 00:59:04.751 | INFO     | povertymapping.nightlights:get_eog_access_token:56 - Adding access token to environmentt var EOG_ACCESS_TOKEN\n"
     ]
    }
   ],
   "source": [
    "# Log-in using EOG credentials\n",
    "username = os.environ.get('EOG_USER',None)\n",
    "username = username if username is not None else input('Username?')\n",
    "password = os.environ.get('EOG_PASSWORD',None)\n",
    "password = password if password is not None else getpass.getpass('Password?') \n",
    "\n",
    "# set save_token to True so that access token gets stored in ~/.eog_creds/eog_access_token\n",
    "access_token = nightlights.get_eog_access_token(username,password, save_token=True)"
   ]
  },
  {
   "attachments": {},
   "cell_type": "markdown",
   "metadata": {},
   "source": [
    "## Set country-specific parameters"
   ]
  },
  {
   "cell_type": "code",
   "execution_count": 17,
   "metadata": {},
   "outputs": [
    {
     "data": {
      "text/plain": [
       "Path('2023-02-21-my-rollout-grids.geojson')"
      ]
     },
     "execution_count": 17,
     "metadata": {},
     "output_type": "execute_result"
    }
   ],
   "source": [
    "country_osm = \"malaysia\"\n",
    "ookla_year = 2019\n",
    "nightlights_year = 2016\n",
    "country_code = get_iso3_code(country_osm, code='alpha-2').lower()\n",
    "rollout_date = '-'.join(os.getcwd().split('/')[-2].split('-')[:3])\n",
    "rollout_grids_path = Path(f'./{rollout_date}-{country_code}-rollout-grids.geojson')\n",
    "rollout_grids_path"
   ]
  },
  {
   "attachments": {},
   "cell_type": "markdown",
   "metadata": {},
   "source": [
    "## Set Model Parameters"
   ]
  },
  {
   "cell_type": "code",
   "execution_count": 10,
   "metadata": {},
   "outputs": [],
   "source": [
    "# Model to use for prediction\n",
    "MODEL_SAVE_PATH = Path(f'../{rollout_date}-cross-country-model.pkl')"
   ]
  },
  {
   "attachments": {},
   "cell_type": "markdown",
   "metadata": {},
   "source": [
    "## Load Country Rollout AOI\n",
    "\n",
    "The rollout area of interest is split into 2.4km grid tiles (zoom level 14), matching the areas used during model training. The grids are also filtered to only include populated areas based on Meta's High Resolution Settlement Layer (HRSL) data.\n",
    "\n",
    "Refer to the previous notebook `2_my_generate_grids.ipynb` for documentation on generating this grid."
   ]
  },
  {
   "cell_type": "code",
   "execution_count": 11,
   "metadata": {},
   "outputs": [],
   "source": [
    "aoi = gpd.read_file(rollout_grids_path)\n",
    "# aoi.explore() # Uncomment to view data in a map "
   ]
  },
  {
   "attachments": {},
   "cell_type": "markdown",
   "metadata": {},
   "source": [
    "## Generate Features For Rollout AOI"
   ]
  },
  {
   "attachments": {},
   "cell_type": "markdown",
   "metadata": {},
   "source": [
    "If this is your first time running this notebook for this specific area, expect a long runtime for the following cell as it will download and cache the required datasets. It will then process the relevant features for each area specified. On subsequent runs, the runtime will be much faster as the data is already stored in your filesystem. "
   ]
  },
  {
   "cell_type": "code",
   "execution_count": 19,
   "metadata": {},
   "outputs": [
    {
     "name": "stderr",
     "output_type": "stream",
     "text": [
      "2023-03-10 01:11:57.060 | INFO     | povertymapping.osm:download_osm_country_data:187 - OSM Data: Cached data available for malaysia at /home/jace/.geowrangler/osm/malaysia? False\n",
      "2023-03-10 01:11:57.060 | INFO     | povertymapping.osm:download_osm_country_data:193 - OSM Data: Re-initializing OSM country cache dir at /home/jace/.geowrangler/osm/malaysia...\n",
      "2023-03-10 01:11:57.063 | INFO     | povertymapping.osm:download_osm_country_data:201 - OSM Data: Downloading Geofabrik zip file...\n",
      "2023-03-10 01:11:57.060 | INFO     | povertymapping.osm:download_osm_country_data:193 - OSM Data: Re-initializing OSM country cache dir at /home/jace/.geowrangler/osm/malaysia...\n",
      "2023-03-10 01:11:57.063 | INFO     | povertymapping.osm:download_osm_country_data:201 - OSM Data: Downloading Geofabrik zip file...\n"
     ]
    },
    {
     "name": "stderr",
     "output_type": "stream",
     "text": [
      "2023-03-10 01:12:32.947 | INFO     | povertymapping.osm:download_osm_country_data:210 - OSM Data: Unzipping the zip file...\n",
      "2023-03-10 01:12:38.481 | INFO     | povertymapping.osm:download_osm_country_data:217 - OSM Data: Successfully downloaded and cached OSM data for malaysia at /home/jace/.geowrangler/osm/malaysia!\n",
      "2023-03-10 01:12:38.481 | DEBUG    | povertymapping.osm:load_pois:149 - OSM POIs for malaysia being loaded from /home/jace/.geowrangler/osm/malaysia/gis_osm_pois_free_1.shp\n",
      "2023-03-10 01:12:50.392 | INFO     | povertymapping.osm:download_osm_country_data:187 - OSM Data: Cached data available for malaysia at /home/jace/.geowrangler/osm/malaysia? True\n",
      "2023-03-10 01:12:50.393 | DEBUG    | povertymapping.osm:load_roads:168 - OSM Roads for malaysia being loaded from /home/jace/.geowrangler/osm/malaysia/gis_osm_roads_free_1.shp\n",
      "2023-03-10 01:14:41.756 | DEBUG    | povertymapping.ookla:load_type_year_data:68 - Contents of data cache: []\n",
      "2023-03-10 01:14:41.757 | INFO     | povertymapping.ookla:load_type_year_data:83 - Cached data available at /home/jace/.geowrangler/ookla/processed/87423a84372dd5cdc09225238ef7c9b3.csv? False\n",
      "2023-03-10 01:14:41.758 | DEBUG    | povertymapping.ookla:load_type_year_data:100 - No cached data found. Processing Ookla data from scratch.\n",
      "2023-03-10 01:14:42.642 | INFO     | povertymapping.ookla:download_ookla_year_data:173 - Ookla Data: Number of available files for fixed and 2019: 4\n",
      "2023-03-10 01:14:42.645 | INFO     | povertymapping.ookla:download_ookla_year_data:186 - Ookla Data: Cached data available for fixed and 2019 at /home/jace/.geowrangler/ookla/fixed/2019? True\n",
      "2023-03-10 01:27:55.995 | DEBUG    | povertymapping.ookla:load_type_year_data:124 - Ookla data for aoi, fixed 2019 1 being loaded from /home/jace/.geowrangler/ookla/fixed/2019/2019-01-01_performance_fixed_tiles.parquet\n",
      "2023-03-10 01:28:12.930 | DEBUG    | povertymapping.ookla:load_type_year_data:124 - Ookla data for aoi, fixed 2019 2 being loaded from /home/jace/.geowrangler/ookla/fixed/2019/2019-04-01_performance_fixed_tiles.parquet\n",
      "2023-03-10 01:28:28.329 | DEBUG    | povertymapping.ookla:load_type_year_data:124 - Ookla data for aoi, fixed 2019 3 being loaded from /home/jace/.geowrangler/ookla/fixed/2019/2019-07-01_performance_fixed_tiles.parquet\n",
      "2023-03-10 01:28:45.402 | DEBUG    | povertymapping.ookla:load_type_year_data:124 - Ookla data for aoi, fixed 2019 4 being loaded from /home/jace/.geowrangler/ookla/fixed/2019/2019-10-01_performance_fixed_tiles.parquet\n",
      "2023-03-10 01:29:03.849 | DEBUG    | povertymapping.ookla:load_type_year_data:135 - Concatenating quarterly Ookla data for fixed and 2019 into one dataframe\n",
      "2023-03-10 01:29:09.620 | DEBUG    | povertymapping.ookla:load_type_year_data:68 - Contents of data cache: ['87423a84372dd5cdc09225238ef7c9b3']\n",
      "2023-03-10 01:29:09.621 | INFO     | povertymapping.ookla:load_type_year_data:83 - Cached data available at /home/jace/.geowrangler/ookla/processed/da109b3a3c7791a9b94d1c2014b62d54.csv? False\n",
      "2023-03-10 01:29:09.622 | DEBUG    | povertymapping.ookla:load_type_year_data:100 - No cached data found. Processing Ookla data from scratch.\n",
      "2023-03-10 01:29:09.623 | INFO     | povertymapping.ookla:download_ookla_year_data:173 - Ookla Data: Number of available files for mobile and 2019: 4\n",
      "2023-03-10 01:29:09.625 | INFO     | povertymapping.ookla:download_ookla_year_data:186 - Ookla Data: Cached data available for mobile and 2019 at /home/jace/.geowrangler/ookla/mobile/2019? True\n",
      "2023-03-10 01:45:50.825 | DEBUG    | povertymapping.ookla:load_type_year_data:124 - Ookla data for aoi, mobile 2019 1 being loaded from /home/jace/.geowrangler/ookla/mobile/2019/2019-01-01_performance_mobile_tiles.parquet\n",
      "2023-03-10 01:46:01.224 | DEBUG    | povertymapping.ookla:load_type_year_data:124 - Ookla data for aoi, mobile 2019 2 being loaded from /home/jace/.geowrangler/ookla/mobile/2019/2019-04-01_performance_mobile_tiles.parquet\n",
      "2023-03-10 01:46:16.490 | DEBUG    | povertymapping.ookla:load_type_year_data:124 - Ookla data for aoi, mobile 2019 3 being loaded from /home/jace/.geowrangler/ookla/mobile/2019/2019-07-01_performance_mobile_tiles.parquet\n",
      "2023-03-10 01:46:31.420 | DEBUG    | povertymapping.ookla:load_type_year_data:124 - Ookla data for aoi, mobile 2019 4 being loaded from /home/jace/.geowrangler/ookla/mobile/2019/2019-10-01_performance_mobile_tiles.parquet\n",
      "2023-03-10 01:46:43.863 | DEBUG    | povertymapping.ookla:load_type_year_data:135 - Concatenating quarterly Ookla data for mobile and 2019 into one dataframe\n",
      "2023-03-10 01:46:57.756 | INFO     | povertymapping.nightlights:generate_clipped_raster:365 - Using viirs global file as source raster: /home/jace/.geowrangler/nightlights/global/VNL_v21_npp_2016_global_vcmslcfg_c202205302300.average.dat.tif\n",
      "2023-03-10 01:46:57.759 | INFO     | povertymapping.nightlights:clip_raster:232 - Generating clipped raster file from /home/jace/.geowrangler/nightlights/global/VNL_v21_npp_2016_global_vcmslcfg_c202205302300.average.dat.tif to /home/jace/.geowrangler/nightlights/clip/49bbfd914c2aff37c6758c51a59a8bcf.tif with bounds [ 99.64599606   0.85690163 119.2675781    7.36246687] and buffer 0.1\n",
      "2023-03-10 01:46:58.801 | INFO     | povertymapping.nightlights:generate_clipped_metadata:393 - Adding metadata.json file /home/jace/.geowrangler/nightlights/clip/49bbfd914c2aff37c6758c51a59a8bcf.metadata.json\n"
     ]
    },
    {
     "name": "stdout",
     "output_type": "stream",
     "text": [
      "CPU times: user 34min 51s, sys: 3min 3s, total: 37min 54s\n",
      "Wall time: 38min 42s\n"
     ]
    }
   ],
   "source": [
    "%%time\n",
    "scaler = StandardScaler\n",
    "rollout_aoi = aoi.copy()\n",
    "\n",
    "# Create features dataframe using generate_features module\n",
    "features = generate_features(rollout_aoi, country_osm, ookla_year, nightlights_year, scaled_only=True, sklearn_scaler=scaler,features_only=True)"
   ]
  },
  {
   "attachments": {},
   "cell_type": "markdown",
   "metadata": {},
   "source": [
    "## Inspect the generated features"
   ]
  },
  {
   "cell_type": "code",
   "execution_count": 20,
   "metadata": {},
   "outputs": [
    {
     "name": "stdout",
     "output_type": "stream",
     "text": [
      "<class 'geopandas.geodataframe.GeoDataFrame'>\n",
      "Int64Index: 30202 entries, 0 to 30201\n",
      "Data columns (total 61 columns):\n",
      " #   Column                                    Non-Null Count  Dtype  \n",
      "---  ------                                    --------------  -----  \n",
      " 0   poi_count_scaled                          30202 non-null  float64\n",
      " 1   atm_count_scaled                          30202 non-null  float64\n",
      " 2   atm_nearest_scaled                        30202 non-null  float64\n",
      " 3   bank_count_scaled                         30202 non-null  float64\n",
      " 4   bank_nearest_scaled                       30202 non-null  float64\n",
      " 5   bus_station_count_scaled                  30202 non-null  float64\n",
      " 6   bus_station_nearest_scaled                30202 non-null  float64\n",
      " 7   cafe_count_scaled                         30202 non-null  float64\n",
      " 8   cafe_nearest_scaled                       30202 non-null  float64\n",
      " 9   charging_station_count_scaled             30202 non-null  float64\n",
      " 10  charging_station_nearest_scaled           30202 non-null  float64\n",
      " 11  courthouse_count_scaled                   30202 non-null  float64\n",
      " 12  courthouse_nearest_scaled                 30202 non-null  float64\n",
      " 13  dentist_count_scaled                      30202 non-null  float64\n",
      " 14  dentist_nearest_scaled                    30202 non-null  float64\n",
      " 15  fast_food_count_scaled                    30202 non-null  float64\n",
      " 16  fast_food_nearest_scaled                  30202 non-null  float64\n",
      " 17  fire_station_count_scaled                 30202 non-null  float64\n",
      " 18  fire_station_nearest_scaled               30202 non-null  float64\n",
      " 19  food_court_count_scaled                   30202 non-null  float64\n",
      " 20  food_court_nearest_scaled                 30202 non-null  float64\n",
      " 21  fuel_count_scaled                         30202 non-null  float64\n",
      " 22  fuel_nearest_scaled                       30202 non-null  float64\n",
      " 23  hospital_count_scaled                     30202 non-null  float64\n",
      " 24  hospital_nearest_scaled                   30202 non-null  float64\n",
      " 25  library_count_scaled                      30202 non-null  float64\n",
      " 26  library_nearest_scaled                    30202 non-null  float64\n",
      " 27  marketplace_count_scaled                  30202 non-null  float64\n",
      " 28  marketplace_nearest_scaled                30202 non-null  float64\n",
      " 29  pharmacy_count_scaled                     30202 non-null  float64\n",
      " 30  pharmacy_nearest_scaled                   30202 non-null  float64\n",
      " 31  police_count_scaled                       30202 non-null  float64\n",
      " 32  police_nearest_scaled                     30202 non-null  float64\n",
      " 33  post_box_count_scaled                     30202 non-null  float64\n",
      " 34  post_box_nearest_scaled                   30202 non-null  float64\n",
      " 35  post_office_count_scaled                  30202 non-null  float64\n",
      " 36  post_office_nearest_scaled                30202 non-null  float64\n",
      " 37  restaurant_count_scaled                   30202 non-null  float64\n",
      " 38  restaurant_nearest_scaled                 30202 non-null  float64\n",
      " 39  social_facility_count_scaled              30202 non-null  float64\n",
      " 40  social_facility_nearest_scaled            30202 non-null  float64\n",
      " 41  supermarket_count_scaled                  30202 non-null  float64\n",
      " 42  supermarket_nearest_scaled                30202 non-null  float64\n",
      " 43  townhall_count_scaled                     30202 non-null  float64\n",
      " 44  townhall_nearest_scaled                   30202 non-null  float64\n",
      " 45  road_count_scaled                         30202 non-null  float64\n",
      " 46  fixed_2019_mean_avg_d_kbps_mean_scaled    30202 non-null  float64\n",
      " 47  fixed_2019_mean_avg_u_kbps_mean_scaled    30202 non-null  float64\n",
      " 48  fixed_2019_mean_avg_lat_ms_mean_scaled    30202 non-null  float64\n",
      " 49  fixed_2019_mean_num_tests_mean_scaled     30202 non-null  float64\n",
      " 50  fixed_2019_mean_num_devices_mean_scaled   30202 non-null  float64\n",
      " 51  mobile_2019_mean_avg_d_kbps_mean_scaled   30202 non-null  float64\n",
      " 52  mobile_2019_mean_avg_u_kbps_mean_scaled   30202 non-null  float64\n",
      " 53  mobile_2019_mean_avg_lat_ms_mean_scaled   30202 non-null  float64\n",
      " 54  mobile_2019_mean_num_tests_mean_scaled    30202 non-null  float64\n",
      " 55  mobile_2019_mean_num_devices_mean_scaled  30202 non-null  float64\n",
      " 56  avg_rad_min_scaled                        30202 non-null  float64\n",
      " 57  avg_rad_max_scaled                        30202 non-null  float64\n",
      " 58  avg_rad_mean_scaled                       30202 non-null  float64\n",
      " 59  avg_rad_std_scaled                        30202 non-null  float64\n",
      " 60  avg_rad_median_scaled                     30202 non-null  float64\n",
      "dtypes: float64(61)\n",
      "memory usage: 15.3 MB\n"
     ]
    },
    {
     "name": "stderr",
     "output_type": "stream",
     "text": [
      "[autoreload of povertymapping.hdx failed: Traceback (most recent call last):\n",
      "  File \"/home/jace/workspace/unicef-ai4d-poverty-mapping/env/lib/python3.9/site-packages/IPython/extensions/autoreload.py\", line 261, in check\n",
      "    superreload(m, reload, self.old_objects)\n",
      "  File \"/home/jace/workspace/unicef-ai4d-poverty-mapping/env/lib/python3.9/site-packages/IPython/extensions/autoreload.py\", line 459, in superreload\n",
      "    module = reload(module)\n",
      "  File \"/home/jace/workspace/unicef-ai4d-poverty-mapping/env/lib/python3.9/importlib/__init__.py\", line 169, in reload\n",
      "    _bootstrap._exec(spec, module)\n",
      "  File \"<frozen importlib._bootstrap>\", line 613, in _exec\n",
      "  File \"<frozen importlib._bootstrap_external>\", line 850, in exec_module\n",
      "  File \"<frozen importlib._bootstrap>\", line 228, in _call_with_frames_removed\n",
      "  File \"/home/jace/workspace/unicef-ai4d-poverty-mapping/povertymapping/hdx.py\", line 31, in <module>\n",
      "    init_hdx_config()\n",
      "  File \"/home/jace/workspace/unicef-ai4d-poverty-mapping/povertymapping/hdx.py\", line 29, in init_hdx_config\n",
      "    HDX_CONFIG.append(Configuration.create(hdx_site=\"prod\", user_agent=\"Geowrangler\", hdx_read_only=True))\n",
      "  File \"/home/jace/workspace/unicef-ai4d-poverty-mapping/env/lib/python3.9/site-packages/hdx/api/configuration.py\", line 646, in create\n",
      "    raise ConfigurationError(\"Configuration already created!\")\n",
      "hdx.api.configuration.ConfigurationError: Configuration already created!\n",
      "]\n"
     ]
    }
   ],
   "source": [
    "features.info()"
   ]
  },
  {
   "attachments": {},
   "cell_type": "markdown",
   "metadata": {},
   "source": [
    "## Run Model on AOI"
   ]
  },
  {
   "attachments": {},
   "cell_type": "markdown",
   "metadata": {},
   "source": [
    "### Load Model"
   ]
  },
  {
   "cell_type": "code",
   "execution_count": 21,
   "metadata": {},
   "outputs": [],
   "source": [
    "with open(MODEL_SAVE_PATH,'rb') as f:\n",
    "    model = pickle.load(f)"
   ]
  },
  {
   "attachments": {},
   "cell_type": "markdown",
   "metadata": {},
   "source": [
    "### Make Predictions"
   ]
  },
  {
   "cell_type": "code",
   "execution_count": 22,
   "metadata": {},
   "outputs": [],
   "source": [
    "rollout_aoi['Predicted Relative Wealth Index'] = model.predict(features.values)"
   ]
  },
  {
   "attachments": {},
   "cell_type": "markdown",
   "metadata": {},
   "source": [
    "### Inspect predicted wealth index and output dataframe"
   ]
  },
  {
   "cell_type": "code",
   "execution_count": 23,
   "metadata": {},
   "outputs": [
    {
     "data": {
      "text/plain": [
       "array([[<AxesSubplot: title={'center': 'Predicted Relative Wealth Index'}>]],\n",
       "      dtype=object)"
      ]
     },
     "execution_count": 23,
     "metadata": {},
     "output_type": "execute_result"
    },
    {
     "data": {
      "image/png": "[encoded data removed]",
      "text/plain": [
       "<Figure size 640x480 with 1 Axes>"
      ]
     },
     "metadata": {},
     "output_type": "display_data"
    }
   ],
   "source": [
    "rollout_aoi[['Predicted Relative Wealth Index']].hist()"
   ]
  },
  {
   "cell_type": "code",
   "execution_count": null,
   "metadata": {},
   "outputs": [],
   "source": [
    "rollout_aoi.explore(column='Predicted Relative Wealth Index')"
   ]
  },
  {
   "attachments": {},
   "cell_type": "markdown",
   "metadata": {},
   "source": [
    "The Predicted Relative Wealth Index map should look like this\n",
    "\n",
    "![image info](2023-02-21-my-predicted-wealth-index.PNG)"
   ]
  },
  {
   "cell_type": "code",
   "execution_count": 25,
   "metadata": {},
   "outputs": [
    {
     "data": {
      "text/html": [
       "<div>\n",
       "<style scoped>\n",
       "    .dataframe tbody tr th:only-of-type {\n",
       "        vertical-align: middle;\n",
       "    }\n",
       "\n",
       "    .dataframe tbody tr th {\n",
       "        vertical-align: top;\n",
       "    }\n",
       "\n",
       "    .dataframe thead th {\n",
       "        text-align: right;\n",
       "    }\n",
       "</style>\n",
       "<table border=\"1\" class=\"dataframe\">\n",
       "  <thead>\n",
       "    <tr style=\"text-align: right;\">\n",
       "      <th></th>\n",
       "      <th>quadkey</th>\n",
       "      <th>shapeName</th>\n",
       "      <th>shapeISO</th>\n",
       "      <th>shapeID</th>\n",
       "      <th>shapeGroup</th>\n",
       "      <th>shapeType</th>\n",
       "      <th>pop_count</th>\n",
       "      <th>geometry</th>\n",
       "      <th>Predicted Relative Wealth Index</th>\n",
       "    </tr>\n",
       "  </thead>\n",
       "  <tbody>\n",
       "    <tr>\n",
       "      <th>0</th>\n",
       "      <td>13223202222021</td>\n",
       "      <td>Klang</td>\n",
       "      <td>None</td>\n",
       "      <td>MYS-ADM2-3_0_0-B57</td>\n",
       "      <td>MYS</td>\n",
       "      <td>ADM2</td>\n",
       "      <td>1948.905696</td>\n",
       "      <td>POLYGON ((101.27197 2.92110, 101.27197 2.94304...</td>\n",
       "      <td>0.079104</td>\n",
       "    </tr>\n",
       "    <tr>\n",
       "      <th>1</th>\n",
       "      <td>13223202222023</td>\n",
       "      <td>Klang</td>\n",
       "      <td>None</td>\n",
       "      <td>MYS-ADM2-3_0_0-B57</td>\n",
       "      <td>MYS</td>\n",
       "      <td>ADM2</td>\n",
       "      <td>5633.984424</td>\n",
       "      <td>POLYGON ((101.27197 2.89915, 101.27197 2.92110...</td>\n",
       "      <td>0.812183</td>\n",
       "    </tr>\n",
       "    <tr>\n",
       "      <th>2</th>\n",
       "      <td>13223202222201</td>\n",
       "      <td>Klang</td>\n",
       "      <td>None</td>\n",
       "      <td>MYS-ADM2-3_0_0-B57</td>\n",
       "      <td>MYS</td>\n",
       "      <td>ADM2</td>\n",
       "      <td>919.554096</td>\n",
       "      <td>POLYGON ((101.27197 2.87721, 101.27197 2.89915...</td>\n",
       "      <td>0.745431</td>\n",
       "    </tr>\n",
       "    <tr>\n",
       "      <th>3</th>\n",
       "      <td>13223202222010</td>\n",
       "      <td>Klang</td>\n",
       "      <td>None</td>\n",
       "      <td>MYS-ADM2-3_0_0-B57</td>\n",
       "      <td>MYS</td>\n",
       "      <td>ADM2</td>\n",
       "      <td>61.761096</td>\n",
       "      <td>POLYGON ((101.29395 2.96498, 101.29395 2.98693...</td>\n",
       "      <td>0.617753</td>\n",
       "    </tr>\n",
       "    <tr>\n",
       "      <th>4</th>\n",
       "      <td>13223202222012</td>\n",
       "      <td>Klang</td>\n",
       "      <td>None</td>\n",
       "      <td>MYS-ADM2-3_0_0-B57</td>\n",
       "      <td>MYS</td>\n",
       "      <td>ADM2</td>\n",
       "      <td>4659.531576</td>\n",
       "      <td>POLYGON ((101.29395 2.94304, 101.29395 2.96498...</td>\n",
       "      <td>0.795169</td>\n",
       "    </tr>\n",
       "  </tbody>\n",
       "</table>\n",
       "</div>"
      ],
      "text/plain": [
       "          quadkey shapeName shapeISO             shapeID shapeGroup shapeType  \\\n",
       "0  13223202222021     Klang     None  MYS-ADM2-3_0_0-B57        MYS      ADM2   \n",
       "1  13223202222023     Klang     None  MYS-ADM2-3_0_0-B57        MYS      ADM2   \n",
       "2  13223202222201     Klang     None  MYS-ADM2-3_0_0-B57        MYS      ADM2   \n",
       "3  13223202222010     Klang     None  MYS-ADM2-3_0_0-B57        MYS      ADM2   \n",
       "4  13223202222012     Klang     None  MYS-ADM2-3_0_0-B57        MYS      ADM2   \n",
       "\n",
       "     pop_count                                           geometry  \\\n",
       "0  1948.905696  POLYGON ((101.27197 2.92110, 101.27197 2.94304...   \n",
       "1  5633.984424  POLYGON ((101.27197 2.89915, 101.27197 2.92110...   \n",
       "2   919.554096  POLYGON ((101.27197 2.87721, 101.27197 2.89915...   \n",
       "3    61.761096  POLYGON ((101.29395 2.96498, 101.29395 2.98693...   \n",
       "4  4659.531576  POLYGON ((101.29395 2.94304, 101.29395 2.96498...   \n",
       "\n",
       "   Predicted Relative Wealth Index  \n",
       "0                         0.079104  \n",
       "1                         0.812183  \n",
       "2                         0.745431  \n",
       "3                         0.617753  \n",
       "4                         0.795169  "
      ]
     },
     "execution_count": 25,
     "metadata": {},
     "output_type": "execute_result"
    }
   ],
   "source": [
    "rollout_aoi.head()"
   ]
  },
  {
   "cell_type": "code",
   "execution_count": 26,
   "metadata": {},
   "outputs": [
    {
     "name": "stdout",
     "output_type": "stream",
     "text": [
      "<class 'geopandas.geodataframe.GeoDataFrame'>\n",
      "RangeIndex: 30202 entries, 0 to 30201\n",
      "Data columns (total 9 columns):\n",
      " #   Column                           Non-Null Count  Dtype   \n",
      "---  ------                           --------------  -----   \n",
      " 0   quadkey                          30202 non-null  object  \n",
      " 1   shapeName                        30202 non-null  object  \n",
      " 2   shapeISO                         30202 non-null  object  \n",
      " 3   shapeID                          30202 non-null  object  \n",
      " 4   shapeGroup                       30202 non-null  object  \n",
      " 5   shapeType                        30202 non-null  object  \n",
      " 6   pop_count                        30202 non-null  float64 \n",
      " 7   geometry                         30202 non-null  geometry\n",
      " 8   Predicted Relative Wealth Index  30202 non-null  float64 \n",
      "dtypes: float64(2), geometry(1), object(6)\n",
      "memory usage: 2.1+ MB\n"
     ]
    }
   ],
   "source": [
    "rollout_aoi.info()"
   ]
  },
  {
   "attachments": {},
   "cell_type": "markdown",
   "metadata": {},
   "source": [
    "## Binning predictions into wealth categories\n",
    "\n",
    "Afterwards, we label the predicted relative wealth by binning them into 5 categories \n",
    "\n",
    "|Category |Description| \n",
    "|---|-----------------| \n",
    "| A | high income | \n",
    "| B | mid-high income | \n",
    "| C | middle income | \n",
    "| D | mid-low income | \n",
    "| E | low income |\n",
    "\n",
    "We can create these wealth categories in two ways, both of which are provided in the output dataset. \n",
    "- `Predicted Wealth Category (quintile)`: Categories derived by splitting the output `Predicted Relative Wealth Index` distribution into 5 equally sized quintiles\n",
    "- `Predicted Wealth Category (split-quintile)`: Categories derived using the **split quintiles** approach described below. This preserves the realities of unequal wealth distribution by accounting for distance from the mean wealth level `y = 0`. \n",
    "\n",
    "**Split-quintile approach**\n",
    "1. Generate this by identifying two splits first, a) `Predicted Relative Wealth Index > 0` (above average wealth) and b) `Predicted Relative Wealth Index < 0` (below average wealth).\n",
    "2. Generate quintiles for each of the two initial splits.\n",
    "3. Take every 2 quintiles as one wealth bin.\n",
    "\n",
    "\n",
    "![alt](../../../assets/split%20quintile%20approach.png)\n",
    "\n"
   ]
  },
  {
   "attachments": {},
   "cell_type": "markdown",
   "metadata": {},
   "source": [
    "### Calculate equal-quintile wealth category"
   ]
  },
  {
   "cell_type": "code",
   "execution_count": 27,
   "metadata": {},
   "outputs": [],
   "source": [
    "rollout_aoi[\"Predicted Wealth Category (quintile)\"] = categorize_wealth_index(\n",
    "    rollout_aoi[\"Predicted Relative Wealth Index\"], split_quantile=False\n",
    ").astype(str)\n"
   ]
  },
  {
   "cell_type": "code",
   "execution_count": null,
   "metadata": {},
   "outputs": [],
   "source": [
    "rollout_aoi.explore(\n",
    "    column = 'Predicted Wealth Category (quintile)',\n",
    "    cmap = 'viridis_r' # _r suffix reverses the colormap\n",
    ")"
   ]
  },
  {
   "attachments": {},
   "cell_type": "markdown",
   "metadata": {},
   "source": [
    "### Calculate split-quintile wealth category"
   ]
  },
  {
   "cell_type": "code",
   "execution_count": 29,
   "metadata": {},
   "outputs": [
    {
     "name": "stdout",
     "output_type": "stream",
     "text": [
      "[-0.4917621071223434, -0.3543450892484545, -0.17758259142760024, 0.2080590235469753, 0.8324880274875066, 2.423957925438285]\n"
     ]
    }
   ],
   "source": [
    "rollout_aoi[\"Predicted Wealth Category (split-quintile)\"] = categorize_wealth_index(\n",
    "    rollout_aoi[\"Predicted Relative Wealth Index\"], split_quantile=True\n",
    ")\n"
   ]
  },
  {
   "cell_type": "code",
   "execution_count": null,
   "metadata": {},
   "outputs": [],
   "source": [
    "rollout_aoi.explore(\n",
    "    column = 'Predicted Wealth Category (split-quintile)',\n",
    "    cmap = 'viridis_r' # _r suffix reverses the colormap\n",
    ")"
   ]
  },
  {
   "attachments": {},
   "cell_type": "markdown",
   "metadata": {},
   "source": [
    "## Save output"
   ]
  },
  {
   "cell_type": "code",
   "execution_count": 31,
   "metadata": {},
   "outputs": [
    {
     "name": "stdout",
     "output_type": "stream",
     "text": [
      "CPU times: user 7.62 s, sys: 219 ms, total: 7.84 s\n",
      "Wall time: 8.72 s\n"
     ]
    }
   ],
   "source": [
    "%%time\n",
    "rollout_aoi.to_file(f'{rollout_date}-{country_code}-rollout-output.geojson', driver='GeoJSON', index=False)"
   ]
  }
 ],
 "metadata": {
  "kernelspec": {
   "display_name": "Python 3",
   "language": "python",
   "name": "python3"
  },
  "language_info": {
   "codemirror_mode": {
    "name": "ipython",
    "version": 3
   },
   "file_extension": ".py",
   "mimetype": "text/x-python",
   "name": "python",
   "nbconvert_exporter": "python",
   "pygments_lexer": "ipython3",
   "version": "3.9.15"
  },
  "orig_nbformat": 4
 },
 "nbformat": 4,
 "nbformat_minor": 2
}

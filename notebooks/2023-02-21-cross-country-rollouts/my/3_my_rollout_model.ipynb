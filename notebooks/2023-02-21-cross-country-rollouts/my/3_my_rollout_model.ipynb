{
 "cells": [
  {
   "cell_type": "raw",
   "metadata": {},
   "source": [
    "---\n",
    "title: Malaysia Model Rollout Part 3 (Feature Engineering and Model Prediction on Rollout Grids)\n",
    "format:\n",
    "  html:\n",
    "    code-fold: false\n",
    "---"
   ]
  },
  {
   "cell_type": "code",
   "execution_count": 19,
   "metadata": {},
   "outputs": [],
   "source": [
    "%matplotlib inline\n",
    "%reload_ext autoreload\n",
    "%autoreload 2"
   ]
  },
  {
   "cell_type": "code",
   "execution_count": 20,
   "metadata": {},
   "outputs": [],
   "source": [
    "import sys\n",
    "import os\n",
    "sys.path.append(\"../../\")\n",
    "\n",
    "import pickle\n",
    "import geopandas as gpd\n",
    "from pathlib import Path\n",
    "import getpass\n",
    "from sklearn.preprocessing import MinMaxScaler\n",
    "\n",
    "from povertymapping.rollout_grids import get_region_filtered_bingtile_grids \n",
    "from povertymapping import settings, nightlights\n",
    "from povertymapping.iso3 import get_iso3_code\n",
    "from povertymapping.dhs import generate_dhs_cluster_level_data\n",
    "from povertymapping.feature_engineering import generate_features, categorize_wealth_index"
   ]
  },
  {
   "attachments": {},
   "cell_type": "markdown",
   "metadata": {},
   "source": [
    "# Malaysia Model Rollout Part 3 (Feature Engineering and Model Prediction on Rollout Grids)\n",
    "\n",
    "This notebook runs the final model to create relative wealth estimations over populated areas within the given country. The model predictions will have a spatial resolution of 2.4km.\n",
    "\n",
    "The `predicted relative wealth` value gives us the relative wealth level of an area compared to the rest of the country, which fixes the value range from 0 (lowest wealth) to 1 (highest wealth). In between these extremes, each area's wealth estimate is scaled to a value between 0 and 1.\n",
    "\n",
    "The predicted relative wealth value is later binned into 5 wealth categories A-E by dividing the distribution into quintiles. "
   ]
  },
  {
   "cell_type": "markdown",
   "metadata": {},
   "source": [
    "## Set up Data Access\n",
    "The following cell will prompt you to enter your EOG username and password. See [this page](https://eogdata.mines.edu/products/register/) to learn how to set-up your EOG account."
   ]
  },
  {
   "cell_type": "code",
   "execution_count": 21,
   "metadata": {},
   "outputs": [
    {
     "name": "stderr",
     "output_type": "stream",
     "text": [
      "2023-03-23 13:04:07.331 | INFO     | povertymapping.nightlights:get_eog_access_token:48 - Saving access_token to ~/.eog_creds/eog_access_token\n",
      "2023-03-23 13:04:07.332 | INFO     | povertymapping.nightlights:get_eog_access_token:56 - Adding access token to environmentt var EOG_ACCESS_TOKEN\n"
     ]
    }
   ],
   "source": [
    "# Log-in using EOG credentials\n",
    "username = os.environ.get('EOG_USER',None)\n",
    "username = username if username is not None else input('Username?')\n",
    "password = os.environ.get('EOG_PASSWORD',None)\n",
    "password = password if password is not None else getpass.getpass('Password?') \n",
    "\n",
    "# set save_token to True so that access token gets stored in ~/.eog_creds/eog_access_token\n",
    "access_token = nightlights.get_eog_access_token(username,password, save_token=True)"
   ]
  },
  {
   "attachments": {},
   "cell_type": "markdown",
   "metadata": {},
   "source": [
    "## Set country-specific parameters"
   ]
  },
  {
   "cell_type": "code",
   "execution_count": 22,
   "metadata": {},
   "outputs": [
    {
     "data": {
      "text/plain": [
       "Path('2023-02-21-my-rollout-grids.geojson')"
      ]
     },
     "execution_count": 22,
     "metadata": {},
     "output_type": "execute_result"
    }
   ],
   "source": [
    "country_osm = \"malaysia\"\n",
    "ookla_year = 2019\n",
    "nightlights_year = 2019\n",
    "country_code = get_iso3_code(country_osm, code='alpha-2').lower()\n",
    "rollout_date = '-'.join(os.getcwd().split('/')[-2].split('-')[:3])\n",
    "rollout_grids_path = Path(f'./{rollout_date}-{country_code}-rollout-grids.geojson')\n",
    "rollout_grids_path"
   ]
  },
  {
   "attachments": {},
   "cell_type": "markdown",
   "metadata": {},
   "source": [
    "## Set Model Parameters"
   ]
  },
  {
   "cell_type": "code",
   "execution_count": 23,
   "metadata": {},
   "outputs": [],
   "source": [
    "# Model to use for prediction\n",
    "MODEL_SAVE_PATH = Path(f'../{rollout_date}-cross-country-model.pkl')"
   ]
  },
  {
   "attachments": {},
   "cell_type": "markdown",
   "metadata": {},
   "source": [
    "## Load Country Rollout AOI\n",
    "\n",
    "The rollout area of interest is split into 2.4km grid tiles (zoom level 14), matching the areas used during model training. The grids are also filtered to only include populated areas based on Meta's High Resolution Settlement Layer (HRSL) data.\n",
    "\n",
    "Refer to the previous notebook `2_my_generate_grids.ipynb` for documentation on generating this grid."
   ]
  },
  {
   "cell_type": "code",
   "execution_count": 24,
   "metadata": {},
   "outputs": [],
   "source": [
    "aoi = gpd.read_file(rollout_grids_path)\n",
    "# aoi.explore() # Uncomment to view data in a map "
   ]
  },
  {
   "attachments": {},
   "cell_type": "markdown",
   "metadata": {},
   "source": [
    "## Generate Features For Rollout AOI"
   ]
  },
  {
   "attachments": {},
   "cell_type": "markdown",
   "metadata": {},
   "source": [
    "If this is your first time running this notebook for this specific area, expect a long runtime for the following cell as it will download and cache the required datasets. It will then process the relevant features for each area specified. On subsequent runs, the runtime will be much faster as the data is already stored in your filesystem. "
   ]
  },
  {
   "cell_type": "code",
   "execution_count": 25,
   "metadata": {},
   "outputs": [
    {
     "name": "stderr",
     "output_type": "stream",
     "text": [
      "2023-03-23 13:04:12.404 | INFO     | povertymapping.osm:download_osm_country_data:187 - OSM Data: Cached data available for malaysia at /home/jace/.geowrangler/osm/malaysia? True\n",
      "2023-03-23 13:04:12.405 | DEBUG    | povertymapping.osm:load_pois:149 - OSM POIs for malaysia being loaded from /home/jace/.geowrangler/osm/malaysia/gis_osm_pois_free_1.shp\n",
      "2023-03-23 13:04:26.962 | INFO     | povertymapping.osm:download_osm_country_data:187 - OSM Data: Cached data available for malaysia at /home/jace/.geowrangler/osm/malaysia? True\n",
      "2023-03-23 13:04:26.962 | DEBUG    | povertymapping.osm:load_roads:168 - OSM Roads for malaysia being loaded from /home/jace/.geowrangler/osm/malaysia/gis_osm_roads_free_1.shp\n",
      "2023-03-23 13:07:14.747 | DEBUG    | povertymapping.ookla:load_type_year_data:68 - Contents of data cache: []\n",
      "2023-03-23 13:07:14.773 | INFO     | povertymapping.ookla:load_type_year_data:83 - Cached data available at /home/jace/.geowrangler/ookla/processed/87423a84372dd5cdc09225238ef7c9b3.csv? True\n",
      "2023-03-23 13:07:14.774 | DEBUG    | povertymapping.ookla:load_type_year_data:88 - Processed Ookla data for aoi, fixed 2019 (key: 87423a84372dd5cdc09225238ef7c9b3) found in filesystem. Loading in cache.\n",
      "2023-03-23 13:07:19.933 | DEBUG    | povertymapping.ookla:load_type_year_data:68 - Contents of data cache: ['87423a84372dd5cdc09225238ef7c9b3']\n",
      "2023-03-23 13:07:19.935 | INFO     | povertymapping.ookla:load_type_year_data:83 - Cached data available at /home/jace/.geowrangler/ookla/processed/da109b3a3c7791a9b94d1c2014b62d54.csv? True\n",
      "2023-03-23 13:07:19.936 | DEBUG    | povertymapping.ookla:load_type_year_data:88 - Processed Ookla data for aoi, mobile 2019 (key: da109b3a3c7791a9b94d1c2014b62d54) found in filesystem. Loading in cache.\n",
      "2023-03-23 13:07:28.166 | INFO     | povertymapping.nightlights:get_clipped_raster:414 - Retrieving clipped raster file /home/jace/.geowrangler/nightlights/clip/dc93f1a2987dd701d395d06b798d3feb.tif\n"
     ]
    },
    {
     "name": "stdout",
     "output_type": "stream",
     "text": [
      "CPU times: user 3min 42s, sys: 1min 36s, total: 5min 19s\n",
      "Wall time: 5min 58s\n"
     ]
    }
   ],
   "source": [
    "%%time\n",
    "scaler = MinMaxScaler\n",
    "rollout_aoi = aoi.copy()\n",
    "\n",
    "# Create features dataframe using generate_features module\n",
    "features = generate_features(rollout_aoi, country_osm, ookla_year, nightlights_year, scaled_only=False, sklearn_scaler=scaler,features_only=True)"
   ]
  },
  {
   "cell_type": "code",
   "execution_count": 26,
   "metadata": {},
   "outputs": [],
   "source": [
    "# Uncomment this cell and run to save a local copy of the raw features\n",
    "# aoi_features = pd.concat([aoi, features], axis=1)\n",
    "# aoi_features = aoi_features[[col for col in aoi_features.columns if '_scaled' not in col]] # remove scaled feature columns\n",
    "# aoi_features = gpd.GeoDataFrame(aoi_features, crs=aoi.crs)\n",
    "# aoi_features.to_file(f'{rollout_date}-{country_code}-rollout-features.geojson', driver='GeoJSON', index=False)"
   ]
  },
  {
   "cell_type": "code",
   "execution_count": 28,
   "metadata": {},
   "outputs": [],
   "source": [
    "# Keep only scaled columns\n",
    "features = features[[col for col in features.columns if '_scaled' in col]]"
   ]
  },
  {
   "attachments": {},
   "cell_type": "markdown",
   "metadata": {},
   "source": [
    "## Inspect the generated features"
   ]
  },
  {
   "cell_type": "code",
   "execution_count": 8,
   "metadata": {},
   "outputs": [
    {
     "name": "stdout",
     "output_type": "stream",
     "text": [
      "<class 'geopandas.geodataframe.GeoDataFrame'>\n",
      "Int64Index: 30202 entries, 0 to 30201\n",
      "Data columns (total 61 columns):\n",
      " #   Column                                    Non-Null Count  Dtype  \n",
      "---  ------                                    --------------  -----  \n",
      " 0   poi_count_scaled                          30202 non-null  float64\n",
      " 1   atm_count_scaled                          30202 non-null  float64\n",
      " 2   atm_nearest_scaled                        30202 non-null  float64\n",
      " 3   bank_count_scaled                         30202 non-null  float64\n",
      " 4   bank_nearest_scaled                       30202 non-null  float64\n",
      " 5   bus_station_count_scaled                  30202 non-null  float64\n",
      " 6   bus_station_nearest_scaled                30202 non-null  float64\n",
      " 7   cafe_count_scaled                         30202 non-null  float64\n",
      " 8   cafe_nearest_scaled                       30202 non-null  float64\n",
      " 9   charging_station_count_scaled             30202 non-null  float64\n",
      " 10  charging_station_nearest_scaled           30202 non-null  float64\n",
      " 11  courthouse_count_scaled                   30202 non-null  float64\n",
      " 12  courthouse_nearest_scaled                 30202 non-null  float64\n",
      " 13  dentist_count_scaled                      30202 non-null  float64\n",
      " 14  dentist_nearest_scaled                    30202 non-null  float64\n",
      " 15  fast_food_count_scaled                    30202 non-null  float64\n",
      " 16  fast_food_nearest_scaled                  30202 non-null  float64\n",
      " 17  fire_station_count_scaled                 30202 non-null  float64\n",
      " 18  fire_station_nearest_scaled               30202 non-null  float64\n",
      " 19  food_court_count_scaled                   30202 non-null  float64\n",
      " 20  food_court_nearest_scaled                 30202 non-null  float64\n",
      " 21  fuel_count_scaled                         30202 non-null  float64\n",
      " 22  fuel_nearest_scaled                       30202 non-null  float64\n",
      " 23  hospital_count_scaled                     30202 non-null  float64\n",
      " 24  hospital_nearest_scaled                   30202 non-null  float64\n",
      " 25  library_count_scaled                      30202 non-null  float64\n",
      " 26  library_nearest_scaled                    30202 non-null  float64\n",
      " 27  marketplace_count_scaled                  30202 non-null  float64\n",
      " 28  marketplace_nearest_scaled                30202 non-null  float64\n",
      " 29  pharmacy_count_scaled                     30202 non-null  float64\n",
      " 30  pharmacy_nearest_scaled                   30202 non-null  float64\n",
      " 31  police_count_scaled                       30202 non-null  float64\n",
      " 32  police_nearest_scaled                     30202 non-null  float64\n",
      " 33  post_box_count_scaled                     30202 non-null  float64\n",
      " 34  post_box_nearest_scaled                   30202 non-null  float64\n",
      " 35  post_office_count_scaled                  30202 non-null  float64\n",
      " 36  post_office_nearest_scaled                30202 non-null  float64\n",
      " 37  restaurant_count_scaled                   30202 non-null  float64\n",
      " 38  restaurant_nearest_scaled                 30202 non-null  float64\n",
      " 39  social_facility_count_scaled              30202 non-null  float64\n",
      " 40  social_facility_nearest_scaled            30202 non-null  float64\n",
      " 41  supermarket_count_scaled                  30202 non-null  float64\n",
      " 42  supermarket_nearest_scaled                30202 non-null  float64\n",
      " 43  townhall_count_scaled                     30202 non-null  float64\n",
      " 44  townhall_nearest_scaled                   30202 non-null  float64\n",
      " 45  road_count_scaled                         30202 non-null  float64\n",
      " 46  fixed_2019_mean_avg_d_kbps_mean_scaled    30202 non-null  float64\n",
      " 47  fixed_2019_mean_avg_u_kbps_mean_scaled    30202 non-null  float64\n",
      " 48  fixed_2019_mean_avg_lat_ms_mean_scaled    30202 non-null  float64\n",
      " 49  fixed_2019_mean_num_tests_mean_scaled     30202 non-null  float64\n",
      " 50  fixed_2019_mean_num_devices_mean_scaled   30202 non-null  float64\n",
      " 51  mobile_2019_mean_avg_d_kbps_mean_scaled   30202 non-null  float64\n",
      " 52  mobile_2019_mean_avg_u_kbps_mean_scaled   30202 non-null  float64\n",
      " 53  mobile_2019_mean_avg_lat_ms_mean_scaled   30202 non-null  float64\n",
      " 54  mobile_2019_mean_num_tests_mean_scaled    30202 non-null  float64\n",
      " 55  mobile_2019_mean_num_devices_mean_scaled  30202 non-null  float64\n",
      " 56  avg_rad_min_scaled                        30202 non-null  float64\n",
      " 57  avg_rad_max_scaled                        30202 non-null  float64\n",
      " 58  avg_rad_mean_scaled                       30202 non-null  float64\n",
      " 59  avg_rad_std_scaled                        30202 non-null  float64\n",
      " 60  avg_rad_median_scaled                     30202 non-null  float64\n",
      "dtypes: float64(61)\n",
      "memory usage: 15.3 MB\n"
     ]
    }
   ],
   "source": [
    "features.info()"
   ]
  },
  {
   "attachments": {},
   "cell_type": "markdown",
   "metadata": {},
   "source": [
    "## Run Model on AOI"
   ]
  },
  {
   "attachments": {},
   "cell_type": "markdown",
   "metadata": {},
   "source": [
    "### Load Model"
   ]
  },
  {
   "cell_type": "code",
   "execution_count": 9,
   "metadata": {},
   "outputs": [],
   "source": [
    "with open(MODEL_SAVE_PATH,'rb') as f:\n",
    "    model = pickle.load(f)"
   ]
  },
  {
   "attachments": {},
   "cell_type": "markdown",
   "metadata": {},
   "source": [
    "### Make Predictions"
   ]
  },
  {
   "cell_type": "code",
   "execution_count": 10,
   "metadata": {},
   "outputs": [],
   "source": [
    "rollout_aoi['Predicted Relative Wealth Index'] = model.predict(features.values)"
   ]
  },
  {
   "attachments": {},
   "cell_type": "markdown",
   "metadata": {},
   "source": [
    "### Inspect predicted wealth index and output dataframe"
   ]
  },
  {
   "cell_type": "code",
   "execution_count": 11,
   "metadata": {},
   "outputs": [
    {
     "data": {
      "text/plain": [
       "array([[<AxesSubplot: title={'center': 'Predicted Relative Wealth Index'}>]],\n",
       "      dtype=object)"
      ]
     },
     "execution_count": 11,
     "metadata": {},
     "output_type": "execute_result"
    },
    {
     "data": {
      "image/png": "[encoded data removed]",
      "text/plain": [
       "<Figure size 640x480 with 1 Axes>"
      ]
     },
     "metadata": {},
     "output_type": "display_data"
    }
   ],
   "source": [
    "rollout_aoi[['Predicted Relative Wealth Index']].hist()"
   ]
  },
  {
   "cell_type": "code",
   "execution_count": 12,
   "metadata": {},
   "outputs": [],
   "source": [
    "# rollout_aoi.explore(column='Predicted Relative Wealth Index')"
   ]
  },
  {
   "attachments": {},
   "cell_type": "markdown",
   "metadata": {},
   "source": [
    "The Predicted Relative Wealth Index map should look like this\n",
    "\n",
    "![image info](2023-02-21-my-predicted-wealth-index.PNG)"
   ]
  },
  {
   "cell_type": "code",
   "execution_count": 13,
   "metadata": {},
   "outputs": [
    {
     "data": {
      "text/html": [
       "<div>\n",
       "<style scoped>\n",
       "    .dataframe tbody tr th:only-of-type {\n",
       "        vertical-align: middle;\n",
       "    }\n",
       "\n",
       "    .dataframe tbody tr th {\n",
       "        vertical-align: top;\n",
       "    }\n",
       "\n",
       "    .dataframe thead th {\n",
       "        text-align: right;\n",
       "    }\n",
       "</style>\n",
       "<table border=\"1\" class=\"dataframe\">\n",
       "  <thead>\n",
       "    <tr style=\"text-align: right;\">\n",
       "      <th></th>\n",
       "      <th>quadkey</th>\n",
       "      <th>shapeName</th>\n",
       "      <th>shapeISO</th>\n",
       "      <th>shapeID</th>\n",
       "      <th>shapeGroup</th>\n",
       "      <th>shapeType</th>\n",
       "      <th>pop_count</th>\n",
       "      <th>geometry</th>\n",
       "      <th>Predicted Relative Wealth Index</th>\n",
       "    </tr>\n",
       "  </thead>\n",
       "  <tbody>\n",
       "    <tr>\n",
       "      <th>0</th>\n",
       "      <td>13223202222021</td>\n",
       "      <td>Klang</td>\n",
       "      <td>None</td>\n",
       "      <td>MYS-ADM2-3_0_0-B57</td>\n",
       "      <td>MYS</td>\n",
       "      <td>ADM2</td>\n",
       "      <td>1948.905696</td>\n",
       "      <td>POLYGON ((101.27197 2.92110, 101.27197 2.94304...</td>\n",
       "      <td>0.376365</td>\n",
       "    </tr>\n",
       "    <tr>\n",
       "      <th>1</th>\n",
       "      <td>13223202222023</td>\n",
       "      <td>Klang</td>\n",
       "      <td>None</td>\n",
       "      <td>MYS-ADM2-3_0_0-B57</td>\n",
       "      <td>MYS</td>\n",
       "      <td>ADM2</td>\n",
       "      <td>5633.984424</td>\n",
       "      <td>POLYGON ((101.27197 2.89915, 101.27197 2.92110...</td>\n",
       "      <td>0.405243</td>\n",
       "    </tr>\n",
       "    <tr>\n",
       "      <th>2</th>\n",
       "      <td>13223202222201</td>\n",
       "      <td>Klang</td>\n",
       "      <td>None</td>\n",
       "      <td>MYS-ADM2-3_0_0-B57</td>\n",
       "      <td>MYS</td>\n",
       "      <td>ADM2</td>\n",
       "      <td>919.554096</td>\n",
       "      <td>POLYGON ((101.27197 2.87721, 101.27197 2.89915...</td>\n",
       "      <td>0.323968</td>\n",
       "    </tr>\n",
       "    <tr>\n",
       "      <th>3</th>\n",
       "      <td>13223202222010</td>\n",
       "      <td>Klang</td>\n",
       "      <td>None</td>\n",
       "      <td>MYS-ADM2-3_0_0-B57</td>\n",
       "      <td>MYS</td>\n",
       "      <td>ADM2</td>\n",
       "      <td>61.761096</td>\n",
       "      <td>POLYGON ((101.29395 2.96498, 101.29395 2.98693...</td>\n",
       "      <td>0.344436</td>\n",
       "    </tr>\n",
       "    <tr>\n",
       "      <th>4</th>\n",
       "      <td>13223202222012</td>\n",
       "      <td>Klang</td>\n",
       "      <td>None</td>\n",
       "      <td>MYS-ADM2-3_0_0-B57</td>\n",
       "      <td>MYS</td>\n",
       "      <td>ADM2</td>\n",
       "      <td>4659.531576</td>\n",
       "      <td>POLYGON ((101.29395 2.94304, 101.29395 2.96498...</td>\n",
       "      <td>0.456739</td>\n",
       "    </tr>\n",
       "  </tbody>\n",
       "</table>\n",
       "</div>"
      ],
      "text/plain": [
       "          quadkey shapeName shapeISO             shapeID shapeGroup shapeType  \\\n",
       "0  13223202222021     Klang     None  MYS-ADM2-3_0_0-B57        MYS      ADM2   \n",
       "1  13223202222023     Klang     None  MYS-ADM2-3_0_0-B57        MYS      ADM2   \n",
       "2  13223202222201     Klang     None  MYS-ADM2-3_0_0-B57        MYS      ADM2   \n",
       "3  13223202222010     Klang     None  MYS-ADM2-3_0_0-B57        MYS      ADM2   \n",
       "4  13223202222012     Klang     None  MYS-ADM2-3_0_0-B57        MYS      ADM2   \n",
       "\n",
       "     pop_count                                           geometry  \\\n",
       "0  1948.905696  POLYGON ((101.27197 2.92110, 101.27197 2.94304...   \n",
       "1  5633.984424  POLYGON ((101.27197 2.89915, 101.27197 2.92110...   \n",
       "2   919.554096  POLYGON ((101.27197 2.87721, 101.27197 2.89915...   \n",
       "3    61.761096  POLYGON ((101.29395 2.96498, 101.29395 2.98693...   \n",
       "4  4659.531576  POLYGON ((101.29395 2.94304, 101.29395 2.96498...   \n",
       "\n",
       "   Predicted Relative Wealth Index  \n",
       "0                         0.376365  \n",
       "1                         0.405243  \n",
       "2                         0.323968  \n",
       "3                         0.344436  \n",
       "4                         0.456739  "
      ]
     },
     "execution_count": 13,
     "metadata": {},
     "output_type": "execute_result"
    }
   ],
   "source": [
    "rollout_aoi.head()"
   ]
  },
  {
   "cell_type": "code",
   "execution_count": 14,
   "metadata": {},
   "outputs": [
    {
     "name": "stdout",
     "output_type": "stream",
     "text": [
      "<class 'geopandas.geodataframe.GeoDataFrame'>\n",
      "RangeIndex: 30202 entries, 0 to 30201\n",
      "Data columns (total 9 columns):\n",
      " #   Column                           Non-Null Count  Dtype   \n",
      "---  ------                           --------------  -----   \n",
      " 0   quadkey                          30202 non-null  object  \n",
      " 1   shapeName                        30202 non-null  object  \n",
      " 2   shapeISO                         30202 non-null  object  \n",
      " 3   shapeID                          30202 non-null  object  \n",
      " 4   shapeGroup                       30202 non-null  object  \n",
      " 5   shapeType                        30202 non-null  object  \n",
      " 6   pop_count                        30202 non-null  float64 \n",
      " 7   geometry                         30202 non-null  geometry\n",
      " 8   Predicted Relative Wealth Index  30202 non-null  float64 \n",
      "dtypes: float64(2), geometry(1), object(6)\n",
      "memory usage: 2.1+ MB\n"
     ]
    }
   ],
   "source": [
    "rollout_aoi.info()"
   ]
  },
  {
   "attachments": {},
   "cell_type": "markdown",
   "metadata": {},
   "source": [
    "## Binning predictions into wealth categories\n",
    "\n",
    "Afterwards, we label the predicted relative wealth by binning them into 5 categories \n",
    "\n",
    "|Category |Description| \n",
    "|---|-----------------| \n",
    "| A | high income | \n",
    "| B | mid-high income | \n",
    "| C | middle income | \n",
    "| D | mid-low income | \n",
    "| E | low income |\n",
    "\n",
    "We can create these wealth categories by splitting the output `Predicted Relative Wealth Index` distribution into 5 equally sized **quintiles**, i.e. every 20th percentile.\n"
   ]
  },
  {
   "attachments": {},
   "cell_type": "markdown",
   "metadata": {},
   "source": [
    "### Calculate quintile wealth category"
   ]
  },
  {
   "cell_type": "code",
   "execution_count": 15,
   "metadata": {},
   "outputs": [],
   "source": [
    "rollout_aoi[\"Predicted Wealth Category (quintile)\"] = categorize_wealth_index(\n",
    "    rollout_aoi[\"Predicted Relative Wealth Index\"], \n",
    ").astype(str)\n"
   ]
  },
  {
   "cell_type": "code",
   "execution_count": null,
   "metadata": {},
   "outputs": [],
   "source": [
    "rollout_aoi.explore(\n",
    "    column = 'Predicted Wealth Category (quintile)',\n",
    "    cmap = 'viridis_r' # _r suffix reverses the colormap\n",
    ")"
   ]
  },
  {
   "attachments": {},
   "cell_type": "markdown",
   "metadata": {},
   "source": [
    "The Predicted Relative Wealth Index categories map should look like this\n",
    "\n",
    "![image info](2023-02-21-my-predicted-wealth-category.PNG)"
   ]
  },
  {
   "attachments": {},
   "cell_type": "markdown",
   "metadata": {},
   "source": [
    "## Save output"
   ]
  },
  {
   "cell_type": "code",
   "execution_count": 17,
   "metadata": {},
   "outputs": [
    {
     "name": "stdout",
     "output_type": "stream",
     "text": [
      "CPU times: user 9.53 s, sys: 406 ms, total: 9.94 s\n",
      "Wall time: 12.2 s\n"
     ]
    }
   ],
   "source": [
    "%%time\n",
    "rollout_aoi.to_file(f'{rollout_date}-{country_code}-rollout-output.geojson', driver='GeoJSON', index=False)"
   ]
  }
 ],
 "metadata": {
  "kernelspec": {
   "display_name": "Python 3",
   "language": "python",
   "name": "python3"
  },
  "language_info": {
   "codemirror_mode": {
    "name": "ipython",
    "version": 3
   },
   "file_extension": ".py",
   "mimetype": "text/x-python",
   "name": "python",
   "nbconvert_exporter": "python",
   "pygments_lexer": "ipython3",
   "version": "3.9.15"
  },
  "orig_nbformat": 4
 },
 "nbformat": 4,
 "nbformat_minor": 2
}

{
 "cells": [
  {
   "cell_type": "raw",
   "metadata": {},
   "source": [
    "---\n",
    "title: Predict on rollout grids\n",
    "format:\n",
    "  html:\n",
    "    code-fold: false\n",
    "---"
   ]
  },
  {
   "cell_type": "code",
   "execution_count": 1,
   "metadata": {},
   "outputs": [],
   "source": [
    "%matplotlib inline\n",
    "%reload_ext autoreload\n",
    "%autoreload 2"
   ]
  },
  {
   "cell_type": "code",
   "execution_count": 2,
   "metadata": {},
   "outputs": [],
   "source": [
    "import os\n",
    "import sys\n",
    "\n",
    "sys.path.append(\"../../../\")\n",
    "\n",
    "import getpass\n",
    "import pickle\n",
    "from pathlib import Path\n",
    "\n",
    "import contextily as cx\n",
    "import geopandas as gpd\n",
    "import matplotlib.pyplot as plt\n",
    "import numpy as np\n",
    "import pandas as pd\n",
    "from sklearn.preprocessing import MinMaxScaler\n",
    "\n",
    "from povertymapping import nightlights, settings\n",
    "from povertymapping.dhs import generate_dhs_cluster_level_data\n",
    "from povertymapping.feature_engineering import (\n",
    "    categorize_wealth_index,\n",
    "    generate_features,\n",
    ")\n",
    "from povertymapping.iso3 import get_region_name\n",
    "from povertymapping.rollout_grids import get_region_filtered_bingtile_grids"
   ]
  },
  {
   "cell_type": "markdown",
   "metadata": {},
   "source": [
    "# Model Prediction on Rollout Grids: Malaysia\n",
    "\n",
    "This notebook is the final step in the rollout and runs the final model to create relative wealth estimations over populated areas within the given country. The model predictions will have a spatial resolution of 2.4km.\n",
    "\n",
    "The `predicted relative wealth` value gives us the relative wealth level of an area compared to the rest of the country, which fixes the value range from 0 (lowest wealth) to 1 (highest wealth). In between these extremes, each area's wealth estimate is scaled to a value between 0 and 1.\n",
    "\n",
    "The predicted relative wealth value is later binned into 5 wealth categories A-E by dividing the distribution into quintiles (every 20th percentile)."
   ]
  },
  {
   "cell_type": "markdown",
   "metadata": {},
   "source": [
    "## Set up Data Access\n",
    "The following cell will prompt you to enter your EOG username and password. See [this page](https://eogdata.mines.edu/products/register/) to learn how to set-up your EOG account."
   ]
  },
  {
   "cell_type": "code",
   "execution_count": 3,
   "metadata": {},
   "outputs": [
    {
     "name": "stderr",
     "output_type": "stream",
     "text": [
      "2023-04-17 14:10:56.559 | INFO     | povertymapping.nightlights:get_eog_access_token:42 - Saving access_token to /home/alron/.eog_creds/eog_access_token.txt\n",
      "2023-04-17 14:10:56.573 | INFO     | povertymapping.nightlights:get_eog_access_token:50 - Adding access token to environment var EOG_ACCESS_TOKEN\n"
     ]
    }
   ],
   "source": [
    "# Log-in using EOG credentials\n",
    "username = os.environ.get(\"EOG_USER\", None)\n",
    "username = username if username is not None else input(\"Username?\")\n",
    "password = os.environ.get(\"EOG_PASSWORD\", None)\n",
    "password = password if password is not None else getpass.getpass(\"Password?\")\n",
    "\n",
    "# set save_token to True so that access token gets stored in ~/.eog_creds/eog_access_token\n",
    "access_token = nightlights.get_eog_access_token(username, password, save_token=True)"
   ]
  },
  {
   "cell_type": "markdown",
   "metadata": {},
   "source": [
    "## Set country-specific parameters"
   ]
  },
  {
   "cell_type": "code",
   "execution_count": 4,
   "metadata": {},
   "outputs": [
    {
     "data": {
      "text/plain": [
       "Path('2023-02-21-my-rollout-grids.geojson')"
      ]
     },
     "execution_count": 4,
     "metadata": {},
     "output_type": "execute_result"
    }
   ],
   "source": [
    "COUNTRY_CODE = \"my\"\n",
    "COUNTRY_OSM = \"malaysia-singapore-brunei\"\n",
    "OOKLA_YEAR = 2019\n",
    "NIGHTLIGHTS_YEAR = 2019\n",
    "\n",
    "rollout_date = \"-\".join(os.getcwd().split(\"/\")[-2].split(\"-\")[:3])\n",
    "rollout_grids_path = Path(f\"./{rollout_date}-{COUNTRY_CODE}-rollout-grids.geojson\")\n",
    "rollout_grids_path"
   ]
  },
  {
   "cell_type": "markdown",
   "metadata": {},
   "source": [
    "## Set Model Parameters"
   ]
  },
  {
   "cell_type": "code",
   "execution_count": 5,
   "metadata": {},
   "outputs": [],
   "source": [
    "# Model to use for prediction\n",
    "MODEL_SAVE_PATH = Path(f\"../{rollout_date}-cross-country-model.pkl\")"
   ]
  },
  {
   "cell_type": "markdown",
   "metadata": {},
   "source": [
    "## Load Country Rollout AOI\n",
    "\n",
    "The rollout area of interest is split into 2.4km grid tiles (zoom level 14), matching the areas used during model training. The grids are also filtered to only include populated areas based on Meta's High Resolution Settlement Layer (HRSL) data.\n",
    "\n",
    "Refer to the previous notebook `2_my_generate_grids.ipynb` for documentation on generating this grid."
   ]
  },
  {
   "cell_type": "code",
   "execution_count": 6,
   "metadata": {},
   "outputs": [
    {
     "name": "stdout",
     "output_type": "stream",
     "text": [
      "<class 'geopandas.geodataframe.GeoDataFrame'>\n",
      "RangeIndex: 30202 entries, 0 to 30201\n",
      "Data columns (total 8 columns):\n",
      " #   Column      Non-Null Count  Dtype   \n",
      "---  ------      --------------  -----   \n",
      " 0   quadkey     30202 non-null  object  \n",
      " 1   shapeName   30202 non-null  object  \n",
      " 2   shapeISO    30202 non-null  object  \n",
      " 3   shapeID     30202 non-null  object  \n",
      " 4   shapeGroup  30202 non-null  object  \n",
      " 5   shapeType   30202 non-null  object  \n",
      " 6   pop_count   30202 non-null  float64 \n",
      " 7   geometry    30202 non-null  geometry\n",
      "dtypes: float64(1), geometry(1), object(6)\n",
      "memory usage: 1.8+ MB\n"
     ]
    }
   ],
   "source": [
    "aoi = gpd.read_file(rollout_grids_path)\n",
    "aoi.info()"
   ]
  },
  {
   "cell_type": "markdown",
   "metadata": {},
   "source": [
    "## Generate Features For Rollout AOI"
   ]
  },
  {
   "cell_type": "markdown",
   "metadata": {},
   "source": [
    "If this is your first time running this notebook for this specific area, expect a long runtime for the following cell as it will download and cache the required datasets. It will then process the relevant features for each area specified. On subsequent runs, the runtime will be much faster as the data is already stored in your filesystem. "
   ]
  },
  {
   "cell_type": "code",
   "execution_count": 7,
   "metadata": {},
   "outputs": [
    {
     "name": "stderr",
     "output_type": "stream",
     "text": [
      "2023-04-17 14:10:59.517 | INFO     | povertymapping.osm:download_osm_country_data:198 - OSM Data: Cached data available for malaysia-singapore-brunei at /home/alron/.geowrangler/osm/malaysia-singapore-brunei? True\n",
      "2023-04-17 14:10:59.518 | DEBUG    | povertymapping.osm:load_pois:160 - OSM POIs for malaysia-singapore-brunei being loaded from /home/alron/.geowrangler/osm/malaysia-singapore-brunei/gis_osm_pois_free_1.shp\n",
      "2023-04-17 14:11:11.067 | INFO     | povertymapping.osm:download_osm_country_data:198 - OSM Data: Cached data available for malaysia-singapore-brunei at /home/alron/.geowrangler/osm/malaysia-singapore-brunei? True\n",
      "2023-04-17 14:11:11.068 | DEBUG    | povertymapping.osm:load_roads:179 - OSM Roads for malaysia-singapore-brunei being loaded from /home/alron/.geowrangler/osm/malaysia-singapore-brunei/gis_osm_roads_free_1.shp\n",
      "2023-04-17 14:12:43.204 | DEBUG    | povertymapping.ookla:load_type_year_data:79 - Contents of data cache: []\n",
      "2023-04-17 14:12:43.205 | INFO     | povertymapping.ookla:load_type_year_data:94 - Cached data available at /home/alron/.geowrangler/ookla/processed/65e70aee4527563c2836aecfcd8237b7.csv? True\n",
      "2023-04-17 14:12:43.206 | DEBUG    | povertymapping.ookla:load_type_year_data:99 - Processed Ookla data for aoi, fixed 2019 (key: 65e70aee4527563c2836aecfcd8237b7) found in filesystem. Loading in cache.\n",
      "2023-04-17 14:12:48.056 | DEBUG    | povertymapping.ookla:load_type_year_data:79 - Contents of data cache: ['65e70aee4527563c2836aecfcd8237b7']\n",
      "2023-04-17 14:12:48.058 | INFO     | povertymapping.ookla:load_type_year_data:94 - Cached data available at /home/alron/.geowrangler/ookla/processed/fa94782c9eac0bd8c079462755ed90ee.csv? True\n",
      "2023-04-17 14:12:48.060 | DEBUG    | povertymapping.ookla:load_type_year_data:99 - Processed Ookla data for aoi, mobile 2019 (key: fa94782c9eac0bd8c079462755ed90ee) found in filesystem. Loading in cache.\n",
      "2023-04-17 14:12:55.235 | INFO     | povertymapping.nightlights:get_clipped_raster:451 - Retrieving clipped raster file /home/alron/.geowrangler/nightlights/clip/dc93f1a2987dd701d395d06b798d3feb.tif\n"
     ]
    },
    {
     "name": "stdout",
     "output_type": "stream",
     "text": [
      "CPU times: user 3min 36s, sys: 11.3 s, total: 3min 47s\n",
      "Wall time: 3min 48s\n"
     ]
    }
   ],
   "source": [
    "%%time\n",
    "scaler = MinMaxScaler\n",
    "rollout_aoi = aoi.copy()\n",
    "\n",
    "# Create features dataframe using generate_features module\n",
    "features = generate_features(\n",
    "    rollout_aoi,\n",
    "    country_osm=COUNTRY_OSM,\n",
    "    ookla_year=OOKLA_YEAR,\n",
    "    nightlights_year=NIGHTLIGHTS_YEAR,\n",
    "    scaled_only=False,\n",
    "    sklearn_scaler=scaler,\n",
    "    features_only=True,\n",
    "    use_aoi_quadkey=True,\n",
    ")"
   ]
  },
  {
   "cell_type": "code",
   "execution_count": 8,
   "metadata": {},
   "outputs": [],
   "source": [
    "# Save raw features, can be used for validation\n",
    "raw_features = features[[col for col in features.columns if \"_scaled\" not in col]]\n",
    "# Then keep only scaled columns\n",
    "features = features[[col for col in features.columns if \"_scaled\" in col]]"
   ]
  },
  {
   "cell_type": "markdown",
   "metadata": {},
   "source": [
    "## Inspect the generated features"
   ]
  },
  {
   "cell_type": "code",
   "execution_count": 9,
   "metadata": {},
   "outputs": [
    {
     "name": "stdout",
     "output_type": "stream",
     "text": [
      "<class 'pandas.core.frame.DataFrame'>\n",
      "Int64Index: 30202 entries, 0 to 30201\n",
      "Data columns (total 61 columns):\n",
      " #   Column                                    Non-Null Count  Dtype  \n",
      "---  ------                                    --------------  -----  \n",
      " 0   poi_count_scaled                          30202 non-null  float64\n",
      " 1   atm_count_scaled                          30202 non-null  float64\n",
      " 2   atm_nearest_scaled                        30202 non-null  float64\n",
      " 3   bank_count_scaled                         30202 non-null  float64\n",
      " 4   bank_nearest_scaled                       30202 non-null  float64\n",
      " 5   bus_station_count_scaled                  30202 non-null  float64\n",
      " 6   bus_station_nearest_scaled                30202 non-null  float64\n",
      " 7   cafe_count_scaled                         30202 non-null  float64\n",
      " 8   cafe_nearest_scaled                       30202 non-null  float64\n",
      " 9   charging_station_count_scaled             30202 non-null  float64\n",
      " 10  charging_station_nearest_scaled           30202 non-null  float64\n",
      " 11  courthouse_count_scaled                   30202 non-null  float64\n",
      " 12  courthouse_nearest_scaled                 30202 non-null  float64\n",
      " 13  dentist_count_scaled                      30202 non-null  float64\n",
      " 14  dentist_nearest_scaled                    30202 non-null  float64\n",
      " 15  fast_food_count_scaled                    30202 non-null  float64\n",
      " 16  fast_food_nearest_scaled                  30202 non-null  float64\n",
      " 17  fire_station_count_scaled                 30202 non-null  float64\n",
      " 18  fire_station_nearest_scaled               30202 non-null  float64\n",
      " 19  food_court_count_scaled                   30202 non-null  float64\n",
      " 20  food_court_nearest_scaled                 30202 non-null  float64\n",
      " 21  fuel_count_scaled                         30202 non-null  float64\n",
      " 22  fuel_nearest_scaled                       30202 non-null  float64\n",
      " 23  hospital_count_scaled                     30202 non-null  float64\n",
      " 24  hospital_nearest_scaled                   30202 non-null  float64\n",
      " 25  library_count_scaled                      30202 non-null  float64\n",
      " 26  library_nearest_scaled                    30202 non-null  float64\n",
      " 27  marketplace_count_scaled                  30202 non-null  float64\n",
      " 28  marketplace_nearest_scaled                30202 non-null  float64\n",
      " 29  pharmacy_count_scaled                     30202 non-null  float64\n",
      " 30  pharmacy_nearest_scaled                   30202 non-null  float64\n",
      " 31  police_count_scaled                       30202 non-null  float64\n",
      " 32  police_nearest_scaled                     30202 non-null  float64\n",
      " 33  post_box_count_scaled                     30202 non-null  float64\n",
      " 34  post_box_nearest_scaled                   30202 non-null  float64\n",
      " 35  post_office_count_scaled                  30202 non-null  float64\n",
      " 36  post_office_nearest_scaled                30202 non-null  float64\n",
      " 37  restaurant_count_scaled                   30202 non-null  float64\n",
      " 38  restaurant_nearest_scaled                 30202 non-null  float64\n",
      " 39  social_facility_count_scaled              30202 non-null  float64\n",
      " 40  social_facility_nearest_scaled            30202 non-null  float64\n",
      " 41  supermarket_count_scaled                  30202 non-null  float64\n",
      " 42  supermarket_nearest_scaled                30202 non-null  float64\n",
      " 43  townhall_count_scaled                     30202 non-null  float64\n",
      " 44  townhall_nearest_scaled                   30202 non-null  float64\n",
      " 45  road_count_scaled                         30202 non-null  float64\n",
      " 46  fixed_2019_mean_avg_d_kbps_mean_scaled    30202 non-null  float64\n",
      " 47  fixed_2019_mean_avg_u_kbps_mean_scaled    30202 non-null  float64\n",
      " 48  fixed_2019_mean_avg_lat_ms_mean_scaled    30202 non-null  float64\n",
      " 49  fixed_2019_mean_num_tests_mean_scaled     30202 non-null  float64\n",
      " 50  fixed_2019_mean_num_devices_mean_scaled   30202 non-null  float64\n",
      " 51  mobile_2019_mean_avg_d_kbps_mean_scaled   30202 non-null  float64\n",
      " 52  mobile_2019_mean_avg_u_kbps_mean_scaled   30202 non-null  float64\n",
      " 53  mobile_2019_mean_avg_lat_ms_mean_scaled   30202 non-null  float64\n",
      " 54  mobile_2019_mean_num_tests_mean_scaled    30202 non-null  float64\n",
      " 55  mobile_2019_mean_num_devices_mean_scaled  30202 non-null  float64\n",
      " 56  avg_rad_min_scaled                        30202 non-null  float64\n",
      " 57  avg_rad_max_scaled                        30202 non-null  float64\n",
      " 58  avg_rad_mean_scaled                       30202 non-null  float64\n",
      " 59  avg_rad_std_scaled                        30202 non-null  float64\n",
      " 60  avg_rad_median_scaled                     30202 non-null  float64\n",
      "dtypes: float64(61)\n",
      "memory usage: 15.3 MB\n"
     ]
    }
   ],
   "source": [
    "features.info()"
   ]
  },
  {
   "cell_type": "markdown",
   "metadata": {},
   "source": [
    "## Run Model on AOI"
   ]
  },
  {
   "cell_type": "markdown",
   "metadata": {},
   "source": [
    "### Load Model"
   ]
  },
  {
   "cell_type": "code",
   "execution_count": 10,
   "metadata": {},
   "outputs": [],
   "source": [
    "with open(MODEL_SAVE_PATH, \"rb\") as f:\n",
    "    model = pickle.load(f)"
   ]
  },
  {
   "cell_type": "markdown",
   "metadata": {},
   "source": [
    "### Make Predictions"
   ]
  },
  {
   "cell_type": "code",
   "execution_count": 11,
   "metadata": {},
   "outputs": [],
   "source": [
    "rollout_aoi[\"Predicted Relative Wealth Index\"] = model.predict(features.values)"
   ]
  },
  {
   "cell_type": "markdown",
   "metadata": {},
   "source": [
    "## Binning predictions into wealth categories\n",
    "\n",
    "Afterwards, we label the predicted relative wealth by binning them into 5 categories: `A`, `B`, `C`, `D`, and `E` where `A` is the highest and `E` is the lowest. \n",
    "\n",
    "We can create these wealth categories by splitting the output `Predicted Relative Wealth Index` distribution into 5 equally sized **quintiles**, i.e. every 20th percentile. \n",
    "\n",
    "This categorization may be modified to suit the context of the target country."
   ]
  },
  {
   "cell_type": "code",
   "execution_count": 12,
   "metadata": {},
   "outputs": [],
   "source": [
    "rollout_aoi[\"Predicted Wealth Category (quintile)\"] = categorize_wealth_index(\n",
    "    rollout_aoi[\"Predicted Relative Wealth Index\"]\n",
    ").astype(str)"
   ]
  },
  {
   "cell_type": "code",
   "execution_count": 13,
   "metadata": {},
   "outputs": [
    {
     "name": "stdout",
     "output_type": "stream",
     "text": [
      "<class 'geopandas.geodataframe.GeoDataFrame'>\n",
      "RangeIndex: 30202 entries, 0 to 30201\n",
      "Data columns (total 10 columns):\n",
      " #   Column                                Non-Null Count  Dtype   \n",
      "---  ------                                --------------  -----   \n",
      " 0   quadkey                               30202 non-null  object  \n",
      " 1   shapeName                             30202 non-null  object  \n",
      " 2   shapeISO                              30202 non-null  object  \n",
      " 3   shapeID                               30202 non-null  object  \n",
      " 4   shapeGroup                            30202 non-null  object  \n",
      " 5   shapeType                             30202 non-null  object  \n",
      " 6   pop_count                             30202 non-null  float64 \n",
      " 7   geometry                              30202 non-null  geometry\n",
      " 8   Predicted Relative Wealth Index       30202 non-null  float64 \n",
      " 9   Predicted Wealth Category (quintile)  30202 non-null  object  \n",
      "dtypes: float64(2), geometry(1), object(7)\n",
      "memory usage: 2.3+ MB\n"
     ]
    }
   ],
   "source": [
    "rollout_aoi.info()"
   ]
  },
  {
   "cell_type": "code",
   "execution_count": 14,
   "metadata": {},
   "outputs": [
    {
     "data": {
      "text/html": [
       "<div>\n",
       "<style scoped>\n",
       "    .dataframe tbody tr th:only-of-type {\n",
       "        vertical-align: middle;\n",
       "    }\n",
       "\n",
       "    .dataframe tbody tr th {\n",
       "        vertical-align: top;\n",
       "    }\n",
       "\n",
       "    .dataframe thead th {\n",
       "        text-align: right;\n",
       "    }\n",
       "</style>\n",
       "<table border=\"1\" class=\"dataframe\">\n",
       "  <thead>\n",
       "    <tr style=\"text-align: right;\">\n",
       "      <th></th>\n",
       "      <th>quadkey</th>\n",
       "      <th>shapeName</th>\n",
       "      <th>shapeISO</th>\n",
       "      <th>shapeID</th>\n",
       "      <th>shapeGroup</th>\n",
       "      <th>shapeType</th>\n",
       "      <th>pop_count</th>\n",
       "      <th>geometry</th>\n",
       "      <th>Predicted Relative Wealth Index</th>\n",
       "      <th>Predicted Wealth Category (quintile)</th>\n",
       "    </tr>\n",
       "  </thead>\n",
       "  <tbody>\n",
       "    <tr>\n",
       "      <th>0</th>\n",
       "      <td>13223202222021</td>\n",
       "      <td>Klang</td>\n",
       "      <td>None</td>\n",
       "      <td>MYS-ADM2-3_0_0-B57</td>\n",
       "      <td>MYS</td>\n",
       "      <td>ADM2</td>\n",
       "      <td>1948.905696</td>\n",
       "      <td>POLYGON ((101.27197 2.92110, 101.27197 2.94304...</td>\n",
       "      <td>0.366662</td>\n",
       "      <td>B</td>\n",
       "    </tr>\n",
       "    <tr>\n",
       "      <th>1</th>\n",
       "      <td>13223202222023</td>\n",
       "      <td>Klang</td>\n",
       "      <td>None</td>\n",
       "      <td>MYS-ADM2-3_0_0-B57</td>\n",
       "      <td>MYS</td>\n",
       "      <td>ADM2</td>\n",
       "      <td>5633.984424</td>\n",
       "      <td>POLYGON ((101.27197 2.89915, 101.27197 2.92110...</td>\n",
       "      <td>0.412123</td>\n",
       "      <td>A</td>\n",
       "    </tr>\n",
       "  </tbody>\n",
       "</table>\n",
       "</div>"
      ],
      "text/plain": [
       "          quadkey shapeName shapeISO             shapeID shapeGroup shapeType  \\\n",
       "0  13223202222021     Klang     None  MYS-ADM2-3_0_0-B57        MYS      ADM2   \n",
       "1  13223202222023     Klang     None  MYS-ADM2-3_0_0-B57        MYS      ADM2   \n",
       "\n",
       "     pop_count                                           geometry  \\\n",
       "0  1948.905696  POLYGON ((101.27197 2.92110, 101.27197 2.94304...   \n",
       "1  5633.984424  POLYGON ((101.27197 2.89915, 101.27197 2.92110...   \n",
       "\n",
       "   Predicted Relative Wealth Index Predicted Wealth Category (quintile)  \n",
       "0                         0.366662                                    B  \n",
       "1                         0.412123                                    A  "
      ]
     },
     "execution_count": 14,
     "metadata": {},
     "output_type": "execute_result"
    }
   ],
   "source": [
    "rollout_aoi.head(2)"
   ]
  },
  {
   "cell_type": "markdown",
   "metadata": {},
   "source": [
    "## Save output"
   ]
  },
  {
   "cell_type": "code",
   "execution_count": 15,
   "metadata": {},
   "outputs": [
    {
     "name": "stdout",
     "output_type": "stream",
     "text": [
      "CPU times: user 9.16 s, sys: 140 ms, total: 9.3 s\n",
      "Wall time: 9.31 s\n"
     ]
    }
   ],
   "source": [
    "%%time\n",
    "rollout_aoi.to_file(\n",
    "    f\"{rollout_date}-{COUNTRY_CODE}-rollout-output.geojson\",\n",
    "    driver=\"GeoJSON\",\n",
    "    index=False,\n",
    ")"
   ]
  },
  {
   "cell_type": "code",
   "execution_count": null,
   "metadata": {},
   "outputs": [],
   "source": [
    "# Join back raw features and save\n",
    "rollout_output_with_features = rollout_aoi.join(raw_features).join(features)\n",
    "rollout_output_with_features.to_file(\n",
    "    f\"{rollout_date}-{COUNTRY_CODE}-rollout-output-with-features.geojson\",\n",
    "    driver=\"GeoJSON\",\n",
    "    index=False,\n",
    ")"
   ]
  },
  {
   "cell_type": "markdown",
   "metadata": {},
   "source": [
    "## Visualizations"
   ]
  },
  {
   "cell_type": "markdown",
   "metadata": {},
   "source": [
    "### Inspect predicted wealth index and output dataframe"
   ]
  },
  {
   "cell_type": "code",
   "execution_count": null,
   "metadata": {},
   "outputs": [],
   "source": [
    "rollout_aoi[[\"Predicted Relative Wealth Index\"]].hist()"
   ]
  },
  {
   "cell_type": "markdown",
   "metadata": {},
   "source": [
    "### Create Static Maps\n",
    "#### Plot Predicted Relative Wealth Index"
   ]
  },
  {
   "cell_type": "code",
   "execution_count": null,
   "metadata": {},
   "outputs": [],
   "source": [
    "plt.cla()\n",
    "plt.clf()\n",
    "rollout_aoi_plot = rollout_aoi.to_crs(\"EPSG:3857\")\n",
    "ax = rollout_aoi_plot.plot(\n",
    "    \"Predicted Relative Wealth Index\",\n",
    "    figsize=(20, 8),\n",
    "    cmap=\"viridis\",\n",
    "    legend=True,\n",
    "    legend_kwds={\"shrink\": 0.8},\n",
    ")\n",
    "cx.add_basemap(ax, source=cx.providers.OpenStreetMap.Mapnik)\n",
    "ax.set_axis_off()\n",
    "plt.title(\"Predicted Relative Wealth Index\")\n",
    "plt.tight_layout()\n",
    "plt.savefig(f\"{rollout_date}-{COUNTRY_CODE}-predicted-wealth-index.png\")\n",
    "plt.show()"
   ]
  },
  {
   "cell_type": "markdown",
   "metadata": {},
   "source": [
    "#### Plot Predicted Relative Wealth Index Category"
   ]
  },
  {
   "cell_type": "code",
   "execution_count": null,
   "metadata": {},
   "outputs": [],
   "source": [
    "plt.cla()\n",
    "plt.clf()\n",
    "rollout_aoi_plot = rollout_aoi.to_crs(\"EPSG:3857\")\n",
    "ax = rollout_aoi_plot.plot(\n",
    "    \"Predicted Wealth Category (quintile)\",\n",
    "    figsize=(20, 8),\n",
    "    cmap=\"viridis_r\",\n",
    "    legend=True,\n",
    ")\n",
    "cx.add_basemap(ax, source=cx.providers.OpenStreetMap.Mapnik)\n",
    "ax.set_axis_off()\n",
    "plt.title(\"Predicted Wealth Category\")\n",
    "plt.tight_layout()\n",
    "plt.savefig(f\"{rollout_date}-{COUNTRY_CODE}-predicted-wealth-bin.png\")\n",
    "plt.show()"
   ]
  },
  {
   "cell_type": "markdown",
   "metadata": {},
   "source": [
    "### Create an Interactive Map"
   ]
  },
  {
   "cell_type": "code",
   "execution_count": null,
   "metadata": {},
   "outputs": [],
   "source": [
    "cols_of_interest = [\n",
    "    \"quadkey\",\n",
    "    \"shapeName\",\n",
    "    \"shapeGroup\",\n",
    "    \"pop_count\",\n",
    "    \"avg_rad_mean\",\n",
    "    \"mobile_2019_mean_avg_d_kbps_mean\",\n",
    "    \"fixed_2019_mean_avg_d_kbps_mean\",\n",
    "    \"poi_count\",\n",
    "    \"road_count\",\n",
    "    \"Predicted Relative Wealth Index\",\n",
    "    \"Predicted Wealth Category (quintile)\",\n",
    "]\n",
    "\n",
    "# Warning: This can be a bit laggy due to the large amount of tiles being visualized\n",
    "\n",
    "# Uncomment the ff if you want to viz the raw wealth predictions\n",
    "# rollout_aoi.explore(column='Predicted Relative Wealth Index', tooltip=cols_of_interest, cmap=\"viridis\")\n",
    "\n",
    "# Uncomment the ff if you want to view the quintiles\n",
    "# rollout_aoi.explore(column='Predicted Wealth Category (quintile)', tooltip=cols_of_interest, cmap=\"viridis_r\")"
   ]
  },
  {
   "cell_type": "markdown",
   "metadata": {},
   "source": [
    "Alternatively, you may also try to visualize this interactively in [Kepler](https://kepler.gl/demo) by uploading the rollout output geojson file."
   ]
  }
 ],
 "metadata": {
  "kernelspec": {
   "display_name": "Python 3 (ipykernel)",
   "language": "python",
   "name": "python3"
  },
  "language_info": {
   "codemirror_mode": {
    "name": "ipython",
    "version": 3
   },
   "file_extension": ".py",
   "mimetype": "text/x-python",
   "name": "python",
   "nbconvert_exporter": "python",
   "pygments_lexer": "ipython3",
   "version": "3.9.15"
  }
 },
 "nbformat": 4,
 "nbformat_minor": 4
}

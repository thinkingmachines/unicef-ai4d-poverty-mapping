{
 "cells": [
  {
   "cell_type": "raw",
   "metadata": {},
   "source": [
    "---\n",
    "title: Malaysia Model Rollout Part 2 (Generate Roll-out Grids) \n",
    "format:\n",
    "  html:\n",
    "    code-fold: false\n",
    "---"
   ]
  },
  {
   "cell_type": "code",
   "execution_count": 1,
   "metadata": {},
   "outputs": [],
   "source": [
    "%matplotlib inline\n",
    "%reload_ext autoreload\n",
    "%autoreload 2"
   ]
  },
  {
   "cell_type": "code",
   "execution_count": 2,
   "metadata": {},
   "outputs": [
    {
     "name": "stderr",
     "output_type": "stream",
     "text": [
      "/home/jace/workspace/unicef-ai4d-poverty-mapping/env/lib/python3.9/site-packages/geopandas/_compat.py:111: UserWarning: The Shapely GEOS version (3.11.1-CAPI-1.17.1) is incompatible with the GEOS version PyGEOS was compiled with (3.10.1-CAPI-1.16.0). Conversions between both will be slow.\n",
      "  warnings.warn(\n"
     ]
    }
   ],
   "source": [
    "import sys\n",
    "sys.path.append(\"../../\")\n",
    "import os\n",
    "from povertymapping.rollout_grids import get_region_filtered_bingtile_grids \n",
    "from povertymapping.iso3 import get_iso3_code\n",
    "import pandas as pd\n",
    "import geopandas as gpd"
   ]
  },
  {
   "attachments": {},
   "cell_type": "markdown",
   "metadata": {},
   "source": [
    "# Malaysia Model Rollout Part 2 (Generate Roll-out Grids) \n",
    "\n",
    "This notebook generates the rollout grid tiles over the country. The output file is used as an input for Step 3, where we will run the trained model over the set of grids.\n",
    "\n",
    "The generated grids are set at 2.4km (zoom level 14), matching the grids used during model training. The grids are also filtered to only include populated areas based on Meta's High Resolution Settlement Layer (HRSL) data."
   ]
  },
  {
   "attachments": {},
   "cell_type": "markdown",
   "metadata": {},
   "source": [
    "## Set country-specific parameters"
   ]
  },
  {
   "cell_type": "code",
   "execution_count": 3,
   "metadata": {},
   "outputs": [],
   "source": [
    "REGION = 'malaysia'\n",
    "ADMIN_LVL = 'ADM2'\n",
    "ZOOM_LEVEL = 14\n",
    "country_code = get_iso3_code(REGION, code='alpha-2').lower()"
   ]
  },
  {
   "attachments": {},
   "cell_type": "markdown",
   "metadata": {},
   "source": [
    "## Generate Grids"
   ]
  },
  {
   "cell_type": "code",
   "execution_count": 4,
   "metadata": {},
   "outputs": [
    {
     "name": "stderr",
     "output_type": "stream",
     "text": [
      "2023-03-09 21:41:01.871 | INFO     | povertymapping.rollout_grids:get_region_filtered_bingtile_grids:264 - No cached grids file found. Generating grids file :/home/jace/.cache/geowrangler/quadkey_grids/malaysia_14_ADM2_populated_admin_grids.geojson\n",
      "2023-03-09 21:41:01.872 | DEBUG    | povertymapping.rollout_grids:get_region_filtered_bingtile_grids:281 - Loading boundaries for region malaysia and admin level ADM2\n",
      "2023-03-09 21:41:01.872 | DEBUG    | povertymapping.rollout_grids:get_region_filtered_bingtile_grids:281 - Loading boundaries for region malaysia and admin level ADM2\n",
      "2023-03-09 21:41:02.708 | INFO     | povertymapping.rollout_grids:get_region_filtered_bingtile_grids:287 - Generating grids for region malaysia and admin level ADM2 at quadkey level 14\n"
     ]
    },
    {
     "name": "stderr",
     "output_type": "stream",
     "text": [
      "2023-03-09 21:42:01.196 | INFO     | povertymapping.rollout_grids:get_region_filtered_bingtile_grids:293 - Generated 58058 grids for region malaysia and admin level ADM2 at quadkey level 14\n",
      "2023-03-09 21:42:01.232 | INFO     | povertymapping.rollout_grids:get_region_filtered_bingtile_grids:299 - Assigning grids to admin areas using metric crs epsg:3857\n",
      "2023-03-09 21:42:17.729 | INFO     | povertymapping.rollout_grids:get_region_filtered_bingtile_grids:305 - Getting malaysia population data for filtering grids\n",
      "2023-03-09 21:42:18.839 | INFO     | povertymapping.rollout_grids:get_region_filtered_bingtile_grids:307 - Computing population zonal stats per grid\n",
      "2023-03-09 21:42:18.840 | INFO     | povertymapping.rollout_grids:compute_raster_stats:98 - Creating raster zonal stats for 58058 grids for file size 17418701324\n",
      "2023-03-09 22:02:34.393 | INFO     | povertymapping.rollout_grids:get_region_filtered_bingtile_grids:318 - Filtering unpopulated grids based on population data\n",
      "2023-03-09 22:02:34.409 | INFO     | povertymapping.rollout_grids:get_region_filtered_bingtile_grids:321 - Filtered admin grid count: 30202\n",
      "/home/jace/workspace/unicef-ai4d-poverty-mapping/env/lib/python3.9/site-packages/geopandas/io/file.py:362: FutureWarning: pandas.Int64Index is deprecated and will be removed from pandas in a future version. Use pandas.Index with the appropriate dtype instead.\n",
      "  pd.Int64Index,\n"
     ]
    }
   ],
   "source": [
    "admin_grids_gdf = get_region_filtered_bingtile_grids(\n",
    "    REGION, \n",
    "    admin_lvl=ADMIN_LVL, \n",
    "    quadkey_lvl=ZOOM_LEVEL, \n",
    "    use_cache=True\n",
    ")"
   ]
  },
  {
   "attachments": {},
   "cell_type": "markdown",
   "metadata": {},
   "source": [
    "## Explore Populated Grids"
   ]
  },
  {
   "cell_type": "code",
   "execution_count": 5,
   "metadata": {},
   "outputs": [
    {
     "name": "stdout",
     "output_type": "stream",
     "text": [
      "<class 'geopandas.geodataframe.GeoDataFrame'>\n",
      "Int64Index: 30202 entries, 11 to 58050\n",
      "Data columns (total 8 columns):\n",
      " #   Column      Non-Null Count  Dtype   \n",
      "---  ------      --------------  -----   \n",
      " 0   geometry    30202 non-null  geometry\n",
      " 1   quadkey     30202 non-null  object  \n",
      " 2   shapeName   30202 non-null  object  \n",
      " 3   shapeISO    30202 non-null  object  \n",
      " 4   shapeID     30202 non-null  object  \n",
      " 5   shapeGroup  30202 non-null  object  \n",
      " 6   shapeType   30202 non-null  object  \n",
      " 7   pop_count   30202 non-null  float64 \n",
      "dtypes: float64(1), geometry(1), object(6)\n",
      "memory usage: 2.1+ MB\n"
     ]
    }
   ],
   "source": [
    "admin_grids_gdf.info() "
   ]
  },
  {
   "cell_type": "code",
   "execution_count": 6,
   "metadata": {},
   "outputs": [
    {
     "data": {
      "text/html": [
       "<div>\n",
       "<style scoped>\n",
       "    .dataframe tbody tr th:only-of-type {\n",
       "        vertical-align: middle;\n",
       "    }\n",
       "\n",
       "    .dataframe tbody tr th {\n",
       "        vertical-align: top;\n",
       "    }\n",
       "\n",
       "    .dataframe thead th {\n",
       "        text-align: right;\n",
       "    }\n",
       "</style>\n",
       "<table border=\"1\" class=\"dataframe\">\n",
       "  <thead>\n",
       "    <tr style=\"text-align: right;\">\n",
       "      <th></th>\n",
       "      <th>geometry</th>\n",
       "      <th>quadkey</th>\n",
       "      <th>shapeName</th>\n",
       "      <th>shapeISO</th>\n",
       "      <th>shapeID</th>\n",
       "      <th>shapeGroup</th>\n",
       "      <th>shapeType</th>\n",
       "      <th>pop_count</th>\n",
       "    </tr>\n",
       "  </thead>\n",
       "  <tbody>\n",
       "    <tr>\n",
       "      <th>11</th>\n",
       "      <td>POLYGON ((101.27197 2.92110, 101.27197 2.94304...</td>\n",
       "      <td>13223202222021</td>\n",
       "      <td>Klang</td>\n",
       "      <td>None</td>\n",
       "      <td>MYS-ADM2-3_0_0-B57</td>\n",
       "      <td>MYS</td>\n",
       "      <td>ADM2</td>\n",
       "      <td>1948.905696</td>\n",
       "    </tr>\n",
       "    <tr>\n",
       "      <th>12</th>\n",
       "      <td>POLYGON ((101.27197 2.89915, 101.27197 2.92110...</td>\n",
       "      <td>13223202222023</td>\n",
       "      <td>Klang</td>\n",
       "      <td>None</td>\n",
       "      <td>MYS-ADM2-3_0_0-B57</td>\n",
       "      <td>MYS</td>\n",
       "      <td>ADM2</td>\n",
       "      <td>5633.984424</td>\n",
       "    </tr>\n",
       "  </tbody>\n",
       "</table>\n",
       "</div>"
      ],
      "text/plain": [
       "                                             geometry         quadkey  \\\n",
       "11  POLYGON ((101.27197 2.92110, 101.27197 2.94304...  13223202222021   \n",
       "12  POLYGON ((101.27197 2.89915, 101.27197 2.92110...  13223202222023   \n",
       "\n",
       "   shapeName shapeISO             shapeID shapeGroup shapeType    pop_count  \n",
       "11     Klang     None  MYS-ADM2-3_0_0-B57        MYS      ADM2  1948.905696  \n",
       "12     Klang     None  MYS-ADM2-3_0_0-B57        MYS      ADM2  5633.984424  "
      ]
     },
     "execution_count": 6,
     "metadata": {},
     "output_type": "execute_result"
    }
   ],
   "source": [
    "admin_grids_gdf.head(2)"
   ]
  },
  {
   "cell_type": "code",
   "execution_count": null,
   "metadata": {},
   "outputs": [],
   "source": [
    "admin_grids_gdf.explore()"
   ]
  },
  {
   "attachments": {},
   "cell_type": "markdown",
   "metadata": {},
   "source": [
    "## Save to file"
   ]
  },
  {
   "cell_type": "code",
   "execution_count": 8,
   "metadata": {},
   "outputs": [],
   "source": [
    "rollout_date = '-'.join(os.getcwd().split('/')[-2].split('-')[:3])\n",
    "grid_save_path = f'./{rollout_date}-{country_code}-rollout-grids.geojson'\n",
    "admin_grids_gdf.to_file(grid_save_path, driver='GeoJSON', index=False)"
   ]
  }
 ],
 "metadata": {
  "kernelspec": {
   "display_name": "Python 3",
   "language": "python",
   "name": "python3"
  },
  "language_info": {
   "codemirror_mode": {
    "name": "ipython",
    "version": 3
   },
   "file_extension": ".py",
   "mimetype": "text/x-python",
   "name": "python",
   "nbconvert_exporter": "python",
   "pygments_lexer": "ipython3",
   "version": "3.9.15"
  },
  "orig_nbformat": 4,
  "vscode": {
   "interpreter": {
    "hash": "a9c652687746b7e37dd5eba4a53c758a3d21cd9cb60962b6bb30d0de25d1ae14"
   }
  }
 },
 "nbformat": 4,
 "nbformat_minor": 2
}

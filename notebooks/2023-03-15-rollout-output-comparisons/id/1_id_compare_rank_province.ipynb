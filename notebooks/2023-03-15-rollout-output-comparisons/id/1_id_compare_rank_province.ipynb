{
 "cells": [
  {
   "cell_type": "code",
   "execution_count": 2,
   "metadata": {},
   "outputs": [],
   "source": [
    "%matplotlib inline\n",
    "%reload_ext autoreload\n",
    "%autoreload 2"
   ]
  },
  {
   "cell_type": "code",
   "execution_count": 3,
   "metadata": {},
   "outputs": [],
   "source": [
    "from pathlib import Path\n",
    "import pandas as pd\n",
    "import geopandas as gpd\n",
    "import csv\n",
    "import matplotlib.pyplot as plt\n",
    "import numpy as np"
   ]
  },
  {
   "cell_type": "code",
   "execution_count": 6,
   "metadata": {},
   "outputs": [],
   "source": [
    "import sys\n",
    "import os\n",
    "sys.path.append(\"../../../\")\n",
    "\n",
    "from povertymapping.feature_engineering import generate_features\n",
    "from povertymapping.osm import get_osm_extent \n",
    "from scipy.stats import spearmanr\n",
    "import geowrangler.vector_zonal_stats as vzs"
   ]
  },
  {
   "cell_type": "markdown",
   "metadata": {},
   "source": [
    "## Load boundaries"
   ]
  },
  {
   "cell_type": "code",
   "execution_count": 7,
   "metadata": {},
   "outputs": [
    {
     "data": {
      "text/html": [
       "<div>\n",
       "<style scoped>\n",
       "    .dataframe tbody tr th:only-of-type {\n",
       "        vertical-align: middle;\n",
       "    }\n",
       "\n",
       "    .dataframe tbody tr th {\n",
       "        vertical-align: top;\n",
       "    }\n",
       "\n",
       "    .dataframe thead th {\n",
       "        text-align: right;\n",
       "    }\n",
       "</style>\n",
       "<table border=\"1\" class=\"dataframe\">\n",
       "  <thead>\n",
       "    <tr style=\"text-align: right;\">\n",
       "      <th></th>\n",
       "      <th>Shape_Leng</th>\n",
       "      <th>Shape_Area</th>\n",
       "      <th>ADM2_EN</th>\n",
       "      <th>ADM2_PCODE</th>\n",
       "      <th>ADM2_REF</th>\n",
       "      <th>ADM2ALT1EN</th>\n",
       "      <th>ADM2ALT2EN</th>\n",
       "      <th>ADM1_EN</th>\n",
       "      <th>ADM1_PCODE</th>\n",
       "      <th>ADM0_EN</th>\n",
       "      <th>ADM0_PCODE</th>\n",
       "      <th>date</th>\n",
       "      <th>validOn</th>\n",
       "      <th>validTo</th>\n",
       "      <th>geometry</th>\n",
       "    </tr>\n",
       "  </thead>\n",
       "  <tbody>\n",
       "    <tr>\n",
       "      <th>0</th>\n",
       "      <td>2.360029</td>\n",
       "      <td>0.228968</td>\n",
       "      <td>Aceh Barat</td>\n",
       "      <td>1107</td>\n",
       "      <td>None</td>\n",
       "      <td>None</td>\n",
       "      <td>None</td>\n",
       "      <td>Aceh</td>\n",
       "      <td>ID11</td>\n",
       "      <td>Indonesia</td>\n",
       "      <td>ID</td>\n",
       "      <td>2019-12-20</td>\n",
       "      <td>2020-04-01</td>\n",
       "      <td>None</td>\n",
       "      <td>POLYGON ((96.26836 4.76800, 96.26822 4.76250, ...</td>\n",
       "    </tr>\n",
       "    <tr>\n",
       "      <th>1</th>\n",
       "      <td>1.963994</td>\n",
       "      <td>0.154136</td>\n",
       "      <td>Aceh Barat Daya</td>\n",
       "      <td>1112</td>\n",
       "      <td>None</td>\n",
       "      <td>None</td>\n",
       "      <td>None</td>\n",
       "      <td>Aceh</td>\n",
       "      <td>ID11</td>\n",
       "      <td>Indonesia</td>\n",
       "      <td>ID</td>\n",
       "      <td>2019-12-20</td>\n",
       "      <td>2020-04-01</td>\n",
       "      <td>None</td>\n",
       "      <td>MULTIPOLYGON (((96.80559 3.71758, 96.80444 3.7...</td>\n",
       "    </tr>\n",
       "  </tbody>\n",
       "</table>\n",
       "</div>"
      ],
      "text/plain": [
       "   Shape_Leng  Shape_Area          ADM2_EN ADM2_PCODE ADM2_REF ADM2ALT1EN  \\\n",
       "0    2.360029    0.228968       Aceh Barat       1107     None       None   \n",
       "1    1.963994    0.154136  Aceh Barat Daya       1112     None       None   \n",
       "\n",
       "  ADM2ALT2EN ADM1_EN ADM1_PCODE    ADM0_EN ADM0_PCODE        date     validOn  \\\n",
       "0       None    Aceh       ID11  Indonesia         ID  2019-12-20  2020-04-01   \n",
       "1       None    Aceh       ID11  Indonesia         ID  2019-12-20  2020-04-01   \n",
       "\n",
       "  validTo                                           geometry  \n",
       "0    None  POLYGON ((96.26836 4.76800, 96.26822 4.76250, ...  \n",
       "1    None  MULTIPOLYGON (((96.80559 3.71758, 96.80444 3.7...  "
      ]
     },
     "execution_count": 7,
     "metadata": {},
     "output_type": "execute_result"
    }
   ],
   "source": [
    "id_hdx_adm2_filepath = Path('../../../data/idn_admbnda_adm2_bps_20200401.shp')\n",
    "id_adm2_gdf = gpd.read_file(id_hdx_adm2_filepath)\n",
    "\n",
    "# Get only the number in PCODE to match the comparison data\n",
    "id_adm2_gdf['ADM2_PCODE'] = id_adm2_gdf['ADM2_PCODE'].str[2:].astype(str)\n",
    "id_adm2_gdf.head(2)"
   ]
  },
  {
   "cell_type": "markdown",
   "metadata": {},
   "source": [
    "## Load Indonesia model output"
   ]
  },
  {
   "cell_type": "code",
   "execution_count": 8,
   "metadata": {},
   "outputs": [],
   "source": [
    "id_rollout_output_filepath = Path('2023-02-21-id-rollout-output.geojson')\n",
    "id_rollout_output_gdf = gpd.read_file(id_rollout_output_filepath)"
   ]
  },
  {
   "cell_type": "code",
   "execution_count": 9,
   "metadata": {},
   "outputs": [
    {
     "name": "stdout",
     "output_type": "stream",
     "text": [
      "<class 'geopandas.geodataframe.GeoDataFrame'>\n",
      "RangeIndex: 161230 entries, 0 to 161229\n",
      "Data columns (total 12 columns):\n",
      " #   Column                                Non-Null Count   Dtype   \n",
      "---  ------                                --------------   -----   \n",
      " 0   quadkey                               161230 non-null  object  \n",
      " 1   shapeName                             161230 non-null  object  \n",
      " 2   shapeISO                              161230 non-null  object  \n",
      " 3   shapeID                               161230 non-null  object  \n",
      " 4   shapeGroup                            161230 non-null  object  \n",
      " 5   shapeType                             161230 non-null  object  \n",
      " 6   quadkey_level8                        161230 non-null  object  \n",
      " 7   pop_count                             161230 non-null  float64 \n",
      " 8   osm_region                            161230 non-null  object  \n",
      " 9   Predicted Relative Wealth Index       161230 non-null  float64 \n",
      " 10  Predicted Wealth Category (quintile)  161230 non-null  object  \n",
      " 11  geometry                              161230 non-null  geometry\n",
      "dtypes: float64(2), geometry(1), object(9)\n",
      "memory usage: 14.8+ MB\n"
     ]
    }
   ],
   "source": [
    "id_rollout_output_gdf.info()"
   ]
  },
  {
   "cell_type": "code",
   "execution_count": 10,
   "metadata": {},
   "outputs": [
    {
     "data": {
      "text/plain": [
       "count    161230.000000\n",
       "mean       1696.344622\n",
       "std        5556.739326\n",
       "min           1.279359\n",
       "25%          41.478981\n",
       "50%         275.124374\n",
       "75%        1296.864624\n",
       "max      162671.421875\n",
       "Name: pop_count, dtype: float64"
      ]
     },
     "execution_count": 10,
     "metadata": {},
     "output_type": "execute_result"
    }
   ],
   "source": [
    "id_rollout_output_gdf['pop_count'].describe()"
   ]
  },
  {
   "cell_type": "code",
   "execution_count": 11,
   "metadata": {},
   "outputs": [
    {
     "data": {
      "text/plain": [
       "<AxesSubplot: >"
      ]
     },
     "execution_count": 11,
     "metadata": {},
     "output_type": "execute_result"
    },
    {
     "data": {
      "image/png": "[encoded data removed]",
      "text/plain": [
       "<Figure size 640x480 with 1 Axes>"
      ]
     },
     "metadata": {},
     "output_type": "display_data"
    }
   ],
   "source": [
    "id_rollout_output_gdf['pop_count'].hist(bins=100)"
   ]
  },
  {
   "cell_type": "code",
   "execution_count": 12,
   "metadata": {},
   "outputs": [],
   "source": [
    "# # Filter out to grids that have pop_count > threshold\n",
    "# pop_count_threshold = 275\n",
    "# id_rollout_output_gdf = id_rollout_output_gdf[id_rollout_output_gdf['pop_count'] > pop_count_threshold]"
   ]
  },
  {
   "cell_type": "markdown",
   "metadata": {},
   "source": [
    "## Create wealth index weighted by population\n",
    "For now, we'll weight it naively based on the total country population. We can also weight it based on per adm2"
   ]
  },
  {
   "cell_type": "code",
   "execution_count": 13,
   "metadata": {},
   "outputs": [],
   "source": [
    "id_rollout_output_gdf[\"Predicted Relative Wealth Index (weighted)\"] = (\n",
    "    id_rollout_output_gdf[\"Predicted Relative Wealth Index\"]\n",
    "    * id_rollout_output_gdf[\"pop_count\"]\n",
    ") / id_rollout_output_gdf[\"pop_count\"].sum()\n"
   ]
  },
  {
   "cell_type": "code",
   "execution_count": 14,
   "metadata": {},
   "outputs": [
    {
     "data": {
      "text/html": [
       "<div>\n",
       "<style scoped>\n",
       "    .dataframe tbody tr th:only-of-type {\n",
       "        vertical-align: middle;\n",
       "    }\n",
       "\n",
       "    .dataframe tbody tr th {\n",
       "        vertical-align: top;\n",
       "    }\n",
       "\n",
       "    .dataframe thead th {\n",
       "        text-align: right;\n",
       "    }\n",
       "</style>\n",
       "<table border=\"1\" class=\"dataframe\">\n",
       "  <thead>\n",
       "    <tr style=\"text-align: right;\">\n",
       "      <th></th>\n",
       "      <th>Predicted Relative Wealth Index</th>\n",
       "      <th>pop_count</th>\n",
       "      <th>Predicted Relative Wealth Index (weighted)</th>\n",
       "    </tr>\n",
       "  </thead>\n",
       "  <tbody>\n",
       "    <tr>\n",
       "      <th>0</th>\n",
       "      <td>0.261664</td>\n",
       "      <td>231.423157</td>\n",
       "      <td>2.214065e-07</td>\n",
       "    </tr>\n",
       "    <tr>\n",
       "      <th>1</th>\n",
       "      <td>0.278987</td>\n",
       "      <td>611.618347</td>\n",
       "      <td>6.238856e-07</td>\n",
       "    </tr>\n",
       "    <tr>\n",
       "      <th>2</th>\n",
       "      <td>0.249601</td>\n",
       "      <td>16.530226</td>\n",
       "      <td>1.508568e-08</td>\n",
       "    </tr>\n",
       "    <tr>\n",
       "      <th>3</th>\n",
       "      <td>0.249601</td>\n",
       "      <td>24.795338</td>\n",
       "      <td>2.262852e-08</td>\n",
       "    </tr>\n",
       "    <tr>\n",
       "      <th>4</th>\n",
       "      <td>0.249601</td>\n",
       "      <td>8.265113</td>\n",
       "      <td>7.542839e-09</td>\n",
       "    </tr>\n",
       "    <tr>\n",
       "      <th>...</th>\n",
       "      <td>...</td>\n",
       "      <td>...</td>\n",
       "      <td>...</td>\n",
       "    </tr>\n",
       "    <tr>\n",
       "      <th>161225</th>\n",
       "      <td>0.334472</td>\n",
       "      <td>1198.166626</td>\n",
       "      <td>1.465266e-06</td>\n",
       "    </tr>\n",
       "    <tr>\n",
       "      <th>161226</th>\n",
       "      <td>0.259452</td>\n",
       "      <td>193.518326</td>\n",
       "      <td>1.835774e-07</td>\n",
       "    </tr>\n",
       "    <tr>\n",
       "      <th>161227</th>\n",
       "      <td>0.257541</td>\n",
       "      <td>49.408936</td>\n",
       "      <td>4.652561e-08</td>\n",
       "    </tr>\n",
       "    <tr>\n",
       "      <th>161228</th>\n",
       "      <td>0.295943</td>\n",
       "      <td>506.441589</td>\n",
       "      <td>5.479957e-07</td>\n",
       "    </tr>\n",
       "    <tr>\n",
       "      <th>161229</th>\n",
       "      <td>0.288325</td>\n",
       "      <td>605.259399</td>\n",
       "      <td>6.380632e-07</td>\n",
       "    </tr>\n",
       "  </tbody>\n",
       "</table>\n",
       "<p>161230 rows × 3 columns</p>\n",
       "</div>"
      ],
      "text/plain": [
       "        Predicted Relative Wealth Index    pop_count  \\\n",
       "0                              0.261664   231.423157   \n",
       "1                              0.278987   611.618347   \n",
       "2                              0.249601    16.530226   \n",
       "3                              0.249601    24.795338   \n",
       "4                              0.249601     8.265113   \n",
       "...                                 ...          ...   \n",
       "161225                         0.334472  1198.166626   \n",
       "161226                         0.259452   193.518326   \n",
       "161227                         0.257541    49.408936   \n",
       "161228                         0.295943   506.441589   \n",
       "161229                         0.288325   605.259399   \n",
       "\n",
       "        Predicted Relative Wealth Index (weighted)  \n",
       "0                                     2.214065e-07  \n",
       "1                                     6.238856e-07  \n",
       "2                                     1.508568e-08  \n",
       "3                                     2.262852e-08  \n",
       "4                                     7.542839e-09  \n",
       "...                                            ...  \n",
       "161225                                1.465266e-06  \n",
       "161226                                1.835774e-07  \n",
       "161227                                4.652561e-08  \n",
       "161228                                5.479957e-07  \n",
       "161229                                6.380632e-07  \n",
       "\n",
       "[161230 rows x 3 columns]"
      ]
     },
     "execution_count": 14,
     "metadata": {},
     "output_type": "execute_result"
    }
   ],
   "source": [
    "id_rollout_output_gdf[['Predicted Relative Wealth Index', 'pop_count',\"Predicted Relative Wealth Index (weighted)\"]]"
   ]
  },
  {
   "cell_type": "markdown",
   "metadata": {},
   "source": [
    "### Aggregate the rollout output grids by ADM2"
   ]
  },
  {
   "cell_type": "code",
   "execution_count": 15,
   "metadata": {},
   "outputs": [],
   "source": [
    "# aggregation=[dict(\n",
    "#     column='Predicted Relative Wealth Index',\n",
    "#     output='model_wealth_index_median',\n",
    "#     func='median')]"
   ]
  },
  {
   "cell_type": "code",
   "execution_count": 16,
   "metadata": {},
   "outputs": [],
   "source": [
    "id_rollout_agg_by_adm2 = vzs.create_zonal_stats(\n",
    "    id_adm2_gdf,\n",
    "    id_rollout_output_gdf,\n",
    "    overlap_method=\"intersects\",\n",
    "    aggregations=[\n",
    "        {\n",
    "            \"column\": \"Predicted Relative Wealth Index\",\n",
    "            \"func\": \"mean\",\n",
    "            \"output\": \"model_wealth_index_mean\",\n",
    "        },\n",
    "        {\n",
    "            \"column\": \"Predicted Relative Wealth Index\",\n",
    "            \"func\": \"median\",\n",
    "            \"output\": \"model_wealth_index_median\",\n",
    "        },\n",
    "        {\n",
    "            \"column\": \"Predicted Relative Wealth Index (weighted)\",\n",
    "            \"func\": \"sum\",\n",
    "            \"output\": \"model_wealth_index_weighed_mean\",\n",
    "        }\n",
    "    ],\n",
    ")\n"
   ]
  },
  {
   "cell_type": "code",
   "execution_count": 17,
   "metadata": {},
   "outputs": [
    {
     "data": {
      "text/plain": [
       "<AxesSubplot: >"
      ]
     },
     "execution_count": 17,
     "metadata": {},
     "output_type": "execute_result"
    },
    {
     "data": {
      "image/png": "[encoded data removed]",
      "text/plain": [
       "<Figure size 640x480 with 1 Axes>"
      ]
     },
     "metadata": {},
     "output_type": "display_data"
    }
   ],
   "source": [
    "id_rollout_agg_by_adm2[\"model_wealth_index_mean\"].hist()"
   ]
  },
  {
   "cell_type": "code",
   "execution_count": 18,
   "metadata": {},
   "outputs": [],
   "source": [
    "ranking_col = \"model_wealth_index_mean\"\n",
    "id_rollout_agg_by_adm2['rank'] = id_rollout_agg_by_adm2[ranking_col].rank(ascending=False)"
   ]
  },
  {
   "cell_type": "code",
   "execution_count": 19,
   "metadata": {},
   "outputs": [],
   "source": [
    "# id_rollout_agg_by_adm2 = aggregate_grids_by_admin_bounds(\n",
    "#     id_rollout_output_gdf, \"indonesia\", adm=\"ADM2\", aggregations=aggregation\n",
    "# )\n",
    "# id_rollout_agg_by_adm2['rank'] = id_rollout_agg_by_adm2['model_wealth_index_median'].rank(ascending=False)"
   ]
  },
  {
   "cell_type": "code",
   "execution_count": 20,
   "metadata": {},
   "outputs": [
    {
     "data": {
      "text/html": [
       "<div>\n",
       "<style scoped>\n",
       "    .dataframe tbody tr th:only-of-type {\n",
       "        vertical-align: middle;\n",
       "    }\n",
       "\n",
       "    .dataframe tbody tr th {\n",
       "        vertical-align: top;\n",
       "    }\n",
       "\n",
       "    .dataframe thead th {\n",
       "        text-align: right;\n",
       "    }\n",
       "</style>\n",
       "<table border=\"1\" class=\"dataframe\">\n",
       "  <thead>\n",
       "    <tr style=\"text-align: right;\">\n",
       "      <th></th>\n",
       "      <th>Shape_Leng</th>\n",
       "      <th>Shape_Area</th>\n",
       "      <th>ADM2_EN</th>\n",
       "      <th>ADM2_PCODE</th>\n",
       "      <th>ADM2_REF</th>\n",
       "      <th>ADM2ALT1EN</th>\n",
       "      <th>ADM2ALT2EN</th>\n",
       "      <th>ADM1_EN</th>\n",
       "      <th>ADM1_PCODE</th>\n",
       "      <th>ADM0_EN</th>\n",
       "      <th>ADM0_PCODE</th>\n",
       "      <th>date</th>\n",
       "      <th>validOn</th>\n",
       "      <th>validTo</th>\n",
       "      <th>geometry</th>\n",
       "      <th>model_wealth_index_mean</th>\n",
       "      <th>model_wealth_index_median</th>\n",
       "      <th>model_wealth_index_weighed_mean</th>\n",
       "      <th>rank</th>\n",
       "    </tr>\n",
       "  </thead>\n",
       "  <tbody>\n",
       "    <tr>\n",
       "      <th>206</th>\n",
       "      <td>0.383759</td>\n",
       "      <td>0.003913</td>\n",
       "      <td>Kota Jakarta Pusat</td>\n",
       "      <td>3173</td>\n",
       "      <td>None</td>\n",
       "      <td>None</td>\n",
       "      <td>None</td>\n",
       "      <td>Dki Jakarta</td>\n",
       "      <td>ID31</td>\n",
       "      <td>Indonesia</td>\n",
       "      <td>ID</td>\n",
       "      <td>2019-12-20</td>\n",
       "      <td>2020-04-01</td>\n",
       "      <td>None</td>\n",
       "      <td>POLYGON ((106.83247 -6.14138, 106.83282 -6.141...</td>\n",
       "      <td>0.711011</td>\n",
       "      <td>0.727467</td>\n",
       "      <td>0.005703</td>\n",
       "      <td>1.0</td>\n",
       "    </tr>\n",
       "    <tr>\n",
       "      <th>207</th>\n",
       "      <td>0.838971</td>\n",
       "      <td>0.011834</td>\n",
       "      <td>Kota Jakarta Selatan</td>\n",
       "      <td>3171</td>\n",
       "      <td>None</td>\n",
       "      <td>None</td>\n",
       "      <td>None</td>\n",
       "      <td>Dki Jakarta</td>\n",
       "      <td>ID31</td>\n",
       "      <td>Indonesia</td>\n",
       "      <td>ID</td>\n",
       "      <td>2019-12-20</td>\n",
       "      <td>2020-04-01</td>\n",
       "      <td>None</td>\n",
       "      <td>POLYGON ((106.83399 -6.20492, 106.83399 -6.204...</td>\n",
       "      <td>0.675328</td>\n",
       "      <td>0.660643</td>\n",
       "      <td>0.009470</td>\n",
       "      <td>2.0</td>\n",
       "    </tr>\n",
       "    <tr>\n",
       "      <th>205</th>\n",
       "      <td>0.590340</td>\n",
       "      <td>0.010251</td>\n",
       "      <td>Kota Jakarta Barat</td>\n",
       "      <td>3174</td>\n",
       "      <td>None</td>\n",
       "      <td>None</td>\n",
       "      <td>None</td>\n",
       "      <td>Dki Jakarta</td>\n",
       "      <td>ID31</td>\n",
       "      <td>Indonesia</td>\n",
       "      <td>ID</td>\n",
       "      <td>2019-12-20</td>\n",
       "      <td>2020-04-01</td>\n",
       "      <td>None</td>\n",
       "      <td>POLYGON ((106.70503 -6.09560, 106.70526 -6.095...</td>\n",
       "      <td>0.667906</td>\n",
       "      <td>0.669368</td>\n",
       "      <td>0.009441</td>\n",
       "      <td>3.0</td>\n",
       "    </tr>\n",
       "    <tr>\n",
       "      <th>274</th>\n",
       "      <td>0.341378</td>\n",
       "      <td>0.002698</td>\n",
       "      <td>Kota Yogyakarta</td>\n",
       "      <td>3471</td>\n",
       "      <td>None</td>\n",
       "      <td>None</td>\n",
       "      <td>None</td>\n",
       "      <td>Daerah Istimewa Yogyakarta</td>\n",
       "      <td>ID34</td>\n",
       "      <td>Indonesia</td>\n",
       "      <td>ID</td>\n",
       "      <td>2019-12-20</td>\n",
       "      <td>2020-04-01</td>\n",
       "      <td>None</td>\n",
       "      <td>POLYGON ((110.35906 -7.77126, 110.36064 -7.771...</td>\n",
       "      <td>0.658596</td>\n",
       "      <td>0.641732</td>\n",
       "      <td>0.001309</td>\n",
       "      <td>4.0</td>\n",
       "    </tr>\n",
       "    <tr>\n",
       "      <th>208</th>\n",
       "      <td>1.021113</td>\n",
       "      <td>0.015089</td>\n",
       "      <td>Kota Jakarta Timur</td>\n",
       "      <td>3172</td>\n",
       "      <td>None</td>\n",
       "      <td>None</td>\n",
       "      <td>None</td>\n",
       "      <td>Dki Jakarta</td>\n",
       "      <td>ID31</td>\n",
       "      <td>Indonesia</td>\n",
       "      <td>ID</td>\n",
       "      <td>2019-12-20</td>\n",
       "      <td>2020-04-01</td>\n",
       "      <td>None</td>\n",
       "      <td>POLYGON ((106.94011 -6.15492, 106.94016 -6.155...</td>\n",
       "      <td>0.652243</td>\n",
       "      <td>0.647513</td>\n",
       "      <td>0.011485</td>\n",
       "      <td>5.0</td>\n",
       "    </tr>\n",
       "    <tr>\n",
       "      <th>...</th>\n",
       "      <td>...</td>\n",
       "      <td>...</td>\n",
       "      <td>...</td>\n",
       "      <td>...</td>\n",
       "      <td>...</td>\n",
       "      <td>...</td>\n",
       "      <td>...</td>\n",
       "      <td>...</td>\n",
       "      <td>...</td>\n",
       "      <td>...</td>\n",
       "      <td>...</td>\n",
       "      <td>...</td>\n",
       "      <td>...</td>\n",
       "      <td>...</td>\n",
       "      <td>...</td>\n",
       "      <td>...</td>\n",
       "      <td>...</td>\n",
       "      <td>...</td>\n",
       "      <td>...</td>\n",
       "    </tr>\n",
       "    <tr>\n",
       "      <th>367</th>\n",
       "      <td>4.159698</td>\n",
       "      <td>0.568092</td>\n",
       "      <td>Nduga</td>\n",
       "      <td>9429</td>\n",
       "      <td>None</td>\n",
       "      <td>None</td>\n",
       "      <td>None</td>\n",
       "      <td>Papua</td>\n",
       "      <td>ID94</td>\n",
       "      <td>Indonesia</td>\n",
       "      <td>ID</td>\n",
       "      <td>2019-12-20</td>\n",
       "      <td>2020-04-01</td>\n",
       "      <td>None</td>\n",
       "      <td>POLYGON ((137.84920 -4.15134, 137.86574 -4.155...</td>\n",
       "      <td>0.259155</td>\n",
       "      <td>0.251647</td>\n",
       "      <td>0.000215</td>\n",
       "      <td>518.0</td>\n",
       "    </tr>\n",
       "    <tr>\n",
       "      <th>338</th>\n",
       "      <td>7.713318</td>\n",
       "      <td>2.111425</td>\n",
       "      <td>Mappi</td>\n",
       "      <td>9414</td>\n",
       "      <td>None</td>\n",
       "      <td>None</td>\n",
       "      <td>None</td>\n",
       "      <td>Papua</td>\n",
       "      <td>ID94</td>\n",
       "      <td>Indonesia</td>\n",
       "      <td>ID</td>\n",
       "      <td>2019-12-20</td>\n",
       "      <td>2020-04-01</td>\n",
       "      <td>None</td>\n",
       "      <td>MULTIPOLYGON (((138.79668 -7.16291, 138.79643 ...</td>\n",
       "      <td>0.257092</td>\n",
       "      <td>0.251090</td>\n",
       "      <td>0.000191</td>\n",
       "      <td>519.0</td>\n",
       "    </tr>\n",
       "    <tr>\n",
       "      <th>14</th>\n",
       "      <td>7.478910</td>\n",
       "      <td>2.041799</td>\n",
       "      <td>Asmat</td>\n",
       "      <td>9415</td>\n",
       "      <td>None</td>\n",
       "      <td>None</td>\n",
       "      <td>None</td>\n",
       "      <td>Papua</td>\n",
       "      <td>ID94</td>\n",
       "      <td>Indonesia</td>\n",
       "      <td>ID</td>\n",
       "      <td>2019-12-20</td>\n",
       "      <td>2020-04-01</td>\n",
       "      <td>None</td>\n",
       "      <td>MULTIPOLYGON (((138.00597 -5.50357, 138.00627 ...</td>\n",
       "      <td>0.256509</td>\n",
       "      <td>0.251647</td>\n",
       "      <td>0.000123</td>\n",
       "      <td>520.0</td>\n",
       "    </tr>\n",
       "    <tr>\n",
       "      <th>327</th>\n",
       "      <td>10.507274</td>\n",
       "      <td>2.350389</td>\n",
       "      <td>Mamberamo Raya</td>\n",
       "      <td>9428</td>\n",
       "      <td>None</td>\n",
       "      <td>None</td>\n",
       "      <td>None</td>\n",
       "      <td>Papua</td>\n",
       "      <td>ID94</td>\n",
       "      <td>Indonesia</td>\n",
       "      <td>ID</td>\n",
       "      <td>2019-12-20</td>\n",
       "      <td>2020-04-01</td>\n",
       "      <td>None</td>\n",
       "      <td>MULTIPOLYGON (((136.90897 -2.17919, 136.90863 ...</td>\n",
       "      <td>0.256437</td>\n",
       "      <td>0.251647</td>\n",
       "      <td>0.000045</td>\n",
       "      <td>521.0</td>\n",
       "    </tr>\n",
       "    <tr>\n",
       "      <th>161</th>\n",
       "      <td>1.278015</td>\n",
       "      <td>0.000880</td>\n",
       "      <td>Kepulauan Seribu</td>\n",
       "      <td>3101</td>\n",
       "      <td>None</td>\n",
       "      <td>None</td>\n",
       "      <td>None</td>\n",
       "      <td>Dki Jakarta</td>\n",
       "      <td>ID31</td>\n",
       "      <td>Indonesia</td>\n",
       "      <td>ID</td>\n",
       "      <td>2019-12-20</td>\n",
       "      <td>2020-04-01</td>\n",
       "      <td>None</td>\n",
       "      <td>MULTIPOLYGON (((106.73563 -6.04014, 106.73548 ...</td>\n",
       "      <td>NaN</td>\n",
       "      <td>NaN</td>\n",
       "      <td>NaN</td>\n",
       "      <td>NaN</td>\n",
       "    </tr>\n",
       "  </tbody>\n",
       "</table>\n",
       "<p>522 rows × 19 columns</p>\n",
       "</div>"
      ],
      "text/plain": [
       "     Shape_Leng  Shape_Area               ADM2_EN ADM2_PCODE ADM2_REF  \\\n",
       "206    0.383759    0.003913    Kota Jakarta Pusat       3173     None   \n",
       "207    0.838971    0.011834  Kota Jakarta Selatan       3171     None   \n",
       "205    0.590340    0.010251    Kota Jakarta Barat       3174     None   \n",
       "274    0.341378    0.002698       Kota Yogyakarta       3471     None   \n",
       "208    1.021113    0.015089    Kota Jakarta Timur       3172     None   \n",
       "..          ...         ...                   ...        ...      ...   \n",
       "367    4.159698    0.568092                 Nduga       9429     None   \n",
       "338    7.713318    2.111425                 Mappi       9414     None   \n",
       "14     7.478910    2.041799                 Asmat       9415     None   \n",
       "327   10.507274    2.350389        Mamberamo Raya       9428     None   \n",
       "161    1.278015    0.000880      Kepulauan Seribu       3101     None   \n",
       "\n",
       "    ADM2ALT1EN ADM2ALT2EN                     ADM1_EN ADM1_PCODE    ADM0_EN  \\\n",
       "206       None       None                 Dki Jakarta       ID31  Indonesia   \n",
       "207       None       None                 Dki Jakarta       ID31  Indonesia   \n",
       "205       None       None                 Dki Jakarta       ID31  Indonesia   \n",
       "274       None       None  Daerah Istimewa Yogyakarta       ID34  Indonesia   \n",
       "208       None       None                 Dki Jakarta       ID31  Indonesia   \n",
       "..         ...        ...                         ...        ...        ...   \n",
       "367       None       None                       Papua       ID94  Indonesia   \n",
       "338       None       None                       Papua       ID94  Indonesia   \n",
       "14        None       None                       Papua       ID94  Indonesia   \n",
       "327       None       None                       Papua       ID94  Indonesia   \n",
       "161       None       None                 Dki Jakarta       ID31  Indonesia   \n",
       "\n",
       "    ADM0_PCODE        date     validOn validTo  \\\n",
       "206         ID  2019-12-20  2020-04-01    None   \n",
       "207         ID  2019-12-20  2020-04-01    None   \n",
       "205         ID  2019-12-20  2020-04-01    None   \n",
       "274         ID  2019-12-20  2020-04-01    None   \n",
       "208         ID  2019-12-20  2020-04-01    None   \n",
       "..         ...         ...         ...     ...   \n",
       "367         ID  2019-12-20  2020-04-01    None   \n",
       "338         ID  2019-12-20  2020-04-01    None   \n",
       "14          ID  2019-12-20  2020-04-01    None   \n",
       "327         ID  2019-12-20  2020-04-01    None   \n",
       "161         ID  2019-12-20  2020-04-01    None   \n",
       "\n",
       "                                              geometry  \\\n",
       "206  POLYGON ((106.83247 -6.14138, 106.83282 -6.141...   \n",
       "207  POLYGON ((106.83399 -6.20492, 106.83399 -6.204...   \n",
       "205  POLYGON ((106.70503 -6.09560, 106.70526 -6.095...   \n",
       "274  POLYGON ((110.35906 -7.77126, 110.36064 -7.771...   \n",
       "208  POLYGON ((106.94011 -6.15492, 106.94016 -6.155...   \n",
       "..                                                 ...   \n",
       "367  POLYGON ((137.84920 -4.15134, 137.86574 -4.155...   \n",
       "338  MULTIPOLYGON (((138.79668 -7.16291, 138.79643 ...   \n",
       "14   MULTIPOLYGON (((138.00597 -5.50357, 138.00627 ...   \n",
       "327  MULTIPOLYGON (((136.90897 -2.17919, 136.90863 ...   \n",
       "161  MULTIPOLYGON (((106.73563 -6.04014, 106.73548 ...   \n",
       "\n",
       "     model_wealth_index_mean  model_wealth_index_median  \\\n",
       "206                 0.711011                   0.727467   \n",
       "207                 0.675328                   0.660643   \n",
       "205                 0.667906                   0.669368   \n",
       "274                 0.658596                   0.641732   \n",
       "208                 0.652243                   0.647513   \n",
       "..                       ...                        ...   \n",
       "367                 0.259155                   0.251647   \n",
       "338                 0.257092                   0.251090   \n",
       "14                  0.256509                   0.251647   \n",
       "327                 0.256437                   0.251647   \n",
       "161                      NaN                        NaN   \n",
       "\n",
       "     model_wealth_index_weighed_mean   rank  \n",
       "206                         0.005703    1.0  \n",
       "207                         0.009470    2.0  \n",
       "205                         0.009441    3.0  \n",
       "274                         0.001309    4.0  \n",
       "208                         0.011485    5.0  \n",
       "..                               ...    ...  \n",
       "367                         0.000215  518.0  \n",
       "338                         0.000191  519.0  \n",
       "14                          0.000123  520.0  \n",
       "327                         0.000045  521.0  \n",
       "161                              NaN    NaN  \n",
       "\n",
       "[522 rows x 19 columns]"
      ]
     },
     "execution_count": 20,
     "metadata": {},
     "output_type": "execute_result"
    }
   ],
   "source": [
    "id_rollout_agg_by_adm2.sort_values('rank')"
   ]
  },
  {
   "cell_type": "markdown",
   "metadata": {},
   "source": [
    "## Load comparison data for Indonesia\n",
    "\n",
    "Note: The csv provided is dirty (has quotations for each line) so we have to clean it before loading as a dataframe"
   ]
  },
  {
   "cell_type": "code",
   "execution_count": 21,
   "metadata": {},
   "outputs": [],
   "source": [
    "id_susenas_csv_filepath = Path('../../../data/20220706-IDN-Susenas Relative Wealth Index.csv')"
   ]
  },
  {
   "cell_type": "code",
   "execution_count": 22,
   "metadata": {},
   "outputs": [
    {
     "name": "stdout",
     "output_type": "stream",
     "text": [
      "<class 'pandas.core.frame.DataFrame'>\n",
      "RangeIndex: 513 entries, 0 to 512\n",
      "Data columns (total 5 columns):\n",
      " #   Column           Non-Null Count  Dtype  \n",
      "---  ------           --------------  -----  \n",
      " 0   ADM2_PCODE       513 non-null    object \n",
      " 1   wi_est_weighted  513 non-null    float64\n",
      " 2   FWT              513 non-null    float64\n",
      " 3   decile           513 non-null    int64  \n",
      " 4   percentile       513 non-null    int64  \n",
      "dtypes: float64(2), int64(2), object(1)\n",
      "memory usage: 20.2+ KB\n"
     ]
    }
   ],
   "source": [
    "# Input data is misformatted\n",
    "# Read data line per line and store as dataframe\n",
    "data_lines = []\n",
    "with open(id_susenas_csv_filepath, 'r') as csvfile:\n",
    "    datareader = csv.reader(csvfile)\n",
    "    for i, row in enumerate(datareader):\n",
    "        line = row[0]\n",
    "        line = line.split(',')[1:]\n",
    "        if i == 0:\n",
    "            header = line\n",
    "        else:\n",
    "            data_lines.append(line)\n",
    "\n",
    "id_susenas_df = pd.DataFrame(columns=header, data=data_lines)\n",
    "id_susenas_df['ADM2_PCODE'] = id_susenas_df['ADM2_PCODE'].astype(str)\n",
    "num_cols = ['wi_est_weighted', 'FWT', 'decile', 'percentile']\n",
    "for col in num_cols:\n",
    "    id_susenas_df[col] = pd.to_numeric(id_susenas_df[col])\n",
    "id_susenas_df.info()"
   ]
  },
  {
   "cell_type": "code",
   "execution_count": 23,
   "metadata": {},
   "outputs": [
    {
     "data": {
      "text/html": [
       "<div>\n",
       "<style scoped>\n",
       "    .dataframe tbody tr th:only-of-type {\n",
       "        vertical-align: middle;\n",
       "    }\n",
       "\n",
       "    .dataframe tbody tr th {\n",
       "        vertical-align: top;\n",
       "    }\n",
       "\n",
       "    .dataframe thead th {\n",
       "        text-align: right;\n",
       "    }\n",
       "</style>\n",
       "<table border=\"1\" class=\"dataframe\">\n",
       "  <thead>\n",
       "    <tr style=\"text-align: right;\">\n",
       "      <th></th>\n",
       "      <th>ADM2_PCODE</th>\n",
       "      <th>wi_est_weighted</th>\n",
       "      <th>FWT</th>\n",
       "      <th>decile</th>\n",
       "      <th>percentile</th>\n",
       "    </tr>\n",
       "  </thead>\n",
       "  <tbody>\n",
       "    <tr>\n",
       "      <th>181</th>\n",
       "      <td>3275</td>\n",
       "      <td>2.976982</td>\n",
       "      <td>822795.057168</td>\n",
       "      <td>9</td>\n",
       "      <td>99</td>\n",
       "    </tr>\n",
       "    <tr>\n",
       "      <th>280</th>\n",
       "      <td>5171</td>\n",
       "      <td>2.845034</td>\n",
       "      <td>291766.005047</td>\n",
       "      <td>9</td>\n",
       "      <td>99</td>\n",
       "    </tr>\n",
       "    <tr>\n",
       "      <th>182</th>\n",
       "      <td>3276</td>\n",
       "      <td>2.831525</td>\n",
       "      <td>666770.841333</td>\n",
       "      <td>9</td>\n",
       "      <td>99</td>\n",
       "    </tr>\n",
       "    <tr>\n",
       "      <th>146</th>\n",
       "      <td>1971</td>\n",
       "      <td>2.822536</td>\n",
       "      <td>59100.144617</td>\n",
       "      <td>9</td>\n",
       "      <td>99</td>\n",
       "    </tr>\n",
       "    <tr>\n",
       "      <th>271</th>\n",
       "      <td>3674</td>\n",
       "      <td>2.769406</td>\n",
       "      <td>462216.548087</td>\n",
       "      <td>9</td>\n",
       "      <td>99</td>\n",
       "    </tr>\n",
       "    <tr>\n",
       "      <th>18</th>\n",
       "      <td>1171</td>\n",
       "      <td>2.744420</td>\n",
       "      <td>78648.391220</td>\n",
       "      <td>9</td>\n",
       "      <td>99</td>\n",
       "    </tr>\n",
       "    <tr>\n",
       "      <th>269</th>\n",
       "      <td>3672</td>\n",
       "      <td>2.728934</td>\n",
       "      <td>105039.098669</td>\n",
       "      <td>9</td>\n",
       "      <td>98</td>\n",
       "    </tr>\n",
       "    <tr>\n",
       "      <th>363</th>\n",
       "      <td>6474</td>\n",
       "      <td>2.703631</td>\n",
       "      <td>47393.633010</td>\n",
       "      <td>9</td>\n",
       "      <td>98</td>\n",
       "    </tr>\n",
       "    <tr>\n",
       "      <th>268</th>\n",
       "      <td>3671</td>\n",
       "      <td>2.698627</td>\n",
       "      <td>604716.086515</td>\n",
       "      <td>9</td>\n",
       "      <td>98</td>\n",
       "    </tr>\n",
       "    <tr>\n",
       "      <th>261</th>\n",
       "      <td>3577</td>\n",
       "      <td>2.651625</td>\n",
       "      <td>51633.042267</td>\n",
       "      <td>9</td>\n",
       "      <td>98</td>\n",
       "    </tr>\n",
       "  </tbody>\n",
       "</table>\n",
       "</div>"
      ],
      "text/plain": [
       "    ADM2_PCODE  wi_est_weighted            FWT  decile  percentile\n",
       "181       3275         2.976982  822795.057168       9          99\n",
       "280       5171         2.845034  291766.005047       9          99\n",
       "182       3276         2.831525  666770.841333       9          99\n",
       "146       1971         2.822536   59100.144617       9          99\n",
       "271       3674         2.769406  462216.548087       9          99\n",
       "18        1171         2.744420   78648.391220       9          99\n",
       "269       3672         2.728934  105039.098669       9          98\n",
       "363       6474         2.703631   47393.633010       9          98\n",
       "268       3671         2.698627  604716.086515       9          98\n",
       "261       3577         2.651625   51633.042267       9          98"
      ]
     },
     "execution_count": 23,
     "metadata": {},
     "output_type": "execute_result"
    }
   ],
   "source": [
    "# Sense check\n",
    "id_susenas_df.sort_values(\"wi_est_weighted\", ascending=False).head(10)"
   ]
  },
  {
   "cell_type": "markdown",
   "metadata": {},
   "source": [
    "### Temporary Fix: Use HDX admin bounds file to attach the proper PCODE\n",
    "The Indonesia comparison data has no geoms but has a PCODE, which we can use with the official admin boundaries from HDX"
   ]
  },
  {
   "cell_type": "code",
   "execution_count": 24,
   "metadata": {},
   "outputs": [
    {
     "name": "stdout",
     "output_type": "stream",
     "text": [
      "<class 'geopandas.geodataframe.GeoDataFrame'>\n",
      "Int64Index: 513 entries, 0 to 512\n",
      "Data columns (total 19 columns):\n",
      " #   Column           Non-Null Count  Dtype   \n",
      "---  ------           --------------  -----   \n",
      " 0   ADM2_PCODE       513 non-null    object  \n",
      " 1   wi_est_weighted  513 non-null    float64 \n",
      " 2   FWT              513 non-null    float64 \n",
      " 3   decile           513 non-null    int64   \n",
      " 4   percentile       513 non-null    int64   \n",
      " 5   Shape_Leng       513 non-null    float64 \n",
      " 6   Shape_Area       513 non-null    float64 \n",
      " 7   ADM2_EN          513 non-null    object  \n",
      " 8   ADM2_REF         0 non-null      object  \n",
      " 9   ADM2ALT1EN       0 non-null      object  \n",
      " 10  ADM2ALT2EN       0 non-null      object  \n",
      " 11  ADM1_EN          513 non-null    object  \n",
      " 12  ADM1_PCODE       513 non-null    object  \n",
      " 13  ADM0_EN          513 non-null    object  \n",
      " 14  ADM0_PCODE       513 non-null    object  \n",
      " 15  date             513 non-null    object  \n",
      " 16  validOn          513 non-null    object  \n",
      " 17  validTo          0 non-null      object  \n",
      " 18  geometry         513 non-null    geometry\n",
      "dtypes: float64(4), geometry(1), int64(2), object(12)\n",
      "memory usage: 80.2+ KB\n"
     ]
    }
   ],
   "source": [
    "id_susenas_geoms_df = id_susenas_df.merge(id_adm2_gdf, how='left', on='ADM2_PCODE')\n",
    "id_susenas_geoms_gdf = gpd.GeoDataFrame(id_susenas_geoms_df, geometry=\"geometry\")\n",
    "id_susenas_geoms_gdf.info()"
   ]
  },
  {
   "cell_type": "code",
   "execution_count": 25,
   "metadata": {},
   "outputs": [
    {
     "data": {
      "text/plain": [
       "<AxesSubplot: >"
      ]
     },
     "execution_count": 25,
     "metadata": {},
     "output_type": "execute_result"
    },
    {
     "data": {
      "image/png": "[encoded data removed]",
      "text/plain": [
       "<Figure size 640x480 with 1 Axes>"
      ]
     },
     "metadata": {},
     "output_type": "display_data"
    }
   ],
   "source": [
    "id_susenas_geoms_df['wi_est_weighted'].hist()"
   ]
  },
  {
   "cell_type": "code",
   "execution_count": 26,
   "metadata": {},
   "outputs": [],
   "source": [
    "## Get rank\n",
    "id_susenas_geoms_gdf['rank'] = id_susenas_geoms_gdf['wi_est_weighted'].rank(ascending=False)"
   ]
  },
  {
   "cell_type": "markdown",
   "metadata": {},
   "source": [
    "## Check ADM2_EN matches"
   ]
  },
  {
   "cell_type": "code",
   "execution_count": 27,
   "metadata": {},
   "outputs": [],
   "source": [
    "id_susenas_area_names = id_susenas_geoms_gdf['ADM2_EN'].values.tolist()\n",
    "id_rollout_agg_area_names = id_rollout_agg_by_adm2['ADM2_EN'].values.tolist()"
   ]
  },
  {
   "cell_type": "code",
   "execution_count": 28,
   "metadata": {},
   "outputs": [
    {
     "data": {
      "text/plain": [
       "['Waduk Cirata',\n",
       " 'Danau Toba',\n",
       " 'Kepulauan Seribu',\n",
       " 'Wadung Kedungombo',\n",
       " 'Danau',\n",
       " 'Hutan']"
      ]
     },
     "execution_count": 28,
     "metadata": {},
     "output_type": "execute_result"
    }
   ],
   "source": [
    "no_matches = list(set(id_rollout_agg_area_names).difference(id_susenas_area_names))\n",
    "no_matches"
   ]
  },
  {
   "cell_type": "code",
   "execution_count": 29,
   "metadata": {},
   "outputs": [],
   "source": [
    "def returnNotMatches(a, b):\n",
    "    return [[x for x in a if x not in b], [x for x in b if x not in a]]"
   ]
  },
  {
   "cell_type": "code",
   "execution_count": 30,
   "metadata": {},
   "outputs": [
    {
     "data": {
      "text/plain": [
       "[[],\n",
       " ['Danau',\n",
       "  'Danau',\n",
       "  'Danau',\n",
       "  'Danau',\n",
       "  'Danau Toba',\n",
       "  'Hutan',\n",
       "  'Kepulauan Seribu',\n",
       "  'Waduk Cirata',\n",
       "  'Wadung Kedungombo']]"
      ]
     },
     "execution_count": 30,
     "metadata": {},
     "output_type": "execute_result"
    }
   ],
   "source": [
    "# 6 items in the rollout data (out of 519) don't have matches in the comparison data \n",
    "# We'll drop them in the final comparison\n",
    "returnNotMatches(id_susenas_area_names, id_rollout_agg_area_names)"
   ]
  },
  {
   "cell_type": "markdown",
   "metadata": {},
   "source": [
    "## Get rank correlation"
   ]
  },
  {
   "cell_type": "code",
   "execution_count": 31,
   "metadata": {},
   "outputs": [],
   "source": [
    "# id_susenas_geoms_gdf['shapeName'] = id_susenas_geoms_gdf['ADM2_EN']\n",
    "# id_susenas_geoms_gdf.head()"
   ]
  },
  {
   "cell_type": "code",
   "execution_count": 32,
   "metadata": {},
   "outputs": [],
   "source": [
    "id_rollout_agg_by_adm2 = id_rollout_agg_by_adm2[~id_rollout_agg_by_adm2['ADM2_EN'].isin(no_matches)]"
   ]
  },
  {
   "cell_type": "code",
   "execution_count": 33,
   "metadata": {},
   "outputs": [
    {
     "data": {
      "text/html": [
       "<div>\n",
       "<style scoped>\n",
       "    .dataframe tbody tr th:only-of-type {\n",
       "        vertical-align: middle;\n",
       "    }\n",
       "\n",
       "    .dataframe tbody tr th {\n",
       "        vertical-align: top;\n",
       "    }\n",
       "\n",
       "    .dataframe thead th {\n",
       "        text-align: right;\n",
       "    }\n",
       "</style>\n",
       "<table border=\"1\" class=\"dataframe\">\n",
       "  <thead>\n",
       "    <tr style=\"text-align: right;\">\n",
       "      <th></th>\n",
       "      <th>ADM2_EN_model</th>\n",
       "      <th>ADM2_PCODE</th>\n",
       "      <th>model_wealth_index_median</th>\n",
       "      <th>rank_model</th>\n",
       "      <th>geometry</th>\n",
       "      <th>ADM2_EN_reference</th>\n",
       "      <th>wi_est_weighted</th>\n",
       "      <th>rank_reference</th>\n",
       "    </tr>\n",
       "  </thead>\n",
       "  <tbody>\n",
       "    <tr>\n",
       "      <th>0</th>\n",
       "      <td>Aceh Barat</td>\n",
       "      <td>1107</td>\n",
       "      <td>0.288863</td>\n",
       "      <td>315.0</td>\n",
       "      <td>POLYGON ((96.26836 4.76800, 96.26822 4.76250, ...</td>\n",
       "      <td>Aceh Barat</td>\n",
       "      <td>1.212825</td>\n",
       "      <td>100.0</td>\n",
       "    </tr>\n",
       "    <tr>\n",
       "      <th>1</th>\n",
       "      <td>Aceh Barat Daya</td>\n",
       "      <td>1112</td>\n",
       "      <td>0.329475</td>\n",
       "      <td>210.0</td>\n",
       "      <td>MULTIPOLYGON (((96.80559 3.71758, 96.80444 3.7...</td>\n",
       "      <td>Aceh Barat Daya</td>\n",
       "      <td>0.445685</td>\n",
       "      <td>176.0</td>\n",
       "    </tr>\n",
       "    <tr>\n",
       "      <th>2</th>\n",
       "      <td>Aceh Besar</td>\n",
       "      <td>1108</td>\n",
       "      <td>0.326697</td>\n",
       "      <td>204.0</td>\n",
       "      <td>MULTIPOLYGON (((95.20544 5.28072, 95.20563 5.2...</td>\n",
       "      <td>Aceh Besar</td>\n",
       "      <td>1.449827</td>\n",
       "      <td>74.0</td>\n",
       "    </tr>\n",
       "    <tr>\n",
       "      <th>3</th>\n",
       "      <td>Aceh Jaya</td>\n",
       "      <td>1116</td>\n",
       "      <td>0.289465</td>\n",
       "      <td>359.0</td>\n",
       "      <td>MULTIPOLYGON (((95.58431 4.61495, 95.58379 4.6...</td>\n",
       "      <td>Aceh Jaya</td>\n",
       "      <td>0.495084</td>\n",
       "      <td>170.0</td>\n",
       "    </tr>\n",
       "    <tr>\n",
       "      <th>4</th>\n",
       "      <td>Aceh Selatan</td>\n",
       "      <td>1103</td>\n",
       "      <td>0.311266</td>\n",
       "      <td>275.0</td>\n",
       "      <td>MULTIPOLYGON (((97.59461 2.80777, 97.59365 2.8...</td>\n",
       "      <td>Aceh Selatan</td>\n",
       "      <td>0.767717</td>\n",
       "      <td>138.0</td>\n",
       "    </tr>\n",
       "    <tr>\n",
       "      <th>...</th>\n",
       "      <td>...</td>\n",
       "      <td>...</td>\n",
       "      <td>...</td>\n",
       "      <td>...</td>\n",
       "      <td>...</td>\n",
       "      <td>...</td>\n",
       "      <td>...</td>\n",
       "      <td>...</td>\n",
       "    </tr>\n",
       "    <tr>\n",
       "      <th>508</th>\n",
       "      <td>Way Kanan</td>\n",
       "      <td>1807</td>\n",
       "      <td>0.311106</td>\n",
       "      <td>279.0</td>\n",
       "      <td>POLYGON ((104.92793 -4.19234, 104.92823 -4.192...</td>\n",
       "      <td>Way Kanan</td>\n",
       "      <td>-1.824709</td>\n",
       "      <td>449.0</td>\n",
       "    </tr>\n",
       "    <tr>\n",
       "      <th>509</th>\n",
       "      <td>Wonogiri</td>\n",
       "      <td>3312</td>\n",
       "      <td>0.385794</td>\n",
       "      <td>135.0</td>\n",
       "      <td>POLYGON ((111.18204 -7.71237, 111.18242 -7.712...</td>\n",
       "      <td>Wonogiri</td>\n",
       "      <td>0.501210</td>\n",
       "      <td>168.0</td>\n",
       "    </tr>\n",
       "    <tr>\n",
       "      <th>510</th>\n",
       "      <td>Wonosobo</td>\n",
       "      <td>3307</td>\n",
       "      <td>0.382874</td>\n",
       "      <td>145.0</td>\n",
       "      <td>POLYGON ((109.93000 -7.19465, 109.93017 -7.194...</td>\n",
       "      <td>Wonosobo</td>\n",
       "      <td>-1.914835</td>\n",
       "      <td>452.0</td>\n",
       "    </tr>\n",
       "    <tr>\n",
       "      <th>511</th>\n",
       "      <td>Yahukimo</td>\n",
       "      <td>9416</td>\n",
       "      <td>0.258099</td>\n",
       "      <td>502.0</td>\n",
       "      <td>POLYGON ((139.96223 -3.60980, 139.96314 -3.609...</td>\n",
       "      <td>Yahukimo</td>\n",
       "      <td>-6.374596</td>\n",
       "      <td>505.0</td>\n",
       "    </tr>\n",
       "    <tr>\n",
       "      <th>512</th>\n",
       "      <td>Yalimo</td>\n",
       "      <td>9432</td>\n",
       "      <td>0.258099</td>\n",
       "      <td>510.0</td>\n",
       "      <td>POLYGON ((139.47632 -3.45826, 139.47820 -3.459...</td>\n",
       "      <td>Yalimo</td>\n",
       "      <td>-4.269237</td>\n",
       "      <td>494.0</td>\n",
       "    </tr>\n",
       "  </tbody>\n",
       "</table>\n",
       "<p>513 rows × 8 columns</p>\n",
       "</div>"
      ],
      "text/plain": [
       "       ADM2_EN_model ADM2_PCODE  model_wealth_index_median  rank_model  \\\n",
       "0         Aceh Barat       1107                   0.288863       315.0   \n",
       "1    Aceh Barat Daya       1112                   0.329475       210.0   \n",
       "2         Aceh Besar       1108                   0.326697       204.0   \n",
       "3          Aceh Jaya       1116                   0.289465       359.0   \n",
       "4       Aceh Selatan       1103                   0.311266       275.0   \n",
       "..               ...        ...                        ...         ...   \n",
       "508        Way Kanan       1807                   0.311106       279.0   \n",
       "509         Wonogiri       3312                   0.385794       135.0   \n",
       "510         Wonosobo       3307                   0.382874       145.0   \n",
       "511         Yahukimo       9416                   0.258099       502.0   \n",
       "512           Yalimo       9432                   0.258099       510.0   \n",
       "\n",
       "                                              geometry ADM2_EN_reference  \\\n",
       "0    POLYGON ((96.26836 4.76800, 96.26822 4.76250, ...        Aceh Barat   \n",
       "1    MULTIPOLYGON (((96.80559 3.71758, 96.80444 3.7...   Aceh Barat Daya   \n",
       "2    MULTIPOLYGON (((95.20544 5.28072, 95.20563 5.2...        Aceh Besar   \n",
       "3    MULTIPOLYGON (((95.58431 4.61495, 95.58379 4.6...         Aceh Jaya   \n",
       "4    MULTIPOLYGON (((97.59461 2.80777, 97.59365 2.8...      Aceh Selatan   \n",
       "..                                                 ...               ...   \n",
       "508  POLYGON ((104.92793 -4.19234, 104.92823 -4.192...         Way Kanan   \n",
       "509  POLYGON ((111.18204 -7.71237, 111.18242 -7.712...          Wonogiri   \n",
       "510  POLYGON ((109.93000 -7.19465, 109.93017 -7.194...          Wonosobo   \n",
       "511  POLYGON ((139.96223 -3.60980, 139.96314 -3.609...          Yahukimo   \n",
       "512  POLYGON ((139.47632 -3.45826, 139.47820 -3.459...            Yalimo   \n",
       "\n",
       "     wi_est_weighted  rank_reference  \n",
       "0           1.212825           100.0  \n",
       "1           0.445685           176.0  \n",
       "2           1.449827            74.0  \n",
       "3           0.495084           170.0  \n",
       "4           0.767717           138.0  \n",
       "..               ...             ...  \n",
       "508        -1.824709           449.0  \n",
       "509         0.501210           168.0  \n",
       "510        -1.914835           452.0  \n",
       "511        -6.374596           505.0  \n",
       "512        -4.269237           494.0  \n",
       "\n",
       "[513 rows x 8 columns]"
      ]
     },
     "execution_count": 33,
     "metadata": {},
     "output_type": "execute_result"
    }
   ],
   "source": [
    "compare_gdf = (\n",
    "    id_rollout_agg_by_adm2[\n",
    "        [\"ADM2_EN\", \"ADM2_PCODE\", \"model_wealth_index_median\", \"rank\", \"geometry\"]\n",
    "    ]\n",
    "    .merge(\n",
    "        id_susenas_geoms_gdf[[\"ADM2_EN\", \"ADM2_PCODE\", \"wi_est_weighted\", \"rank\"]],\n",
    "        on=\"ADM2_PCODE\",\n",
    "        how=\"inner\",\n",
    "        suffixes=[\"_model\", \"_reference\"],\n",
    "    )\n",
    "    .dropna()\n",
    ")\n",
    "compare_gdf\n"
   ]
  },
  {
   "cell_type": "code",
   "execution_count": 34,
   "metadata": {},
   "outputs": [
    {
     "data": {
      "text/plain": [
       "(0.7201497684711131, 3.68129491113764e-83)"
      ]
     },
     "execution_count": 34,
     "metadata": {},
     "output_type": "execute_result"
    }
   ],
   "source": [
    "coef, p = spearmanr(compare_gdf['rank_reference'], compare_gdf['rank_model'])\n",
    "coef, p"
   ]
  },
  {
   "cell_type": "code",
   "execution_count": 35,
   "metadata": {},
   "outputs": [],
   "source": [
    "## Heatmap"
   ]
  },
  {
   "cell_type": "code",
   "execution_count": 36,
   "metadata": {},
   "outputs": [],
   "source": [
    "def despine(ax):\n",
    "    ax.spines[\"right\"].set_visible(False)\n",
    "    ax.spines[\"top\"].set_visible(False)\n",
    "    ax.spines[\"left\"].set_visible(False)\n",
    "    ax.spines[\"bottom\"].set_visible(False)\n",
    "    ax.set_xticks([])\n",
    "    ax.set_yticks([])"
   ]
  },
  {
   "cell_type": "code",
   "execution_count": 37,
   "metadata": {},
   "outputs": [
    {
     "data": {
      "image/png": "[encoded data removed]",
      "text/plain": [
       "<Figure size 750x900 with 4 Axes>"
      ]
     },
     "metadata": {},
     "output_type": "display_data"
    }
   ],
   "source": [
    "fig, axs = plt.subplots(2,1, figsize=(7.5,9))\n",
    "\n",
    "compare_gdf.plot(\n",
    "    column='rank_reference',\n",
    "    ax=axs[0],\n",
    "    cmap=\"RdYlGn_r\",\n",
    "    legend=True,\n",
    "    legend_kwds={\"shrink\": 0.3},\n",
    ")\n",
    "despine(axs[0])\n",
    "\n",
    "compare_gdf.plot(\n",
    "    column='rank_model',\n",
    "    ax=axs[1],\n",
    "    cmap=\"RdYlGn_r\",\n",
    "    legend=True,\n",
    "    legend_kwds={\"shrink\": 0.3},\n",
    ")\n",
    "despine(axs[1])\n",
    "axs[0].set_title('Reference')\n",
    "axs[1].set_title('Predicted')\n",
    "fig.tight_layout()"
   ]
  },
  {
   "cell_type": "markdown",
   "metadata": {},
   "source": [
    "## Explore per subarea ranking"
   ]
  },
  {
   "cell_type": "code",
   "execution_count": 38,
   "metadata": {},
   "outputs": [
    {
     "data": {
      "text/plain": [
       "34"
      ]
     },
     "execution_count": 38,
     "metadata": {},
     "output_type": "execute_result"
    }
   ],
   "source": [
    "len(id_rollout_agg_by_adm2['ADM1_EN'].unique())"
   ]
  },
  {
   "cell_type": "code",
   "execution_count": 39,
   "metadata": {},
   "outputs": [
    {
     "name": "stdout",
     "output_type": "stream",
     "text": [
      "Aceh -- Spearman Rank Correlation: 0.5 (p-value = 0.015) \n",
      "Sumatera Barat -- Spearman Rank Correlation: 0.69 (p-value = 0.0012) \n",
      "Nusa Tenggara Timur -- Spearman Rank Correlation: 0.34 (p-value = 0.12) \n",
      "Sumatera Utara -- Spearman Rank Correlation: 0.73 (p-value = 1.5e-06) \n",
      "Papua -- Spearman Rank Correlation: 0.58 (p-value = 0.00097) \n",
      "Bali -- Spearman Rank Correlation: 0.83 (p-value = 0.0053) \n",
      "Kalimantan Selatan -- Spearman Rank Correlation: 0.36 (p-value = 0.22) \n",
      "Jawa Barat -- Spearman Rank Correlation: 0.74 (p-value = 9.8e-06) \n",
      "Sulawesi Tengah -- Spearman Rank Correlation: 0.68 (p-value = 0.01) \n",
      "Kepulauan Bangka Belitung -- Spearman Rank Correlation: 0.96 (p-value = 0.00045) \n",
      "Jawa Timur -- Spearman Rank Correlation: 0.83 (p-value = 9.5e-11) \n",
      "Jawa Tengah -- Spearman Rank Correlation: 0.65 (p-value = 2.7e-05) \n",
      "Sulawesi Selatan -- Spearman Rank Correlation: 0.37 (p-value = 0.072) \n",
      "Daerah Istimewa Yogyakarta -- Spearman Rank Correlation: 0.9 (p-value = 0.037) \n",
      "Sumatera Selatan -- Spearman Rank Correlation: 0.7 (p-value = 0.0019) \n",
      "Kalimantan Tengah -- Spearman Rank Correlation: 0.83 (p-value = 0.00025) \n",
      "Jambi -- Spearman Rank Correlation: 0.74 (p-value = 0.0098) \n",
      "Riau -- Spearman Rank Correlation: 0.68 (p-value = 0.015) \n",
      "Kalimantan Barat -- Spearman Rank Correlation: 0.84 (p-value = 0.00019) \n",
      "Bengkulu -- Spearman Rank Correlation: 0.12 (p-value = 0.75) \n",
      "Kalimantan Timur -- Spearman Rank Correlation: 0.73 (p-value = 0.016) \n",
      "Nusa Tenggara Barat -- Spearman Rank Correlation: 0.55 (p-value = 0.098) \n",
      "Kepulauan Riau -- Spearman Rank Correlation: 0.82 (p-value = 0.023) \n",
      "Gorontalo -- Spearman Rank Correlation: 0.77 (p-value = 0.072) \n",
      "Sulawesi Utara -- Spearman Rank Correlation: 0.82 (p-value = 0.00015) \n",
      "Sulawesi Tenggara -- Spearman Rank Correlation: 0.25 (p-value = 0.33) \n",
      "Kalimantan Utara -- Spearman Rank Correlation: 0.7 (p-value = 0.19) \n",
      "Maluku -- Spearman Rank Correlation: 0.65 (p-value = 0.032) \n",
      "Papua Barat -- Spearman Rank Correlation: 0.78 (p-value = 0.0017) \n",
      "Maluku Utara -- Spearman Rank Correlation: 0.9 (p-value = 0.00034) \n",
      "Lampung -- Spearman Rank Correlation: 0.69 (p-value = 0.0042) \n",
      "Banten -- Spearman Rank Correlation: 0.81 (p-value = 0.015) \n",
      "Dki Jakarta -- Spearman Rank Correlation: 0.0 (p-value = 1.0) \n",
      "Sulawesi Barat -- Spearman Rank Correlation: 0.31 (p-value = 0.54) \n"
     ]
    },
    {
     "data": {
      "text/html": [
       "<div>\n",
       "<style scoped>\n",
       "    .dataframe tbody tr th:only-of-type {\n",
       "        vertical-align: middle;\n",
       "    }\n",
       "\n",
       "    .dataframe tbody tr th {\n",
       "        vertical-align: top;\n",
       "    }\n",
       "\n",
       "    .dataframe thead th {\n",
       "        text-align: right;\n",
       "    }\n",
       "</style>\n",
       "<table border=\"1\" class=\"dataframe\">\n",
       "  <thead>\n",
       "    <tr style=\"text-align: right;\">\n",
       "      <th></th>\n",
       "      <th>ADM1_EN</th>\n",
       "      <th>spearman_r</th>\n",
       "      <th>geometry</th>\n",
       "      <th>Shape_Leng</th>\n",
       "      <th>Shape_Area</th>\n",
       "      <th>ADM2_EN</th>\n",
       "      <th>ADM2_PCODE</th>\n",
       "      <th>ADM2_REF</th>\n",
       "      <th>ADM2ALT1EN</th>\n",
       "      <th>ADM2ALT2EN</th>\n",
       "      <th>ADM1_PCODE</th>\n",
       "      <th>ADM0_EN</th>\n",
       "      <th>ADM0_PCODE</th>\n",
       "      <th>date</th>\n",
       "      <th>validOn</th>\n",
       "      <th>validTo</th>\n",
       "    </tr>\n",
       "  </thead>\n",
       "  <tbody>\n",
       "    <tr>\n",
       "      <th>0</th>\n",
       "      <td>Aceh</td>\n",
       "      <td>0.500000</td>\n",
       "      <td>MULTIPOLYGON (((95.28787 5.12890, 95.28796 5.1...</td>\n",
       "      <td>2.360029</td>\n",
       "      <td>0.228968</td>\n",
       "      <td>Aceh Barat</td>\n",
       "      <td>1107</td>\n",
       "      <td>None</td>\n",
       "      <td>None</td>\n",
       "      <td>None</td>\n",
       "      <td>ID11</td>\n",
       "      <td>Indonesia</td>\n",
       "      <td>ID</td>\n",
       "      <td>2019-12-20</td>\n",
       "      <td>2020-04-01</td>\n",
       "      <td>None</td>\n",
       "    </tr>\n",
       "    <tr>\n",
       "      <th>1</th>\n",
       "      <td>Sumatera Barat</td>\n",
       "      <td>0.685965</td>\n",
       "      <td>MULTIPOLYGON (((99.53782 -2.22114, 99.53735 -2...</td>\n",
       "      <td>2.648821</td>\n",
       "      <td>0.181812</td>\n",
       "      <td>Agam</td>\n",
       "      <td>1307</td>\n",
       "      <td>None</td>\n",
       "      <td>None</td>\n",
       "      <td>None</td>\n",
       "      <td>ID13</td>\n",
       "      <td>Indonesia</td>\n",
       "      <td>ID</td>\n",
       "      <td>2019-12-20</td>\n",
       "      <td>2020-04-01</td>\n",
       "      <td>None</td>\n",
       "    </tr>\n",
       "    <tr>\n",
       "      <th>2</th>\n",
       "      <td>Nusa Tenggara Timur</td>\n",
       "      <td>0.341615</td>\n",
       "      <td>MULTIPOLYGON (((119.54236 -9.75303, 119.54145 ...</td>\n",
       "      <td>5.513097</td>\n",
       "      <td>0.241630</td>\n",
       "      <td>Alor</td>\n",
       "      <td>5307</td>\n",
       "      <td>None</td>\n",
       "      <td>None</td>\n",
       "      <td>None</td>\n",
       "      <td>ID53</td>\n",
       "      <td>Indonesia</td>\n",
       "      <td>ID</td>\n",
       "      <td>2019-12-20</td>\n",
       "      <td>2020-04-01</td>\n",
       "      <td>None</td>\n",
       "    </tr>\n",
       "    <tr>\n",
       "      <th>3</th>\n",
       "      <td>Sumatera Utara</td>\n",
       "      <td>0.729612</td>\n",
       "      <td>MULTIPOLYGON (((97.89210 -0.07667, 97.89186 -0...</td>\n",
       "      <td>3.592370</td>\n",
       "      <td>0.307542</td>\n",
       "      <td>Asahan</td>\n",
       "      <td>1208</td>\n",
       "      <td>None</td>\n",
       "      <td>None</td>\n",
       "      <td>None</td>\n",
       "      <td>ID12</td>\n",
       "      <td>Indonesia</td>\n",
       "      <td>ID</td>\n",
       "      <td>2019-12-20</td>\n",
       "      <td>2020-04-01</td>\n",
       "      <td>None</td>\n",
       "    </tr>\n",
       "    <tr>\n",
       "      <th>4</th>\n",
       "      <td>Papua</td>\n",
       "      <td>0.580296</td>\n",
       "      <td>MULTIPOLYGON (((134.86427 -3.24425, 134.86404 ...</td>\n",
       "      <td>7.478910</td>\n",
       "      <td>2.041799</td>\n",
       "      <td>Asmat</td>\n",
       "      <td>9415</td>\n",
       "      <td>None</td>\n",
       "      <td>None</td>\n",
       "      <td>None</td>\n",
       "      <td>ID94</td>\n",
       "      <td>Indonesia</td>\n",
       "      <td>ID</td>\n",
       "      <td>2019-12-20</td>\n",
       "      <td>2020-04-01</td>\n",
       "      <td>None</td>\n",
       "    </tr>\n",
       "  </tbody>\n",
       "</table>\n",
       "</div>"
      ],
      "text/plain": [
       "               ADM1_EN  spearman_r  \\\n",
       "0                 Aceh    0.500000   \n",
       "1       Sumatera Barat    0.685965   \n",
       "2  Nusa Tenggara Timur    0.341615   \n",
       "3       Sumatera Utara    0.729612   \n",
       "4                Papua    0.580296   \n",
       "\n",
       "                                            geometry  Shape_Leng  Shape_Area  \\\n",
       "0  MULTIPOLYGON (((95.28787 5.12890, 95.28796 5.1...    2.360029    0.228968   \n",
       "1  MULTIPOLYGON (((99.53782 -2.22114, 99.53735 -2...    2.648821    0.181812   \n",
       "2  MULTIPOLYGON (((119.54236 -9.75303, 119.54145 ...    5.513097    0.241630   \n",
       "3  MULTIPOLYGON (((97.89210 -0.07667, 97.89186 -0...    3.592370    0.307542   \n",
       "4  MULTIPOLYGON (((134.86427 -3.24425, 134.86404 ...    7.478910    2.041799   \n",
       "\n",
       "      ADM2_EN ADM2_PCODE ADM2_REF ADM2ALT1EN ADM2ALT2EN ADM1_PCODE    ADM0_EN  \\\n",
       "0  Aceh Barat       1107     None       None       None       ID11  Indonesia   \n",
       "1        Agam       1307     None       None       None       ID13  Indonesia   \n",
       "2        Alor       5307     None       None       None       ID53  Indonesia   \n",
       "3      Asahan       1208     None       None       None       ID12  Indonesia   \n",
       "4       Asmat       9415     None       None       None       ID94  Indonesia   \n",
       "\n",
       "  ADM0_PCODE        date     validOn validTo  \n",
       "0         ID  2019-12-20  2020-04-01    None  \n",
       "1         ID  2019-12-20  2020-04-01    None  \n",
       "2         ID  2019-12-20  2020-04-01    None  \n",
       "3         ID  2019-12-20  2020-04-01    None  \n",
       "4         ID  2019-12-20  2020-04-01    None  "
      ]
     },
     "execution_count": 39,
     "metadata": {},
     "output_type": "execute_result"
    },
    {
     "data": {
      "image/png": "[encoded data removed]",
      "text/plain": [
       "<Figure size 640x480 with 1 Axes>"
      ]
     },
     "metadata": {},
     "output_type": "display_data"
    }
   ],
   "source": [
    "import gc\n",
    "\n",
    "area_list = list(id_rollout_agg_by_adm2['ADM1_EN'].unique())\n",
    "area_spearmanr_list = []\n",
    "for area in area_list:\n",
    "    area_rollout_output = id_rollout_agg_by_adm2[id_rollout_agg_by_adm2['ADM1_EN'] == area].copy()\n",
    "    area_rollout_output['rank'] = area_rollout_output[ranking_col].rank(ascending=False)\n",
    "    area_susenas_gdf = id_susenas_geoms_gdf[id_susenas_geoms_gdf['ADM1_EN'] == area].copy()\n",
    "    area_susenas_gdf['rank'] = area_susenas_gdf['wi_est_weighted'].rank(ascending=False)\n",
    "    \n",
    "    area_compare_gdf = (\n",
    "        area_rollout_output[\n",
    "            [\"ADM2_EN\", \"ADM2_PCODE\", \"model_wealth_index_median\", \"rank\", \"geometry\"]\n",
    "        ]\n",
    "        .merge(\n",
    "            area_susenas_gdf[[\"ADM2_EN\", \"ADM2_PCODE\", \"wi_est_weighted\", \"rank\"]],\n",
    "            on=\"ADM2_PCODE\",\n",
    "            how=\"inner\",\n",
    "            suffixes=[\"_model\", \"_reference\"],\n",
    "        )\n",
    "        .dropna()\n",
    "    )\n",
    "\n",
    "    coef, p = spearmanr(area_compare_gdf['rank_reference'], area_compare_gdf['rank_model'])\n",
    "    print(f'{area} -- Spearman Rank Correlation: {coef:.2} (p-value = {p:.2}) ')\n",
    "    area_spearmanr_list.append(coef)\n",
    "gc.collect()\n",
    "# area_spearmanr_arr = np.array(area_spearmanr_list)\n",
    "# plt.hist(area_spearmanr_arr)\n",
    "\n",
    "spearman_by_area = pd.DataFrame({\n",
    "    'ADM1_EN': area_list,\n",
    "    'spearman_r': area_spearmanr_list\n",
    "})\n",
    "spearman_by_area= spearman_by_area.merge(id_adm2_gdf.dissolve('ADM1_EN'), how='left', on='ADM1_EN')\n",
    "spearman_by_area = gpd.GeoDataFrame(spearman_by_area, geometry=\"geometry\")\n",
    "spearman_by_area['spearman_r'].hist(bins=10)\n",
    "\n",
    "spearman_by_area.head()\n"
   ]
  },
  {
   "cell_type": "code",
   "execution_count": 40,
   "metadata": {},
   "outputs": [
    {
     "data": {
      "text/plain": [
       "count    34.000000\n",
       "mean      0.643037\n",
       "std       0.232603\n",
       "min       0.000000\n",
       "25%       0.558710\n",
       "50%       0.698039\n",
       "75%       0.818452\n",
       "max       0.964286\n",
       "Name: spearman_r, dtype: float64"
      ]
     },
     "execution_count": 40,
     "metadata": {},
     "output_type": "execute_result"
    }
   ],
   "source": [
    "spearman_by_area['spearman_r'].describe()"
   ]
  },
  {
   "cell_type": "code",
   "execution_count": 41,
   "metadata": {},
   "outputs": [],
   "source": [
    "# spearman_by_area.explore(\n",
    "#     'spearman_r',\n",
    "#     vmin=-0.7,\n",
    "#     vmax=0.7,\n",
    "#     cmap='RdYlGn'\n",
    "# )"
   ]
  },
  {
   "cell_type": "markdown",
   "metadata": {},
   "source": [
    "## Investigating spearman rank at different population thresholds"
   ]
  },
  {
   "cell_type": "code",
   "execution_count": 42,
   "metadata": {},
   "outputs": [
    {
     "data": {
      "text/plain": [
       "count    161230.000000\n",
       "mean       1696.344622\n",
       "std        5556.739326\n",
       "min           1.279359\n",
       "25%          41.478981\n",
       "50%         275.124374\n",
       "75%        1296.864624\n",
       "max      162671.421875\n",
       "Name: pop_count, dtype: float64"
      ]
     },
     "execution_count": 42,
     "metadata": {},
     "output_type": "execute_result"
    }
   ],
   "source": [
    "id_rollout_output_gdf['pop_count'].describe()"
   ]
  },
  {
   "cell_type": "code",
   "execution_count": 43,
   "metadata": {},
   "outputs": [
    {
     "data": {
      "text/plain": [
       "[100, 1000, 10000, 100000]"
      ]
     },
     "execution_count": 43,
     "metadata": {},
     "output_type": "execute_result"
    }
   ],
   "source": [
    "# powers of 10\n",
    "pop_count_thresholds = [10**x for x in np.arange(2,6)]\n",
    "pop_count_thresholds"
   ]
  },
  {
   "cell_type": "code",
   "execution_count": 44,
   "metadata": {},
   "outputs": [
    {
     "name": "stdout",
     "output_type": "stream",
     "text": [
      "pop_count > 100 -- Spearman Rank Correlation: 0.75 (p-value = 3.2e-95) \n",
      "pop_count > 1000 -- Spearman Rank Correlation: 0.75 (p-value = 5.2e-95) \n",
      "pop_count > 10000 -- Spearman Rank Correlation: 0.47 (p-value = 1.5e-21) \n",
      "pop_count > 100000 -- Spearman Rank Correlation: 0.46 (p-value = 0.11) \n"
     ]
    }
   ],
   "source": [
    "for threshold in pop_count_thresholds:\n",
    "    # Filter out to grids that have pop_count > threshold\n",
    "    id_rollout_pop_filtered_gdf = id_rollout_output_gdf[id_rollout_output_gdf['pop_count'] > threshold]\n",
    "    \n",
    "    id_rollout_pop_filtered_agg_by_adm2 = vzs.create_zonal_stats(\n",
    "        id_adm2_gdf,\n",
    "        id_rollout_pop_filtered_gdf,\n",
    "        overlap_method=\"intersects\",\n",
    "        aggregations=[\n",
    "            {\n",
    "                \"column\": \"Predicted Relative Wealth Index\",\n",
    "                \"func\": \"mean\",\n",
    "                \"output\": \"model_wealth_index_mean\",\n",
    "            },\n",
    "            {\n",
    "                \"column\": \"Predicted Relative Wealth Index\",\n",
    "                \"func\": \"median\",\n",
    "                \"output\": \"model_wealth_index_median\",\n",
    "            },\n",
    "            {\n",
    "                \"column\": \"Predicted Relative Wealth Index (weighted)\",\n",
    "                \"func\": \"sum\",\n",
    "                \"output\": \"model_wealth_index_weighed_mean\",\n",
    "            }\n",
    "        ],\n",
    "    )\n",
    "    \n",
    "    ranking_col = \"model_wealth_index_median\"\n",
    "    id_rollout_pop_filtered_agg_by_adm2['rank'] = id_rollout_pop_filtered_agg_by_adm2[ranking_col].rank(ascending=False)\n",
    "    \n",
    "    compare_gdf = (\n",
    "        id_rollout_pop_filtered_agg_by_adm2[\n",
    "            [\"ADM2_EN\", \"ADM2_PCODE\", ranking_col, \"rank\", \"geometry\"]\n",
    "        ]\n",
    "        .merge(\n",
    "            id_susenas_geoms_gdf[[\"ADM2_EN\", \"ADM2_PCODE\", \"wi_est_weighted\", \"rank\"]],\n",
    "            on=\"ADM2_PCODE\",\n",
    "            how=\"inner\",\n",
    "            suffixes=[\"_model\", \"_reference\"],\n",
    "        )\n",
    "        .dropna()\n",
    "    )\n",
    "    \n",
    "    coef, p = spearmanr(compare_gdf['rank_reference'], compare_gdf['rank_model'])\n",
    "    print(f'pop_count > {threshold} -- Spearman Rank Correlation: {coef:.2} (p-value = {p:.2}) ')\n"
   ]
  },
  {
   "cell_type": "code",
   "execution_count": 45,
   "metadata": {},
   "outputs": [
    {
     "data": {
      "text/plain": [
       "[41.478981, 275.124374, 1296.864624]"
      ]
     },
     "execution_count": 45,
     "metadata": {},
     "output_type": "execute_result"
    }
   ],
   "source": [
    "# 25, 50, 75 percentile\n",
    "pop_count_thresholds = [41.478981, 275.124374, 1296.864624]\n",
    "pop_count_thresholds"
   ]
  },
  {
   "cell_type": "code",
   "execution_count": 46,
   "metadata": {},
   "outputs": [
    {
     "name": "stdout",
     "output_type": "stream",
     "text": [
      "pop_count > 41.478981 -- Spearman Rank Correlation: 0.73 (p-value = 4.4e-87) \n",
      "pop_count > 275.124374 -- Spearman Rank Correlation: 0.77 (p-value = 6.8e-104) \n",
      "pop_count > 1296.864624 -- Spearman Rank Correlation: 0.74 (p-value = 1.4e-91) \n"
     ]
    }
   ],
   "source": [
    "for threshold in pop_count_thresholds:\n",
    "    # Filter out to grids that have pop_count > threshold\n",
    "    id_rollout_pop_filtered_gdf = id_rollout_output_gdf[id_rollout_output_gdf['pop_count'] > threshold]\n",
    "    \n",
    "    id_rollout_pop_filtered_agg_by_adm2 = vzs.create_zonal_stats(\n",
    "        id_adm2_gdf,\n",
    "        id_rollout_pop_filtered_gdf,\n",
    "        overlap_method=\"intersects\",\n",
    "        aggregations=[\n",
    "            {\n",
    "                \"column\": \"Predicted Relative Wealth Index\",\n",
    "                \"func\": \"mean\",\n",
    "                \"output\": \"model_wealth_index_mean\",\n",
    "            },\n",
    "            {\n",
    "                \"column\": \"Predicted Relative Wealth Index\",\n",
    "                \"func\": \"median\",\n",
    "                \"output\": \"model_wealth_index_median\",\n",
    "            },\n",
    "            {\n",
    "                \"column\": \"Predicted Relative Wealth Index (weighted)\",\n",
    "                \"func\": \"sum\",\n",
    "                \"output\": \"model_wealth_index_weighed_mean\",\n",
    "            }\n",
    "        ],\n",
    "    )\n",
    "    \n",
    "    ranking_col = \"model_wealth_index_median\"\n",
    "    id_rollout_pop_filtered_agg_by_adm2['rank'] = id_rollout_pop_filtered_agg_by_adm2[ranking_col].rank(ascending=False)\n",
    "    \n",
    "    compare_gdf = (\n",
    "        id_rollout_pop_filtered_agg_by_adm2[\n",
    "            [\"ADM2_EN\", \"ADM2_PCODE\", ranking_col, \"rank\", \"geometry\"]\n",
    "        ]\n",
    "        .merge(\n",
    "            id_susenas_geoms_gdf[[\"ADM2_EN\", \"ADM2_PCODE\", \"wi_est_weighted\", \"rank\"]],\n",
    "            on=\"ADM2_PCODE\",\n",
    "            how=\"inner\",\n",
    "            suffixes=[\"_model\", \"_reference\"],\n",
    "        )\n",
    "        .dropna()\n",
    "    )\n",
    "    \n",
    "    coef, p = spearmanr(compare_gdf['rank_reference'], compare_gdf['rank_model'])\n",
    "    print(f'pop_count > {threshold} -- Spearman Rank Correlation: {coef:.2} (p-value = {p:.2}) ')\n"
   ]
  },
  {
   "cell_type": "code",
   "execution_count": 47,
   "metadata": {},
   "outputs": [
    {
     "data": {
      "text/plain": [
       "[1.279358983039856,\n",
       " 13.649063110351562,\n",
       " 41.478981018066406,\n",
       " 115.10775661468506,\n",
       " 275.12437438964844,\n",
       " 596.5481185913086,\n",
       " 1296.8646240234375,\n",
       " 3267.6832275390625,\n",
       " 162671.421875]"
      ]
     },
     "execution_count": 47,
     "metadata": {},
     "output_type": "execute_result"
    }
   ],
   "source": [
    "pop_count_thresholds = [id_rollout_output_gdf['pop_count'].quantile(x) for x in np.linspace(0, 1, 9)]\n",
    "pop_count_thresholds"
   ]
  },
  {
   "cell_type": "code",
   "execution_count": 48,
   "metadata": {},
   "outputs": [
    {
     "name": "stdout",
     "output_type": "stream",
     "text": [
      "pop_count > 1.27936 (q = 0.0)-- Spearman Rank Correlation: 0.7 (p-value = 6.6e-76) \n",
      "pop_count > 13.6491 (q = 0.125)-- Spearman Rank Correlation: 0.71 (p-value = 6.8e-80) \n",
      "pop_count > 41.479 (q = 0.25)-- Spearman Rank Correlation: 0.73 (p-value = 4.4e-87) \n",
      "pop_count > 115.108 (q = 0.375)-- Spearman Rank Correlation: 0.76 (p-value = 1.8e-96) \n",
      "pop_count > 275.124 (q = 0.5)-- Spearman Rank Correlation: 0.77 (p-value = 6.8e-104) \n",
      "pop_count > 596.548 (q = 0.625)-- Spearman Rank Correlation: 0.78 (p-value = 1.7e-106) \n",
      "pop_count > 1296.86 (q = 0.75)-- Spearman Rank Correlation: 0.74 (p-value = 1.4e-91) \n",
      "pop_count > 3267.68 (q = 0.875)-- Spearman Rank Correlation: 0.6 (p-value = 4.4e-50) \n",
      "pop_count > 1.62671e+05 (q = 1.0)-- Spearman Rank Correlation: nan (p-value = nan) \n"
     ]
    }
   ],
   "source": [
    "for threshold, q in zip(pop_count_thresholds, np.linspace(0, 1, 9)):\n",
    "    # Filter out to grids that have pop_count > threshold\n",
    "    id_rollout_pop_filtered_gdf = id_rollout_output_gdf[id_rollout_output_gdf['pop_count'] > threshold]\n",
    "    \n",
    "    id_rollout_pop_filtered_agg_by_adm2 = vzs.create_zonal_stats(\n",
    "        id_adm2_gdf,\n",
    "        id_rollout_pop_filtered_gdf,\n",
    "        overlap_method=\"intersects\",\n",
    "        aggregations=[\n",
    "            {\n",
    "                \"column\": \"Predicted Relative Wealth Index\",\n",
    "                \"func\": \"mean\",\n",
    "                \"output\": \"model_wealth_index_mean\",\n",
    "            },\n",
    "            {\n",
    "                \"column\": \"Predicted Relative Wealth Index\",\n",
    "                \"func\": \"median\",\n",
    "                \"output\": \"model_wealth_index_median\",\n",
    "            },\n",
    "            {\n",
    "                \"column\": \"Predicted Relative Wealth Index (weighted)\",\n",
    "                \"func\": \"sum\",\n",
    "                \"output\": \"model_wealth_index_weighed_mean\",\n",
    "            }\n",
    "        ],\n",
    "    )\n",
    "    \n",
    "    ranking_col = \"model_wealth_index_median\"\n",
    "    id_rollout_pop_filtered_agg_by_adm2['rank'] = id_rollout_pop_filtered_agg_by_adm2[ranking_col].rank(ascending=False)\n",
    "    \n",
    "    compare_gdf = (\n",
    "        id_rollout_pop_filtered_agg_by_adm2[\n",
    "            [\"ADM2_EN\", \"ADM2_PCODE\", ranking_col, \"rank\", \"geometry\"]\n",
    "        ]\n",
    "        .merge(\n",
    "            id_susenas_geoms_gdf[[\"ADM2_EN\", \"ADM2_PCODE\", \"wi_est_weighted\", \"rank\"]],\n",
    "            on=\"ADM2_PCODE\",\n",
    "            how=\"inner\",\n",
    "            suffixes=[\"_model\", \"_reference\"],\n",
    "        )\n",
    "        .dropna()\n",
    "    )\n",
    "    \n",
    "    coef, p = spearmanr(compare_gdf['rank_reference'], compare_gdf['rank_model'])\n",
    "    print(f'pop_count > {threshold:.6} (q = {q})-- Spearman Rank Correlation: {coef:.2} (p-value = {p:.2}) ')"
   ]
  }
 ],
 "metadata": {
  "kernelspec": {
   "display_name": "Python 3 (ipykernel)",
   "language": "python",
   "name": "python3"
  },
  "language_info": {
   "codemirror_mode": {
    "name": "ipython",
    "version": 3
   },
   "file_extension": ".py",
   "mimetype": "text/x-python",
   "name": "python",
   "nbconvert_exporter": "python",
   "pygments_lexer": "ipython3",
   "version": "3.9.16"
  }
 },
 "nbformat": 4,
 "nbformat_minor": 4
}
